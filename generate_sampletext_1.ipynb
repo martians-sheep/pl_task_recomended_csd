{
  "nbformat": 4,
  "nbformat_minor": 0,
  "metadata": {
    "colab": {
      "provenance": [],
      "mount_file_id": "17Gqj1SWCwEqMKfbZfmM_z_aI3_vDAS8j",
      "authorship_tag": "ABX9TyNsFF1YcWHM4b58jx841nZZ",
      "include_colab_link": true
    },
    "kernelspec": {
      "name": "python3",
      "display_name": "Python 3"
    },
    "language_info": {
      "name": "python"
    }
  },
  "cells": [
    {
      "cell_type": "markdown",
      "metadata": {
        "id": "view-in-github",
        "colab_type": "text"
      },
      "source": [
        "<a href=\"https://colab.research.google.com/github/martians-sheep/pl_task_recomended_csd/blob/main/generate_sampletext_1.ipynb\" target=\"_parent\"><img src=\"https://colab.research.google.com/assets/colab-badge.svg\" alt=\"Open In Colab\"/></a>"
      ]
    },
    {
      "cell_type": "code",
      "execution_count": null,
      "metadata": {
        "id": "8gojYd0Q-Ax7"
      },
      "outputs": [],
      "source": []
    },
    {
      "cell_type": "markdown",
      "source": [
        "# サンプルデータの作成用"
      ],
      "metadata": {
        "id": "T5nVeLli-Uws"
      }
    },
    {
      "cell_type": "code",
      "source": [
        "!pip install openai"
      ],
      "metadata": {
        "colab": {
          "base_uri": "https://localhost:8080/"
        },
        "id": "OgskDd0D-Xfv",
        "outputId": "4ad583f5-8a7f-49d7-a2c0-c2c2af1b78ac"
      },
      "execution_count": null,
      "outputs": [
        {
          "output_type": "stream",
          "name": "stdout",
          "text": [
            "Collecting openai\n",
            "  Downloading openai-1.14.3-py3-none-any.whl (262 kB)\n",
            "\u001b[2K     \u001b[90m━━━━━━━━━━━━━━━━━━━━━━━━━━━━━━━━━━━━━━━━\u001b[0m \u001b[32m262.9/262.9 kB\u001b[0m \u001b[31m1.0 MB/s\u001b[0m eta \u001b[36m0:00:00\u001b[0m\n",
            "\u001b[?25hRequirement already satisfied: anyio<5,>=3.5.0 in /usr/local/lib/python3.10/dist-packages (from openai) (3.7.1)\n",
            "Requirement already satisfied: distro<2,>=1.7.0 in /usr/lib/python3/dist-packages (from openai) (1.7.0)\n",
            "Collecting httpx<1,>=0.23.0 (from openai)\n",
            "  Downloading httpx-0.27.0-py3-none-any.whl (75 kB)\n",
            "\u001b[2K     \u001b[90m━━━━━━━━━━━━━━━━━━━━━━━━━━━━━━━━━━━━━━━━\u001b[0m \u001b[32m75.6/75.6 kB\u001b[0m \u001b[31m1.2 MB/s\u001b[0m eta \u001b[36m0:00:00\u001b[0m\n",
            "\u001b[?25hRequirement already satisfied: pydantic<3,>=1.9.0 in /usr/local/lib/python3.10/dist-packages (from openai) (2.6.4)\n",
            "Requirement already satisfied: sniffio in /usr/local/lib/python3.10/dist-packages (from openai) (1.3.1)\n",
            "Requirement already satisfied: tqdm>4 in /usr/local/lib/python3.10/dist-packages (from openai) (4.66.2)\n",
            "Requirement already satisfied: typing-extensions<5,>=4.7 in /usr/local/lib/python3.10/dist-packages (from openai) (4.10.0)\n",
            "Requirement already satisfied: idna>=2.8 in /usr/local/lib/python3.10/dist-packages (from anyio<5,>=3.5.0->openai) (3.6)\n",
            "Requirement already satisfied: exceptiongroup in /usr/local/lib/python3.10/dist-packages (from anyio<5,>=3.5.0->openai) (1.2.0)\n",
            "Requirement already satisfied: certifi in /usr/local/lib/python3.10/dist-packages (from httpx<1,>=0.23.0->openai) (2024.2.2)\n",
            "Collecting httpcore==1.* (from httpx<1,>=0.23.0->openai)\n",
            "  Downloading httpcore-1.0.5-py3-none-any.whl (77 kB)\n",
            "\u001b[2K     \u001b[90m━━━━━━━━━━━━━━━━━━━━━━━━━━━━━━━━━━━━━━━━\u001b[0m \u001b[32m77.9/77.9 kB\u001b[0m \u001b[31m1.2 MB/s\u001b[0m eta \u001b[36m0:00:00\u001b[0m\n",
            "\u001b[?25hCollecting h11<0.15,>=0.13 (from httpcore==1.*->httpx<1,>=0.23.0->openai)\n",
            "  Downloading h11-0.14.0-py3-none-any.whl (58 kB)\n",
            "\u001b[2K     \u001b[90m━━━━━━━━━━━━━━━━━━━━━━━━━━━━━━━━━━━━━━━━\u001b[0m \u001b[32m58.3/58.3 kB\u001b[0m \u001b[31m1.1 MB/s\u001b[0m eta \u001b[36m0:00:00\u001b[0m\n",
            "\u001b[?25hRequirement already satisfied: annotated-types>=0.4.0 in /usr/local/lib/python3.10/dist-packages (from pydantic<3,>=1.9.0->openai) (0.6.0)\n",
            "Requirement already satisfied: pydantic-core==2.16.3 in /usr/local/lib/python3.10/dist-packages (from pydantic<3,>=1.9.0->openai) (2.16.3)\n",
            "Installing collected packages: h11, httpcore, httpx, openai\n",
            "Successfully installed h11-0.14.0 httpcore-1.0.5 httpx-0.27.0 openai-1.14.3\n"
          ]
        }
      ]
    },
    {
      "cell_type": "code",
      "source": [
        "# 環境変数の準備 (左端の鍵アイコンでOPENAI_API_KEYを設定)\n",
        "import os\n",
        "from google.colab import userdata\n",
        "os.environ[\"OPENAI_API_KEY\"] = userdata.get(\"OPENAI_API_KEY\")"
      ],
      "metadata": {
        "id": "SSIXgJTs-zaC"
      },
      "execution_count": null,
      "outputs": []
    },
    {
      "cell_type": "code",
      "source": [
        "from openai import OpenAI\n",
        "\n",
        "# クライアントの準備\n",
        "client = OpenAI()"
      ],
      "metadata": {
        "id": "2f_NBHJt_ac6"
      },
      "execution_count": null,
      "outputs": []
    },
    {
      "cell_type": "code",
      "source": [
        "import json\n",
        "\n",
        "# JSON出力ヘルパーの準備\n",
        "def show_json(obj):\n",
        "    display(json.loads(obj.model_dump_json()))"
      ],
      "metadata": {
        "id": "J7c3EOA3_dDw"
      },
      "execution_count": null,
      "outputs": []
    },
    {
      "cell_type": "code",
      "source": [
        "# 生成する文書のタイプに応じたプロンプトを設定します\n",
        "## 以下のセルを全て実行する際は cmd+F10\n",
        "prompt = \"\"\"\n",
        "新商品開発プロジェクトの提案書を作成してください。\n",
        "\n",
        "1. プロジェクトの目的\n",
        "2. 背景と現状分析\n",
        "   - 市場動向、競合分析、顧客ニーズ\n",
        "3. 提案する新商品の概要\n",
        "   - 商品カテゴリー: {商品カテゴリー}\n",
        "   - ターゲット顧客: {ターゲット顧客}\n",
        "   - 商品コンセプト: {商品コンセプト}\n",
        "   - 差別化ポイント\n",
        "4. 実施計画\n",
        "   - 段階ごとのタスク、スケジュール、必要なリソース\n",
        "5. 期待される成果と影響\n",
        "   - 売上目標、市場シェア、ブランドイメージへの影響\n",
        "\"\"\""
      ],
      "metadata": {
        "id": "03VblHFO_fa9"
      },
      "execution_count": 23,
      "outputs": []
    },
    {
      "cell_type": "code",
      "source": [
        "prompts_and_params =[\n",
        "{ \"prompt\": prompt, \"params\": { \"商品カテゴリー\": \"文房具\", \"ターゲット顧客\": \"学生\", \"商品コンセプト\": \"勉強に集中できるデザイン\" } },\n",
        "{ \"prompt\": prompt, \"params\": { \"商品カテゴリー\": \"スナック菓子\", \"ターゲット顧客\": \"働く女性\", \"商品コンセプト\": \"ヘルシーで満足感のあるおやつ\" } },\n",
        "{ \"prompt\": prompt, \"params\": { \"商品カテゴリー\": \"スキンケア製品\", \"ターゲット顧客\": \"中年男性\", \"商品コンセプト\": \"エイジングケアに特化したスキンケア\" } },\n",
        "{ \"prompt\":prompt, \"params\": { \"商品カテゴリー\": \"掃除用品\", \"ターゲット顧客\": \"共働き夫婦\", \"商品コンセプト\": \"効率的で時短になる掃除グッズ\" } },\n",
        "{ \"prompt\":prompt, \"params\": { \"商品カテゴリー\": \"インテリア\", \"ターゲット顧客\": \"リタイア後の夫婦\", \"商品コンセプト\": \"落ち着きのある和風モダンなインテリア\" } },\n",
        "{ \"prompt\": prompt, \"params\": { \"商品カテゴリー\": \"ペット用品\", \"ターゲット顧客\": \"犬を飼っている家族\", \"商品コンセプト\": \"愛犬の健康と快適さを追求したペットグッズ\" } },\n",
        "{ \"prompt\": prompt, \"params\": { \"商品カテゴリー\": \"ヘアケア製品\", \"ターゲット顧客\": \"髪の悩みを抱える30代女性\", \"商品コンセプト\": \"髪のダメージケアに特化したヘアケア\" } },\n",
        "{ \"prompt\": prompt, \"params\": { \"商品カテゴリー\": \"キッチン用品\", \"ターゲット顧客\": \"料理好きな主婦\", \"商品コンセプト\": \"使いやすさと収納性に優れたキッチングッズ\" } },\n",
        "{ \"prompt\": prompt, \"params\": { \"商品カテゴリー\": \"ガーデニング用品\", \"ターゲット顧客\": \"定年後の男性\", \"商品コンセプト\": \"初心者でも簡単に始められるガーデニングセット\" } },\n",
        "{ \"prompt\":prompt, \"params\": { \"商品カテゴリー\": \"ベビー用品\", \"ターゲット顧客\": \"子育て中の共働き夫婦\", \"商品コンセプト\": \"安全性と利便性を兼ね備えたベビーグッズ\" } },\n",
        "{ \"prompt\":prompt, \"params\": { \"商品カテゴリー\": \"健康食品\", \"ターゲット顧客\": \"中高年女性\", \"商品コンセプト\": \"内面から美しくなるサプリメント\" } },\n",
        "{ \"prompt\": prompt, \"params\": { \"商品カテゴリー\": \"トラベル用品\", \"ターゲット顧客\": \"若者カップル\", \"商品コンセプト\": \"旅行を快適にするアイテム\" } }\n",
        "]"
      ],
      "metadata": {
        "id": "Ke4GIbRiJWAG"
      },
      "execution_count": 31,
      "outputs": []
    },
    {
      "cell_type": "code",
      "source": [
        "prompts_and_params =[\n",
        "{ \"prompt\": prompt, \"params\": { \"商品カテゴリー\": \"ノイズキャンセリングヘッドホン\", \"ターゲット顧客\": \"集中して作業をしたいオフィスワーカー\", \"商品コンセプト\": \"周囲の雑音を遮断し、快適な作業環境を提供するヘッドホン\" } },\n",
        "{ \"prompt\": prompt, \"params\": { \"商品カテゴリー\": \"スマート体重計\", \"ターゲット顧客\": \"健康管理に興味がある人\", \"商品コンセプト\": \"体重だけでなく体組成も測定できる多機能体重計\" } },\n",
        "{ \"prompt\": prompt, \"params\": { \"商品カテゴリー\": \"旅行用収納ポーチ\", \"ターゲット顧客\": \"頻繁に旅行する人\", \"商品コンセプト\": \"旅行中の荷物を整理整頓できる多機能ポーチセット\" } },\n",
        "{ \"prompt\":prompt, \"params\": { \"商品カテゴリー\": \"ワイヤレス充電器\", \"ターゲット顧客\": \"複数のデバイスを持つテクノロジー愛好家\", \"商品コンセプト\": \"スマートフォンやウェアラブル端末を同時に充電できるワイヤレス充電パッド\" } },\n",
        "{ \"prompt\":prompt, \"params\": { \"商品カテゴリー\": \"エアフライヤー\", \"ターゲット顧客\": \"健康的な料理を手軽に作りたい人\", \"商品コンセプト\": \"油を使わずにカリッと仕上げられる多機能エアフライヤー\" } },\n",
        "{ \"prompt\": prompt, \"params\": { \"商品カテゴリー\": \"ポータブルプロジェクター\", \"ターゲット顧客\": \"自宅で映画鑑賞を楽しみたい人\", \"商品コンセプト\": \"大画面で高画質の映像を楽しめるコンパクトなプロジェクター\" } },\n",
        "{ \"prompt\": prompt, \"params\": { \"商品カテゴリー\": \"スマート鍋\", \"ターゲット顧客\": \"忙しい共働き夫婦\", \"商品コンセプト\": \"スマートフォンで遠隔操作できる多機能電気圧力鍋\" } },\n",
        "{ \"prompt\": prompt, \"params\": { \"商品カテゴリー\": \"ペット用GPSトラッカー\", \"ターゲット顧客\": \"愛犬の安全を守りたい飼い主\", \"商品コンセプト\": \"リアルタイムで愛犬の居場所を確認できるGPS搭載首輪\" } },\n",
        "{ \"prompt\": prompt, \"params\": { \"商品カテゴリー\": \"スマートロック\", \"ターゲット顧客\": \"セキュリティ意識の高い人\", \"商品コンセプト\": \"スマートフォンで施錠・解錠できる防犯性の高いドアロック\" } },\n",
        "{ \"prompt\":prompt, \"params\": { \"商品カテゴリー\": \"ポータブル翻訳機\", \"ターゲット顧客\": \"海外旅行が好きな人\", \"商品コンセプト\": \"リアルタイムで多言語翻訳ができる携帯型翻訳デバイス\" } },\n",
        "{ \"prompt\":prompt, \"params\": { \"商品カテゴリー\": \"ワイヤレスキーボード\", \"ターゲット顧客\": \"テレワークを行うビジネスパーソン\", \"商品コンセプト\": \"快適なタイピングを実現する薄型ワイヤレスキーボード\" } },\n",
        "{ \"prompt\": prompt, \"params\": { \"商品カテゴリー\": \"UV除菌ボックス\", \"ターゲット顧客\": \"衛生面に気を遣う人\", \"商品コンセプト\": \"スマートフォンや小物を手軽にUV除菌できるボックス型除菌器\" } }\n",
        "]"
      ],
      "metadata": {
        "id": "eh9obHRCmz79"
      },
      "execution_count": 32,
      "outputs": []
    },
    {
      "cell_type": "code",
      "source": [
        "import datetime"
      ],
      "metadata": {
        "id": "Pht6ulfSdsdN"
      },
      "execution_count": 25,
      "outputs": []
    },
    {
      "cell_type": "code",
      "source": [
        "for item in prompts_and_params:\n",
        "    prompt = item[\"prompt\"]\n",
        "    params = item[\"params\"]\n",
        "\n",
        "    # プロンプトにパラメータを挿入\n",
        "    formatted_prompt = prompt.format(**params)\n",
        "\n",
        "    messages = [\n",
        "        {\n",
        "            \"role\" : \"user\",\n",
        "            \"content\" : formatted_prompt,\n",
        "        }\n",
        "    ]\n",
        "\n",
        "    response = client.chat.completions.create(\n",
        "        model=\"gpt-3.5-turbo\",\n",
        "        messages=messages,\n",
        "        temperature=1,\n",
        "        max_tokens=700\n",
        "    )\n",
        "\n",
        "    # 現在の日時を取得\n",
        "    now = datetime.datetime.now()\n",
        "\n",
        "    # 日時を文字列に変換し、ファイル名に使用する形式にします（例: '2023-03-27_15-30-00'）\n",
        "    formatted_time = now.strftime('%Y-%m-%d_%H-%M-%S')\n",
        "\n",
        "    # ファイル名に日時とパラメータを含める\n",
        "    filename = f'./generate/response_{formatted_time}_{params[\"商品カテゴリー\"]}_{params[\"ターゲット顧客\"]}_2.txt'\n",
        "\n",
        "    # テキストファイルに結果を書き込む\n",
        "    with open(filename, 'w') as file:\n",
        "        file.write(response.choices[0].message.content)"
      ],
      "metadata": {
        "id": "fFOBkZV-_tQt"
      },
      "execution_count": 33,
      "outputs": []
    },
    {
      "cell_type": "code",
      "source": [
        "import os\n",
        "import zipfile\n",
        "\n",
        "def zip_directory(directory_path, output_path):\n",
        "    with zipfile.ZipFile(output_path, 'w', zipfile.ZIP_DEFLATED) as zipf:\n",
        "        for root, _, files in os.walk(directory_path):\n",
        "            for file in files:\n",
        "                file_path = os.path.join(root, file)\n",
        "                zipf.write(file_path, os.path.relpath(file_path, directory_path))\n",
        "\n",
        "    print(f\"ディレクトリ {directory_path} が {output_path} にzipファイルとして保存されました。\")\n",
        "\n",
        "# 使用例\n",
        "directory_to_zip = \"./generate\"  # zipファイルにするディレクトリのパス\n",
        "output_zip_file = \"./generate.zip\"  # 出力するzipファイルのパス\n",
        "\n",
        "zip_directory(directory_to_zip, output_zip_file)"
      ],
      "metadata": {
        "colab": {
          "base_uri": "https://localhost:8080/"
        },
        "id": "3nwEsZ6LNn07",
        "outputId": "10bd8d6a-6763-4d0a-87f5-ddda68600802"
      },
      "execution_count": 27,
      "outputs": [
        {
          "output_type": "stream",
          "name": "stdout",
          "text": [
            "ディレクトリ ./generate が ./generate.zip にzipファイルとして保存されました。\n"
          ]
        }
      ]
    }
  ]
}