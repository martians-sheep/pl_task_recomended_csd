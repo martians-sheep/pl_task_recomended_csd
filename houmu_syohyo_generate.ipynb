{
  "nbformat": 4,
  "nbformat_minor": 0,
  "metadata": {
    "colab": {
      "provenance": [],
      "authorship_tag": "ABX9TyNNb6yN4OiXAPce4Ibp+hpT",
      "include_colab_link": true
    },
    "kernelspec": {
      "name": "python3",
      "display_name": "Python 3"
    },
    "language_info": {
      "name": "python"
    }
  },
  "cells": [
    {
      "cell_type": "markdown",
      "metadata": {
        "id": "view-in-github",
        "colab_type": "text"
      },
      "source": [
        "<a href=\"https://colab.research.google.com/github/martians-sheep/pl_task_recomended_csd/blob/main/houmu_syohyo_generate.ipynb\" target=\"_parent\"><img src=\"https://colab.research.google.com/assets/colab-badge.svg\" alt=\"Open In Colab\"/></a>"
      ]
    },
    {
      "cell_type": "code",
      "execution_count": 6,
      "metadata": {
        "colab": {
          "base_uri": "https://localhost:8080/"
        },
        "id": "VQ1cz9oAAgu4",
        "outputId": "58b89dcc-efc4-4a5f-ac87-fc5f7a5fbcf0"
      },
      "outputs": [
        {
          "output_type": "stream",
          "name": "stdout",
          "text": [
            "Collecting openai\n",
            "  Downloading openai-1.14.3-py3-none-any.whl (262 kB)\n",
            "\u001b[?25l     \u001b[90m━━━━━━━━━━━━━━━━━━━━━━━━━━━━━━━━━━━━━━━━\u001b[0m \u001b[32m0.0/262.9 kB\u001b[0m \u001b[31m?\u001b[0m eta \u001b[36m-:--:--\u001b[0m\r\u001b[2K     \u001b[91m━━━━━━━━━━━━━━━━━━━━━━━━━━━━━━━━━━━━━━\u001b[0m\u001b[91m╸\u001b[0m\u001b[90m━\u001b[0m \u001b[32m256.0/262.9 kB\u001b[0m \u001b[31m8.1 MB/s\u001b[0m eta \u001b[36m0:00:01\u001b[0m\r\u001b[2K     \u001b[90m━━━━━━━━━━━━━━━━━━━━━━━━━━━━━━━━━━━━━━━━\u001b[0m \u001b[32m262.9/262.9 kB\u001b[0m \u001b[31m6.7 MB/s\u001b[0m eta \u001b[36m0:00:00\u001b[0m\n",
            "\u001b[?25hRequirement already satisfied: anyio<5,>=3.5.0 in /usr/local/lib/python3.10/dist-packages (from openai) (3.7.1)\n",
            "Requirement already satisfied: distro<2,>=1.7.0 in /usr/lib/python3/dist-packages (from openai) (1.7.0)\n",
            "Collecting httpx<1,>=0.23.0 (from openai)\n",
            "  Downloading httpx-0.27.0-py3-none-any.whl (75 kB)\n",
            "\u001b[2K     \u001b[90m━━━━━━━━━━━━━━━━━━━━━━━━━━━━━━━━━━━━━━━━\u001b[0m \u001b[32m75.6/75.6 kB\u001b[0m \u001b[31m8.7 MB/s\u001b[0m eta \u001b[36m0:00:00\u001b[0m\n",
            "\u001b[?25hRequirement already satisfied: pydantic<3,>=1.9.0 in /usr/local/lib/python3.10/dist-packages (from openai) (2.6.4)\n",
            "Requirement already satisfied: sniffio in /usr/local/lib/python3.10/dist-packages (from openai) (1.3.1)\n",
            "Requirement already satisfied: tqdm>4 in /usr/local/lib/python3.10/dist-packages (from openai) (4.66.2)\n",
            "Requirement already satisfied: typing-extensions<5,>=4.7 in /usr/local/lib/python3.10/dist-packages (from openai) (4.10.0)\n",
            "Requirement already satisfied: idna>=2.8 in /usr/local/lib/python3.10/dist-packages (from anyio<5,>=3.5.0->openai) (3.6)\n",
            "Requirement already satisfied: exceptiongroup in /usr/local/lib/python3.10/dist-packages (from anyio<5,>=3.5.0->openai) (1.2.0)\n",
            "Requirement already satisfied: certifi in /usr/local/lib/python3.10/dist-packages (from httpx<1,>=0.23.0->openai) (2024.2.2)\n",
            "Collecting httpcore==1.* (from httpx<1,>=0.23.0->openai)\n",
            "  Downloading httpcore-1.0.5-py3-none-any.whl (77 kB)\n",
            "\u001b[2K     \u001b[90m━━━━━━━━━━━━━━━━━━━━━━━━━━━━━━━━━━━━━━━━\u001b[0m \u001b[32m77.9/77.9 kB\u001b[0m \u001b[31m1.2 MB/s\u001b[0m eta \u001b[36m0:00:00\u001b[0m\n",
            "\u001b[?25hCollecting h11<0.15,>=0.13 (from httpcore==1.*->httpx<1,>=0.23.0->openai)\n",
            "  Downloading h11-0.14.0-py3-none-any.whl (58 kB)\n",
            "\u001b[2K     \u001b[90m━━━━━━━━━━━━━━━━━━━━━━━━━━━━━━━━━━━━━━━━\u001b[0m \u001b[32m58.3/58.3 kB\u001b[0m \u001b[31m6.7 MB/s\u001b[0m eta \u001b[36m0:00:00\u001b[0m\n",
            "\u001b[?25hRequirement already satisfied: annotated-types>=0.4.0 in /usr/local/lib/python3.10/dist-packages (from pydantic<3,>=1.9.0->openai) (0.6.0)\n",
            "Requirement already satisfied: pydantic-core==2.16.3 in /usr/local/lib/python3.10/dist-packages (from pydantic<3,>=1.9.0->openai) (2.16.3)\n",
            "Installing collected packages: h11, httpcore, httpx, openai\n",
            "Successfully installed h11-0.14.0 httpcore-1.0.5 httpx-0.27.0 openai-1.14.3\n"
          ]
        }
      ],
      "source": [
        "!pip install openai"
      ]
    },
    {
      "cell_type": "code",
      "source": [
        "# 環境変数の準備 (左端の鍵アイコンでOPENAI_API_KEYを設定)\n",
        "import os\n",
        "import datetime\n",
        "\n",
        "from google.colab import userdata\n",
        "os.environ[\"OPENAI_API_KEY\"] = userdata.get(\"OPENAI_API_KEY\")"
      ],
      "metadata": {
        "id": "OxNSTgDOAj_z"
      },
      "execution_count": 4,
      "outputs": []
    },
    {
      "cell_type": "code",
      "source": [
        "from openai import OpenAI\n",
        "\n",
        "# クライアントの準備\n",
        "client = OpenAI()"
      ],
      "metadata": {
        "id": "j157yE7tAoPg"
      },
      "execution_count": 8,
      "outputs": []
    },
    {
      "cell_type": "code",
      "source": [
        "topics = [\n",
        "    {\n",
        "        \"title\": \"商標の識別力\",\n",
        "        \"points\": [\n",
        "            \"1 商標の構成要素や指定商品・役務との関係を分析せよ。\",\n",
        "            \"2 需要者の認識や他の類似商標の存在について検討せよ。\",\n",
        "        ],\n",
        "    },\n",
        "    {\n",
        "        \"title\": \"商標の類似性\",\n",
        "        \"points\": [\n",
        "            \"1 先行商標との類似性を、外観、称呼、観念の観点から検討せよ。\",\n",
        "            \"2 商品・役務の類似性や取引の実情についても考慮せよ。\",\n",
        "        ],\n",
        "    },\n",
        "    {\n",
        "        \"title\": \"商標の使用の事実\",\n",
        "        \"points\": [\n",
        "            \"1 商標の使用の態様や期間、使用地域等を確認せよ。\",\n",
        "            \"2 不使用取消審判の可能性や先使用権の成立について検討せよ。\",\n",
        "        ],\n",
        "    },\n",
        "    {\n",
        "        \"title\": \"商標の周知性\",\n",
        "        \"points\": [\n",
        "            \"1 商標の周知性を、使用期間、使用地域、広告宣伝の程度等から判断せよ。\",\n",
        "            \"2 周知性の及ぶ範囲や、第三者の利用との関係について分析せよ。\",\n",
        "        ],\n",
        "    },\n",
        "    {\n",
        "        \"title\": \"商標登録の無効事由\",\n",
        "        \"points\": [\n",
        "            \"1 商標登録の無効事由の有無を検討せよ。\",\n",
        "            \"2 公序良俗違反や不正目的、先願主義違反等の該当性について確認せよ。\",\n",
        "        ],\n",
        "    },\n",
        "    {\n",
        "        \"title\": \"特許の新規性\",\n",
        "        \"points\": [\n",
        "            \"1 特許の新規性を、先行技術との対比から判断せよ。\",\n",
        "            \"2 発明の構成要件の充足性や、新規性喪失の例外の適用可能性について検討せよ。\",\n",
        "        ],\n",
        "    },\n",
        "    {\n",
        "        \"title\": \"特許の進歩性\",\n",
        "        \"points\": [\n",
        "            \"1 特許の進歩性を、当業者の視点から分析せよ。\",\n",
        "            \"2 複数の先行技術の組合せや、示唆の有無について検討せよ。\",\n",
        "        ],\n",
        "    },\n",
        "    {\n",
        "        \"title\": \"特許の記載要件\",\n",
        "        \"points\": [\n",
        "            \"1 特許の記載要件の充足性を確認せよ。\",\n",
        "            \"2 明細書の記載内容が、当業者の実施可能要件や、サポート要件を満たすか検証せよ。\",\n",
        "        ],\n",
        "    },\n",
        "    {\n",
        "        \"title\": \"特許の用途限定\",\n",
        "        \"points\": [\n",
        "            \"1 特許請求項の用途限定の有効性について検討せよ。\",\n",
        "            \"2 用途限定の意義や、実質的な限定としての機能の有無を分析せよ。\",\n",
        "        ],\n",
        "    },\n",
        "    {\n",
        "        \"title\": \"特許権の効力\",\n",
        "        \"points\": [\n",
        "            \"1 特許権の効力の及ぶ範囲を確認せよ。\",\n",
        "            \"2 文言侵害や均等侵害の成立可能性、間接侵害の該当性等について検討せよ。\",\n",
        "        ],\n",
        "    },\n",
        "]\n"
      ],
      "metadata": {
        "id": "_8AbsNx9ArQm"
      },
      "execution_count": 18,
      "outputs": []
    },
    {
      "cell_type": "code",
      "source": [
        "folder_name = \"sample_houmu_syohyo_tokkyo\""
      ],
      "metadata": {
        "id": "TRpUJHXqA1fi"
      },
      "execution_count": 17,
      "outputs": []
    },
    {
      "cell_type": "code",
      "source": [
        "# フォルダの作成\n",
        "folder_path = f\"./{folder_name}\"\n",
        "if not os.path.exists(folder_path):\n",
        "    os.makedirs(folder_path)\n",
        "    print(f\"Folder created at: {folder_path}\")\n",
        "else:\n",
        "    print(f\"Folder already exists at: {folder_path}\")"
      ],
      "metadata": {
        "colab": {
          "base_uri": "https://localhost:8080/"
        },
        "id": "xLiry6NJA5kl",
        "outputId": "5cfe74e5-f488-48df-b871-0f50d38a99ad"
      },
      "execution_count": 20,
      "outputs": [
        {
          "output_type": "stream",
          "name": "stdout",
          "text": [
            "Folder created at: ./sample_houmu_syohyo_tokkyo\n"
          ]
        }
      ]
    },
    {
      "cell_type": "code",
      "source": [
        "def generate_prompt(topic):\n",
        "    prompt = f\"\"\"\n",
        "    以下の主題と観点に沿って、商標・特許の権利性に関する意見書を作成してください。\n",
        "    具体的な商標や特許は想定せず、あくまで例としての意見書を生成してください。\n",
        "\n",
        "    【主題】\n",
        "    {topic[\"title\"]}\n",
        "\n",
        "    【観点】\n",
        "    {chr(10).join(topic[\"points\"])}\n",
        "\n",
        "    【意見書】\n",
        "    \"\"\"\n",
        "    return prompt"
      ],
      "metadata": {
        "id": "S4IJGCz3A7xe"
      },
      "execution_count": 12,
      "outputs": []
    },
    {
      "cell_type": "code",
      "source": [
        "for topic in topics:\n",
        "    prompt = generate_prompt(topic)\n",
        "\n",
        "    messages = [\n",
        "        {\n",
        "            \"role\": \"user\",\n",
        "            \"content\": prompt,\n",
        "        }\n",
        "    ]\n",
        "    response = client.chat.completions.create(\n",
        "        model=\"gpt-3.5-turbo\",\n",
        "        messages=messages,\n",
        "        temperature=1,\n",
        "        max_tokens=2000\n",
        "    )\n",
        "\n",
        "        # 現在の日時を取得\n",
        "    now = datetime.datetime.now()\n",
        "    # 日時を文字列に変換し、ファイル名に使用する形式にします（例: '2023-03-27_15-30-00'）\n",
        "    formatted_time = now.strftime('%Y-%m-%d_%H-%M-%S')\n",
        "    # ファイル名に日時とパラメータを含める\n",
        "    filename = f'./{folder_name}/response_{formatted_time}_{topic[\"title\"]}.txt'\n",
        "    # テキストファイルに結果を書き込む\n",
        "    with open(filename, 'w') as file:\n",
        "        file.write(response.choices[0].message.content)"
      ],
      "metadata": {
        "id": "GsaqLydkBHYB"
      },
      "execution_count": 23,
      "outputs": []
    },
    {
      "cell_type": "code",
      "source": [
        "import zipfile\n",
        "\n",
        "def zip_directory(directory_path, output_path):\n",
        "    with zipfile.ZipFile(output_path, 'w', zipfile.ZIP_DEFLATED) as zipf:\n",
        "        for root, _, files in os.walk(directory_path):\n",
        "            for file in files:\n",
        "                file_path = os.path.join(root, file)\n",
        "                zipf.write(file_path, os.path.relpath(file_path, directory_path))\n",
        "\n",
        "    print(f\"ディレクトリ {directory_path} が {output_path} にzipファイルとして保存されました。\")\n",
        "\n",
        "# 使用例\n",
        "directory_to_zip = f\"./{folder_name}\"  # zipファイルにするディレクトリのパス\n",
        "output_zip_file = f\"./{folder_name}.zip\"  # 出力するzipファイルのパス\n",
        "\n",
        "zip_directory(directory_to_zip, output_zip_file)"
      ],
      "metadata": {
        "colab": {
          "base_uri": "https://localhost:8080/"
        },
        "id": "c9POHZSJBRXC",
        "outputId": "fb14b9e9-8a2e-4c61-87a5-c8106fc5f2ea"
      },
      "execution_count": 22,
      "outputs": [
        {
          "output_type": "stream",
          "name": "stdout",
          "text": [
            "ディレクトリ ./sample_houmu_syohyo_tokkyo が ./sample_houmu_syohyo_tokkyo.zip にzipファイルとして保存されました。\n"
          ]
        }
      ]
    }
  ]
}