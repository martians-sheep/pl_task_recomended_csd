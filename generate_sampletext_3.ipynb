{
  "nbformat": 4,
  "nbformat_minor": 0,
  "metadata": {
    "colab": {
      "provenance": [],
      "authorship_tag": "ABX9TyOFVtyapY1uAmoqplBcINZZ",
      "include_colab_link": true
    },
    "kernelspec": {
      "name": "python3",
      "display_name": "Python 3"
    },
    "language_info": {
      "name": "python"
    }
  },
  "cells": [
    {
      "cell_type": "markdown",
      "metadata": {
        "id": "view-in-github",
        "colab_type": "text"
      },
      "source": [
        "<a href=\"https://colab.research.google.com/github/martians-sheep/pl_task_recomended_csd/blob/main/generate_sampletext_3.ipynb\" target=\"_parent\"><img src=\"https://colab.research.google.com/assets/colab-badge.svg\" alt=\"Open In Colab\"/></a>"
      ]
    },
    {
      "cell_type": "code",
      "execution_count": 1,
      "metadata": {
        "colab": {
          "base_uri": "https://localhost:8080/"
        },
        "id": "36dJ2JnK1hYy",
        "outputId": "4b98ff20-3f26-4f8f-d88b-ee4ee34b3ae4"
      },
      "outputs": [
        {
          "output_type": "stream",
          "name": "stdout",
          "text": [
            "Collecting openai\n",
            "  Downloading openai-1.14.3-py3-none-any.whl (262 kB)\n",
            "\u001b[2K     \u001b[90m━━━━━━━━━━━━━━━━━━━━━━━━━━━━━━━━━━━━━━━━\u001b[0m \u001b[32m262.9/262.9 kB\u001b[0m \u001b[31m2.2 MB/s\u001b[0m eta \u001b[36m0:00:00\u001b[0m\n",
            "\u001b[?25hRequirement already satisfied: anyio<5,>=3.5.0 in /usr/local/lib/python3.10/dist-packages (from openai) (3.7.1)\n",
            "Requirement already satisfied: distro<2,>=1.7.0 in /usr/lib/python3/dist-packages (from openai) (1.7.0)\n",
            "Collecting httpx<1,>=0.23.0 (from openai)\n",
            "  Downloading httpx-0.27.0-py3-none-any.whl (75 kB)\n",
            "\u001b[2K     \u001b[90m━━━━━━━━━━━━━━━━━━━━━━━━━━━━━━━━━━━━━━━━\u001b[0m \u001b[32m75.6/75.6 kB\u001b[0m \u001b[31m6.7 MB/s\u001b[0m eta \u001b[36m0:00:00\u001b[0m\n",
            "\u001b[?25hRequirement already satisfied: pydantic<3,>=1.9.0 in /usr/local/lib/python3.10/dist-packages (from openai) (2.6.4)\n",
            "Requirement already satisfied: sniffio in /usr/local/lib/python3.10/dist-packages (from openai) (1.3.1)\n",
            "Requirement already satisfied: tqdm>4 in /usr/local/lib/python3.10/dist-packages (from openai) (4.66.2)\n",
            "Requirement already satisfied: typing-extensions<5,>=4.7 in /usr/local/lib/python3.10/dist-packages (from openai) (4.10.0)\n",
            "Requirement already satisfied: idna>=2.8 in /usr/local/lib/python3.10/dist-packages (from anyio<5,>=3.5.0->openai) (3.6)\n",
            "Requirement already satisfied: exceptiongroup in /usr/local/lib/python3.10/dist-packages (from anyio<5,>=3.5.0->openai) (1.2.0)\n",
            "Requirement already satisfied: certifi in /usr/local/lib/python3.10/dist-packages (from httpx<1,>=0.23.0->openai) (2024.2.2)\n",
            "Collecting httpcore==1.* (from httpx<1,>=0.23.0->openai)\n",
            "  Downloading httpcore-1.0.5-py3-none-any.whl (77 kB)\n",
            "\u001b[2K     \u001b[90m━━━━━━━━━━━━━━━━━━━━━━━━━━━━━━━━━━━━━━━━\u001b[0m \u001b[32m77.9/77.9 kB\u001b[0m \u001b[31m4.1 MB/s\u001b[0m eta \u001b[36m0:00:00\u001b[0m\n",
            "\u001b[?25hCollecting h11<0.15,>=0.13 (from httpcore==1.*->httpx<1,>=0.23.0->openai)\n",
            "  Downloading h11-0.14.0-py3-none-any.whl (58 kB)\n",
            "\u001b[2K     \u001b[90m━━━━━━━━━━━━━━━━━━━━━━━━━━━━━━━━━━━━━━━━\u001b[0m \u001b[32m58.3/58.3 kB\u001b[0m \u001b[31m5.4 MB/s\u001b[0m eta \u001b[36m0:00:00\u001b[0m\n",
            "\u001b[?25hRequirement already satisfied: annotated-types>=0.4.0 in /usr/local/lib/python3.10/dist-packages (from pydantic<3,>=1.9.0->openai) (0.6.0)\n",
            "Requirement already satisfied: pydantic-core==2.16.3 in /usr/local/lib/python3.10/dist-packages (from pydantic<3,>=1.9.0->openai) (2.16.3)\n",
            "Installing collected packages: h11, httpcore, httpx, openai\n",
            "Successfully installed h11-0.14.0 httpcore-1.0.5 httpx-0.27.0 openai-1.14.3\n"
          ]
        }
      ],
      "source": [
        "!pip install openai"
      ]
    },
    {
      "cell_type": "code",
      "source": [
        "# 環境変数の準備 (左端の鍵アイコンでOPENAI_API_KEYを設定)\n",
        "import os\n",
        "from google.colab import userdata\n",
        "os.environ[\"OPENAI_API_KEY\"] = userdata.get(\"OPENAI_API_KEY\")"
      ],
      "metadata": {
        "id": "-gj39dXL2VDh"
      },
      "execution_count": 2,
      "outputs": []
    },
    {
      "cell_type": "code",
      "source": [
        "from openai import OpenAI\n",
        "\n",
        "# クライアントの準備\n",
        "client = OpenAI()"
      ],
      "metadata": {
        "id": "eAq9guGW2X3P"
      },
      "execution_count": 3,
      "outputs": []
    },
    {
      "cell_type": "code",
      "source": [
        "import json\n",
        "\n",
        "# JSON出力ヘルパーの準備\n",
        "def show_json(obj):\n",
        "    display(json.loads(obj.model_dump_json()))"
      ],
      "metadata": {
        "id": "PYkAzlmY2ZXV"
      },
      "execution_count": 4,
      "outputs": []
    },
    {
      "cell_type": "code",
      "source": [
        "prompt = \"\"\"\n",
        "# システム開発プロジェクトの提案書\n",
        "## 1. プロジェクトの目的と背景\n",
        "- 現状の課題と改善点\n",
        "- システム開発の必要性\n",
        "## 2. 提案するシステムの概要\n",
        "- システムの目的: {システムの目的}\n",
        "- 主要な機能: {主要な機能}\n",
        "- 利用対象者: {利用対象者}\n",
        "- 期待される効果と利点\n",
        "## 3. システム設計\n",
        "- システムアーキテクチャ\n",
        "- 使用する技術スタック\n",
        "- セキュリティ対策\n",
        "- 拡張性と保守性\n",
        "## 4. 開発計画\n",
        "- 開発フェーズとスケジュール\n",
        "- 必要なリソース（人員、ツール、インフラなど）\n",
        "- リスク管理計画\n",
        "## 5. 運用・保守計画\n",
        "- 運用体制\n",
        "- 保守・更新計画\n",
        "- ユーザートレーニング\n",
        "## 6. コスト見積もり\n",
        "- 初期開発費用\n",
        "- 運用・保守費用\n",
        "- 費用対効果の検討\n",
        "## 7. まとめ\n",
        "- プロジェクトの重要性と実現可能性\n",
        "- 期待される成果とビジネスへの貢献\n",
        "\"\"\""
      ],
      "metadata": {
        "id": "uGsncjiG2aeL"
      },
      "execution_count": 6,
      "outputs": []
    },
    {
      "cell_type": "code",
      "source": [
        "prompts_and_params = [\n",
        "    {\n",
        "        \"prompt\": prompt,\n",
        "        \"params\": {\n",
        "            \"システムの目的\": \"在庫管理の効率化\",\n",
        "            \"主要な機能\": \"在庫の追跡、リアルタイムの在庫状況の表示、自動発注\",\n",
        "            \"利用対象者\": \"倉庫管理者、調達担当者\"\n",
        "        }\n",
        "    },\n",
        "    {\n",
        "        \"prompt\": prompt,\n",
        "        \"params\": {\n",
        "            \"システムの目的\": \"顧客サポートの強化\",\n",
        "            \"主要な機能\": \"チャットボット、ナレッジベース、チケット管理\",\n",
        "            \"利用対象者\": \"カスタマーサポート担当者、顧客\"\n",
        "        }\n",
        "    },\n",
        "    {\n",
        "        \"prompt\": prompt,\n",
        "        \"params\": {\n",
        "            \"システムの目的\": \"社内コミュニケーションの円滑化\",\n",
        "            \"主要な機能\": \"チャット、ファイル共有、プロジェクト管理\",\n",
        "            \"利用対象者\": \"全社員\"\n",
        "        }\n",
        "    },\n",
        "    {\n",
        "        \"prompt\": prompt,\n",
        "        \"params\": {\n",
        "            \"システムの目的\": \"経費精算の自動化\",\n",
        "            \"主要な機能\": \"領収書のスキャン、自動データ入力、承認ワークフロー\",\n",
        "            \"利用対象者\": \"経理部門、全社員\"\n",
        "        }\n",
        "    },\n",
        "    {\n",
        "        \"prompt\": prompt,\n",
        "        \"params\": {\n",
        "            \"システムの目的\": \"勤怠管理の効率化\",\n",
        "            \"主要な機能\": \"出退勤記録、休暇申請、シフト管理\",\n",
        "            \"利用対象者\": \"人事部門、全社員\"\n",
        "        }\n",
        "    },\n",
        "    {\n",
        "        \"prompt\": prompt,\n",
        "        \"params\": {\n",
        "            \"システムの目的\": \"セールスパイプラインの可視化\",\n",
        "            \"主要な機能\": \"リードの追跡、商談の管理、売上予測\",\n",
        "            \"利用対象者\": \"営業部門、営業マネージャー\"\n",
        "        }\n",
        "    },\n",
        "    {\n",
        "        \"prompt\": prompt,\n",
        "        \"params\": {\n",
        "            \"システムの目的\": \"プロジェクト管理の効率化\",\n",
        "            \"主要な機能\": \"タスク管理、ガントチャート、リソース管理\",\n",
        "            \"利用対象者\": \"プロジェクトマネージャー、プロジェクトチーム\"\n",
        "        }\n",
        "    },\n",
        "    {\n",
        "        \"prompt\": prompt,\n",
        "        \"params\": {\n",
        "            \"システムの目的\": \"データ分析基盤の構築\",\n",
        "            \"主要な機能\": \"データ収集、データ処理、可視化とレポーティング\",\n",
        "            \"利用対象者\": \"データアナリスト、ビジネス部門\"\n",
        "        }\n",
        "    },\n",
        "    {\n",
        "        \"prompt\": prompt,\n",
        "        \"params\": {\n",
        "            \"システムの目的\": \"社内教育の支援\",\n",
        "            \"主要な機能\": \"eラーニングコース、進捗管理、スキルアセスメント\",\n",
        "            \"利用対象者\": \"人事部門、全社員\"\n",
        "        }\n",
        "    },\n",
        "    {\n",
        "        \"prompt\": prompt,\n",
        "        \"params\": {\n",
        "            \"システムの目的\": \"マーケティングオートメーションの導入\",\n",
        "            \"主要な機能\": \"メールキャンペーン、リードスコアリング、ランディングページ管理\",\n",
        "            \"利用対象者\": \"マーケティング部門\"\n",
        "        }\n",
        "    },    {\n",
        "        \"prompt\": prompt,\n",
        "        \"params\": {\n",
        "            \"システムの目的\": \"リモートワーク支援\",\n",
        "            \"主要な機能\": \"ビデオ会議、バーチャルホワイトボード、ドキュメント共同編集\",\n",
        "            \"利用対象者\": \"全社員\"\n",
        "        }\n",
        "    },\n",
        "    {\n",
        "        \"prompt\": prompt,\n",
        "        \"params\": {\n",
        "            \"システムの目的\": \"サプライチェーン管理の最適化\",\n",
        "            \"主要な機能\": \"需要予測、在庫最適化、物流管理\",\n",
        "            \"利用対象者\": \"調達部門、物流部門\"\n",
        "        }\n",
        "    },\n",
        "    {\n",
        "        \"prompt\": prompt,\n",
        "        \"params\": {\n",
        "            \"システムの目的\": \"品質管理の強化\",\n",
        "            \"主要な機能\": \"検査データの収集、統計的品質管理、トレーサビリティ\",\n",
        "            \"利用対象者\": \"品質管理部門、製造部門\"\n",
        "        }\n",
        "    },\n",
        "    {\n",
        "        \"prompt\": prompt,\n",
        "        \"params\": {\n",
        "            \"システムの目的\": \"施設管理の効率化\",\n",
        "            \"主要な機能\": \"設備の予防保全、エネルギー管理、スペース管理\",\n",
        "            \"利用対象者\": \"施設管理部門\"\n",
        "        }\n",
        "    },\n",
        "    {\n",
        "        \"prompt\": prompt,\n",
        "        \"params\": {\n",
        "            \"システムの目的\": \"契約管理の一元化\",\n",
        "            \"主要な機能\": \"契約の電子化、承認ワークフロー、期限通知\",\n",
        "            \"利用対象者\": \"法務部門、営業部門\"\n",
        "        }\n",
        "    },\n",
        "    {\n",
        "        \"prompt\": prompt,\n",
        "        \"params\": {\n",
        "            \"システムの目的\": \"人材採用の効率化\",\n",
        "            \"主要な機能\": \"求人管理、応募者追跡、面接スケジューリング\",\n",
        "            \"利用対象者\": \"人事部門、採用担当者\"\n",
        "        }\n",
        "    },\n",
        "    {\n",
        "        \"prompt\": prompt,\n",
        "        \"params\": {\n",
        "            \"システムの目的\": \"リスク管理の強化\",\n",
        "            \"主要な機能\": \"リスクの識別、評価、モニタリング、対策管理\",\n",
        "            \"利用対象者\": \"リスク管理部門、経営陣\"\n",
        "        }\n",
        "    },\n",
        "    {\n",
        "        \"prompt\": prompt,\n",
        "        \"params\": {\n",
        "            \"システムの目的\": \"知的財産管理の効率化\",\n",
        "            \"主要な機能\": \"特許・商標管理、期限通知、権利範囲分析\",\n",
        "            \"利用対象者\": \"知的財産部門、研究開発部門\"\n",
        "        }\n",
        "    },\n",
        "    {\n",
        "        \"prompt\": prompt,\n",
        "        \"params\": {\n",
        "            \"システムの目的\": \"社内情報共有の促進\",\n",
        "            \"主要な機能\": \"ニュースフィード、ブログ、ウィキ\",\n",
        "            \"利用対象者\": \"全社員\"\n",
        "        }\n",
        "    },\n",
        "    {\n",
        "        \"prompt\": prompt,\n",
        "        \"params\": {\n",
        "            \"システムの目的\": \"ITヘルプデスクの自動化\",\n",
        "            \"主要な機能\": \"自己解決ポータル、チケット管理、ナレッジベース\",\n",
        "            \"利用対象者\": \"全社員、ITサポートチーム\"\n",
        "        }\n",
        "    }\n",
        "]"
      ],
      "metadata": {
        "id": "EK1ugnxL2fvg"
      },
      "execution_count": 9,
      "outputs": []
    },
    {
      "cell_type": "code",
      "source": [
        "import datetime"
      ],
      "metadata": {
        "id": "ohbMX6IP304p"
      },
      "execution_count": 11,
      "outputs": []
    },
    {
      "cell_type": "code",
      "source": [
        "folder_name = \"sample_3\""
      ],
      "metadata": {
        "id": "KZEy_0wP4XW5"
      },
      "execution_count": 10,
      "outputs": []
    },
    {
      "cell_type": "code",
      "source": [
        "for item in prompts_and_params:\n",
        "    prompt = item[\"prompt\"]\n",
        "    params = item[\"params\"]\n",
        "\n",
        "    # プロンプトにパラメータを挿入\n",
        "    formatted_prompt = prompt.format(**params)\n",
        "\n",
        "    messages = [\n",
        "        {\n",
        "            \"role\" : \"user\",\n",
        "            \"content\" : formatted_prompt,\n",
        "        }\n",
        "    ]\n",
        "\n",
        "    response = client.chat.completions.create(\n",
        "        model=\"gpt-3.5-turbo\",\n",
        "        messages=messages,\n",
        "        temperature=1,\n",
        "        max_tokens=700\n",
        "    )\n",
        "\n",
        "    # 現在の日時を取得\n",
        "    now = datetime.datetime.now()\n",
        "\n",
        "    # 日時を文字列に変換し、ファイル名に使用する形式にします（例: '2023-03-27_15-30-00'）\n",
        "    formatted_time = now.strftime('%Y-%m-%d_%H-%M-%S')\n",
        "\n",
        "    # ファイル名に日時とパラメータを含める\n",
        "    filename = f'./{folder_name}/response_{formatted_time}_{params[\"システムの目的\"]}_3.txt'\n",
        "\n",
        "    # テキストファイルに結果を書き込む\n",
        "    with open(filename, 'w') as file:\n",
        "        file.write(response.choices[0].message.content)"
      ],
      "metadata": {
        "id": "JlRptKIf4LN7"
      },
      "execution_count": 12,
      "outputs": []
    },
    {
      "cell_type": "code",
      "source": [
        "import os\n",
        "import zipfile\n",
        "\n",
        "def zip_directory(directory_path, output_path):\n",
        "    with zipfile.ZipFile(output_path, 'w', zipfile.ZIP_DEFLATED) as zipf:\n",
        "        for root, _, files in os.walk(directory_path):\n",
        "            for file in files:\n",
        "                file_path = os.path.join(root, file)\n",
        "                zipf.write(file_path, os.path.relpath(file_path, directory_path))\n",
        "\n",
        "    print(f\"ディレクトリ {directory_path} が {output_path} にzipファイルとして保存されました。\")\n",
        "\n",
        "# 使用例\n",
        "directory_to_zip = f\".{folder_name}\"  # zipファイルにするディレクトリのパス\n",
        "output_zip_file = f\"./{folder_name}.zip\"  # 出力するzipファイルのパス\n",
        "\n",
        "zip_directory(directory_to_zip, output_zip_file)"
      ],
      "metadata": {
        "colab": {
          "base_uri": "https://localhost:8080/"
        },
        "id": "bNu13Nh64U8t",
        "outputId": "7652b8b6-0631-4efd-879a-962bc1c76f9e"
      },
      "execution_count": 13,
      "outputs": [
        {
          "output_type": "stream",
          "name": "stdout",
          "text": [
            "ディレクトリ .sample_3 が ./sample_3.zip にzipファイルとして保存されました。\n"
          ]
        }
      ]
    }
  ]
}