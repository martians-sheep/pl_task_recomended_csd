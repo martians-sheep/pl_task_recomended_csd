{
  "nbformat": 4,
  "nbformat_minor": 0,
  "metadata": {
    "colab": {
      "provenance": [],
      "authorship_tag": "ABX9TyNAyVRH2erm2VsywTYi1HnP",
      "include_colab_link": true
    },
    "kernelspec": {
      "name": "python3",
      "display_name": "Python 3"
    },
    "language_info": {
      "name": "python"
    }
  },
  "cells": [
    {
      "cell_type": "markdown",
      "metadata": {
        "id": "view-in-github",
        "colab_type": "text"
      },
      "source": [
        "<a href=\"https://colab.research.google.com/github/martians-sheep/pl_task_recomended_csd/blob/main/search_kokkai_speeches_rag.ipynb\" target=\"_parent\"><img src=\"https://colab.research.google.com/assets/colab-badge.svg\" alt=\"Open In Colab\"/></a>"
      ]
    },
    {
      "cell_type": "code",
      "execution_count": 1,
      "metadata": {
        "colab": {
          "base_uri": "https://localhost:8080/"
        },
        "id": "PWuYEbycqGME",
        "outputId": "35b8f2b8-c143-4de1-e450-cf2d1d46f736"
      },
      "outputs": [
        {
          "output_type": "stream",
          "name": "stdout",
          "text": [
            "Collecting openai\n",
            "  Downloading openai-1.16.0-py3-none-any.whl (266 kB)\n",
            "\u001b[?25l     \u001b[90m━━━━━━━━━━━━━━━━━━━━━━━━━━━━━━━━━━━━━━━━\u001b[0m \u001b[32m0.0/266.9 kB\u001b[0m \u001b[31m?\u001b[0m eta \u001b[36m-:--:--\u001b[0m\r\u001b[2K     \u001b[91m━━━━━━━━━━\u001b[0m\u001b[91m╸\u001b[0m\u001b[90m━━━━━━━━━━━━━━━━━━━━━━━━━━━━━\u001b[0m \u001b[32m71.7/266.9 kB\u001b[0m \u001b[31m2.0 MB/s\u001b[0m eta \u001b[36m0:00:01\u001b[0m\r\u001b[2K     \u001b[90m━━━━━━━━━━━━━━━━━━━━━━━━━━━━━━━━━━━━━━━━\u001b[0m \u001b[32m266.9/266.9 kB\u001b[0m \u001b[31m3.9 MB/s\u001b[0m eta \u001b[36m0:00:00\u001b[0m\n",
            "\u001b[?25hRequirement already satisfied: anyio<5,>=3.5.0 in /usr/local/lib/python3.10/dist-packages (from openai) (3.7.1)\n",
            "Requirement already satisfied: distro<2,>=1.7.0 in /usr/lib/python3/dist-packages (from openai) (1.7.0)\n",
            "Collecting httpx<1,>=0.23.0 (from openai)\n",
            "  Downloading httpx-0.27.0-py3-none-any.whl (75 kB)\n",
            "\u001b[2K     \u001b[90m━━━━━━━━━━━━━━━━━━━━━━━━━━━━━━━━━━━━━━━━\u001b[0m \u001b[32m75.6/75.6 kB\u001b[0m \u001b[31m4.7 MB/s\u001b[0m eta \u001b[36m0:00:00\u001b[0m\n",
            "\u001b[?25hRequirement already satisfied: pydantic<3,>=1.9.0 in /usr/local/lib/python3.10/dist-packages (from openai) (2.6.4)\n",
            "Requirement already satisfied: sniffio in /usr/local/lib/python3.10/dist-packages (from openai) (1.3.1)\n",
            "Requirement already satisfied: tqdm>4 in /usr/local/lib/python3.10/dist-packages (from openai) (4.66.2)\n",
            "Requirement already satisfied: typing-extensions<5,>=4.7 in /usr/local/lib/python3.10/dist-packages (from openai) (4.10.0)\n",
            "Requirement already satisfied: idna>=2.8 in /usr/local/lib/python3.10/dist-packages (from anyio<5,>=3.5.0->openai) (3.6)\n",
            "Requirement already satisfied: exceptiongroup in /usr/local/lib/python3.10/dist-packages (from anyio<5,>=3.5.0->openai) (1.2.0)\n",
            "Requirement already satisfied: certifi in /usr/local/lib/python3.10/dist-packages (from httpx<1,>=0.23.0->openai) (2024.2.2)\n",
            "Collecting httpcore==1.* (from httpx<1,>=0.23.0->openai)\n",
            "  Downloading httpcore-1.0.5-py3-none-any.whl (77 kB)\n",
            "\u001b[2K     \u001b[90m━━━━━━━━━━━━━━━━━━━━━━━━━━━━━━━━━━━━━━━━\u001b[0m \u001b[32m77.9/77.9 kB\u001b[0m \u001b[31m6.3 MB/s\u001b[0m eta \u001b[36m0:00:00\u001b[0m\n",
            "\u001b[?25hCollecting h11<0.15,>=0.13 (from httpcore==1.*->httpx<1,>=0.23.0->openai)\n",
            "  Downloading h11-0.14.0-py3-none-any.whl (58 kB)\n",
            "\u001b[2K     \u001b[90m━━━━━━━━━━━━━━━━━━━━━━━━━━━━━━━━━━━━━━━━\u001b[0m \u001b[32m58.3/58.3 kB\u001b[0m \u001b[31m3.6 MB/s\u001b[0m eta \u001b[36m0:00:00\u001b[0m\n",
            "\u001b[?25hRequirement already satisfied: annotated-types>=0.4.0 in /usr/local/lib/python3.10/dist-packages (from pydantic<3,>=1.9.0->openai) (0.6.0)\n",
            "Requirement already satisfied: pydantic-core==2.16.3 in /usr/local/lib/python3.10/dist-packages (from pydantic<3,>=1.9.0->openai) (2.16.3)\n",
            "Installing collected packages: h11, httpcore, httpx, openai\n",
            "Successfully installed h11-0.14.0 httpcore-1.0.5 httpx-0.27.0 openai-1.16.0\n"
          ]
        }
      ],
      "source": [
        "!pip install openai"
      ]
    },
    {
      "cell_type": "code",
      "source": [
        "from openai import OpenAI\n",
        "import requests"
      ],
      "metadata": {
        "id": "sgx-rYSsqNTb"
      },
      "execution_count": 9,
      "outputs": []
    },
    {
      "cell_type": "code",
      "source": [
        "import os\n",
        "from google.colab import userdata\n",
        "os.environ[\"OPENAI_API_KEY\"] = userdata.get(\"OPENAI_API_KEY\")\n",
        "\n",
        "# クライアントの準備\n",
        "client = OpenAI()"
      ],
      "metadata": {
        "id": "mYghwaJcqdxY"
      },
      "execution_count": 12,
      "outputs": []
    },
    {
      "cell_type": "code",
      "source": [
        "# 国会議事録APIのエンドポイント\n",
        "url = \"https://kokkai.ndl.go.jp/api/speech\""
      ],
      "metadata": {
        "id": "SmLon_9RqfPh"
      },
      "execution_count": 6,
      "outputs": []
    },
    {
      "cell_type": "code",
      "source": [
        "def search_speeches(query):\n",
        "    # 検索条件を設定\n",
        "    params = {\n",
        "        \"any\": query,\n",
        "        \"recordPacking\": \"json\",\n",
        "        \"from\": \"2024-01-01\",\n",
        "        \"until\": \"2024-02-01\",\n",
        "    }\n",
        "\n",
        "    # APIにリクエストを送信\n",
        "    response = requests.get(url, params=params)\n",
        "\n",
        "    # レスポンスをJSONとして解析\n",
        "    data = response.json()\n",
        "    print(data)\n",
        "    # 検索結果の発言を抽出\n",
        "    speeches = [speech[\"speech\"] for speech in data[\"speechRecord\"]]\n",
        "\n",
        "    return speeches"
      ],
      "metadata": {
        "id": "z7tc9GUTqmns"
      },
      "execution_count": 30,
      "outputs": []
    },
    {
      "cell_type": "code",
      "source": [
        "def generate_answer(question, context):\n",
        "    # 質問と関連する発言を組み合わせてプロンプトを作成\n",
        "    prompt = [\n",
        "          {\n",
        "              \"role\":\"user\",\n",
        "              \"content\":f\"質問: {question}に関する発言はありますか？\\n\\n関連する国会議事録の発言:\\n\" + \"\\n\".join(context) + \"\\n\\n回答:\"\n",
        "          }]\n",
        "\n",
        "    # OpenAIのAPIを使用して回答を生成\n",
        "    response = client.chat.completions.create(\n",
        "      model=\"gpt-4\",\n",
        "      messages=prompt,\n",
        "      temperature=0.2,\n",
        "      max_tokens=500\n",
        "    )\n",
        "\n",
        "    # 生成された回答を返す\n",
        "    answer = response.choices[0].message.content\n",
        "    return answer"
      ],
      "metadata": {
        "id": "0SaJlEgZqofh"
      },
      "execution_count": 38,
      "outputs": []
    },
    {
      "cell_type": "code",
      "source": [
        "def main():\n",
        "    while True:\n",
        "        # ユーザーからの質問を受け取る\n",
        "        question = input(\"質問を入力してください（終了するには'q'を入力）: \")\n",
        "\n",
        "        if question.lower() == 'q':\n",
        "            break\n",
        "\n",
        "        # 関連する発言を検索\n",
        "        # responseが受け取るtoken数を超えるとエラーになります\n",
        "        context = search_speeches(question)\n",
        "\n",
        "        if not context:\n",
        "            print(\"関連する発言が見つかりませんでした。\")\n",
        "            continue\n",
        "\n",
        "        # 回答を生成\n",
        "        answer = generate_answer(question, context)\n",
        "\n",
        "        # 回答を出力\n",
        "        print(f\"回答: {answer}\\n\")\n",
        "\n",
        "if __name__ == \"__main__\":\n",
        "    main()"
      ],
      "metadata": {
        "colab": {
          "base_uri": "https://localhost:8080/"
        },
        "id": "qkXwEoeCq9CC",
        "outputId": "df6202d9-3f2f-4eff-92f1-b29e5be45e1b"
      },
      "execution_count": 39,
      "outputs": [
        {
          "name": "stdout",
          "output_type": "stream",
          "text": [
            "質問を入力してください（終了するには'q'を入力）: トラックGメン\n",
            "{'numberOfRecords': 1, 'numberOfReturn': 1, 'startRecord': 1, 'nextRecordPosition': None, 'speechRecord': [{'speechID': '121315254X00320240201_003', 'issueID': '121315254X00320240201', 'imageKind': '会議録', 'searchObject': 3, 'session': 213, 'nameOfHouse': '参議院', 'nameOfMeeting': '本会議', 'issue': '第3号', 'date': '2024-02-01', 'closing': None, 'speechOrder': 3, 'speaker': '岸田文雄', 'speakerYomi': 'きしだふみお', 'speakerGroup': '自由民主党・無所属の会', 'speakerPosition': '内閣総理大臣', 'speakerRole': None, 'speech': '○内閣総理大臣（岸田文雄君）\\u3000水岡俊一議員の御質問にお答えいたします。\\r\\n\\u3000能登半島における地震の長期評価についてお尋ねがありました。\\r\\n\\u3000地震調査委員会では、活断層や海溝沿いで起きる地震について、地震活動、地殻変動、地質等の調査データに基づいて、それぞれの調査の進捗等に応じ、順次長期評価を行っていると承知をしています。日本海側の海域活断層については、令和四年の九州・中国地方沖の評価の公表に続いて、必要なデータの整理、分析をした上で、現在、能登地方沖を含む海域の評価を進めているところです。\\r\\n\\u3000能登地方の地震活動が継続している状況に鑑み、能登地方の海域活断層の長期評価を早急に進め、その結果を公表するとともに、必要な情報発信等を行ってまいります。\\r\\n\\u3000北陸地方における道路啓開計画の策定についてお尋ねがありました。\\r\\n\\u3000道路啓開計画については、首都直下及び南海トラフなどの科学的に発生確率が高い大規模地震から順次策定してきており、北陸地方においても策定に向け鋭意検討を進めていると聞いています。\\r\\n\\u3000今回、地震発災当初から国が自治体に代わって幹線道路の道路啓開に全力を挙げてきた結果、発災翌日には七尾市から輪島市、珠洲市などへの通行を確保し、約二週間後には約九割の道路啓開が完了するなど、極めて迅速な対応によって緊急輸送の大動脈となっています。二十四時間体制で尽力した事業者、作業員の皆様に心から敬意を表し申し上げます。\\r\\n\\u3000管制官の人員強化と刑事免責についてお尋ねがありました。\\r\\n\\u3000これまで、羽田空港の増便に対応すべく、管制官の増員などの体制強化を図ってきており、一人当たりの業務量が増加しているわけではありません。今回の事故を受け、滑走路への誤進入を常時レーダー監視する人員を配置したほか、この夏をめどにハード、ソフト両面から対策をまとめる予定であり、これらを踏まえて体制強化の必要性も判断してまいります。\\r\\n\\u3000なお、航空機事故における個人の刑事責任の免除については、刑罰の意義、目的や、被害者を含む国民感情も踏まえた慎重な検討が必要であると考えています。\\r\\n\\u3000政治改革の進め方についてお尋ねがありました。\\r\\n\\u3000政治刷新本部は国民の信頼回復に向けた我が党としての取組を議論するために立ち上げたものですが、制度面の改革については各党との真摯な協議が必要です。\\r\\n\\u3000国会における議論の進め方については国会で御判断いただくべき事柄でありますが、与野党における議論の場が設けられた場合には、我が党としても積極的に議論に貢献をしてまいります。\\r\\n\\u3000なお、派閥を解散するかどうかはそれぞれの政治団体の判断によるものですが、派閥を解散した場合であっても関係者の説明責任がなくなるというものではないと考えております。\\r\\n\\u3000物流二〇二四年問題への対応についてお尋ねがありました。\\r\\n\\u3000政府としては、二〇一八年に標準的運賃の制度を創設するほか、荷主への要請等に継続的に取り組みつつ、昨年には標準的運賃の八％引上げ方針の公表や、緊急増員したトラックＧメンによる悪質荷主等への是正指導の大幅強化など、当面の輸送力不足の解消に向けた取組を進めております。\\r\\n\\u3000その上で、この問題は年々深刻化する構造的な課題でもあることから、今国会に賃上げ原資確保のための適正な運賃導入や物流効率化を進める法案を提出し、政府、荷主、物流業界が協力して物流の持続的成長の実現に全力を尽くしてまいります。\\r\\n\\u3000環境基本法の見直しについてお尋ねがありました。\\r\\n\\u3000我が国は、環境、経済、社会の統合的向上を旨とし、例えば温室効果ガスの二〇三〇年度削減目標に向けても、他の先進国における進捗に比べてもオントラックで着実に削減を進めるなど、環境面においても着実に成果を出しています。\\r\\n\\u3000環境基本法では、将来世代の利益、全ての者の公平な役割分担、環境保全上の支障の未然防止等が規定されています。その時々の最新の課題と環境政策の方向性について、これまでも環境基本計画において具体的に位置付け、取り組んできたところであり、本年、第六次環境基本計画の策定を予定しています。これらを通じて、今後とも時代が求める環境政策を進めてまいります。\\r\\n\\u3000水俣病対策についてお尋ねがありました。\\r\\n\\u3000昨年九月の大阪地裁判決については、関係省庁において内容を精査した上で、最高裁で確定した類似裁判の判決の内容と大きく相違することなどから、上訴審の判断を仰ぐ必要があると判断して控訴を行ったと承知をしています。\\r\\n\\u3000政府としては、水俣病の被害者救済について、引き続き公害健康被害補償法や水俣病被害者特措法に基づく給付等を適切に行っていくことが重要であると考えており、現時点で法制度を見直す必要があるとは承知しておりません。\\r\\n\\u3000水俣病の健康調査については、環境省において研究班を立ち上げ、専門家の議論も踏まえ、調査の実施に向けた検討を進めているものと承知をしております。\\r\\n\\u3000不登校対策についてお尋ねがありました。\\r\\n\\u3000政府としては、教育委員会や学校が責任を持って子供の状況や困難さ等に応じた学びの場を整備する観点から、校内教育支援センターの設置促進、教育委員会が不登校の子供への支援の知見を有する民間団体と連携するために必要な経費の支援など、緊急的な対応を含め不登校対策を行っております。\\r\\n\\u3000政府としては、子供たちが誰一人として取り残されることなく必要な支援を受けられるよう、しっかり取り組んでまいります。\\r\\n\\u3000教師不足の対策についてお尋ねがありました。\\r\\n\\u3000教師不足の直近の状況については、学校現場への調査負担を考慮し、実数による把握は行っておらず、前年度との詳細な比較等は困難であるものの、教育委員会を通じて実態を把握している中で、依然として厳しい状況であると認識をしています。\\r\\n\\u3000このため、喫緊の課題への対応として、教師人材の発掘を強化する取組を支援することとしました。また、指摘の給特法の在り方も含めた教師の処遇改善、学校の指導、運営体制等について、現在、中央教育審議会で議論を行っております。\\r\\n\\u3000政府としては、働き方改革の更なる加速化、処遇の改善、学校の指導、運営体制の充実、育成支援、これらを一体的に進めてまいります。\\r\\n\\u3000人権諸条約の委員会における勧告及び国際人権法についてお尋ねがありました。\\r\\n\\u3000人権諸条約の委員会による勧告が加盟国に対し法的拘束力を持たないことは当該条約の規定ぶりから明らかですが、我が国としては、関係省庁において勧告の内容を十分に検討することとしており、無視をしているというわけではありません。\\r\\n\\u3000国際人権法について、人権擁護は全ての国の基本的な責務であり、我が国としては、今後とも締結している国際人権諸条約を誠実に遵守をしてまいります。\\r\\n\\u3000国会議員のアイヌ民族に関する言動及びアイヌ施策推進法についてお尋ねがありました。\\r\\n\\u3000個々の議員の言動について政府の立場からコメントすることは控えますが、一般論として申し上げれば、アイヌの人々に対して、アイヌであることを理由として差別することはあってはならないことだと考えております。\\r\\n\\u3000いずれにしても、アイヌ施策推進法の附則の規定に基づき、同法の施行から五年が経過する本年五月以降、法の施行状況について検討を加え、必要に応じ、所要の措置を講じてまいります。\\r\\n\\u3000政治分野のジェンダー平等についてお尋ねがありました。\\r\\n\\u3000政治分野の男女共同参画推進は、政治に民意をより一層反映させる観点から重要であり、御指摘の法律の趣旨も踏まえ、女性候補者の割合が高まるよう、各政党に対する自主的な取組の要請、国や地方議会における女性議員の数の見える化や女性議員比率向上の好事例の広報などを着実に進めてまいります。（拍手）\\r\\n\\u3000\\u3000\\u3000\\u3000─────────────', 'startPage': 0, 'speechURL': 'https://kokkai.ndl.go.jp/txt/121315254X00320240201/3', 'meetingURL': 'https://kokkai.ndl.go.jp/txt/121315254X00320240201', 'pdfURL': None}]}\n",
            "回答: 国会議事録において、物流二〇二四年問題への対応についての発言があり、その中でトラックGメンについて触れられています。具体的には、政府としては、二〇一八年に標準的運賃の制度を創設するほか、荷主への要請等に継続的に取り組みつつ、昨年には標準的運賃の八％引上げ方針の公表や、緊急増員したトラックＧメンによる悪質荷主等への是正指導の大幅強化など、当面の輸送力不足の解消に向けた取組を進めていると述べられています。\n",
            "\n",
            "質問を入力してください（終了するには'q'を入力）: q\n"
          ]
        }
      ]
    }
  ]
}