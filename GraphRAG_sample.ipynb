{
  "nbformat": 4,
  "nbformat_minor": 0,
  "metadata": {
    "colab": {
      "provenance": [],
      "authorship_tag": "ABX9TyOChHLSYOseASl649swH1RV",
      "include_colab_link": true
    },
    "kernelspec": {
      "name": "python3",
      "display_name": "Python 3"
    },
    "language_info": {
      "name": "python"
    }
  },
  "cells": [
    {
      "cell_type": "markdown",
      "metadata": {
        "id": "view-in-github",
        "colab_type": "text"
      },
      "source": [
        "<a href=\"https://colab.research.google.com/github/martians-sheep/pl_task_recomended_csd/blob/main/GraphRAG_sample.ipynb\" target=\"_parent\"><img src=\"https://colab.research.google.com/assets/colab-badge.svg\" alt=\"Open In Colab\"/></a>"
      ]
    },
    {
      "cell_type": "code",
      "execution_count": null,
      "metadata": {
        "id": "zHqUFZEF5sXx"
      },
      "outputs": [],
      "source": []
    },
    {
      "cell_type": "markdown",
      "source": [
        "GraphRAG クイックスタート\n",
        "\n",
        "前提条件\n",
        "\n",
        "ノートブックを実行するために、Python標準ライブラリに含まれないサードパーティパッケージをインストールしてください。"
      ],
      "metadata": {
        "id": "p_uVhnyu577T"
      }
    },
    {
      "cell_type": "code",
      "source": [
        "! pip install devtools python-magic requests tqdm"
      ],
      "metadata": {
        "colab": {
          "base_uri": "https://localhost:8080/"
        },
        "id": "qAPKeDMz590q",
        "outputId": "f5509365-e985-4488-af97-99d34966febf"
      },
      "execution_count": 1,
      "outputs": [
        {
          "output_type": "stream",
          "name": "stdout",
          "text": [
            "Collecting devtools\n",
            "  Downloading devtools-0.12.2-py3-none-any.whl.metadata (4.8 kB)\n",
            "Collecting python-magic\n",
            "  Downloading python_magic-0.4.27-py2.py3-none-any.whl.metadata (5.8 kB)\n",
            "Requirement already satisfied: requests in /usr/local/lib/python3.10/dist-packages (2.31.0)\n",
            "Requirement already satisfied: tqdm in /usr/local/lib/python3.10/dist-packages (4.66.4)\n",
            "Collecting asttokens<3.0.0,>=2.0.0 (from devtools)\n",
            "  Downloading asttokens-2.4.1-py2.py3-none-any.whl.metadata (5.2 kB)\n",
            "Collecting executing>=1.1.1 (from devtools)\n",
            "  Downloading executing-2.0.1-py2.py3-none-any.whl.metadata (9.0 kB)\n",
            "Requirement already satisfied: pygments>=2.15.0 in /usr/local/lib/python3.10/dist-packages (from devtools) (2.16.1)\n",
            "Requirement already satisfied: charset-normalizer<4,>=2 in /usr/local/lib/python3.10/dist-packages (from requests) (3.3.2)\n",
            "Requirement already satisfied: idna<4,>=2.5 in /usr/local/lib/python3.10/dist-packages (from requests) (3.7)\n",
            "Requirement already satisfied: urllib3<3,>=1.21.1 in /usr/local/lib/python3.10/dist-packages (from requests) (2.0.7)\n",
            "Requirement already satisfied: certifi>=2017.4.17 in /usr/local/lib/python3.10/dist-packages (from requests) (2024.7.4)\n",
            "Requirement already satisfied: six>=1.12.0 in /usr/local/lib/python3.10/dist-packages (from asttokens<3.0.0,>=2.0.0->devtools) (1.16.0)\n",
            "Downloading devtools-0.12.2-py3-none-any.whl (19 kB)\n",
            "Downloading python_magic-0.4.27-py2.py3-none-any.whl (13 kB)\n",
            "Downloading asttokens-2.4.1-py2.py3-none-any.whl (27 kB)\n",
            "Downloading executing-2.0.1-py2.py3-none-any.whl (24 kB)\n",
            "Installing collected packages: python-magic, executing, asttokens, devtools\n",
            "Successfully installed asttokens-2.4.1 devtools-0.12.2 executing-2.0.1 python-magic-0.4.27\n"
          ]
        }
      ]
    },
    {
      "cell_type": "code",
      "source": [
        "import getpass\n",
        "import json\n",
        "import time\n",
        "from pathlib import Path\n",
        "\n",
        "import magic\n",
        "import requests\n",
        "from devtools import pprint\n",
        "from tqdm import tqdm"
      ],
      "metadata": {
        "id": "xKMwxlCK5_jG"
      },
      "execution_count": null,
      "outputs": []
    },
    {
      "cell_type": "markdown",
      "source": [
        "## (必須) ユーザー設定\n",
        "\n",
        "APIサブスクリプションキー、APIベースエンドポイント、および後でノートブックで参照されるいくつかのファイルディレクトリ名を設定します。\n",
        "\n",
        "APIサブスクリプションキー\n",
        "\n",
        "APIM（API管理）は、複数の形式の認証とアクセス制御（例えば、管理対象ID）をサポートします。このノートブックのデモでは、サブスクリプションキーを使用します。このキーを見つけるには、Azureポータルにアクセスします。サブスクリプションキーは、<my_resource_group> –>  –>  –>  –>  プライマリキーの下にあります。複数のAPIユーザーに対しては、個別のサブスクリプションキーを生成することができます。"
      ],
      "metadata": {
        "id": "EtHQoD8e6GlF"
      }
    },
    {
      "cell_type": "code",
      "source": [
        "ocp_apim_subscription_key = getpass.getpass(\n",
        "    \"Enter the subscription key to the GraphRag APIM:\"\n",
        ")\n",
        "\n",
        "\"\"\"\n",
        "\"Ocp-Apim-Subscription-Key\":\n",
        "    This is a custom HTTP header used by Azure API Management service (APIM) to\n",
        "    authenticate API requests. The value for this key should be set to the subscription\n",
        "    key provided by the Azure APIM instance in your GraphRAG resource group.\n",
        "\"\"\"\n",
        "headers = {\"Ocp-Apim-Subscription-Key\": ocp_apim_subscription_key}"
      ],
      "metadata": {
        "id": "j1H-d5Ga6JAw"
      },
      "execution_count": null,
      "outputs": []
    },
    {
      "cell_type": "markdown",
      "source": [
        "## ディレクトリとAPIエンドポイントの設定\n",
        "\n",
        "デモンストレーションの目的で、提供されたget-wiki-articles.pyスクリプトを使用して少数のWikipedia記事をダウンロードするか、自分のデータを提供してください（GraphRAGはUTF-8エンコードされたTXTファイルを必要とします）。"
      ],
      "metadata": {
        "id": "r1XMZ7PY6LUp"
      }
    },
    {
      "cell_type": "code",
      "source": [
        "\"\"\"\n",
        "These parameters must be defined by the notebook user:\n",
        "\n",
        "- file_directory: a local directory of text files. The file structure should be flat,\n",
        "                  with no nested directories. (i.e. file_directory/file1.txt, file_directory/file2.txt, etc.)\n",
        "- storage_name:   a unique name to identify a blob storage container in Azure where files\n",
        "                  from `file_directory` will be uploaded.\n",
        "- index_name:     a unique name to identify a single graphrag knowledge graph index.\n",
        "                  Note: Multiple indexes may be created from the same `storage_name` blob storage container.\n",
        "- endpoint:       the base/endpoint URL for the GraphRAG API (this is the Gateway URL found in the APIM resource).\n",
        "\"\"\"\n",
        "\n",
        "file_directory = \"\"\n",
        "storage_name = \"\"\n",
        "index_name = \"\"\n",
        "endpoint = \"\""
      ],
      "metadata": {
        "id": "b6MaA4x-6RcB"
      },
      "execution_count": null,
      "outputs": []
    },
    {
      "cell_type": "code",
      "source": [
        "assert (\n",
        "    file_directory != \"\" and storage_name != \"\" and index_name != \"\" and endpoint != \"\"\n",
        ")"
      ],
      "metadata": {
        "id": "MABXtv8u6UOp"
      },
      "execution_count": null,
      "outputs": []
    },
    {
      "cell_type": "markdown",
      "source": [
        "## ファイルのアップロード\n",
        "\n",
        "GraphRAGでデータをインデックス化する方法をデモンストレーションするために、最初にいくつかのファイルをGraphRAGに取り込む必要があります。"
      ],
      "metadata": {
        "id": "QUHGQQO56WIs"
      }
    },
    {
      "cell_type": "code",
      "source": [
        "def upload_files(\n",
        "    file_directory: str,\n",
        "    storage_name: str,\n",
        "    batch_size: int = 100,\n",
        "    overwrite: bool = True,\n",
        "    max_retries: int = 5,\n",
        ") -> requests.Response | list[Path]:\n",
        "    \"\"\"\n",
        "    Upload files to a blob storage container.\n",
        "\n",
        "    Args:\n",
        "    file_directory - a local directory of .txt files to upload. All files must have utf-8 encoding.\n",
        "    storage_name - a unique name for the Azure storage blob container.\n",
        "    batch_size - the number of files to upload in a single batch.\n",
        "    overwrite - whether or not to overwrite files if they already exist in the storage blob container.\n",
        "    max_retries - the maximum number of times to retry uploading a batch of files if the API is busy.\n",
        "\n",
        "    NOTE: Uploading files may sometimes fail if the blob container was recently deleted\n",
        "    (i.e. a few seconds before. The solution \"in practice\" is to sleep a few seconds and try again.\n",
        "    \"\"\"\n",
        "    url = endpoint + \"/data\"\n",
        "\n",
        "    def upload_batch(\n",
        "        files: list, storage_name: str, overwrite: bool, max_retries: int\n",
        "    ) -> requests.Response:\n",
        "        for _ in range(max_retries):\n",
        "            response = requests.post(\n",
        "                url=url,\n",
        "                files=files,\n",
        "                params={\"storage_name\": storage_name, \"overwrite\": overwrite},\n",
        "                headers=headers,\n",
        "            )\n",
        "            # API may be busy, retry\n",
        "            if response.status_code == 500:\n",
        "                print(\"API busy. Sleeping and will try again.\")\n",
        "                time.sleep(10)\n",
        "                continue\n",
        "            return response\n",
        "        return response\n",
        "\n",
        "    batch_files = []\n",
        "    accepted_file_types = [\"text/plain\"]\n",
        "    filepaths = list(Path(file_directory).iterdir())\n",
        "    for file in tqdm(filepaths):\n",
        "        # validate that file is a file, has acceptable file type, has a .txt extension, and has utf-8 encoding\n",
        "        if (\n",
        "            not file.is_file()\n",
        "            or file.suffix != \".txt\"\n",
        "            or magic.from_file(str(file), mime=True) not in accepted_file_types\n",
        "        ):\n",
        "            print(f\"Skipping invalid file: {file}\")\n",
        "            continue\n",
        "        # open and decode file as utf-8, ignore bad characters\n",
        "        batch_files.append(\n",
        "            (\"files\", open(file=file, mode=\"r\", encoding=\"utf-8\", errors=\"ignore\"))\n",
        "        )\n",
        "        # upload batch of files\n",
        "        if len(batch_files) == batch_size:\n",
        "            response = upload_batch(batch_files, storage_name, overwrite, max_retries)\n",
        "            # if response is not ok, return early\n",
        "            if not response.ok:\n",
        "                return response\n",
        "            batch_files.clear()\n",
        "    # upload remaining files\n",
        "    if len(batch_files) > 0:\n",
        "        response = upload_batch(batch_files, storage_name, overwrite, max_retries)\n",
        "    return response"
      ],
      "metadata": {
        "id": "IG6Doy_F6cI9"
      },
      "execution_count": null,
      "outputs": []
    },
    {
      "cell_type": "code",
      "source": [
        "response = upload_files(\n",
        "    file_directory=file_directory,\n",
        "    storage_name=storage_name,\n",
        "    batch_size=100,\n",
        "    overwrite=True,\n",
        ")\n",
        "if not response.ok:\n",
        "    print(response.text)\n",
        "else:\n",
        "    print(response)"
      ],
      "metadata": {
        "id": "6JSUJd8E6fzi"
      },
      "execution_count": null,
      "outputs": []
    },
    {
      "cell_type": "markdown",
      "source": [
        "## インデックスの構築\n",
        "\n",
        "データファイルがアップロードされた後、検索インデックスを構築してナレッジグラフを作成することができます。"
      ],
      "metadata": {
        "id": "xyl0whUo6iZK"
      }
    },
    {
      "cell_type": "code",
      "source": [
        "def build_index(\n",
        "    storage_name: str,\n",
        "    index_name: str,\n",
        ") -> requests.Response:\n",
        "    \"\"\"Create a search index.\n",
        "    This function kicks off a job that builds a knowledge graph index from files located in a blob storage container.\n",
        "    \"\"\"\n",
        "    url = endpoint + \"/index\"\n",
        "    request = {\"storage_name\": storage_name, \"index_name\": index_name}\n",
        "    return requests.post(url, params=request, headers=headers)"
      ],
      "metadata": {
        "id": "v6KicBX36hlm"
      },
      "execution_count": null,
      "outputs": []
    },
    {
      "cell_type": "code",
      "source": [
        "response = build_index(storage_name=storage_name, index_name=index_name)\n",
        "print(response)\n",
        "if response.ok:\n",
        "    print(response.text)\n",
        "else:\n",
        "    print(f\"Failed to submit job.\\nStatus: {response.text}\")"
      ],
      "metadata": {
        "id": "O5rtWC3M6ouY"
      },
      "execution_count": null,
      "outputs": []
    },
    {
      "cell_type": "markdown",
      "source": [
        "## インデックス作成ジョブのステータス確認\n",
        "\n",
        "インデックスが100％完了するまで、次のセクション（クエリの実行）に進むのを待ってください。ステータスを監視するために、次のセルを複数回再実行することができます。注意：GraphRAGのインデックス作成速度は、使用しているAzure OpenAIモデルのTPMクォータに直接関連しています。"
      ],
      "metadata": {
        "id": "d0jCREjM6rJU"
      }
    },
    {
      "cell_type": "code",
      "source": [
        "def index_status(index_name: str) -> requests.Response:\n",
        "    url = endpoint + f\"/index/status/{index_name}\"\n",
        "    return requests.get(url, headers=headers)\n",
        "\n",
        "\n",
        "response = index_status(index_name)\n",
        "pprint(response.json())"
      ],
      "metadata": {
        "id": "c81PTnZC6qdD"
      },
      "execution_count": null,
      "outputs": []
    },
    {
      "cell_type": "markdown",
      "source": [
        "## クエリ\n",
        "\n",
        "インデックス作成ジョブが完了すると、ナレッジグラフはクエリの準備が整います。現在、2種類のクエリ（グローバルとローカル）がサポートされています。両方のクエリを試して、その応答の違いを体験してください。クエリの応答時間も、使用しているAzure OpenAIモデルのTPMクォータに関連しています。"
      ],
      "metadata": {
        "id": "bThyYRnI6z8y"
      }
    },
    {
      "cell_type": "code",
      "source": [
        "# a helper function to parse out the result from a query response\n",
        "def parse_query_response(\n",
        "    response: requests.Response, return_context_data: bool = False\n",
        ") -> requests.Response | dict[list[dict]]:\n",
        "    \"\"\"\n",
        "    Prints response['result'] value and optionally\n",
        "    returns associated context data.\n",
        "    \"\"\"\n",
        "    if response.ok:\n",
        "        print(json.loads(response.text)[\"result\"])\n",
        "        if return_context_data:\n",
        "            return json.loads(response.text)[\"context_data\"]\n",
        "        return response\n",
        "    else:\n",
        "        print(response.reason)\n",
        "        print(response.content)\n",
        "        return response"
      ],
      "metadata": {
        "id": "DJZCubMw6zbE"
      },
      "execution_count": null,
      "outputs": []
    },
    {
      "cell_type": "markdown",
      "source": [
        "## グローバルクエリ\n",
        "\n",
        "グローバルクエリはリソースを多く消費しますが、データセット全体の理解を必要とする質問に対して良い応答を提供します。"
      ],
      "metadata": {
        "id": "y0G3x8_u67DD"
      }
    },
    {
      "cell_type": "code",
      "source": [
        "%%time\n",
        "\n",
        "\n",
        "def global_search(index_name: str | list[str], query: str) -> requests.Response:\n",
        "    \"\"\"Run a global query over the knowledge graph(s) associated with one or more indexes\"\"\"\n",
        "    url = endpoint + \"/query/global\"\n",
        "    request = {\"index_name\": index_name, \"query\": query}\n",
        "    return requests.post(url, json=request, headers=headers)\n",
        "\n",
        "\n",
        "global_response = global_search(\n",
        "    index_name=index_name, query=\"Summarize the main topics of this data\"\n",
        ")\n",
        "global_response_data = parse_query_response(global_response, return_context_data=True)\n",
        "global_response_data"
      ],
      "metadata": {
        "id": "v7ISFlyb7B-p"
      },
      "execution_count": null,
      "outputs": []
    },
    {
      "cell_type": "markdown",
      "source": [
        "## ローカルクエリ\n",
        "\n",
        "ローカル検索クエリは、ドキュメントに記載されている特定のエンティティに関する理解を必要とする、狭い焦点の質問に最適です（例：カモミールの治癒特性は何ですか？）。"
      ],
      "metadata": {
        "id": "QeEYxoEd7BdJ"
      }
    },
    {
      "cell_type": "code",
      "source": [
        "%%time\n",
        "\n",
        "\n",
        "def local_search(index_name: str | list[str], query: str) -> requests.Response:\n",
        "    \"\"\"Run a local query over the knowledge graph(s) associated with one or more indexes\"\"\"\n",
        "    url = endpoint + \"/query/local\"\n",
        "    request = {\"index_name\": index_name, \"query\": query}\n",
        "    return requests.post(url, json=request, headers=headers)\n",
        "\n",
        "\n",
        "# perform a local query\n",
        "local_response = local_search(\n",
        "    index_name=index_name, query=\"Who are the primary actors in these communities?\"\n",
        ")\n",
        "local_response_data = parse_query_response(local_response, return_context_data=True)\n",
        "local_response_data"
      ],
      "metadata": {
        "id": "6d5-ch_Z7GUb"
      },
      "execution_count": null,
      "outputs": []
    }
  ]
}