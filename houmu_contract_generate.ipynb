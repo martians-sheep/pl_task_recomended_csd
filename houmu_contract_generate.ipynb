{
  "nbformat": 4,
  "nbformat_minor": 0,
  "metadata": {
    "colab": {
      "provenance": [],
      "authorship_tag": "ABX9TyMG41S5B92VkWaiM80iEj2W",
      "include_colab_link": true
    },
    "kernelspec": {
      "name": "python3",
      "display_name": "Python 3"
    },
    "language_info": {
      "name": "python"
    }
  },
  "cells": [
    {
      "cell_type": "markdown",
      "metadata": {
        "id": "view-in-github",
        "colab_type": "text"
      },
      "source": [
        "<a href=\"https://colab.research.google.com/github/martians-sheep/pl_task_recomended_csd/blob/main/houmu_contract_generate.ipynb\" target=\"_parent\"><img src=\"https://colab.research.google.com/assets/colab-badge.svg\" alt=\"Open In Colab\"/></a>"
      ]
    },
    {
      "cell_type": "code",
      "execution_count": 1,
      "metadata": {
        "colab": {
          "base_uri": "https://localhost:8080/"
        },
        "id": "4aFcp8oVv4kN",
        "outputId": "9b5ba3df-6d42-495d-b7bb-bc8e8ba96366"
      },
      "outputs": [
        {
          "output_type": "stream",
          "name": "stdout",
          "text": [
            "Collecting openai\n",
            "  Downloading openai-1.14.3-py3-none-any.whl (262 kB)\n",
            "\u001b[2K     \u001b[90m━━━━━━━━━━━━━━━━━━━━━━━━━━━━━━━━━━━━━━━━\u001b[0m \u001b[32m262.9/262.9 kB\u001b[0m \u001b[31m1.7 MB/s\u001b[0m eta \u001b[36m0:00:00\u001b[0m\n",
            "\u001b[?25hRequirement already satisfied: anyio<5,>=3.5.0 in /usr/local/lib/python3.10/dist-packages (from openai) (3.7.1)\n",
            "Requirement already satisfied: distro<2,>=1.7.0 in /usr/lib/python3/dist-packages (from openai) (1.7.0)\n",
            "Collecting httpx<1,>=0.23.0 (from openai)\n",
            "  Downloading httpx-0.27.0-py3-none-any.whl (75 kB)\n",
            "\u001b[2K     \u001b[90m━━━━━━━━━━━━━━━━━━━━━━━━━━━━━━━━━━━━━━━━\u001b[0m \u001b[32m75.6/75.6 kB\u001b[0m \u001b[31m1.7 MB/s\u001b[0m eta \u001b[36m0:00:00\u001b[0m\n",
            "\u001b[?25hRequirement already satisfied: pydantic<3,>=1.9.0 in /usr/local/lib/python3.10/dist-packages (from openai) (2.6.4)\n",
            "Requirement already satisfied: sniffio in /usr/local/lib/python3.10/dist-packages (from openai) (1.3.1)\n",
            "Requirement already satisfied: tqdm>4 in /usr/local/lib/python3.10/dist-packages (from openai) (4.66.2)\n",
            "Requirement already satisfied: typing-extensions<5,>=4.7 in /usr/local/lib/python3.10/dist-packages (from openai) (4.10.0)\n",
            "Requirement already satisfied: idna>=2.8 in /usr/local/lib/python3.10/dist-packages (from anyio<5,>=3.5.0->openai) (3.6)\n",
            "Requirement already satisfied: exceptiongroup in /usr/local/lib/python3.10/dist-packages (from anyio<5,>=3.5.0->openai) (1.2.0)\n",
            "Requirement already satisfied: certifi in /usr/local/lib/python3.10/dist-packages (from httpx<1,>=0.23.0->openai) (2024.2.2)\n",
            "Collecting httpcore==1.* (from httpx<1,>=0.23.0->openai)\n",
            "  Downloading httpcore-1.0.5-py3-none-any.whl (77 kB)\n",
            "\u001b[2K     \u001b[90m━━━━━━━━━━━━━━━━━━━━━━━━━━━━━━━━━━━━━━━━\u001b[0m \u001b[32m77.9/77.9 kB\u001b[0m \u001b[31m2.2 MB/s\u001b[0m eta \u001b[36m0:00:00\u001b[0m\n",
            "\u001b[?25hCollecting h11<0.15,>=0.13 (from httpcore==1.*->httpx<1,>=0.23.0->openai)\n",
            "  Downloading h11-0.14.0-py3-none-any.whl (58 kB)\n",
            "\u001b[2K     \u001b[90m━━━━━━━━━━━━━━━━━━━━━━━━━━━━━━━━━━━━━━━━\u001b[0m \u001b[32m58.3/58.3 kB\u001b[0m \u001b[31m1.7 MB/s\u001b[0m eta \u001b[36m0:00:00\u001b[0m\n",
            "\u001b[?25hRequirement already satisfied: annotated-types>=0.4.0 in /usr/local/lib/python3.10/dist-packages (from pydantic<3,>=1.9.0->openai) (0.6.0)\n",
            "Requirement already satisfied: pydantic-core==2.16.3 in /usr/local/lib/python3.10/dist-packages (from pydantic<3,>=1.9.0->openai) (2.16.3)\n",
            "Installing collected packages: h11, httpcore, httpx, openai\n",
            "Successfully installed h11-0.14.0 httpcore-1.0.5 httpx-0.27.0 openai-1.14.3\n"
          ]
        }
      ],
      "source": [
        "!pip install openai"
      ]
    },
    {
      "cell_type": "code",
      "source": [
        "# 環境変数の準備 (左端の鍵アイコンでOPENAI_API_KEYを設定)\n",
        "import os\n",
        "from google.colab import userdata\n",
        "os.environ[\"OPENAI_API_KEY\"] = userdata.get(\"OPENAI_API_KEY\")"
      ],
      "metadata": {
        "id": "V-IMw4nuv8_6"
      },
      "execution_count": 2,
      "outputs": []
    },
    {
      "cell_type": "code",
      "source": [
        "from openai import OpenAI\n",
        "\n",
        "# クライアントの準備\n",
        "client = OpenAI()"
      ],
      "metadata": {
        "id": "j1WiovPXv-nk"
      },
      "execution_count": 13,
      "outputs": []
    },
    {
      "cell_type": "code",
      "source": [
        "import json\n",
        "\n",
        "# JSON出力ヘルパーの準備\n",
        "def show_json(obj):\n",
        "    display(json.loads(obj.model_dump_json()))"
      ],
      "metadata": {
        "id": "TAqbuMnUwCdB"
      },
      "execution_count": 3,
      "outputs": []
    },
    {
      "cell_type": "code",
      "source": [
        "contract_types = [\n",
        "    \"ソフトウェア開発委託契約書\",\n",
        "    \"製造委託契約書\",\n",
        "    \"販売代理店契約書\",\n",
        "    \"建設工事請負契約書\",\n",
        "    \"業務提携契約書\",\n",
        "    \"賃貸借契約書\",\n",
        "    \"秘密保持契約書\",\n",
        "    \"株式譲渡契約書\",\n",
        "    \"ライセンス契約書\",\n",
        "    \"個人情報取扱委託契約書\",\n",
        "    \"フランチャイズ契約書\",\n",
        "    \"コンサルティング契約書\",\n",
        "    \"商品売買契約書\",\n",
        "    \"業務委託契約書\",\n",
        "    \"共同研究開発契約書\",\n",
        "    \"マーケティング業務委託契約書\",\n",
        "    \"広告制作委託契約書\",\n",
        "    \"リース契約書\",\n",
        "    \"システム保守契約書\",\n",
        "    \"テナント契約書\",\n",
        "      \"業務提携基本契約書\",\n",
        "    \"コンテンツ制作委託契約書\",\n",
        "    \"スポンサー契約書\",\n",
        "    \"物流業務委託契約書\",\n",
        "    \"人材派遣契約書\",\n",
        "    \"システム開発・運用委託契約書\",\n",
        "    \"出版権設定契約書\",\n",
        "    \"ホテル運営委託契約書\",\n",
        "    \"商標ライセンス契約書\",\n",
        "    \"イベント運営委託契約書\"\n",
        "]\n",
        "\n",
        "main_points = [\n",
        "    [\n",
        "        \"委託業務の内容を明確化し、仕様書を別紙として添付することを推奨\",\n",
        "        \"知的財産権の帰属や瑕疵担保責任について、より詳細な規定が必要\"\n",
        "    ],\n",
        "    [\n",
        "        \"製造物の品質基準や検査方法を具体的に定めることが重要\",\n",
        "        \"納期遅延や製造物の欠陥に対する損害賠償規定を明確化すべき\"\n",
        "    ],\n",
        "    [\n",
        "        \"販売目標や販売地域を明確に設定\",\n",
        "        \"商標の使用条件や販売価格の制限について、詳細な取り決めが必要\"\n",
        "    ],\n",
        "    [\n",
        "        \"工事の詳細な仕様書を添付し、工期や請負代金の支払条件を明確化\",\n",
        "        \"瑕疵担保責任の期間や範囲について、適切な規定が求められる\"\n",
        "    ],\n",
        "    [\n",
        "        \"提携の目的や各当事者の役割分担を明確に規定\",\n",
        "        \"提携によって生じる知的財産権の帰属や秘密保持義務について、詳細な取り決めが必要\"\n",
        "    ],\n",
        "    [\n",
        "        \"賃貸物件の詳細や賃料・敷金などの金額を明確に記載\",\n",
        "        \"賃借人の修繕義務や、契約期間満了時の原状回復義務について、具体的な規定が求められる\"\n",
        "    ],\n",
        "    [\n",
        "        \"秘密情報の定義を明確化し、秘密保持義務の対象や例外事項を詳細に規定\",\n",
        "        \"秘密保持義務の存続期間や、違反時の損害賠償についても明記が必要\"\n",
        "    ],\n",
        "    [\n",
        "        \"譲渡対象株式の数や譲渡価格を明確に記載\",\n",
        "        \"表明保証条項や、譲渡後の競業避止義務など、譲渡に伴う重要事項を漏れなく規定すべき\"\n",
        "    ],\n",
        "    [\n",
        "        \"ライセンスの対象となる知的財産権を特定し、ライセンスの範囲や条件を明確に定める\",\n",
        "        \"ロイヤリティの計算方法や支払条件についても、詳細な規定が求められる\"\n",
        "    ],\n",
        "    [\n",
        "        \"委託業務の内容や、委託先の選定基準を明確化\",\n",
        "        \"個人情報の取扱いに関する安全管理措置や、再委託の制限について、具体的な規定が必要\"\n",
        "    ],  [\n",
        "        \"フランチャイズ・パッケージの内容や、加盟店の営業地域を明確に規定\",\n",
        "        \"ロイヤリティや広告費の負担について、詳細な取り決めが必要\"\n",
        "    ],\n",
        "    [\n",
        "        \"コンサルティングの目的や範囲を明確化し、成果物の帰属や報酬の支払条件を詳細に規定\",\n",
        "        \"守秘義務や競業避止義務についても、適切な規定が求められる\"\n",
        "    ],\n",
        "    [\n",
        "        \"売買対象商品の詳細や数量、価格を明確に記載\",\n",
        "        \"納品時期や検収条件、所有権の移転時期について、具体的な規定が必要\"\n",
        "    ],\n",
        "    [\n",
        "        \"委託業務の内容や、委託先の選定理由を明確化\",\n",
        "        \"成果物の帰属や、委託料の支払条件について、詳細な規定が求められる\"\n",
        "    ],\n",
        "    [\n",
        "        \"研究開発の目的や、各当事者の役割分担を明確に規定\",\n",
        "        \"研究開発の成果物の帰属や、費用負担について、適切な規定が必要\"\n",
        "    ],\n",
        "    [\n",
        "        \"委託業務の内容や、期待される成果を明確化\",\n",
        "        \"報酬の計算方法や支払条件、成果物の帰属について、詳細な規定が求められる\"\n",
        "    ],\n",
        "    [\n",
        "        \"制作物の仕様や納品形式を明確に規定\",\n",
        "        \"著作権の帰属や、制作物の瑕疵に対する責任について、適切な規定が必要\"\n",
        "    ],\n",
        "    [\n",
        "        \"リース物件の詳細や、リース料の金額と支払条件を明確に記載\",\n",
        "        \"リース期間満了時の物件の取扱いや、中途解約時の違約金について、具体的な規定が求められる\"\n",
        "    ],\n",
        "    [\n",
        "        \"保守の対象となるシステムや、保守サービスの内容を明確化\",\n",
        "        \"保守料の金額と支払条件、サービスレベルアグリーメント（SLA）について、詳細な規定が必要\"\n",
        "    ],\n",
        "    [\n",
        "        \"賃貸物件の用途や、賃料・共益費の金額を明確に記載\",\n",
        "        \"契約期間や更新条件、原状回復義務について、具体的な規定が求められる\"\n",
        "    ],    [\n",
        "        \"提携の目的や、提携の範囲を明確に規定\",\n",
        "        \"提携に伴う費用負担や、提携の解消条件について、詳細な取り決めが必要\"\n",
        "    ],\n",
        "    [\n",
        "        \"制作するコンテンツの内容や、納品形式を明確化\",\n",
        "        \"著作権の帰属や、制作物の品質保証について、適切な規定が求められる\"\n",
        "    ],\n",
        "    [\n",
        "        \"スポンサーの権利や、スポンサー料の金額と支払条件を明確に記載\",\n",
        "        \"スポンサーの表示方法や、契約終了後の権利関係について、具体的な規定が必要\"\n",
        "    ],\n",
        "    [\n",
        "        \"委託業務の内容や、荷物の取扱い条件を明確化\",\n",
        "        \"運送事故や荷物の紛失に対する責任について、適切な規定が求められる\"\n",
        "    ],\n",
        "    [\n",
        "        \"派遣する人材の要件や、派遣期間を明確に規定\",\n",
        "        \"派遣料金の計算方法や、派遣元の責任範囲について、詳細な取り決めが必要\"\n",
        "    ],\n",
        "    [\n",
        "        \"委託業務の内容や、システムの仕様を明確化\",\n",
        "        \"開発スケジュールや、運用サービスの内容について、適切な規定が求められる\"\n",
        "    ],\n",
        "    [\n",
        "        \"出版の対象となる著作物や、出版権の範囲を明確に記載\",\n",
        "        \"著作権者の権利や、出版社の義務について、具体的な規定が必要\"\n",
        "    ],\n",
        "    [\n",
        "        \"委託業務の内容や、ホテルの運営基準を明確化\",\n",
        "        \"委託料の計算方法や、契約終了時の引継ぎ条件について、詳細な取り決めが求められる\"\n",
        "    ],\n",
        "    [\n",
        "        \"ライセンスの対象となる商標や、ライセンスの範囲を明確に規定\",\n",
        "        \"ロイヤリティの計算方法や、品質管理の条件について、適切な規定が必要\"\n",
        "    ],\n",
        "    [\n",
        "        \"委託業務の内容や、イベントの規模を明確化\",\n",
        "        \"イベント開催に伴う費用負担や、中止・変更時の対応について、詳細な取り決めが求められる\"\n",
        "    ]\n",
        "]"
      ],
      "metadata": {
        "id": "oirKo_VRwEcB"
      },
      "execution_count": 16,
      "outputs": []
    },
    {
      "cell_type": "code",
      "source": [
        "import datetime"
      ],
      "metadata": {
        "id": "uKr8BEbtwHkn"
      },
      "execution_count": 5,
      "outputs": []
    },
    {
      "cell_type": "code",
      "source": [
        "folder_name = \"sample_houmu_contract\""
      ],
      "metadata": {
        "id": "6WHjz61LwKs8"
      },
      "execution_count": 6,
      "outputs": []
    },
    {
      "cell_type": "code",
      "source": [
        "# フォルダの作成\n",
        "folder_path = f\"./{folder_name}\"\n",
        "if not os.path.exists(folder_path):\n",
        "    os.makedirs(folder_path)\n",
        "    print(f\"Folder created at: {folder_path}\")\n",
        "else:\n",
        "    print(f\"Folder already exists at: {folder_path}\")"
      ],
      "metadata": {
        "colab": {
          "base_uri": "https://localhost:8080/"
        },
        "id": "UisiAbSXwSAs",
        "outputId": "bd19fd0e-c216-4af9-bc42-d3ae8c4cde78"
      },
      "execution_count": 7,
      "outputs": [
        {
          "output_type": "stream",
          "name": "stdout",
          "text": [
            "Folder created at: ./sample_houmu_contract\n"
          ]
        }
      ]
    },
    {
      "cell_type": "code",
      "source": [
        "def generate_prompt(contract_type, main_points):\n",
        "    prompt = f\"\"\"\n",
        "# {contract_type}のレビュー意見書の例\n",
        "\n",
        "{contract_type}を前提に、以下の観点からレビュー意見書の例を作成してください。\n",
        "\n",
        "1. 各条項の法的リスクや不明確な点を指摘し、改善案を提示\n",
        "2. 追加すべき条項や削除すべき条項を具体的に提示\n",
        "3. 契約書の条項と関連する法令や判例との整合性を分析\n",
        "4. 契約の履行に伴う各当事者の権利義務について、明確化すべき点を列挙\n",
        "5. 契約書に添付すべき別紙や仕様書について、その内容と必要性を説明\n",
        "6. 契約書の条項が業界の標準的な取り決めと比較して適切かどうかを検討\n",
        "7. 契約に起因するトラブルを防止するため、具体的な対策を提案\n",
        "8. 契約の終了や解除に関する規定について、適切性と改善点を分析\n",
        "9. レビュー結果を踏まえ、契約書の修正案を条項ごとに提示\n",
        "\n",
        "特に、以下の点に留意してレビュー意見書を作成してください。\n",
        "\"\"\"\n",
        "\n",
        "    for point in main_points:\n",
        "        prompt += f\"- {point}\\n\"\n",
        "\n",
        "    return prompt.strip()"
      ],
      "metadata": {
        "id": "RfQeGtO6whSe"
      },
      "execution_count": 11,
      "outputs": []
    },
    {
      "cell_type": "code",
      "source": [
        "for i in range(len(contract_types)):\n",
        "    contract_type = contract_types[i]\n",
        "    main_point = main_points[i]\n",
        "\n",
        "    prompt = generate_prompt(contract_type, main_point)\n",
        "\n",
        "    messages = [\n",
        "        {\n",
        "            \"role\" : \"user\",\n",
        "            \"content\" : prompt,\n",
        "        }\n",
        "    ]\n",
        "\n",
        "    response = client.chat.completions.create(\n",
        "        model=\"gpt-3.5-turbo\",\n",
        "        messages=messages,\n",
        "        temperature=1,\n",
        "        max_tokens=1000\n",
        "    )\n",
        "\n",
        "         # 現在の日時を取得\n",
        "    now = datetime.datetime.now()\n",
        "\n",
        "    # 日時を文字列に変換し、ファイル名に使用する形式にします（例: '2023-03-27_15-30-00'）\n",
        "    formatted_time = now.strftime('%Y-%m-%d_%H-%M-%S')\n",
        "\n",
        "    # ファイル名に日時とパラメータを含める\n",
        "    filename = f'./{folder_name}/response_{formatted_time}_{contract_types[i]}.txt'\n",
        "\n",
        "    # テキストファイルに結果を書き込む\n",
        "    with open(filename, 'w') as file:\n",
        "        file.write(response.choices[0].message.content)"
      ],
      "metadata": {
        "id": "kbjttUuowUOZ"
      },
      "execution_count": null,
      "outputs": []
    },
    {
      "cell_type": "code",
      "source": [
        "import os\n",
        "import zipfile\n",
        "\n",
        "def zip_directory(directory_path, output_path):\n",
        "    with zipfile.ZipFile(output_path, 'w', zipfile.ZIP_DEFLATED) as zipf:\n",
        "        for root, _, files in os.walk(directory_path):\n",
        "            for file in files:\n",
        "                file_path = os.path.join(root, file)\n",
        "                zipf.write(file_path, os.path.relpath(file_path, directory_path))\n",
        "\n",
        "    print(f\"ディレクトリ {directory_path} が {output_path} にzipファイルとして保存されました。\")\n",
        "\n",
        "# 使用例\n",
        "directory_to_zip = f\"./{folder_name}\"  # zipファイルにするディレクトリのパス\n",
        "output_zip_file = f\"./{folder_name}.zip\"  # 出力するzipファイルのパス\n",
        "\n",
        "zip_directory(directory_to_zip, output_zip_file)"
      ],
      "metadata": {
        "id": "L_QgWv1gwm3m"
      },
      "execution_count": null,
      "outputs": []
    }
  ]
}