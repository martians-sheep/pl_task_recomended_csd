{
  "nbformat": 4,
  "nbformat_minor": 0,
  "metadata": {
    "colab": {
      "provenance": [],
      "mount_file_id": "1dxCikvFBg1uF9LOcWPnu0ssEwiKn6kPM",
      "authorship_tag": "ABX9TyP8swGQ1QOLt75N2UousRJI",
      "include_colab_link": true
    },
    "kernelspec": {
      "name": "python3",
      "display_name": "Python 3"
    },
    "language_info": {
      "name": "python"
    }
  },
  "cells": [
    {
      "cell_type": "markdown",
      "metadata": {
        "id": "view-in-github",
        "colab_type": "text"
      },
      "source": [
        "<a href=\"https://colab.research.google.com/github/martians-sheep/pl_task_recomended_csd/blob/main/embedding_text_files.ipynb\" target=\"_parent\"><img src=\"https://colab.research.google.com/assets/colab-badge.svg\" alt=\"Open In Colab\"/></a>"
      ]
    },
    {
      "cell_type": "markdown",
      "source": [
        "# テキストファイルをEmbeddingするプログラム"
      ],
      "metadata": {
        "id": "3bLpBYu2HiZE"
      }
    },
    {
      "cell_type": "code",
      "execution_count": null,
      "metadata": {
        "id": "rz7BkCkUHb2Z"
      },
      "outputs": [],
      "source": [
        "# テキストをハッシュ(SHA-3)にする関数\n",
        "import hashlib\n",
        "def hash_text_sha3(text):\n",
        "  h = hashlib.sha3_256()\n",
        "  h.update(text.encode('utf-8'))\n",
        "  return h.hexdigest()"
      ]
    },
    {
      "cell_type": "code",
      "source": [
        "# ハッシュの実行テスト\n",
        "hashed = hash_text_sha3(\"hello,world!\")\n",
        "print(f\"hashed : {hashed}\")"
      ],
      "metadata": {
        "id": "TX_EzjwqJPTV"
      },
      "execution_count": null,
      "outputs": []
    },
    {
      "cell_type": "markdown",
      "source": [
        "## 形態素解析する関数"
      ],
      "metadata": {
        "id": "xuXyd5ZzMbXc"
      }
    },
    {
      "cell_type": "code",
      "source": [
        "# パッケージのインストール\n",
        "!pip install sudachipy sudachidict_core"
      ],
      "metadata": {
        "colab": {
          "base_uri": "https://localhost:8080/"
        },
        "id": "53bK3lf0MXvd",
        "outputId": "97b0c915-40aa-441c-e138-0322a1d55e60"
      },
      "execution_count": null,
      "outputs": [
        {
          "output_type": "stream",
          "name": "stdout",
          "text": [
            "Collecting sudachipy\n",
            "  Downloading SudachiPy-0.6.8-cp310-cp310-manylinux_2_17_x86_64.manylinux2014_x86_64.whl (2.6 MB)\n",
            "\u001b[2K     \u001b[90m━━━━━━━━━━━━━━━━━━━━━━━━━━━━━━━━━━━━━━━━\u001b[0m \u001b[32m2.6/2.6 MB\u001b[0m \u001b[31m10.3 MB/s\u001b[0m eta \u001b[36m0:00:00\u001b[0m\n",
            "\u001b[?25hCollecting sudachidict_core\n",
            "  Downloading SudachiDict_core-20240109-py3-none-any.whl (71.8 MB)\n",
            "\u001b[2K     \u001b[90m━━━━━━━━━━━━━━━━━━━━━━━━━━━━━━━━━━━━━━━━\u001b[0m \u001b[32m71.8/71.8 MB\u001b[0m \u001b[31m7.1 MB/s\u001b[0m eta \u001b[36m0:00:00\u001b[0m\n",
            "\u001b[?25hInstalling collected packages: sudachipy, sudachidict_core\n",
            "Successfully installed sudachidict_core-20240109 sudachipy-0.6.8\n"
          ]
        }
      ]
    },
    {
      "cell_type": "code",
      "source": [
        "# テキストを形態素解析する関数\n",
        "import sudachipy\n",
        "from sudachipy import tokenizer\n",
        "from sudachipy import dictionary\n",
        "\n",
        "# Sudachiの辞書を読み込む\n",
        "tokenizer_obj = dictionary.Dictionary().create()\n",
        "\n",
        "def tokenize(text):\n",
        "    # 形態素解析を実行\n",
        "    mode = tokenizer.Tokenizer.SplitMode.C\n",
        "    tokens = tokenizer_obj.tokenize(text, mode)\n",
        "\n",
        "    result = []\n",
        "    for token in tokens:\n",
        "        # 品詞情報を取得\n",
        "        part_of_speech = token.part_of_speech()\n",
        "\n",
        "        # 名詞、動詞、形容詞、または固有名詞の場合にトークンを追加\n",
        "        if (part_of_speech[0] in ['名詞', '動詞', '形容詞'] or\n",
        "            (part_of_speech[0] == '名詞' and part_of_speech[1] == '固有名詞')):\n",
        "            result.append(token.surface())\n",
        "\n",
        "    return result"
      ],
      "metadata": {
        "id": "ZlZFDaqJL-g3"
      },
      "execution_count": null,
      "outputs": []
    },
    {
      "cell_type": "code",
      "source": [
        "# 形態素解析の関数の実行テスト\n",
        "text = \"LLMにおいて増分学習と転移学習はどのように違っていてどう有用なのか、私は知りたいです。\"\n",
        "token = tokenize(text)\n",
        "print(token)"
      ],
      "metadata": {
        "colab": {
          "base_uri": "https://localhost:8080/"
        },
        "id": "aAA3Lo7XMEji",
        "outputId": "4a61e626-67e3-428a-af61-dbac112d264d"
      },
      "execution_count": null,
      "outputs": [
        {
          "output_type": "stream",
          "name": "stdout",
          "text": [
            "['LLM', 'おい', '増分', '学習', '転移', '学習', '違っ', 'い', '有用', '知り']\n"
          ]
        }
      ]
    },
    {
      "cell_type": "code",
      "source": [
        "# トークナイザー\n",
        "!pip install tiktoken"
      ],
      "metadata": {
        "colab": {
          "base_uri": "https://localhost:8080/"
        },
        "id": "9O9h5MC0S1Em",
        "outputId": "e3d98eea-3adc-410f-fcad-f40091c252b9"
      },
      "execution_count": null,
      "outputs": [
        {
          "output_type": "stream",
          "name": "stdout",
          "text": [
            "Collecting tiktoken\n",
            "  Downloading tiktoken-0.6.0-cp310-cp310-manylinux_2_17_x86_64.manylinux2014_x86_64.whl (1.8 MB)\n",
            "\u001b[2K     \u001b[90m━━━━━━━━━━━━━━━━━━━━━━━━━━━━━━━━━━━━━━━━\u001b[0m \u001b[32m1.8/1.8 MB\u001b[0m \u001b[31m18.8 MB/s\u001b[0m eta \u001b[36m0:00:00\u001b[0m\n",
            "\u001b[?25hRequirement already satisfied: regex>=2022.1.18 in /usr/local/lib/python3.10/dist-packages (from tiktoken) (2023.12.25)\n",
            "Requirement already satisfied: requests>=2.26.0 in /usr/local/lib/python3.10/dist-packages (from tiktoken) (2.31.0)\n",
            "Requirement already satisfied: charset-normalizer<4,>=2 in /usr/local/lib/python3.10/dist-packages (from requests>=2.26.0->tiktoken) (3.3.2)\n",
            "Requirement already satisfied: idna<4,>=2.5 in /usr/local/lib/python3.10/dist-packages (from requests>=2.26.0->tiktoken) (3.6)\n",
            "Requirement already satisfied: urllib3<3,>=1.21.1 in /usr/local/lib/python3.10/dist-packages (from requests>=2.26.0->tiktoken) (2.0.7)\n",
            "Requirement already satisfied: certifi>=2017.4.17 in /usr/local/lib/python3.10/dist-packages (from requests>=2.26.0->tiktoken) (2024.2.2)\n",
            "Installing collected packages: tiktoken\n",
            "Successfully installed tiktoken-0.6.0\n"
          ]
        }
      ]
    },
    {
      "cell_type": "code",
      "source": [
        "import tiktoken\n",
        "\n",
        "def get_tokens(text):\n",
        "  # エンコーディングの取得\n",
        "  enc = tiktoken.get_encoding(\"cl100k_base\")\n",
        "  # エンコードの実行\n",
        "  tokens = enc.encode(text)\n",
        "  return tokens"
      ],
      "metadata": {
        "id": "n7aINH_rS6bK"
      },
      "execution_count": null,
      "outputs": []
    },
    {
      "cell_type": "code",
      "source": [
        "tokens = get_tokens(\"こんにちは、世界！\")\n",
        "print(len(tokens))"
      ],
      "metadata": {
        "colab": {
          "base_uri": "https://localhost:8080/"
        },
        "id": "emwG61QhS9f3",
        "outputId": "e8327b7e-28ce-4eb5-95eb-de22762f68c3"
      },
      "execution_count": null,
      "outputs": [
        {
          "output_type": "stream",
          "name": "stdout",
          "text": [
            "6\n"
          ]
        }
      ]
    },
    {
      "cell_type": "code",
      "source": [],
      "metadata": {
        "id": "rAA9KdLMTD7J"
      },
      "execution_count": null,
      "outputs": []
    },
    {
      "cell_type": "markdown",
      "source": [
        "# ファイルを読み込んですべてのファイルパスを返す関数"
      ],
      "metadata": {
        "id": "dhD89nvuO1ts"
      }
    },
    {
      "cell_type": "code",
      "source": [
        "from google.colab import drive\n",
        "import os\n",
        "\n",
        "# Google Driveをマウントする\n",
        "drive.mount('/content/drive')\n",
        "\n",
        "# 起点となるフォルダのパスを指定する\n",
        "base_folder = '/content/drive/MyDrive/PL自動割り当て用プロトデータ'\n",
        "\n",
        "def get_file_paths(folder_path):\n",
        "    file_paths = []\n",
        "    for root, dirs, files in os.walk(folder_path):\n",
        "        for file in files:\n",
        "            if file.endswith('.txt'):  # テキストファイルのみ処理する\n",
        "                file_path = os.path.join(root, file)\n",
        "                file_paths.append(file_path)\n",
        "    return file_paths\n",
        "\n",
        "# 起点となるフォルダ内のテキストファイルのパスを取得する\n",
        "file_paths = get_file_paths(base_folder)\n",
        "\n",
        "# ファイルパスを表示する\n",
        "print(len(file_paths))\n",
        "#for path in file_paths:\n",
        "#    print(path)"
      ],
      "metadata": {
        "colab": {
          "base_uri": "https://localhost:8080/"
        },
        "id": "3PjKVPC7MxT3",
        "outputId": "434e8a36-47ab-4c45-8380-8c1f243e4364"
      },
      "execution_count": 4,
      "outputs": [
        {
          "output_type": "stream",
          "name": "stdout",
          "text": [
            "Drive already mounted at /content/drive; to attempt to forcibly remount, call drive.mount(\"/content/drive\", force_remount=True).\n",
            "548\n"
          ]
        }
      ]
    },
    {
      "cell_type": "markdown",
      "source": [
        "# ファイルパスからトークンサイズを確認する"
      ],
      "metadata": {
        "id": "X68yA8fyRDjC"
      }
    },
    {
      "cell_type": "code",
      "source": [
        "from typing import List\n",
        "\n",
        "def read_text_files(file_paths: List[str]) -> List[str]:\n",
        "    texts = []\n",
        "    for file_path in file_paths:\n",
        "        with open(file_path, 'r', encoding='utf-8') as file:\n",
        "            text = file.read()\n",
        "            texts.append(text)\n",
        "    return texts"
      ],
      "metadata": {
        "id": "BZ6o-YqTRH4D"
      },
      "execution_count": null,
      "outputs": []
    },
    {
      "cell_type": "code",
      "source": [
        "new_array = [file_paths[0]]\n",
        "print(new_array)\n",
        "texts = read_text_files(new_array)"
      ],
      "metadata": {
        "colab": {
          "base_uri": "https://localhost:8080/"
        },
        "id": "7LWqJtbuU6ix",
        "outputId": "c0e79443-f159-4ba3-9c6d-5e9d9afbac22"
      },
      "execution_count": null,
      "outputs": [
        {
          "output_type": "stream",
          "name": "stdout",
          "text": [
            "['/content/drive/MyDrive/PL自動割り当て用プロトデータ/sample_houmu_agm/response_2024-03-28_07-28-23_1.txt']\n"
          ]
        }
      ]
    },
    {
      "cell_type": "markdown",
      "source": [
        "# テキストのトークンの数を確認する"
      ],
      "metadata": {
        "id": "FwzaNAnZWkvs"
      }
    },
    {
      "cell_type": "code",
      "source": [
        "# ファイルパスからテキストを取得する\n",
        "def get_file_content(file_path):\n",
        "    try:\n",
        "        with open(file_path, 'r') as file:\n",
        "            content = file.read()\n",
        "            return content\n",
        "    except IOError:\n",
        "        print(f\"ファイル {file_path} の読み込み中にエラーが発生しました。\")\n",
        "        return None"
      ],
      "metadata": {
        "id": "7d0E_NDHWpJd"
      },
      "execution_count": null,
      "outputs": []
    },
    {
      "cell_type": "code",
      "source": [
        "content = get_file_content(file_paths[0])\n",
        "tokens = get_tokens(content)\n",
        "print(len(tokens))"
      ],
      "metadata": {
        "colab": {
          "base_uri": "https://localhost:8080/"
        },
        "id": "cskUcLL4XApM",
        "outputId": "23a6f469-48c7-4a3c-98c2-2fc03d714620"
      },
      "execution_count": null,
      "outputs": [
        {
          "output_type": "stream",
          "name": "stdout",
          "text": [
            "732\n"
          ]
        }
      ]
    },
    {
      "cell_type": "code",
      "source": [
        "# ファイルパスのリストをトークン数制限に基づいてグループ化する関数\n",
        "def split_files_by_token_count(file_paths, max_tokens=8000):\n",
        "    file_path_groups = []\n",
        "    current_group = []\n",
        "    current_token_count = 0\n",
        "\n",
        "    for file_path in file_paths:\n",
        "        with open(file_path, 'r', encoding='utf-8') as file:\n",
        "            text = file.read()\n",
        "            token_count = len(get_tokens(text))\n",
        "\n",
        "            if current_token_count + token_count <= max_tokens:\n",
        "                current_group.append(file_path)\n",
        "                current_token_count += token_count\n",
        "            else:\n",
        "                file_path_groups.append(current_group)\n",
        "                current_group = [file_path]\n",
        "                current_token_count = token_count\n",
        "\n",
        "    if current_group:\n",
        "        file_path_groups.append(current_group)\n",
        "\n",
        "    return file_path_groups"
      ],
      "metadata": {
        "id": "Gfc5t3UlZZZZ"
      },
      "execution_count": null,
      "outputs": []
    },
    {
      "cell_type": "code",
      "source": [
        "file_path_groups = split_files_by_token_count(file_paths)\n",
        "\n",
        "print(file_path_groups);"
      ],
      "metadata": {
        "colab": {
          "base_uri": "https://localhost:8080/"
        },
        "id": "ztzBMPWDZzdI",
        "outputId": "0f80aa69-f8fb-424c-f756-d5662e089ad3"
      },
      "execution_count": null,
      "outputs": [
        {
          "output_type": "stream",
          "name": "stdout",
          "text": [
            "[['/content/drive/MyDrive/PL自動割り当て用プロトデータ/sample_houmu_agm/response_2024-03-28_07-28-23_1.txt', '/content/drive/MyDrive/PL自動割り当て用プロトデータ/sample_houmu_agm/response_2024-03-28_07-29-21_1.txt', '/content/drive/MyDrive/PL自動割り当て用プロトデータ/sample_houmu_agm/response_2024-03-28_07-29-35_2.txt', '/content/drive/MyDrive/PL自動割り当て用プロトデータ/sample_houmu_agm/response_2024-03-28_07-29-47_3.txt', '/content/drive/MyDrive/PL自動割り当て用プロトデータ/sample_houmu_agm/response_2024-03-28_07-30-16_4.txt', '/content/drive/MyDrive/PL自動割り当て用プロトデータ/sample_houmu_agm/response_2024-03-28_07-30-28_5.txt', '/content/drive/MyDrive/PL自動割り当て用プロトデータ/sample_houmu_agm/response_2024-03-28_07-30-44_6.txt', '/content/drive/MyDrive/PL自動割り当て用プロトデータ/sample_houmu_agm/response_2024-03-28_07-31-01_7.txt', '/content/drive/MyDrive/PL自動割り当て用プロトデータ/sample_houmu_agm/response_2024-03-28_07-31-18_8.txt', '/content/drive/MyDrive/PL自動割り当て用プロトデータ/sample_houmu_agm/response_2024-03-28_07-31-38_9.txt', '/content/drive/MyDrive/PL自動割り当て用プロトデータ/sample_houmu_agm/response_2024-03-28_07-31-48_10.txt', '/content/drive/MyDrive/PL自動割り当て用プロトデータ/sample_houmu_agm/response_2024-03-28_07-31-56_11.txt'], ['/content/drive/MyDrive/PL自動割り当て用プロトデータ/sample_houmu_agm/response_2024-03-28_07-32-15_12.txt', '/content/drive/MyDrive/PL自動割り当て用プロトデータ/sample_houmu_agm/response_2024-03-28_07-32-27_13.txt', '/content/drive/MyDrive/PL自動割り当て用プロトデータ/sample_houmu_agm/response_2024-03-28_07-32-42_14.txt', '/content/drive/MyDrive/PL自動割り当て用プロトデータ/sample_houmu_agm/response_2024-03-28_07-33-03_15.txt', '/content/drive/MyDrive/PL自動割り当て用プロトデータ/sample_houmu_agm/response_2024-03-28_07-33-15_16.txt', '/content/drive/MyDrive/PL自動割り当て用プロトデータ/sample_houmu_agm/response_2024-03-28_07-33-28_17.txt', '/content/drive/MyDrive/PL自動割り当て用プロトデータ/sample_houmu_agm/response_2024-03-28_07-33-41_18.txt', '/content/drive/MyDrive/PL自動割り当て用プロトデータ/sample_houmu_agm/response_2024-03-28_07-33-59_19.txt', '/content/drive/MyDrive/PL自動割り当て用プロトデータ/sample_houmu_agm/response_2024-03-28_07-34-14_20.txt', '/content/drive/MyDrive/PL自動割り当て用プロトデータ/sample_houmu_agm/response_2024-03-28_07-34-28_21.txt'], ['/content/drive/MyDrive/PL自動割り当て用プロトデータ/sample_houmu_agm/response_2024-03-28_07-34-43_22.txt', '/content/drive/MyDrive/PL自動割り当て用プロトデータ/sample_houmu_agm/response_2024-03-28_07-34-59_23.txt', '/content/drive/MyDrive/PL自動割り当て用プロトデータ/sample_houmu_agm/response_2024-03-28_07-35-09_24.txt', '/content/drive/MyDrive/PL自動割り当て用プロトデータ/sample_houmu_agm/response_2024-03-28_07-35-22_25.txt', '/content/drive/MyDrive/PL自動割り当て用プロトデータ/sample_houmu_agm/response_2024-03-28_07-35-48_26.txt', '/content/drive/MyDrive/PL自動割り当て用プロトデータ/sample_houmu_agm/response_2024-03-28_07-35-57_27.txt', '/content/drive/MyDrive/PL自動割り当て用プロトデータ/sample_houmu_agm/response_2024-03-28_07-36-16_28.txt', '/content/drive/MyDrive/PL自動割り当て用プロトデータ/sample_houmu_agm/response_2024-03-28_07-36-31_29.txt', '/content/drive/MyDrive/PL自動割り当て用プロトデータ/sample_houmu_agm/response_2024-03-28_07-36-41_30.txt', '/content/drive/MyDrive/PL自動割り当て用プロトデータ/sample_houmu_contract/response_2024-03-28_06-43-34_ソフトウェア開発委託契約書.txt'], ['/content/drive/MyDrive/PL自動割り当て用プロトデータ/sample_houmu_contract/response_2024-03-28_06-44-01_製造委託契約書.txt', '/content/drive/MyDrive/PL自動割り当て用プロトデータ/sample_houmu_contract/response_2024-03-28_06-44-24_販売代理店契約書.txt', '/content/drive/MyDrive/PL自動割り当て用プロトデータ/sample_houmu_contract/response_2024-03-28_06-44-37_建設工事請負契約書.txt', '/content/drive/MyDrive/PL自動割り当て用プロトデータ/sample_houmu_contract/response_2024-03-28_06-44-58_業務提携契約書.txt', '/content/drive/MyDrive/PL自動割り当て用プロトデータ/sample_houmu_contract/response_2024-03-28_06-45-27_賃貸借契約書.txt', '/content/drive/MyDrive/PL自動割り当て用プロトデータ/sample_houmu_contract/response_2024-03-28_06-45-43_秘密保持契約書.txt', '/content/drive/MyDrive/PL自動割り当て用プロトデータ/sample_houmu_contract/response_2024-03-28_06-46-03_株式譲渡契約書.txt', '/content/drive/MyDrive/PL自動割り当て用プロトデータ/sample_houmu_contract/response_2024-03-28_06-46-21_ライセンス契約書.txt'], ['/content/drive/MyDrive/PL自動割り当て用プロトデータ/sample_houmu_contract/response_2024-03-28_06-46-34_個人情報取扱委託契約書.txt', '/content/drive/MyDrive/PL自動割り当て用プロトデータ/sample_houmu_contract/response_2024-03-28_06-46-53_フランチャイズ契約書.txt', '/content/drive/MyDrive/PL自動割り当て用プロトデータ/sample_houmu_contract/response_2024-03-28_06-47-11_コンサルティング契約書.txt', '/content/drive/MyDrive/PL自動割り当て用プロトデータ/sample_houmu_contract/response_2024-03-28_06-47-33_商品売買契約書.txt', '/content/drive/MyDrive/PL自動割り当て用プロトデータ/sample_houmu_contract/response_2024-03-28_06-47-50_業務委託契約書.txt', '/content/drive/MyDrive/PL自動割り当て用プロトデータ/sample_houmu_contract/response_2024-03-28_06-48-15_共同研究開発契約書.txt', '/content/drive/MyDrive/PL自動割り当て用プロトデータ/sample_houmu_contract/response_2024-03-28_06-48-33_マーケティング業務委託契約書.txt', '/content/drive/MyDrive/PL自動割り当て用プロトデータ/sample_houmu_contract/response_2024-03-28_06-48-50_広告制作委託契約書.txt'], ['/content/drive/MyDrive/PL自動割り当て用プロトデータ/sample_houmu_contract/response_2024-03-28_06-49-08_リース契約書.txt', '/content/drive/MyDrive/PL自動割り当て用プロトデータ/sample_houmu_contract/response_2024-03-28_06-49-31_システム保守契約書.txt', '/content/drive/MyDrive/PL自動割り当て用プロトデータ/sample_houmu_contract/response_2024-03-28_06-49-42_テナント契約書.txt', '/content/drive/MyDrive/PL自動割り当て用プロトデータ/sample_houmu_contract/response_2024-03-28_06-50-10_業務提携基本契約書.txt', '/content/drive/MyDrive/PL自動割り当て用プロトデータ/sample_houmu_contract/response_2024-03-28_06-50-22_コンテンツ制作委託契約書.txt', '/content/drive/MyDrive/PL自動割り当て用プロトデータ/sample_houmu_contract/response_2024-03-28_06-50-39_スポンサー契約書.txt', '/content/drive/MyDrive/PL自動割り当て用プロトデータ/sample_houmu_contract/response_2024-03-28_06-50-51_物流業務委託契約書.txt', '/content/drive/MyDrive/PL自動割り当て用プロトデータ/sample_houmu_contract/response_2024-03-28_06-51-07_人材派遣契約書.txt'], ['/content/drive/MyDrive/PL自動割り当て用プロトデータ/sample_houmu_contract/response_2024-03-28_06-51-22_システム開発・運用委託契約書.txt', '/content/drive/MyDrive/PL自動割り当て用プロトデータ/sample_houmu_contract/response_2024-03-28_06-51-42_出版権設定契約書.txt', '/content/drive/MyDrive/PL自動割り当て用プロトデータ/sample_houmu_contract/response_2024-03-28_06-52-08_ホテル運営委託契約書.txt', '/content/drive/MyDrive/PL自動割り当て用プロトデータ/sample_houmu_contract/response_2024-03-28_06-52-27_商標ライセンス契約書.txt', '/content/drive/MyDrive/PL自動割り当て用プロトデータ/sample_houmu_contract/response_2024-03-28_06-52-46_イベント運営委託契約書.txt', '/content/drive/MyDrive/PL自動割り当て用プロトデータ/sample_houmu_syohyo_tokkyo/response_2024-03-28_07-58-03_商標の識別力.txt', '/content/drive/MyDrive/PL自動割り当て用プロトデータ/sample_houmu_syohyo_tokkyo/response_2024-03-28_07-58-12_商標の類似性.txt', '/content/drive/MyDrive/PL自動割り当て用プロトデータ/sample_houmu_syohyo_tokkyo/response_2024-03-28_07-58-19_商標の使用の事実.txt', '/content/drive/MyDrive/PL自動割り当て用プロトデータ/sample_houmu_syohyo_tokkyo/response_2024-03-28_07-58-29_商標の周知性.txt', '/content/drive/MyDrive/PL自動割り当て用プロトデータ/sample_houmu_syohyo_tokkyo/response_2024-03-28_07-58-36_商標登録の無効事由.txt', '/content/drive/MyDrive/PL自動割り当て用プロトデータ/sample_houmu_syohyo_tokkyo/response_2024-03-28_07-58-44_特許の新規性.txt'], ['/content/drive/MyDrive/PL自動割り当て用プロトデータ/sample_houmu_syohyo_tokkyo/response_2024-03-28_07-58-52_特許の進歩性.txt', '/content/drive/MyDrive/PL自動割り当て用プロトデータ/sample_houmu_syohyo_tokkyo/response_2024-03-28_07-59-00_特許の記載要件.txt', '/content/drive/MyDrive/PL自動割り当て用プロトデータ/sample_houmu_syohyo_tokkyo/response_2024-03-28_07-59-17_特許の用途限定.txt', '/content/drive/MyDrive/PL自動割り当て用プロトデータ/sample_houmu_syohyo_tokkyo/response_2024-03-28_07-59-29_特許権の効力.txt', '/content/drive/MyDrive/PL自動割り当て用プロトデータ/sample_IT_incident/response_2024-03-28_08-31-39.txt', '/content/drive/MyDrive/PL自動割り当て用プロトデータ/sample_IT_incident/response_2024-03-28_08-31-57.txt', '/content/drive/MyDrive/PL自動割り当て用プロトデータ/sample_IT_incident/response_2024-03-28_08-32-20.txt', '/content/drive/MyDrive/PL自動割り当て用プロトデータ/sample_IT_incident/response_2024-03-28_08-32-34.txt', '/content/drive/MyDrive/PL自動割り当て用プロトデータ/sample_IT_incident/response_2024-03-28_08-32-49.txt', '/content/drive/MyDrive/PL自動割り当て用プロトデータ/sample_IT_incident/response_2024-03-28_08-33-05.txt', '/content/drive/MyDrive/PL自動割り当て用プロトデータ/sample_IT_incident/response_2024-03-28_08-33-16.txt', '/content/drive/MyDrive/PL自動割り当て用プロトデータ/sample_IT_incident/response_2024-03-28_08-33-24.txt'], ['/content/drive/MyDrive/PL自動割り当て用プロトデータ/sample_IT_incident/response_2024-03-28_08-33-35.txt', '/content/drive/MyDrive/PL自動割り当て用プロトデータ/sample_IT_incident/response_2024-03-28_08-33-47.txt', '/content/drive/MyDrive/PL自動割り当て用プロトデータ/sample_IT_incident/response_2024-03-28_08-34-01.txt', '/content/drive/MyDrive/PL自動割り当て用プロトデータ/sample_IT_incident/response_2024-03-28_08-34-17.txt', '/content/drive/MyDrive/PL自動割り当て用プロトデータ/sample_IT_incident/response_2024-03-28_08-34-29.txt', '/content/drive/MyDrive/PL自動割り当て用プロトデータ/sample_IT_incident/response_2024-03-28_08-34-43.txt', '/content/drive/MyDrive/PL自動割り当て用プロトデータ/sample_IT_incident/response_2024-03-28_08-35-00.txt', '/content/drive/MyDrive/PL自動割り当て用プロトデータ/sample_IT_incident/response_2024-03-28_08-35-18.txt', '/content/drive/MyDrive/PL自動割り当て用プロトデータ/sample_IT_incident/response_2024-03-28_08-35-32.txt', '/content/drive/MyDrive/PL自動割り当て用プロトデータ/sample_IT_incident/response_2024-03-28_08-35-47.txt', '/content/drive/MyDrive/PL自動割り当て用プロトデータ/sample_IT_incident/response_2024-03-28_08-36-09.txt'], ['/content/drive/MyDrive/PL自動割り当て用プロトデータ/sample_IT_incident/response_2024-03-28_08-36-23.txt', '/content/drive/MyDrive/PL自動割り当て用プロトデータ/sample_IT_incident/response_2024-03-28_08-36-47.txt', '/content/drive/MyDrive/PL自動割り当て用プロトデータ/sample_IT_incident/response_2024-03-28_08-36-56.txt', '/content/drive/MyDrive/PL自動割り当て用プロトデータ/sample_IT_incident/response_2024-03-28_08-37-10.txt', '/content/drive/MyDrive/PL自動割り当て用プロトデータ/sample_IT_incident/response_2024-03-28_08-37-27.txt', '/content/drive/MyDrive/PL自動割り当て用プロトデータ/sample_IT_incident/response_2024-03-28_08-37-44.txt', '/content/drive/MyDrive/PL自動割り当て用プロトデータ/sample_IT_incident/response_2024-03-28_08-37-57.txt', '/content/drive/MyDrive/PL自動割り当て用プロトデータ/sample_IT_incident/response_2024-03-28_08-38-15.txt', '/content/drive/MyDrive/PL自動割り当て用プロトデータ/sample_IT_incident/response_2024-03-28_08-38-28.txt', '/content/drive/MyDrive/PL自動割り当て用プロトデータ/sample_IT_incident/response_2024-03-28_08-38-41.txt'], ['/content/drive/MyDrive/PL自動割り当て用プロトデータ/sample_IT_incident/response_2024-03-28_08-38-58.txt', '/content/drive/MyDrive/PL自動割り当て用プロトデータ/sample_IT_incident/response_2024-03-28_08-39-18.txt', '/content/drive/MyDrive/PL自動割り当て用プロトデータ/sample_IT_incident/response_2024-03-28_08-39-42.txt', '/content/drive/MyDrive/PL自動割り当て用プロトデータ/sample_IT_incident/response_2024-03-28_08-39-51.txt', '/content/drive/MyDrive/PL自動割り当て用プロトデータ/sample_IT_incident/response_2024-03-28_08-40-08.txt', '/content/drive/MyDrive/PL自動割り当て用プロトデータ/sample_IT_incident/response_2024-03-28_08-40-31.txt', '/content/drive/MyDrive/PL自動割り当て用プロトデータ/sample_IT_incident/response_2024-03-28_08-40-47.txt', '/content/drive/MyDrive/PL自動割り当て用プロトデータ/sample_IT_incident/response_2024-03-28_08-40-55.txt', '/content/drive/MyDrive/PL自動割り当て用プロトデータ/sample_IT_incident/response_2024-03-28_08-41-04.txt', '/content/drive/MyDrive/PL自動割り当て用プロトデータ/sample_IT_incident/response_2024-03-28_08-41-17.txt'], ['/content/drive/MyDrive/PL自動割り当て用プロトデータ/sample_IT_incident/response_2024-03-28_08-41-35.txt', '/content/drive/MyDrive/PL自動割り当て用プロトデータ/sample_IT_incident/response_2024-03-28_08-41-48.txt', '/content/drive/MyDrive/PL自動割り当て用プロトデータ/sample_IT_incident/response_2024-03-28_08-41-59.txt', '/content/drive/MyDrive/PL自動割り当て用プロトデータ/sample_IT_incident/response_2024-03-28_08-42-14.txt', '/content/drive/MyDrive/PL自動割り当て用プロトデータ/sample_IT_incident/response_2024-03-28_08-42-28.txt', '/content/drive/MyDrive/PL自動割り当て用プロトデータ/sample_IT_incident/response_2024-03-28_08-42-42.txt', '/content/drive/MyDrive/PL自動割り当て用プロトデータ/sample_IT_incident/response_2024-03-28_08-43-00.txt', '/content/drive/MyDrive/PL自動割り当て用プロトデータ/sample_IT_incident/response_2024-03-28_08-43-12.txt', '/content/drive/MyDrive/PL自動割り当て用プロトデータ/sample_IT_incident/response_2024-03-28_08-43-27.txt', '/content/drive/MyDrive/PL自動割り当て用プロトデータ/sample_IT_incident/response_2024-03-28_08-43-39.txt', '/content/drive/MyDrive/PL自動割り当て用プロトデータ/sample_IT_incident/response_2024-03-28_08-43-50.txt'], ['/content/drive/MyDrive/PL自動割り当て用プロトデータ/sample_IT_incident/response_2024-03-28_08-44-05.txt', '/content/drive/MyDrive/PL自動割り当て用プロトデータ/sample_IT_incident/response_2024-03-28_08-44-18.txt', '/content/drive/MyDrive/PL自動割り当て用プロトデータ/sample_IT_incident/response_2024-03-28_08-44-30.txt', '/content/drive/MyDrive/PL自動割り当て用プロトデータ/sample_IT_incident/response_2024-03-28_08-44-53.txt', '/content/drive/MyDrive/PL自動割り当て用プロトデータ/sample_IT_incident/response_2024-03-28_08-45-09.txt', '/content/drive/MyDrive/PL自動割り当て用プロトデータ/sample_IT_incident/response_2024-03-28_08-45-22.txt', '/content/drive/MyDrive/PL自動割り当て用プロトデータ/sample_IT_incident/response_2024-03-28_08-45-36.txt', '/content/drive/MyDrive/PL自動割り当て用プロトデータ/sample_IT_incident/response_2024-03-28_08-45-49.txt', '/content/drive/MyDrive/PL自動割り当て用プロトデータ/sample_IT_incident/response_2024-03-28_08-46-04.txt', '/content/drive/MyDrive/PL自動割り当て用プロトデータ/sample_IT_incident/response_2024-03-28_08-46-17.txt'], ['/content/drive/MyDrive/PL自動割り当て用プロトデータ/sample_IT_incident/response_2024-03-28_08-46-32.txt', '/content/drive/MyDrive/PL自動割り当て用プロトデータ/sample_IT_incident/response_2024-03-28_08-46-51.txt', '/content/drive/MyDrive/PL自動割り当て用プロトデータ/sample_IT_incident/response_2024-03-28_08-47-11.txt', '/content/drive/MyDrive/PL自動割り当て用プロトデータ/sample_IT_incident/response_2024-03-28_08-47-28.txt', '/content/drive/MyDrive/PL自動割り当て用プロトデータ/sample_IT_incident/response_2024-03-28_08-47-51.txt', '/content/drive/MyDrive/PL自動割り当て用プロトデータ/sample_IT_incident/response_2024-03-28_08-48-03.txt', '/content/drive/MyDrive/PL自動割り当て用プロトデータ/sample_IT_incident/response_2024-03-28_08-48-26.txt', '/content/drive/MyDrive/PL自動割り当て用プロトデータ/sample_IT_incident/response_2024-03-28_08-48-41.txt', '/content/drive/MyDrive/PL自動割り当て用プロトデータ/sample_IT_incident/response_2024-03-28_08-48-59.txt', '/content/drive/MyDrive/PL自動割り当て用プロトデータ/sample_IT_incident/response_2024-03-28_08-49-14.txt', '/content/drive/MyDrive/PL自動割り当て用プロトデータ/sample_qa/response_2024-03-28_05-30-16_qa.txt'], ['/content/drive/MyDrive/PL自動割り当て用プロトデータ/sample_qa/response_2024-03-28_05-30-20_qa.txt', '/content/drive/MyDrive/PL自動割り当て用プロトデータ/sample_qa/response_2024-03-28_05-30-30_qa.txt', '/content/drive/MyDrive/PL自動割り当て用プロトデータ/sample_qa/response_2024-03-28_05-30-39_qa.txt', '/content/drive/MyDrive/PL自動割り当て用プロトデータ/sample_qa/response_2024-03-28_05-30-49_qa.txt', '/content/drive/MyDrive/PL自動割り当て用プロトデータ/sample_qa/response_2024-03-28_05-30-57_qa.txt', '/content/drive/MyDrive/PL自動割り当て用プロトデータ/sample_qa/response_2024-03-28_05-31-07_qa.txt', '/content/drive/MyDrive/PL自動割り当て用プロトデータ/sample_qa/response_2024-03-28_05-31-14_qa.txt', '/content/drive/MyDrive/PL自動割り当て用プロトデータ/sample_qa/response_2024-03-28_05-31-25_qa.txt', '/content/drive/MyDrive/PL自動割り当て用プロトデータ/sample_qa/response_2024-03-28_05-31-34_qa.txt', '/content/drive/MyDrive/PL自動割り当て用プロトデータ/sample_qa/response_2024-03-28_05-31-42_qa.txt', '/content/drive/MyDrive/PL自動割り当て用プロトデータ/sample_qa/response_2024-03-28_05-31-49_qa.txt', '/content/drive/MyDrive/PL自動割り当て用プロトデータ/sample_qa/response_2024-03-28_05-31-56_qa.txt', '/content/drive/MyDrive/PL自動割り当て用プロトデータ/sample_qa/response_2024-03-28_05-32-03_qa.txt', '/content/drive/MyDrive/PL自動割り当て用プロトデータ/sample_qa/response_2024-03-28_05-32-08_qa.txt', '/content/drive/MyDrive/PL自動割り当て用プロトデータ/sample_qa/response_2024-03-28_05-32-18_qa.txt', '/content/drive/MyDrive/PL自動割り当て用プロトデータ/sample_qa/response_2024-03-28_05-32-31_qa.txt', '/content/drive/MyDrive/PL自動割り当て用プロトデータ/sample_qa/response_2024-03-28_05-32-42_qa.txt'], ['/content/drive/MyDrive/PL自動割り当て用プロトデータ/sample_qa/response_2024-03-28_05-32-52_qa.txt', '/content/drive/MyDrive/PL自動割り当て用プロトデータ/sample_qa/response_2024-03-28_05-33-07_qa.txt', '/content/drive/MyDrive/PL自動割り当て用プロトデータ/sample_qa/response_2024-03-28_05-33-18_qa.txt', '/content/drive/MyDrive/PL自動割り当て用プロトデータ/sample_qa/response_2024-03-28_05-33-24_qa.txt', '/content/drive/MyDrive/PL自動割り当て用プロトデータ/sample_qa/response_2024-03-28_05-33-32_qa.txt', '/content/drive/MyDrive/PL自動割り当て用プロトデータ/sample_qa/response_2024-03-28_05-33-40_qa.txt', '/content/drive/MyDrive/PL自動割り当て用プロトデータ/sample_qa/response_2024-03-28_05-33-49_qa.txt', '/content/drive/MyDrive/PL自動割り当て用プロトデータ/sample_qa/response_2024-03-28_05-34-00_qa.txt', '/content/drive/MyDrive/PL自動割り当て用プロトデータ/sample_qa/response_2024-03-28_05-34-10_qa.txt', '/content/drive/MyDrive/PL自動割り当て用プロトデータ/sample_qa/response_2024-03-28_05-34-19_qa.txt', '/content/drive/MyDrive/PL自動割り当て用プロトデータ/sample_qa/response_2024-03-28_05-34-28_qa.txt', '/content/drive/MyDrive/PL自動割り当て用プロトデータ/sample_qa/response_2024-03-28_05-34-38_qa.txt', '/content/drive/MyDrive/PL自動割り当て用プロトデータ/sample_qa/response_2024-03-28_05-34-49_qa.txt', '/content/drive/MyDrive/PL自動割り当て用プロトデータ/sample_qa/response_2024-03-28_05-35-00_qa.txt', '/content/drive/MyDrive/PL自動割り当て用プロトデータ/sample_qa/response_2024-03-28_05-35-07_qa.txt', '/content/drive/MyDrive/PL自動割り当て用プロトデータ/sample_qa/response_2024-03-28_05-35-15_qa.txt', '/content/drive/MyDrive/PL自動割り当て用プロトデータ/sample_qa/response_2024-03-28_05-35-22_qa.txt'], ['/content/drive/MyDrive/PL自動割り当て用プロトデータ/sample_qa/response_2024-03-28_05-35-31_qa.txt', '/content/drive/MyDrive/PL自動割り当て用プロトデータ/sample_qa/response_2024-03-28_05-35-41_qa.txt', '/content/drive/MyDrive/PL自動割り当て用プロトデータ/sample_qa/response_2024-03-28_05-35-51_qa.txt', '/content/drive/MyDrive/PL自動割り当て用プロトデータ/sample_qa/response_2024-03-28_05-36-01_qa.txt', '/content/drive/MyDrive/PL自動割り当て用プロトデータ/sample_qa/response_2024-03-28_05-36-08_qa.txt', '/content/drive/MyDrive/PL自動割り当て用プロトデータ/sample_qa/response_2024-03-28_05-36-14_qa.txt', '/content/drive/MyDrive/PL自動割り当て用プロトデータ/sample_qa/response_2024-03-28_05-36-23_qa.txt', '/content/drive/MyDrive/PL自動割り当て用プロトデータ/sample_qa/response_2024-03-28_05-36-29_qa.txt', '/content/drive/MyDrive/PL自動割り当て用プロトデータ/sample_qa/response_2024-03-28_05-36-36_qa.txt', '/content/drive/MyDrive/PL自動割り当て用プロトデータ/sample_qa/response_2024-03-28_05-36-44_qa.txt', '/content/drive/MyDrive/PL自動割り当て用プロトデータ/sample_qa/response_2024-03-28_05-36-55_qa.txt', '/content/drive/MyDrive/PL自動割り当て用プロトデータ/sample_qa/response_2024-03-28_05-37-04_qa.txt', '/content/drive/MyDrive/PL自動割り当て用プロトデータ/sample_qa/response_2024-03-28_05-37-14_qa.txt', '/content/drive/MyDrive/PL自動割り当て用プロトデータ/sample_qa/response_2024-03-28_05-37-22_qa.txt', '/content/drive/MyDrive/PL自動割り当て用プロトデータ/sample_qa/response_2024-03-28_05-37-31_qa.txt', '/content/drive/MyDrive/PL自動割り当て用プロトデータ/sample_qa/response_2024-03-28_05-37-39_qa.txt', '/content/drive/MyDrive/PL自動割り当て用プロトデータ/sample_qa/response_2024-03-28_05-37-44_qa.txt'], ['/content/drive/MyDrive/PL自動割り当て用プロトデータ/sample_qa/response_2024-03-28_05-37-55_qa.txt', '/content/drive/MyDrive/PL自動割り当て用プロトデータ/sample_qa/response_2024-03-28_05-38-00_qa.txt', '/content/drive/MyDrive/PL自動割り当て用プロトデータ/sample_qa/response_2024-03-28_05-38-17_qa.txt', '/content/drive/MyDrive/PL自動割り当て用プロトデータ/sample_qa/response_2024-03-28_05-38-24_qa.txt', '/content/drive/MyDrive/PL自動割り当て用プロトデータ/sample_qa/response_2024-03-28_05-38-35_qa.txt', '/content/drive/MyDrive/PL自動割り当て用プロトデータ/sample_qa/response_2024-03-28_05-38-43_qa.txt', '/content/drive/MyDrive/PL自動割り当て用プロトデータ/sample_qa/response_2024-03-28_05-38-51_qa.txt', '/content/drive/MyDrive/PL自動割り当て用プロトデータ/sample_qa/response_2024-03-28_05-39-00_qa.txt', '/content/drive/MyDrive/PL自動割り当て用プロトデータ/sample_qa/response_2024-03-28_05-39-13_qa.txt', '/content/drive/MyDrive/PL自動割り当て用プロトデータ/sample_qa/response_2024-03-28_05-39-22_qa.txt', '/content/drive/MyDrive/PL自動割り当て用プロトデータ/sample_qa/response_2024-03-28_05-39-32_qa.txt', '/content/drive/MyDrive/PL自動割り当て用プロトデータ/sample_qa/response_2024-03-28_05-39-39_qa.txt', '/content/drive/MyDrive/PL自動割り当て用プロトデータ/sample_qa/response_2024-03-28_05-39-45_qa.txt', '/content/drive/MyDrive/PL自動割り当て用プロトデータ/sample_qa/response_2024-03-28_05-39-54_qa.txt', '/content/drive/MyDrive/PL自動割り当て用プロトデータ/sample_qa/response_2024-03-28_05-40-00_qa.txt', '/content/drive/MyDrive/PL自動割り当て用プロトデータ/sample_qa/response_2024-03-28_05-40-08_qa.txt'], ['/content/drive/MyDrive/PL自動割り当て用プロトデータ/sample_qa/response_2024-03-28_05-40-15_qa.txt', '/content/drive/MyDrive/PL自動割り当て用プロトデータ/sample_qa/response_2024-03-28_05-40-28_qa.txt', '/content/drive/MyDrive/PL自動割り当て用プロトデータ/sample_qa/response_2024-03-28_05-40-35_qa.txt', '/content/drive/MyDrive/PL自動割り当て用プロトデータ/sample_qa/response_2024-03-28_05-40-41_qa.txt', '/content/drive/MyDrive/PL自動割り当て用プロトデータ/sample_qa/response_2024-03-28_05-40-49_qa.txt', '/content/drive/MyDrive/PL自動割り当て用プロトデータ/sample_qa/response_2024-03-28_05-40-57_qa.txt', '/content/drive/MyDrive/PL自動割り当て用プロトデータ/sample_qa/response_2024-03-28_05-41-12_qa.txt', '/content/drive/MyDrive/PL自動割り当て用プロトデータ/sample_qa/response_2024-03-28_05-41-21_qa.txt', '/content/drive/MyDrive/PL自動割り当て用プロトデータ/sample_qa/response_2024-03-28_05-41-29_qa.txt', '/content/drive/MyDrive/PL自動割り当て用プロトデータ/sample_qa/response_2024-03-28_05-41-38_qa.txt', '/content/drive/MyDrive/PL自動割り当て用プロトデータ/sample_qa/response_2024-03-28_05-41-47_qa.txt', '/content/drive/MyDrive/PL自動割り当て用プロトデータ/sample_qa/response_2024-03-28_05-41-56_qa.txt', '/content/drive/MyDrive/PL自動割り当て用プロトデータ/sample_qa/response_2024-03-28_05-42-08_qa.txt', '/content/drive/MyDrive/PL自動割り当て用プロトデータ/sample_qa/response_2024-03-28_05-42-20_qa.txt', '/content/drive/MyDrive/PL自動割り当て用プロトデータ/sample_qa/response_2024-03-28_05-42-32_qa.txt', '/content/drive/MyDrive/PL自動割り当て用プロトデータ/sample_qa/response_2024-03-28_05-42-41_qa.txt'], ['/content/drive/MyDrive/PL自動割り当て用プロトデータ/sample_qa/response_2024-03-28_05-42-53_qa.txt', '/content/drive/MyDrive/PL自動割り当て用プロトデータ/sample_qa/response_2024-03-28_05-43-03_qa.txt', '/content/drive/MyDrive/PL自動割り当て用プロトデータ/sample_qa/response_2024-03-28_05-43-07_qa.txt', '/content/drive/MyDrive/PL自動割り当て用プロトデータ/sample_qa/response_2024-03-28_05-43-19_qa.txt', '/content/drive/MyDrive/PL自動割り当て用プロトデータ/sample_qa/response_2024-03-28_05-43-27_qa.txt', '/content/drive/MyDrive/PL自動割り当て用プロトデータ/sample_qa/response_2024-03-28_05-43-35_qa.txt', '/content/drive/MyDrive/PL自動割り当て用プロトデータ/sample_qa/response_2024-03-28_05-43-44_qa.txt', '/content/drive/MyDrive/PL自動割り当て用プロトデータ/sample_qa/response_2024-03-28_05-43-55_qa.txt', '/content/drive/MyDrive/PL自動割り当て用プロトデータ/sample_qa/response_2024-03-28_05-44-04_qa.txt', '/content/drive/MyDrive/PL自動割り当て用プロトデータ/sample_qa/response_2024-03-28_05-44-15_qa.txt', '/content/drive/MyDrive/PL自動割り当て用プロトデータ/sample_qa/response_2024-03-28_05-44-25_qa.txt', '/content/drive/MyDrive/PL自動割り当て用プロトデータ/sample_qa/response_2024-03-28_05-44-30_qa.txt', '/content/drive/MyDrive/PL自動割り当て用プロトデータ/sample_qa/response_2024-03-28_05-44-40_qa.txt', '/content/drive/MyDrive/PL自動割り当て用プロトデータ/sample_qa/response_2024-03-28_05-44-47_qa.txt', '/content/drive/MyDrive/PL自動割り当て用プロトデータ/sample_qa/response_2024-03-28_05-44-52_qa.txt', '/content/drive/MyDrive/PL自動割り当て用プロトデータ/sample_qa/response_2024-03-28_05-45-00_qa.txt'], ['/content/drive/MyDrive/PL自動割り当て用プロトデータ/sample_qa/response_2024-03-28_05-45-09_qa.txt', '/content/drive/MyDrive/PL自動割り当て用プロトデータ/sample_qa/response_2024-03-28_05-45-25_qa.txt', '/content/drive/MyDrive/PL自動割り当て用プロトデータ/sample_qa/response_2024-03-28_05-45-29_qa.txt', '/content/drive/MyDrive/PL自動割り当て用プロトデータ/sample_qa/response_2024-03-28_05-45-39_qa.txt', '/content/drive/MyDrive/PL自動割り当て用プロトデータ/sample_qa/response_2024-03-28_05-45-50_qa.txt', '/content/drive/MyDrive/PL自動割り当て用プロトデータ/sample_qa/response_2024-03-28_05-45-55_qa.txt', '/content/drive/MyDrive/PL自動割り当て用プロトデータ/sample_qa/response_2024-03-28_05-46-10_qa.txt', '/content/drive/MyDrive/PL自動割り当て用プロトデータ/sample_qa/response_2024-03-28_05-46-18_qa.txt', '/content/drive/MyDrive/PL自動割り当て用プロトデータ/sample_qa/response_2024-03-28_05-46-24_qa.txt', '/content/drive/MyDrive/PL自動割り当て用プロトデータ/sample_qa/response_2024-03-28_05-46-32_qa.txt', '/content/drive/MyDrive/PL自動割り当て用プロトデータ/sample_qa/response_2024-03-28_05-46-41_qa.txt', '/content/drive/MyDrive/PL自動割り当て用プロトデータ/sample_qa/response_2024-03-28_05-46-50_qa.txt', '/content/drive/MyDrive/PL自動割り当て用プロトデータ/sample_qa/response_2024-03-28_05-47-01_qa.txt', '/content/drive/MyDrive/PL自動割り当て用プロトデータ/sample_qa/response_2024-03-28_05-47-11_qa.txt', '/content/drive/MyDrive/PL自動割り当て用プロトデータ/sample_qa/response_2024-03-28_05-47-24_qa.txt', '/content/drive/MyDrive/PL自動割り当て用プロトデータ/sample_qa/response_2024-03-28_05-47-30_qa.txt', '/content/drive/MyDrive/PL自動割り当て用プロトデータ/sample_qa/response_2024-03-28_05-47-34_qa.txt', '/content/drive/MyDrive/PL自動割り当て用プロトデータ/sample_qa/response_2024-03-28_05-47-41_qa.txt'], ['/content/drive/MyDrive/PL自動割り当て用プロトデータ/sample_qa/response_2024-03-28_05-47-48_qa.txt', '/content/drive/MyDrive/PL自動割り当て用プロトデータ/sample_qa/response_2024-03-28_05-47-59_qa.txt', '/content/drive/MyDrive/PL自動割り当て用プロトデータ/sample_qa/response_2024-03-28_05-48-08_qa.txt', '/content/drive/MyDrive/PL自動割り当て用プロトデータ/sample_qa/response_2024-03-28_05-48-17_qa.txt', '/content/drive/MyDrive/PL自動割り当て用プロトデータ/sample_qa/response_2024-03-28_05-48-25_qa.txt', '/content/drive/MyDrive/PL自動割り当て用プロトデータ/sample_qa/response_2024-03-28_05-48-33_qa.txt', '/content/drive/MyDrive/PL自動割り当て用プロトデータ/sample_qa/response_2024-03-28_05-48-41_qa.txt', '/content/drive/MyDrive/PL自動割り当て用プロトデータ/sample_qa/response_2024-03-28_05-48-49_qa.txt', '/content/drive/MyDrive/PL自動割り当て用プロトデータ/sample_qa/response_2024-03-28_05-48-58_qa.txt', '/content/drive/MyDrive/PL自動割り当て用プロトデータ/sample_qa/response_2024-03-28_05-49-08_qa.txt', '/content/drive/MyDrive/PL自動割り当て用プロトデータ/sample_qa/response_2024-03-28_05-49-16_qa.txt', '/content/drive/MyDrive/PL自動割り当て用プロトデータ/sample_qa/response_2024-03-28_05-51-44_qa.txt', '/content/drive/MyDrive/PL自動割り当て用プロトデータ/sample_qa/response_2024-03-28_05-51-52_qa.txt', '/content/drive/MyDrive/PL自動割り当て用プロトデータ/sample_qa/response_2024-03-28_05-51-59_qa.txt', '/content/drive/MyDrive/PL自動割り当て用プロトデータ/sample_qa/response_2024-03-28_05-52-13_qa.txt', '/content/drive/MyDrive/PL自動割り当て用プロトデータ/sample_qa/response_2024-03-28_05-52-21_qa.txt', '/content/drive/MyDrive/PL自動割り当て用プロトデータ/sample_qa/response_2024-03-28_05-52-27_qa.txt'], ['/content/drive/MyDrive/PL自動割り当て用プロトデータ/sample_qa/response_2024-03-28_05-52-33_qa.txt', '/content/drive/MyDrive/PL自動割り当て用プロトデータ/sample_qa/response_2024-03-28_05-52-42_qa.txt', '/content/drive/MyDrive/PL自動割り当て用プロトデータ/sample_qa/response_2024-03-28_05-52-59_qa.txt', '/content/drive/MyDrive/PL自動割り当て用プロトデータ/sample_qa/response_2024-03-28_05-53-05_qa.txt', '/content/drive/MyDrive/PL自動割り当て用プロトデータ/sample_qa/response_2024-03-28_05-53-13_qa.txt', '/content/drive/MyDrive/PL自動割り当て用プロトデータ/sample_qa/response_2024-03-28_05-53-18_qa.txt', '/content/drive/MyDrive/PL自動割り当て用プロトデータ/sample_qa/response_2024-03-28_05-53-30_qa.txt', '/content/drive/MyDrive/PL自動割り当て用プロトデータ/sample_qa/response_2024-03-28_05-53-38_qa.txt', '/content/drive/MyDrive/PL自動割り当て用プロトデータ/sample_qa/response_2024-03-28_05-53-55_qa.txt', '/content/drive/MyDrive/PL自動割り当て用プロトデータ/sample_qa/response_2024-03-28_05-54-09_qa.txt', '/content/drive/MyDrive/PL自動割り当て用プロトデータ/sample_qa/response_2024-03-28_05-54-16_qa.txt', '/content/drive/MyDrive/PL自動割り当て用プロトデータ/sample_qa/response_2024-03-28_05-54-23_qa.txt', '/content/drive/MyDrive/PL自動割り当て用プロトデータ/sample_qa/response_2024-03-28_05-54-35_qa.txt', '/content/drive/MyDrive/PL自動割り当て用プロトデータ/sample_qa/response_2024-03-28_05-54-45_qa.txt', '/content/drive/MyDrive/PL自動割り当て用プロトデータ/sample_qa/response_2024-03-28_05-54-53_qa.txt', '/content/drive/MyDrive/PL自動割り当て用プロトデータ/sample_qa/response_2024-03-28_05-55-07_qa.txt'], ['/content/drive/MyDrive/PL自動割り当て用プロトデータ/sample_qa/response_2024-03-28_05-55-12_qa.txt', '/content/drive/MyDrive/PL自動割り当て用プロトデータ/sample_qa/response_2024-03-28_05-55-21_qa.txt', '/content/drive/MyDrive/PL自動割り当て用プロトデータ/sample_qa/response_2024-03-28_05-55-30_qa.txt', '/content/drive/MyDrive/PL自動割り当て用プロトデータ/sample_qa/response_2024-03-28_05-55-39_qa.txt', '/content/drive/MyDrive/PL自動割り当て用プロトデータ/sample_qa/response_2024-03-28_05-55-43_qa.txt', '/content/drive/MyDrive/PL自動割り当て用プロトデータ/sample_qa/response_2024-03-28_05-55-53_qa.txt', '/content/drive/MyDrive/PL自動割り当て用プロトデータ/sample_qa/response_2024-03-28_05-56-01_qa.txt', '/content/drive/MyDrive/PL自動割り当て用プロトデータ/sample_qa/response_2024-03-28_05-56-10_qa.txt', '/content/drive/MyDrive/PL自動割り当て用プロトデータ/sample_qa/response_2024-03-28_05-56-17_qa.txt', '/content/drive/MyDrive/PL自動割り当て用プロトデータ/sample_qa/response_2024-03-28_05-56-26_qa.txt', '/content/drive/MyDrive/PL自動割り当て用プロトデータ/sample_qa/response_2024-03-28_05-56-36_qa.txt', '/content/drive/MyDrive/PL自動割り当て用プロトデータ/sample_qa/response_2024-03-28_05-56-49_qa.txt', '/content/drive/MyDrive/PL自動割り当て用プロトデータ/sample_qa/response_2024-03-28_05-57-04_qa.txt', '/content/drive/MyDrive/PL自動割り当て用プロトデータ/sample_qa/response_2024-03-28_05-57-16_qa.txt', '/content/drive/MyDrive/PL自動割り当て用プロトデータ/sample_qa/response_2024-03-28_05-57-23_qa.txt', '/content/drive/MyDrive/PL自動割り当て用プロトデータ/sample_qa/response_2024-03-28_05-57-34_qa.txt'], ['/content/drive/MyDrive/PL自動割り当て用プロトデータ/sample_qa/response_2024-03-28_05-57-44_qa.txt', '/content/drive/MyDrive/PL自動割り当て用プロトデータ/sample_qa/response_2024-03-28_05-57-52_qa.txt', '/content/drive/MyDrive/PL自動割り当て用プロトデータ/sample_qa/response_2024-03-28_05-58-09_qa.txt', '/content/drive/MyDrive/PL自動割り当て用プロトデータ/sample_qa/response_2024-03-28_05-58-20_qa.txt', '/content/drive/MyDrive/PL自動割り当て用プロトデータ/sample_qa/response_2024-03-28_05-58-30_qa.txt', '/content/drive/MyDrive/PL自動割り当て用プロトデータ/sample_qa/response_2024-03-28_05-58-48_qa.txt', '/content/drive/MyDrive/PL自動割り当て用プロトデータ/sample_qa/response_2024-03-28_05-58-53_qa.txt', '/content/drive/MyDrive/PL自動割り当て用プロトデータ/sample_qa/response_2024-03-28_05-59-02_qa.txt', '/content/drive/MyDrive/PL自動割り当て用プロトデータ/sample_qa/response_2024-03-28_05-59-06_qa.txt', '/content/drive/MyDrive/PL自動割り当て用プロトデータ/sample_qa/response_2024-03-28_05-59-19_qa.txt', '/content/drive/MyDrive/PL自動割り当て用プロトデータ/sample_qa/response_2024-03-28_05-59-30_qa.txt', '/content/drive/MyDrive/PL自動割り当て用プロトデータ/sample_qa/response_2024-03-28_05-59-39_qa.txt', '/content/drive/MyDrive/PL自動割り当て用プロトデータ/sample_qa/response_2024-03-28_05-59-54_qa.txt', '/content/drive/MyDrive/PL自動割り当て用プロトデータ/sample_qa/response_2024-03-28_06-00-05_qa.txt', '/content/drive/MyDrive/PL自動割り当て用プロトデータ/sample_qa/response_2024-03-28_06-00-18_qa.txt'], ['/content/drive/MyDrive/PL自動割り当て用プロトデータ/sample_qa/response_2024-03-28_06-00-26_qa.txt', '/content/drive/MyDrive/PL自動割り当て用プロトデータ/sample_qa/response_2024-03-28_06-00-33_qa.txt', '/content/drive/MyDrive/PL自動割り当て用プロトデータ/sample_qa/response_2024-03-28_06-00-44_qa.txt', '/content/drive/MyDrive/PL自動割り当て用プロトデータ/sample_qa/response_2024-03-28_06-00-52_qa.txt', '/content/drive/MyDrive/PL自動割り当て用プロトデータ/sample_qa/response_2024-03-28_06-00-59_qa.txt', '/content/drive/MyDrive/PL自動割り当て用プロトデータ/sample_qa/response_2024-03-28_06-01-08_qa.txt', '/content/drive/MyDrive/PL自動割り当て用プロトデータ/sample_qa/response_2024-03-28_06-01-15_qa.txt', '/content/drive/MyDrive/PL自動割り当て用プロトデータ/sample_qa/response_2024-03-28_06-01-21_qa.txt', '/content/drive/MyDrive/PL自動割り当て用プロトデータ/sample_qa/response_2024-03-28_06-01-37_qa.txt', '/content/drive/MyDrive/PL自動割り当て用プロトデータ/sample_qa/response_2024-03-28_06-01-45_qa.txt', '/content/drive/MyDrive/PL自動割り当て用プロトデータ/sample_qa/response_2024-03-28_06-01-59_qa.txt', '/content/drive/MyDrive/PL自動割り当て用プロトデータ/sample_qa/response_2024-03-28_06-02-08_qa.txt', '/content/drive/MyDrive/PL自動割り当て用プロトデータ/sample_qa/response_2024-03-28_06-02-16_qa.txt', '/content/drive/MyDrive/PL自動割り当て用プロトデータ/sample_qa/response_2024-03-28_06-02-36_qa.txt', '/content/drive/MyDrive/PL自動割り当て用プロトデータ/sample_qa/response_2024-03-28_06-02-47_qa.txt'], ['/content/drive/MyDrive/PL自動割り当て用プロトデータ/sample_qa/response_2024-03-28_06-02-58_qa.txt', '/content/drive/MyDrive/PL自動割り当て用プロトデータ/sample_qa/response_2024-03-28_06-03-08_qa.txt', '/content/drive/MyDrive/PL自動割り当て用プロトデータ/sample_qa/response_2024-03-28_06-03-20_qa.txt', '/content/drive/MyDrive/PL自動割り当て用プロトデータ/sample_qa/response_2024-03-28_06-03-30_qa.txt', '/content/drive/MyDrive/PL自動割り当て用プロトデータ/sample_qa/response_2024-03-28_06-03-35_qa.txt', '/content/drive/MyDrive/PL自動割り当て用プロトデータ/sample_qa/response_2024-03-28_06-03-43_qa.txt', '/content/drive/MyDrive/PL自動割り当て用プロトデータ/sample_qa/response_2024-03-28_06-03-53_qa.txt', '/content/drive/MyDrive/PL自動割り当て用プロトデータ/sample_qa/response_2024-03-28_06-04-02_qa.txt', '/content/drive/MyDrive/PL自動割り当て用プロトデータ/sample_qa/response_2024-03-28_06-04-14_qa.txt', '/content/drive/MyDrive/PL自動割り当て用プロトデータ/sample_qa/response_2024-03-28_06-04-21_qa.txt', '/content/drive/MyDrive/PL自動割り当て用プロトデータ/sample_qa/response_2024-03-28_06-04-32_qa.txt', '/content/drive/MyDrive/PL自動割り当て用プロトデータ/sample_qa/response_2024-03-28_06-04-39_qa.txt', '/content/drive/MyDrive/PL自動割り当て用プロトデータ/sample_quality_report/response_2024-03-28_16-27-34.txt', '/content/drive/MyDrive/PL自動割り当て用プロトデータ/sample_quality_report/response_2024-03-28_16-27-47.txt', '/content/drive/MyDrive/PL自動割り当て用プロトデータ/sample_quality_report/response_2024-03-28_16-27-56.txt'], ['/content/drive/MyDrive/PL自動割り当て用プロトデータ/sample_quality_report/response_2024-03-28_16-28-09.txt', '/content/drive/MyDrive/PL自動割り当て用プロトデータ/sample_quality_report/response_2024-03-28_16-28-25.txt', '/content/drive/MyDrive/PL自動割り当て用プロトデータ/sample_quality_report/response_2024-03-28_16-28-50.txt', '/content/drive/MyDrive/PL自動割り当て用プロトデータ/sample_quality_report/response_2024-03-28_16-28-59.txt', '/content/drive/MyDrive/PL自動割り当て用プロトデータ/sample_quality_report/response_2024-03-28_16-29-12.txt', '/content/drive/MyDrive/PL自動割り当て用プロトデータ/sample_quality_report/response_2024-03-28_16-29-25.txt', '/content/drive/MyDrive/PL自動割り当て用プロトデータ/sample_quality_report/response_2024-03-28_16-29-34.txt', '/content/drive/MyDrive/PL自動割り当て用プロトデータ/sample_quality_report/response_2024-03-28_16-29-45.txt', '/content/drive/MyDrive/PL自動割り当て用プロトデータ/sample_quality_report/response_2024-03-28_16-30-06.txt', '/content/drive/MyDrive/PL自動割り当て用プロトデータ/sample_quality_report/response_2024-03-28_16-30-27.txt', '/content/drive/MyDrive/PL自動割り当て用プロトデータ/sample_quality_report/response_2024-03-28_16-30-40.txt', '/content/drive/MyDrive/PL自動割り当て用プロトデータ/sample_quality_report/response_2024-03-28_16-30-47.txt'], ['/content/drive/MyDrive/PL自動割り当て用プロトデータ/sample_quality_report/response_2024-03-28_16-31-04.txt', '/content/drive/MyDrive/PL自動割り当て用プロトデータ/sample_quality_report/response_2024-03-28_16-31-16.txt', '/content/drive/MyDrive/PL自動割り当て用プロトデータ/sample_quality_report/response_2024-03-28_16-31-26.txt', '/content/drive/MyDrive/PL自動割り当て用プロトデータ/sample_quality_report/response_2024-03-28_16-31-37.txt', '/content/drive/MyDrive/PL自動割り当て用プロトデータ/sample_quality_report/response_2024-03-28_16-31-46.txt', '/content/drive/MyDrive/PL自動割り当て用プロトデータ/sample_quality_report/response_2024-03-28_16-32-03.txt', '/content/drive/MyDrive/PL自動割り当て用プロトデータ/sample_quality_report/response_2024-03-28_16-32-14.txt', '/content/drive/MyDrive/PL自動割り当て用プロトデータ/sample_quality_report/response_2024-03-28_16-32-25.txt', '/content/drive/MyDrive/PL自動割り当て用プロトデータ/sample_quality_report/response_2024-03-28_16-32-38.txt', '/content/drive/MyDrive/PL自動割り当て用プロトデータ/sample_quality_report/response_2024-03-28_16-32-50.txt', '/content/drive/MyDrive/PL自動割り当て用プロトデータ/sample_quality_report/response_2024-03-28_16-32-58.txt'], ['/content/drive/MyDrive/PL自動割り当て用プロトデータ/sample_quality_report/response_2024-03-28_16-33-14.txt', '/content/drive/MyDrive/PL自動割り当て用プロトデータ/sample_quality_report/response_2024-03-28_16-33-26.txt', '/content/drive/MyDrive/PL自動割り当て用プロトデータ/sample_quality_report/response_2024-03-28_16-33-38.txt', '/content/drive/MyDrive/PL自動割り当て用プロトデータ/sample_quality_report/response_2024-03-28_16-34-00.txt', '/content/drive/MyDrive/PL自動割り当て用プロトデータ/sample_quality_report/response_2024-03-28_16-34-14.txt', '/content/drive/MyDrive/PL自動割り当て用プロトデータ/sample_quality_report/response_2024-03-28_16-34-27.txt', '/content/drive/MyDrive/PL自動割り当て用プロトデータ/sample_quality_report/response_2024-03-28_16-34-38.txt', '/content/drive/MyDrive/PL自動割り当て用プロトデータ/sample_quality_report/response_2024-03-28_16-34-50.txt', '/content/drive/MyDrive/PL自動割り当て用プロトデータ/sample_quality_report/response_2024-03-28_16-35-09.txt', '/content/drive/MyDrive/PL自動割り当て用プロトデータ/sample_quality_report/response_2024-03-28_16-35-22.txt', '/content/drive/MyDrive/PL自動割り当て用プロトデータ/sample_quality_report/response_2024-03-28_16-35-32.txt'], ['/content/drive/MyDrive/PL自動割り当て用プロトデータ/sample_quality_report/response_2024-03-28_16-35-43.txt', '/content/drive/MyDrive/PL自動割り当て用プロトデータ/sample_quality_report/response_2024-03-28_16-36-02.txt', '/content/drive/MyDrive/PL自動割り当て用プロトデータ/sample_quality_report/response_2024-03-28_16-36-11.txt', '/content/drive/MyDrive/PL自動割り当て用プロトデータ/sample_quality_report/response_2024-03-28_16-36-24.txt', '/content/drive/MyDrive/PL自動割り当て用プロトデータ/sample_quality_report/response_2024-03-28_16-36-37.txt', '/content/drive/MyDrive/PL自動割り当て用プロトデータ/sample_quality_report/response_2024-03-28_16-36-47.txt', '/content/drive/MyDrive/PL自動割り当て用プロトデータ/sample_quality_report/response_2024-03-28_16-37-01.txt', '/content/drive/MyDrive/PL自動割り当て用プロトデータ/sample_quality_report/response_2024-03-28_16-37-15.txt', '/content/drive/MyDrive/PL自動割り当て用プロトデータ/sample_quality_report/response_2024-03-28_16-37-26.txt', '/content/drive/MyDrive/PL自動割り当て用プロトデータ/sample_quality_report/response_2024-03-28_16-37-36.txt', '/content/drive/MyDrive/PL自動割り当て用プロトデータ/sample_quality_report/response_2024-03-28_16-37-50.txt'], ['/content/drive/MyDrive/PL自動割り当て用プロトデータ/sample_quality_report/response_2024-03-28_16-38-08.txt', '/content/drive/MyDrive/PL自動割り当て用プロトデータ/sample_quality_report/response_2024-03-28_16-38-26.txt', '/content/drive/MyDrive/PL自動割り当て用プロトデータ/sample_quality_report/response_2024-03-28_16-38-42.txt', '/content/drive/MyDrive/PL自動割り当て用プロトデータ/sample_quality_report/response_2024-03-28_16-38-58.txt', '/content/drive/MyDrive/PL自動割り当て用プロトデータ/sample_quality_report/response_2024-03-28_16-39-10.txt', '/content/drive/MyDrive/PL自動割り当て用プロトデータ/sample_quality_report/response_2024-03-28_16-39-26.txt', '/content/drive/MyDrive/PL自動割り当て用プロトデータ/sample_quality_report/response_2024-03-28_16-39-35.txt', '/content/drive/MyDrive/PL自動割り当て用プロトデータ/sample_quality_report/response_2024-03-28_16-39-49.txt', '/content/drive/MyDrive/PL自動割り当て用プロトデータ/sample_quality_report/response_2024-03-28_16-40-06.txt', '/content/drive/MyDrive/PL自動割り当て用プロトデータ/sample_quality_report/response_2024-03-28_16-40-20.txt', '/content/drive/MyDrive/PL自動割り当て用プロトデータ/sample_quality_report/response_2024-03-28_16-40-35.txt'], ['/content/drive/MyDrive/PL自動割り当て用プロトデータ/sample_quality_report/response_2024-03-28_16-40-50.txt', '/content/drive/MyDrive/PL自動割り当て用プロトデータ/sample_quality_report/response_2024-03-28_16-41-06.txt', '/content/drive/MyDrive/PL自動割り当て用プロトデータ/sample_quality_report/response_2024-03-28_16-41-30.txt', '/content/drive/MyDrive/PL自動割り当て用プロトデータ/sample_quality_report/response_2024-03-28_16-41-44.txt', '/content/drive/MyDrive/PL自動割り当て用プロトデータ/sample_quality_report/response_2024-03-28_16-41-53.txt', '/content/drive/MyDrive/PL自動割り当て用プロトデータ/sample_quality_report/response_2024-03-28_16-42-08.txt', '/content/drive/MyDrive/PL自動割り当て用プロトデータ/sample_quality_report/response_2024-03-28_16-42-18.txt', '/content/drive/MyDrive/PL自動割り当て用プロトデータ/sample_quality_report/response_2024-03-28_16-42-32.txt', '/content/drive/MyDrive/PL自動割り当て用プロトデータ/sample_quality_report/response_2024-03-28_16-42-47.txt', '/content/drive/MyDrive/PL自動割り当て用プロトデータ/sample_quality_report/response_2024-03-28_16-42-58.txt', '/content/drive/MyDrive/PL自動割り当て用プロトデータ/sample_quality_report/response_2024-03-28_16-43-06.txt', '/content/drive/MyDrive/PL自動割り当て用プロトデータ/sample_quality_report/response_2024-03-28_16-43-20.txt'], ['/content/drive/MyDrive/PL自動割り当て用プロトデータ/sample_quality_report/response_2024-03-28_16-43-30.txt', '/content/drive/MyDrive/PL自動割り当て用プロトデータ/sample_quality_report/response_2024-03-28_16-43-50.txt', '/content/drive/MyDrive/PL自動割り当て用プロトデータ/sample_quality_report/response_2024-03-28_16-44-05.txt', '/content/drive/MyDrive/PL自動割り当て用プロトデータ/sample_quality_report/response_2024-03-28_16-44-18.txt', '/content/drive/MyDrive/PL自動割り当て用プロトデータ/sample_quality_report/response_2024-03-28_16-44-27.txt', '/content/drive/MyDrive/PL自動割り当て用プロトデータ/sample_quality_report/response_2024-03-28_16-44-41.txt', '/content/drive/MyDrive/PL自動割り当て用プロトデータ/sample_quality_report/response_2024-03-28_16-44-50.txt', '/content/drive/MyDrive/PL自動割り当て用プロトデータ/sample_quality_report/response_2024-03-28_16-45-06.txt', '/content/drive/MyDrive/PL自動割り当て用プロトデータ/sample_quality_report/response_2024-03-28_16-45-22.txt', '/content/drive/MyDrive/PL自動割り当て用プロトデータ/sample_quality_report/response_2024-03-28_16-45-32.txt', '/content/drive/MyDrive/PL自動割り当て用プロトデータ/sample_quality_report/response_2024-03-28_16-45-45.txt', '/content/drive/MyDrive/PL自動割り当て用プロトデータ/sample_quality_report/response_2024-03-28_16-45-57.txt'], ['/content/drive/MyDrive/PL自動割り当て用プロトデータ/sample_quality_report/response_2024-03-28_16-46-07.txt', '/content/drive/MyDrive/PL自動割り当て用プロトデータ/sample_quality_report/response_2024-03-28_16-46-23.txt', '/content/drive/MyDrive/PL自動割り当て用プロトデータ/sample_quality_report/response_2024-03-28_16-46-36.txt', '/content/drive/MyDrive/PL自動割り当て用プロトデータ/sample_quality_report/response_2024-03-28_16-46-51.txt', '/content/drive/MyDrive/PL自動割り当て用プロトデータ/sample_quality_report/response_2024-03-28_16-47-01.txt', '/content/drive/MyDrive/PL自動割り当て用プロトデータ/sample_quality_report/response_2024-03-28_16-47-12.txt', '/content/drive/MyDrive/PL自動割り当て用プロトデータ/sample_quality_report/response_2024-03-28_16-47-49.txt', '/content/drive/MyDrive/PL自動割り当て用プロトデータ/sample_quality_report/response_2024-03-28_16-48-02.txt', '/content/drive/MyDrive/PL自動割り当て用プロトデータ/sample_quality_report/response_2024-03-28_16-48-25.txt', '/content/drive/MyDrive/PL自動割り当て用プロトデータ/sample_quality_report/response_2024-03-28_16-48-47.txt', '/content/drive/MyDrive/PL自動割り当て用プロトデータ/sample_quality_report/response_2024-03-28_16-48-58.txt'], ['/content/drive/MyDrive/PL自動割り当て用プロトデータ/sample_quality_report/response_2024-03-28_16-49-23.txt', '/content/drive/MyDrive/PL自動割り当て用プロトデータ/sample_quality_report/response_2024-03-28_16-49-36.txt', '/content/drive/MyDrive/PL自動割り当て用プロトデータ/sample_quality_report/response_2024-03-28_16-49-54.txt', '/content/drive/MyDrive/PL自動割り当て用プロトデータ/sample_quality_report/response_2024-03-28_16-50-04.txt', '/content/drive/MyDrive/PL自動割り当て用プロトデータ/sample_quality_report/response_2024-03-28_16-50-14.txt', '/content/drive/MyDrive/PL自動割り当て用プロトデータ/sample_quality_report/response_2024-03-28_16-50-26.txt', '/content/drive/MyDrive/PL自動割り当て用プロトデータ/sample_quality_report/response_2024-03-28_16-50-40.txt', '/content/drive/MyDrive/PL自動割り当て用プロトデータ/sample_quality_report/response_2024-03-28_16-50-50.txt', '/content/drive/MyDrive/PL自動割り当て用プロトデータ/sample_quality_report/response_2024-03-28_16-51-09.txt', '/content/drive/MyDrive/PL自動割り当て用プロトデータ/sample_quality_report/response_2024-03-28_16-51-25.txt', '/content/drive/MyDrive/PL自動割り当て用プロトデータ/sample_quality_report/response_2024-03-28_16-51-34.txt'], ['/content/drive/MyDrive/PL自動割り当て用プロトデータ/sample_quality_report/response_2024-03-28_16-51-49.txt', '/content/drive/MyDrive/PL自動割り当て用プロトデータ/sample_quality_report/response_2024-03-28_16-52-00.txt', '/content/drive/MyDrive/PL自動割り当て用プロトデータ/sample_quality_report/response_2024-03-28_16-52-16.txt', '/content/drive/MyDrive/PL自動割り当て用プロトデータ/sample_r_and_d_report/response_2024-03-28_08-57-18.txt', '/content/drive/MyDrive/PL自動割り当て用プロトデータ/sample_r_and_d_report/response_2024-03-28_09-07-33.txt', '/content/drive/MyDrive/PL自動割り当て用プロトデータ/sample_r_and_d_report/response_2024-03-28_09-07-44.txt', '/content/drive/MyDrive/PL自動割り当て用プロトデータ/sample_r_and_d_report/response_2024-03-28_09-07-53.txt', '/content/drive/MyDrive/PL自動割り当て用プロトデータ/sample_r_and_d_report/response_2024-03-28_09-08-07.txt', '/content/drive/MyDrive/PL自動割り当て用プロトデータ/sample_r_and_d_report/response_2024-03-28_09-08-20.txt', '/content/drive/MyDrive/PL自動割り当て用プロトデータ/sample_r_and_d_report/response_2024-03-28_09-08-32.txt', '/content/drive/MyDrive/PL自動割り当て用プロトデータ/sample_r_and_d_report/response_2024-03-28_09-08-42.txt', '/content/drive/MyDrive/PL自動割り当て用プロトデータ/sample_r_and_d_report/response_2024-03-28_09-09-00.txt'], ['/content/drive/MyDrive/PL自動割り当て用プロトデータ/sample_r_and_d_report/response_2024-03-28_09-09-13.txt', '/content/drive/MyDrive/PL自動割り当て用プロトデータ/sample_r_and_d_report/response_2024-03-28_09-09-23.txt', '/content/drive/MyDrive/PL自動割り当て用プロトデータ/sample_r_and_d_report/response_2024-03-28_09-09-36.txt', '/content/drive/MyDrive/PL自動割り当て用プロトデータ/sample_r_and_d_report/response_2024-03-28_09-09-53.txt', '/content/drive/MyDrive/PL自動割り当て用プロトデータ/sample_r_and_d_report/response_2024-03-28_09-10-12.txt', '/content/drive/MyDrive/PL自動割り当て用プロトデータ/sample_r_and_d_report/response_2024-03-28_09-10-22.txt', '/content/drive/MyDrive/PL自動割り当て用プロトデータ/sample_r_and_d_report/response_2024-03-28_09-10-32.txt', '/content/drive/MyDrive/PL自動割り当て用プロトデータ/sample_r_and_d_report/response_2024-03-28_09-10-44.txt', '/content/drive/MyDrive/PL自動割り当て用プロトデータ/sample_r_and_d_report/response_2024-03-28_09-10-56.txt', '/content/drive/MyDrive/PL自動割り当て用プロトデータ/sample_r_and_d_report/response_2024-03-28_09-11-10.txt', '/content/drive/MyDrive/PL自動割り当て用プロトデータ/sample_r_and_d_report/response_2024-03-28_09-11-24.txt'], ['/content/drive/MyDrive/PL自動割り当て用プロトデータ/sample_r_and_d_report/response_2024-03-28_09-11-37.txt', '/content/drive/MyDrive/PL自動割り当て用プロトデータ/sample_r_and_d_report/response_2024-03-28_09-11-55.txt', '/content/drive/MyDrive/PL自動割り当て用プロトデータ/sample_r_and_d_report/response_2024-03-28_09-12-10.txt', '/content/drive/MyDrive/PL自動割り当て用プロトデータ/sample_r_and_d_report/response_2024-03-28_09-12-33.txt', '/content/drive/MyDrive/PL自動割り当て用プロトデータ/sample_r_and_d_report/response_2024-03-28_09-12-51.txt', '/content/drive/MyDrive/PL自動割り当て用プロトデータ/sample_r_and_d_report/response_2024-03-28_09-13-12.txt', '/content/drive/MyDrive/PL自動割り当て用プロトデータ/sample_r_and_d_report/response_2024-03-28_09-13-26.txt', '/content/drive/MyDrive/PL自動割り当て用プロトデータ/sample_r_and_d_report/response_2024-03-28_09-13-35.txt', '/content/drive/MyDrive/PL自動割り当て用プロトデータ/sample_r_and_d_report/response_2024-03-28_09-13-47.txt', '/content/drive/MyDrive/PL自動割り当て用プロトデータ/sample_r_and_d_report/response_2024-03-28_09-13-59.txt', '/content/drive/MyDrive/PL自動割り当て用プロトデータ/sample_r_and_d_report/response_2024-03-28_09-14-16.txt'], ['/content/drive/MyDrive/PL自動割り当て用プロトデータ/sample_r_and_d_report/response_2024-03-28_09-14-30.txt', '/content/drive/MyDrive/PL自動割り当て用プロトデータ/sample_r_and_d_report/response_2024-03-28_09-14-41.txt', '/content/drive/MyDrive/PL自動割り当て用プロトデータ/sample_r_and_d_report/response_2024-03-28_09-14-49.txt', '/content/drive/MyDrive/PL自動割り当て用プロトデータ/sample_r_and_d_report/response_2024-03-28_09-15-01.txt', '/content/drive/MyDrive/PL自動割り当て用プロトデータ/sample_r_and_d_report/response_2024-03-28_09-15-14.txt', '/content/drive/MyDrive/PL自動割り当て用プロトデータ/sample_r_and_d_report/response_2024-03-28_09-15-28.txt', '/content/drive/MyDrive/PL自動割り当て用プロトデータ/sample_r_and_d_report/response_2024-03-28_09-15-48.txt', '/content/drive/MyDrive/PL自動割り当て用プロトデータ/sample_r_and_d_report/response_2024-03-28_09-16-13.txt', '/content/drive/MyDrive/PL自動割り当て用プロトデータ/sample_r_and_d_report/response_2024-03-28_09-16-26.txt', '/content/drive/MyDrive/PL自動割り当て用プロトデータ/sample_r_and_d_report/response_2024-03-28_09-16-42.txt', '/content/drive/MyDrive/PL自動割り当て用プロトデータ/sample_r_and_d_report/response_2024-03-28_09-16-54.txt', '/content/drive/MyDrive/PL自動割り当て用プロトデータ/sample_r_and_d_report/response_2024-03-28_09-17-08.txt'], ['/content/drive/MyDrive/PL自動割り当て用プロトデータ/sample_r_and_d_report/response_2024-03-28_09-17-21.txt', '/content/drive/MyDrive/PL自動割り当て用プロトデータ/sample_r_and_d_report/response_2024-03-28_09-17-36.txt', '/content/drive/MyDrive/PL自動割り当て用プロトデータ/sample_r_and_d_report/response_2024-03-28_09-17-50.txt', '/content/drive/MyDrive/PL自動割り当て用プロトデータ/sample_r_and_d_report/response_2024-03-28_09-18-13.txt', '/content/drive/MyDrive/PL自動割り当て用プロトデータ/sample_r_and_d_report/response_2024-03-28_09-18-27.txt', '/content/drive/MyDrive/PL自動割り当て用プロトデータ/sample_r_and_d_report/response_2024-03-28_09-18-39.txt', '/content/drive/MyDrive/PL自動割り当て用プロトデータ/sample_r_and_d_report/response_2024-03-28_09-18-48.txt', '/content/drive/MyDrive/PL自動割り当て用プロトデータ/sample_r_and_d_report/response_2024-03-28_09-19-02.txt', '/content/drive/MyDrive/PL自動割り当て用プロトデータ/sample_r_and_d_report/response_2024-03-28_09-19-16.txt', '/content/drive/MyDrive/PL自動割り当て用プロトデータ/sample_r_and_d_report/response_2024-03-28_09-19-27.txt', '/content/drive/MyDrive/PL自動割り当て用プロトデータ/sample_r_and_d_report/response_2024-03-28_09-19-46.txt'], ['/content/drive/MyDrive/PL自動割り当て用プロトデータ/sample_r_and_d_report/response_2024-03-28_09-20-07.txt', '/content/drive/MyDrive/PL自動割り当て用プロトデータ/sample_r_and_d_report/response_2024-03-28_09-20-22.txt', '/content/drive/MyDrive/PL自動割り当て用プロトデータ/sample_r_and_d_report/response_2024-03-28_09-20-39.txt', '/content/drive/MyDrive/PL自動割り当て用プロトデータ/sample_r_and_d_report/response_2024-03-28_09-20-48.txt', '/content/drive/MyDrive/PL自動割り当て用プロトデータ/sample_r_and_d_report/response_2024-03-28_09-21-01.txt', '/content/drive/MyDrive/PL自動割り当て用プロトデータ/sample_r_and_d_report/response_2024-03-28_09-21-14.txt', '/content/drive/MyDrive/PL自動割り当て用プロトデータ/sample_r_and_d_report/response_2024-03-28_09-21-31.txt', '/content/drive/MyDrive/PL自動割り当て用プロトデータ/sample_r_and_d_report/response_2024-03-28_09-21-49.txt', '/content/drive/MyDrive/PL自動割り当て用プロトデータ/sample_r_and_d_report/response_2024-03-28_09-22-03.txt', '/content/drive/MyDrive/PL自動割り当て用プロトデータ/sample_r_and_d_report/response_2024-03-28_09-22-18.txt', '/content/drive/MyDrive/PL自動割り当て用プロトデータ/sample_r_and_d_report/response_2024-03-28_09-22-36.txt'], ['/content/drive/MyDrive/PL自動割り当て用プロトデータ/sample_r_and_d_report/response_2024-03-28_09-22-47.txt', '/content/drive/MyDrive/PL自動割り当て用プロトデータ/sample_r_and_d_report/response_2024-03-28_09-22-56.txt', '/content/drive/MyDrive/PL自動割り当て用プロトデータ/sample_r_and_d_report/response_2024-03-28_09-23-12.txt', '/content/drive/MyDrive/PL自動割り当て用プロトデータ/sample_r_and_d_report/response_2024-03-28_09-23-25.txt', '/content/drive/MyDrive/PL自動割り当て用プロトデータ/sample_r_and_d_report/response_2024-03-28_09-23-38.txt', '/content/drive/MyDrive/PL自動割り当て用プロトデータ/sample_r_and_d_report/response_2024-03-28_09-23-53.txt', '/content/drive/MyDrive/PL自動割り当て用プロトデータ/sample_r_and_d_report/response_2024-03-28_09-24-03.txt', '/content/drive/MyDrive/PL自動割り当て用プロトデータ/sample_r_and_d_report/response_2024-03-28_09-24-23.txt', '/content/drive/MyDrive/PL自動割り当て用プロトデータ/sample_r_and_d_report/response_2024-03-28_09-24-37.txt', '/content/drive/MyDrive/PL自動割り当て用プロトデータ/sample_r_and_d_report/response_2024-03-28_09-24-50.txt', '/content/drive/MyDrive/PL自動割り当て用プロトデータ/sample_r_and_d_report/response_2024-03-28_09-25-03.txt', '/content/drive/MyDrive/PL自動割り当て用プロトデータ/sample_r_and_d_report/response_2024-03-28_09-25-15.txt'], ['/content/drive/MyDrive/PL自動割り当て用プロトデータ/sample_r_and_d_report/response_2024-03-28_09-25-25.txt', '/content/drive/MyDrive/PL自動割り当て用プロトデータ/sample_r_and_d_report/response_2024-03-28_09-25-36.txt', '/content/drive/MyDrive/PL自動割り当て用プロトデータ/sample_r_and_d_report/response_2024-03-28_09-25-55.txt', '/content/drive/MyDrive/PL自動割り当て用プロトデータ/sample_r_and_d_report/response_2024-03-28_09-26-09.txt', '/content/drive/MyDrive/PL自動割り当て用プロトデータ/sample_r_and_d_report/response_2024-03-28_09-26-19.txt', '/content/drive/MyDrive/PL自動割り当て用プロトデータ/sample_r_and_d_report/response_2024-03-28_09-26-31.txt', '/content/drive/MyDrive/PL自動割り当て用プロトデータ/sample_r_and_d_report/response_2024-03-28_09-26-43.txt', '/content/drive/MyDrive/PL自動割り当て用プロトデータ/sample_r_and_d_report/response_2024-03-28_09-27-01.txt', '/content/drive/MyDrive/PL自動割り当て用プロトデータ/sample_r_and_d_report/response_2024-03-28_09-27-14.txt', '/content/drive/MyDrive/PL自動割り当て用プロトデータ/sample_r_and_d_report/response_2024-03-28_09-27-27.txt', '/content/drive/MyDrive/PL自動割り当て用プロトデータ/sample_r_and_d_report/response_2024-03-28_09-27-45.txt', '/content/drive/MyDrive/PL自動割り当て用プロトデータ/sample_r_and_d_report/response_2024-03-28_09-28-00.txt'], ['/content/drive/MyDrive/PL自動割り当て用プロトデータ/sample_r_and_d_report/response_2024-03-28_09-28-13.txt']]\n"
          ]
        }
      ]
    },
    {
      "cell_type": "code",
      "source": [
        "print(len(file_path_groups))"
      ],
      "metadata": {
        "colab": {
          "base_uri": "https://localhost:8080/"
        },
        "id": "PZtfhgVlawbg",
        "outputId": "d15e231e-5ea2-4003-8c34-75411cb5f6b9"
      },
      "execution_count": null,
      "outputs": [
        {
          "output_type": "stream",
          "name": "stdout",
          "text": [
            "45\n"
          ]
        }
      ]
    },
    {
      "cell_type": "markdown",
      "source": [
        "# CSVに作業者と作業済みファイルのデータを登録する"
      ],
      "metadata": {
        "id": "xonCbdTBzLa-"
      }
    },
    {
      "cell_type": "code",
      "source": [
        "import csv\n",
        "import random\n",
        "\n",
        "# CSVを作成する\n",
        "\n",
        "def assign_file_info(file_paths, csv_file):\n",
        "    # CSVファイルが存在しない場合は新規作成し、ヘッダーを書き込む\n",
        "    if not os.path.exists(csv_file):\n",
        "        with open(csv_file, mode='w', newline='') as file:\n",
        "            writer = csv.writer(file)\n",
        "            writer.writerow(['index', 'file_path', 'worker_id'])\n",
        "\n",
        "    # 既存のCSVファイルからデータを読み込む\n",
        "    existing_data = []\n",
        "    if os.path.exists(csv_file):\n",
        "        with open(csv_file, mode='r') as file:\n",
        "            reader = csv.reader(file)\n",
        "            next(reader)  # ヘッダーをスキップ\n",
        "            existing_data = list(reader)\n",
        "\n",
        "    # worker_idごとの優先ファイルパスの設定\n",
        "    priority_paths = {\n",
        "        1: 'IT',\n",
        "        2: 'houmu',\n",
        "        3: 'qa',\n",
        "        4: 'quality',\n",
        "        5: 'r_and_d'\n",
        "    }\n",
        "\n",
        "    # 新しいデータを生成\n",
        "    new_data = []\n",
        "    for file_path in file_paths:\n",
        "        index = len(existing_data) + len(new_data)\n",
        "\n",
        "        # 優先ファイルパスに基づいてworker_idを割り当て\n",
        "        assigned_worker_id = None\n",
        "        for worker_id, priority_path in priority_paths.items():\n",
        "            if priority_path in file_path:\n",
        "                if random.random() < 0.8:  # 80%の確率で優先割り当て\n",
        "                    assigned_worker_id = worker_id\n",
        "                    break\n",
        "\n",
        "        # 優先割り当てされなかった場合はランダムにworker_idを割り当て\n",
        "        if assigned_worker_id is None:\n",
        "            assigned_worker_id = random.randint(1, 5)\n",
        "\n",
        "        new_data.append([index, file_path, assigned_worker_id])\n",
        "\n",
        "           # 新しいデータをCSVファイルに追記\n",
        "    with open(csv_file, mode='a', newline='') as file:\n",
        "        writer = csv.writer(file)\n",
        "        writer.writerows(new_data)\n",
        "\n",
        "    print(f\"Assigned {len(new_data)} files to workers.\")"
      ],
      "metadata": {
        "id": "CQVKyOKfzUmD"
      },
      "execution_count": 16,
      "outputs": []
    },
    {
      "cell_type": "code",
      "source": [
        "# ファイルパスを取得\n",
        "csv_file = \"./worked_files.csv\"\n",
        "\n",
        "assign_file_info(file_paths, csv_file)"
      ],
      "metadata": {
        "colab": {
          "base_uri": "https://localhost:8080/"
        },
        "id": "BD0KvLEq1Y7D",
        "outputId": "e06d528b-dc42-49ce-b5f9-fd80eca04e86"
      },
      "execution_count": 17,
      "outputs": [
        {
          "output_type": "stream",
          "name": "stdout",
          "text": [
            "Assigned 548 files to workers.\n"
          ]
        }
      ]
    },
    {
      "cell_type": "code",
      "source": [
        "# フォルダごとに割り当てられた担当者の割合を出す関数\n",
        "from collections import defaultdict\n",
        "\n",
        "def analyze_worker_distribution(csv_file):\n",
        "    # フォルダごとの担当者の割合を格納する辞書\n",
        "    folder_worker_distribution = {\n",
        "        'IT': defaultdict(int),\n",
        "        'houmu': defaultdict(int),\n",
        "        'qa': defaultdict(int),\n",
        "        'quality': defaultdict(int),\n",
        "        'r_and_d': defaultdict(int)\n",
        "    }\n",
        "\n",
        "    # CSVファイルからデータを読み込む\n",
        "    with open(csv_file, mode='r') as file:\n",
        "        reader = csv.reader(file)\n",
        "        next(reader)  # ヘッダーをスキップ\n",
        "\n",
        "        # 各行を処理\n",
        "        for row in reader:\n",
        "            file_path = row[1]\n",
        "            worker_id = int(row[2])\n",
        "\n",
        "            # フォルダごとに担当者の割合を集計\n",
        "            for folder in folder_worker_distribution.keys():\n",
        "                if folder in file_path:\n",
        "                    folder_worker_distribution[folder][worker_id] += 1\n",
        "                    break\n",
        "\n",
        "    # 割合を計算して表示\n",
        "    for folder, worker_counts in folder_worker_distribution.items():\n",
        "        total_files = sum(worker_counts.values())\n",
        "        if total_files > 0:\n",
        "            print(f\"Folder: {folder}\")\n",
        "            for worker_id, count in worker_counts.items():\n",
        "                percentage = count / total_files * 100\n",
        "                print(f\"  Worker {worker_id}: {percentage:.2f}%\")\n",
        "        else:\n",
        "            print(f\"Folder: {folder}\")\n",
        "            print(\"  No files assigned.\")\n",
        "        print()"
      ],
      "metadata": {
        "id": "91DLtXsR4NWh"
      },
      "execution_count": 12,
      "outputs": []
    },
    {
      "cell_type": "code",
      "source": [
        "analyze_worker_distribution(csv_file)"
      ],
      "metadata": {
        "colab": {
          "base_uri": "https://localhost:8080/"
        },
        "id": "2nFzIdvV4YR3",
        "outputId": "5640bc97-33a7-443b-ae0b-030064749f72"
      },
      "execution_count": 18,
      "outputs": [
        {
          "output_type": "stream",
          "name": "stdout",
          "text": [
            "Folder: IT\n",
            "  Worker 4: 8.57%\n",
            "  Worker 1: 84.29%\n",
            "  Worker 2: 2.86%\n",
            "  Worker 5: 2.86%\n",
            "  Worker 3: 1.43%\n",
            "\n",
            "Folder: houmu\n",
            "  Worker 1: 5.63%\n",
            "  Worker 2: 83.10%\n",
            "  Worker 3: 7.04%\n",
            "  Worker 4: 2.82%\n",
            "  Worker 5: 1.41%\n",
            "\n",
            "Folder: qa\n",
            "  Worker 3: 82.78%\n",
            "  Worker 5: 5.26%\n",
            "  Worker 2: 4.31%\n",
            "  Worker 1: 4.31%\n",
            "  Worker 4: 3.35%\n",
            "\n",
            "Folder: quality\n",
            "  Worker 4: 76.85%\n",
            "  Worker 3: 7.41%\n",
            "  Worker 1: 9.26%\n",
            "  Worker 2: 2.78%\n",
            "  Worker 5: 3.70%\n",
            "\n",
            "Folder: r_and_d\n",
            "  Worker 5: 80.00%\n",
            "  Worker 3: 6.67%\n",
            "  Worker 1: 7.78%\n",
            "  Worker 4: 3.33%\n",
            "  Worker 2: 2.22%\n",
            "\n"
          ]
        }
      ]
    },
    {
      "cell_type": "markdown",
      "source": [
        "# Embedding"
      ],
      "metadata": {
        "id": "l0I_rpZGU4AK"
      }
    },
    {
      "cell_type": "code",
      "source": [
        "!pip install openai"
      ],
      "metadata": {
        "colab": {
          "base_uri": "https://localhost:8080/"
        },
        "id": "bjGudzIuUdHJ",
        "outputId": "96754004-599d-47c5-ac4c-54b2853a9674"
      },
      "execution_count": null,
      "outputs": [
        {
          "output_type": "stream",
          "name": "stdout",
          "text": [
            "Requirement already satisfied: openai in /usr/local/lib/python3.10/dist-packages (1.14.3)\n",
            "Requirement already satisfied: anyio<5,>=3.5.0 in /usr/local/lib/python3.10/dist-packages (from openai) (3.7.1)\n",
            "Requirement already satisfied: distro<2,>=1.7.0 in /usr/lib/python3/dist-packages (from openai) (1.7.0)\n",
            "Requirement already satisfied: httpx<1,>=0.23.0 in /usr/local/lib/python3.10/dist-packages (from openai) (0.27.0)\n",
            "Requirement already satisfied: pydantic<3,>=1.9.0 in /usr/local/lib/python3.10/dist-packages (from openai) (2.6.4)\n",
            "Requirement already satisfied: sniffio in /usr/local/lib/python3.10/dist-packages (from openai) (1.3.1)\n",
            "Requirement already satisfied: tqdm>4 in /usr/local/lib/python3.10/dist-packages (from openai) (4.66.2)\n",
            "Requirement already satisfied: typing-extensions<5,>=4.7 in /usr/local/lib/python3.10/dist-packages (from openai) (4.10.0)\n",
            "Requirement already satisfied: idna>=2.8 in /usr/local/lib/python3.10/dist-packages (from anyio<5,>=3.5.0->openai) (3.6)\n",
            "Requirement already satisfied: exceptiongroup in /usr/local/lib/python3.10/dist-packages (from anyio<5,>=3.5.0->openai) (1.2.0)\n",
            "Requirement already satisfied: certifi in /usr/local/lib/python3.10/dist-packages (from httpx<1,>=0.23.0->openai) (2024.2.2)\n",
            "Requirement already satisfied: httpcore==1.* in /usr/local/lib/python3.10/dist-packages (from httpx<1,>=0.23.0->openai) (1.0.5)\n",
            "Requirement already satisfied: h11<0.15,>=0.13 in /usr/local/lib/python3.10/dist-packages (from httpcore==1.*->httpx<1,>=0.23.0->openai) (0.14.0)\n",
            "Requirement already satisfied: annotated-types>=0.4.0 in /usr/local/lib/python3.10/dist-packages (from pydantic<3,>=1.9.0->openai) (0.6.0)\n",
            "Requirement already satisfied: pydantic-core==2.16.3 in /usr/local/lib/python3.10/dist-packages (from pydantic<3,>=1.9.0->openai) (2.16.3)\n"
          ]
        }
      ]
    },
    {
      "cell_type": "code",
      "source": [
        "from openai import OpenAI\n",
        "from google.colab import userdata\n",
        "os.environ[\"OPENAI_API_KEY\"] = userdata.get(\"OPENAI_API_KEY\")\n",
        "# クライアントの準備\n",
        "client = OpenAI()"
      ],
      "metadata": {
        "id": "m5xN31Imcm_W"
      },
      "execution_count": null,
      "outputs": []
    },
    {
      "cell_type": "code",
      "source": [
        "import numpy as np\n",
        "\n",
        "def get_embeddings(texts: List[str]) -> List[List[float]]:\n",
        "\n",
        "  response = client.embeddings.create(\n",
        "    input=texts,\n",
        "    model=\"text-embedding-ada-002\"\n",
        " )\n",
        "  return response"
      ],
      "metadata": {
        "id": "UR6VqpvXUFbJ"
      },
      "execution_count": null,
      "outputs": []
    },
    {
      "cell_type": "code",
      "source": [
        "# ファイルパスからファイルを取得する\n",
        "def get_file_contents(file_paths):\n",
        "    file_contents = []\n",
        "    for path in file_paths:\n",
        "        try:\n",
        "            with open(path, 'r') as file:\n",
        "                content = file.read()\n",
        "                file_contents.append(content)\n",
        "        except IOError:\n",
        "            print(f\"ファイル {path} の読み込み中にエラーが発生しました。\")\n",
        "    return file_contents"
      ],
      "metadata": {
        "id": "y-Y4XBT9dlaQ"
      },
      "execution_count": null,
      "outputs": []
    },
    {
      "cell_type": "code",
      "source": [
        "# ループでEmbeddingの値を格納する\n",
        "def get_all_embeddings(filePaths):\n",
        "  embeddings = []\n",
        "  for filePath in filePaths:\n",
        "    print(filePath)\n",
        "    file_contents = get_file_contents(filePath)\n",
        "    response = get_embeddings(file_contents)\n",
        "    batch_embeddings = [record.embedding for record in response.data]\n",
        "    embeddings.extend(batch_embeddings)\n",
        "  return embeddings"
      ],
      "metadata": {
        "id": "vPkWz0hojK1U"
      },
      "execution_count": null,
      "outputs": []
    },
    {
      "cell_type": "code",
      "source": [
        "# npyファイルとして保存する関数\n",
        "def save_embeddings(embeddings, file_path):\n",
        "    np.save(file_path, embeddings)"
      ],
      "metadata": {
        "id": "js2LT6_ue_zi"
      },
      "execution_count": null,
      "outputs": []
    },
    {
      "cell_type": "code",
      "source": [
        "#contents_1 = get_file_contents(file_path_groups[0])\n",
        "contents_2 = get_file_contents(file_path_groups[1])\n",
        "print(len(contents_2))\n",
        "\n",
        "print(file_path_groups)"
      ],
      "metadata": {
        "colab": {
          "base_uri": "https://localhost:8080/"
        },
        "id": "nl47iDzGeHkZ",
        "outputId": "2f12ca3f-8c2c-4404-de3d-84854c797576"
      },
      "execution_count": null,
      "outputs": [
        {
          "output_type": "stream",
          "name": "stdout",
          "text": [
            "10\n",
            "[['/content/drive/MyDrive/PL自動割り当て用プロトデータ/sample_houmu_agm/response_2024-03-28_07-28-23_1.txt', '/content/drive/MyDrive/PL自動割り当て用プロトデータ/sample_houmu_agm/response_2024-03-28_07-29-21_1.txt', '/content/drive/MyDrive/PL自動割り当て用プロトデータ/sample_houmu_agm/response_2024-03-28_07-29-35_2.txt', '/content/drive/MyDrive/PL自動割り当て用プロトデータ/sample_houmu_agm/response_2024-03-28_07-29-47_3.txt', '/content/drive/MyDrive/PL自動割り当て用プロトデータ/sample_houmu_agm/response_2024-03-28_07-30-16_4.txt', '/content/drive/MyDrive/PL自動割り当て用プロトデータ/sample_houmu_agm/response_2024-03-28_07-30-28_5.txt', '/content/drive/MyDrive/PL自動割り当て用プロトデータ/sample_houmu_agm/response_2024-03-28_07-30-44_6.txt', '/content/drive/MyDrive/PL自動割り当て用プロトデータ/sample_houmu_agm/response_2024-03-28_07-31-01_7.txt', '/content/drive/MyDrive/PL自動割り当て用プロトデータ/sample_houmu_agm/response_2024-03-28_07-31-18_8.txt', '/content/drive/MyDrive/PL自動割り当て用プロトデータ/sample_houmu_agm/response_2024-03-28_07-31-38_9.txt', '/content/drive/MyDrive/PL自動割り当て用プロトデータ/sample_houmu_agm/response_2024-03-28_07-31-48_10.txt', '/content/drive/MyDrive/PL自動割り当て用プロトデータ/sample_houmu_agm/response_2024-03-28_07-31-56_11.txt'], ['/content/drive/MyDrive/PL自動割り当て用プロトデータ/sample_houmu_agm/response_2024-03-28_07-32-15_12.txt', '/content/drive/MyDrive/PL自動割り当て用プロトデータ/sample_houmu_agm/response_2024-03-28_07-32-27_13.txt', '/content/drive/MyDrive/PL自動割り当て用プロトデータ/sample_houmu_agm/response_2024-03-28_07-32-42_14.txt', '/content/drive/MyDrive/PL自動割り当て用プロトデータ/sample_houmu_agm/response_2024-03-28_07-33-03_15.txt', '/content/drive/MyDrive/PL自動割り当て用プロトデータ/sample_houmu_agm/response_2024-03-28_07-33-15_16.txt', '/content/drive/MyDrive/PL自動割り当て用プロトデータ/sample_houmu_agm/response_2024-03-28_07-33-28_17.txt', '/content/drive/MyDrive/PL自動割り当て用プロトデータ/sample_houmu_agm/response_2024-03-28_07-33-41_18.txt', '/content/drive/MyDrive/PL自動割り当て用プロトデータ/sample_houmu_agm/response_2024-03-28_07-33-59_19.txt', '/content/drive/MyDrive/PL自動割り当て用プロトデータ/sample_houmu_agm/response_2024-03-28_07-34-14_20.txt', '/content/drive/MyDrive/PL自動割り当て用プロトデータ/sample_houmu_agm/response_2024-03-28_07-34-28_21.txt'], ['/content/drive/MyDrive/PL自動割り当て用プロトデータ/sample_houmu_agm/response_2024-03-28_07-34-43_22.txt', '/content/drive/MyDrive/PL自動割り当て用プロトデータ/sample_houmu_agm/response_2024-03-28_07-34-59_23.txt', '/content/drive/MyDrive/PL自動割り当て用プロトデータ/sample_houmu_agm/response_2024-03-28_07-35-09_24.txt', '/content/drive/MyDrive/PL自動割り当て用プロトデータ/sample_houmu_agm/response_2024-03-28_07-35-22_25.txt', '/content/drive/MyDrive/PL自動割り当て用プロトデータ/sample_houmu_agm/response_2024-03-28_07-35-48_26.txt', '/content/drive/MyDrive/PL自動割り当て用プロトデータ/sample_houmu_agm/response_2024-03-28_07-35-57_27.txt', '/content/drive/MyDrive/PL自動割り当て用プロトデータ/sample_houmu_agm/response_2024-03-28_07-36-16_28.txt', '/content/drive/MyDrive/PL自動割り当て用プロトデータ/sample_houmu_agm/response_2024-03-28_07-36-31_29.txt', '/content/drive/MyDrive/PL自動割り当て用プロトデータ/sample_houmu_agm/response_2024-03-28_07-36-41_30.txt', '/content/drive/MyDrive/PL自動割り当て用プロトデータ/sample_houmu_contract/response_2024-03-28_06-43-34_ソフトウェア開発委託契約書.txt'], ['/content/drive/MyDrive/PL自動割り当て用プロトデータ/sample_houmu_contract/response_2024-03-28_06-44-01_製造委託契約書.txt', '/content/drive/MyDrive/PL自動割り当て用プロトデータ/sample_houmu_contract/response_2024-03-28_06-44-24_販売代理店契約書.txt', '/content/drive/MyDrive/PL自動割り当て用プロトデータ/sample_houmu_contract/response_2024-03-28_06-44-37_建設工事請負契約書.txt', '/content/drive/MyDrive/PL自動割り当て用プロトデータ/sample_houmu_contract/response_2024-03-28_06-44-58_業務提携契約書.txt', '/content/drive/MyDrive/PL自動割り当て用プロトデータ/sample_houmu_contract/response_2024-03-28_06-45-27_賃貸借契約書.txt', '/content/drive/MyDrive/PL自動割り当て用プロトデータ/sample_houmu_contract/response_2024-03-28_06-45-43_秘密保持契約書.txt', '/content/drive/MyDrive/PL自動割り当て用プロトデータ/sample_houmu_contract/response_2024-03-28_06-46-03_株式譲渡契約書.txt', '/content/drive/MyDrive/PL自動割り当て用プロトデータ/sample_houmu_contract/response_2024-03-28_06-46-21_ライセンス契約書.txt'], ['/content/drive/MyDrive/PL自動割り当て用プロトデータ/sample_houmu_contract/response_2024-03-28_06-46-34_個人情報取扱委託契約書.txt', '/content/drive/MyDrive/PL自動割り当て用プロトデータ/sample_houmu_contract/response_2024-03-28_06-46-53_フランチャイズ契約書.txt', '/content/drive/MyDrive/PL自動割り当て用プロトデータ/sample_houmu_contract/response_2024-03-28_06-47-11_コンサルティング契約書.txt', '/content/drive/MyDrive/PL自動割り当て用プロトデータ/sample_houmu_contract/response_2024-03-28_06-47-33_商品売買契約書.txt', '/content/drive/MyDrive/PL自動割り当て用プロトデータ/sample_houmu_contract/response_2024-03-28_06-47-50_業務委託契約書.txt', '/content/drive/MyDrive/PL自動割り当て用プロトデータ/sample_houmu_contract/response_2024-03-28_06-48-15_共同研究開発契約書.txt', '/content/drive/MyDrive/PL自動割り当て用プロトデータ/sample_houmu_contract/response_2024-03-28_06-48-33_マーケティング業務委託契約書.txt', '/content/drive/MyDrive/PL自動割り当て用プロトデータ/sample_houmu_contract/response_2024-03-28_06-48-50_広告制作委託契約書.txt'], ['/content/drive/MyDrive/PL自動割り当て用プロトデータ/sample_houmu_contract/response_2024-03-28_06-49-08_リース契約書.txt', '/content/drive/MyDrive/PL自動割り当て用プロトデータ/sample_houmu_contract/response_2024-03-28_06-49-31_システム保守契約書.txt', '/content/drive/MyDrive/PL自動割り当て用プロトデータ/sample_houmu_contract/response_2024-03-28_06-49-42_テナント契約書.txt', '/content/drive/MyDrive/PL自動割り当て用プロトデータ/sample_houmu_contract/response_2024-03-28_06-50-10_業務提携基本契約書.txt', '/content/drive/MyDrive/PL自動割り当て用プロトデータ/sample_houmu_contract/response_2024-03-28_06-50-22_コンテンツ制作委託契約書.txt', '/content/drive/MyDrive/PL自動割り当て用プロトデータ/sample_houmu_contract/response_2024-03-28_06-50-39_スポンサー契約書.txt', '/content/drive/MyDrive/PL自動割り当て用プロトデータ/sample_houmu_contract/response_2024-03-28_06-50-51_物流業務委託契約書.txt', '/content/drive/MyDrive/PL自動割り当て用プロトデータ/sample_houmu_contract/response_2024-03-28_06-51-07_人材派遣契約書.txt'], ['/content/drive/MyDrive/PL自動割り当て用プロトデータ/sample_houmu_contract/response_2024-03-28_06-51-22_システム開発・運用委託契約書.txt', '/content/drive/MyDrive/PL自動割り当て用プロトデータ/sample_houmu_contract/response_2024-03-28_06-51-42_出版権設定契約書.txt', '/content/drive/MyDrive/PL自動割り当て用プロトデータ/sample_houmu_contract/response_2024-03-28_06-52-08_ホテル運営委託契約書.txt', '/content/drive/MyDrive/PL自動割り当て用プロトデータ/sample_houmu_contract/response_2024-03-28_06-52-27_商標ライセンス契約書.txt', '/content/drive/MyDrive/PL自動割り当て用プロトデータ/sample_houmu_contract/response_2024-03-28_06-52-46_イベント運営委託契約書.txt', '/content/drive/MyDrive/PL自動割り当て用プロトデータ/sample_houmu_syohyo_tokkyo/response_2024-03-28_07-58-03_商標の識別力.txt', '/content/drive/MyDrive/PL自動割り当て用プロトデータ/sample_houmu_syohyo_tokkyo/response_2024-03-28_07-58-12_商標の類似性.txt', '/content/drive/MyDrive/PL自動割り当て用プロトデータ/sample_houmu_syohyo_tokkyo/response_2024-03-28_07-58-19_商標の使用の事実.txt', '/content/drive/MyDrive/PL自動割り当て用プロトデータ/sample_houmu_syohyo_tokkyo/response_2024-03-28_07-58-29_商標の周知性.txt', '/content/drive/MyDrive/PL自動割り当て用プロトデータ/sample_houmu_syohyo_tokkyo/response_2024-03-28_07-58-36_商標登録の無効事由.txt', '/content/drive/MyDrive/PL自動割り当て用プロトデータ/sample_houmu_syohyo_tokkyo/response_2024-03-28_07-58-44_特許の新規性.txt'], ['/content/drive/MyDrive/PL自動割り当て用プロトデータ/sample_houmu_syohyo_tokkyo/response_2024-03-28_07-58-52_特許の進歩性.txt', '/content/drive/MyDrive/PL自動割り当て用プロトデータ/sample_houmu_syohyo_tokkyo/response_2024-03-28_07-59-00_特許の記載要件.txt', '/content/drive/MyDrive/PL自動割り当て用プロトデータ/sample_houmu_syohyo_tokkyo/response_2024-03-28_07-59-17_特許の用途限定.txt', '/content/drive/MyDrive/PL自動割り当て用プロトデータ/sample_houmu_syohyo_tokkyo/response_2024-03-28_07-59-29_特許権の効力.txt', '/content/drive/MyDrive/PL自動割り当て用プロトデータ/sample_IT_incident/response_2024-03-28_08-31-39.txt', '/content/drive/MyDrive/PL自動割り当て用プロトデータ/sample_IT_incident/response_2024-03-28_08-31-57.txt', '/content/drive/MyDrive/PL自動割り当て用プロトデータ/sample_IT_incident/response_2024-03-28_08-32-20.txt', '/content/drive/MyDrive/PL自動割り当て用プロトデータ/sample_IT_incident/response_2024-03-28_08-32-34.txt', '/content/drive/MyDrive/PL自動割り当て用プロトデータ/sample_IT_incident/response_2024-03-28_08-32-49.txt', '/content/drive/MyDrive/PL自動割り当て用プロトデータ/sample_IT_incident/response_2024-03-28_08-33-05.txt', '/content/drive/MyDrive/PL自動割り当て用プロトデータ/sample_IT_incident/response_2024-03-28_08-33-16.txt', '/content/drive/MyDrive/PL自動割り当て用プロトデータ/sample_IT_incident/response_2024-03-28_08-33-24.txt'], ['/content/drive/MyDrive/PL自動割り当て用プロトデータ/sample_IT_incident/response_2024-03-28_08-33-35.txt', '/content/drive/MyDrive/PL自動割り当て用プロトデータ/sample_IT_incident/response_2024-03-28_08-33-47.txt', '/content/drive/MyDrive/PL自動割り当て用プロトデータ/sample_IT_incident/response_2024-03-28_08-34-01.txt', '/content/drive/MyDrive/PL自動割り当て用プロトデータ/sample_IT_incident/response_2024-03-28_08-34-17.txt', '/content/drive/MyDrive/PL自動割り当て用プロトデータ/sample_IT_incident/response_2024-03-28_08-34-29.txt', '/content/drive/MyDrive/PL自動割り当て用プロトデータ/sample_IT_incident/response_2024-03-28_08-34-43.txt', '/content/drive/MyDrive/PL自動割り当て用プロトデータ/sample_IT_incident/response_2024-03-28_08-35-00.txt', '/content/drive/MyDrive/PL自動割り当て用プロトデータ/sample_IT_incident/response_2024-03-28_08-35-18.txt', '/content/drive/MyDrive/PL自動割り当て用プロトデータ/sample_IT_incident/response_2024-03-28_08-35-32.txt', '/content/drive/MyDrive/PL自動割り当て用プロトデータ/sample_IT_incident/response_2024-03-28_08-35-47.txt', '/content/drive/MyDrive/PL自動割り当て用プロトデータ/sample_IT_incident/response_2024-03-28_08-36-09.txt'], ['/content/drive/MyDrive/PL自動割り当て用プロトデータ/sample_IT_incident/response_2024-03-28_08-36-23.txt', '/content/drive/MyDrive/PL自動割り当て用プロトデータ/sample_IT_incident/response_2024-03-28_08-36-47.txt', '/content/drive/MyDrive/PL自動割り当て用プロトデータ/sample_IT_incident/response_2024-03-28_08-36-56.txt', '/content/drive/MyDrive/PL自動割り当て用プロトデータ/sample_IT_incident/response_2024-03-28_08-37-10.txt', '/content/drive/MyDrive/PL自動割り当て用プロトデータ/sample_IT_incident/response_2024-03-28_08-37-27.txt', '/content/drive/MyDrive/PL自動割り当て用プロトデータ/sample_IT_incident/response_2024-03-28_08-37-44.txt', '/content/drive/MyDrive/PL自動割り当て用プロトデータ/sample_IT_incident/response_2024-03-28_08-37-57.txt', '/content/drive/MyDrive/PL自動割り当て用プロトデータ/sample_IT_incident/response_2024-03-28_08-38-15.txt', '/content/drive/MyDrive/PL自動割り当て用プロトデータ/sample_IT_incident/response_2024-03-28_08-38-28.txt', '/content/drive/MyDrive/PL自動割り当て用プロトデータ/sample_IT_incident/response_2024-03-28_08-38-41.txt'], ['/content/drive/MyDrive/PL自動割り当て用プロトデータ/sample_IT_incident/response_2024-03-28_08-38-58.txt', '/content/drive/MyDrive/PL自動割り当て用プロトデータ/sample_IT_incident/response_2024-03-28_08-39-18.txt', '/content/drive/MyDrive/PL自動割り当て用プロトデータ/sample_IT_incident/response_2024-03-28_08-39-42.txt', '/content/drive/MyDrive/PL自動割り当て用プロトデータ/sample_IT_incident/response_2024-03-28_08-39-51.txt', '/content/drive/MyDrive/PL自動割り当て用プロトデータ/sample_IT_incident/response_2024-03-28_08-40-08.txt', '/content/drive/MyDrive/PL自動割り当て用プロトデータ/sample_IT_incident/response_2024-03-28_08-40-31.txt', '/content/drive/MyDrive/PL自動割り当て用プロトデータ/sample_IT_incident/response_2024-03-28_08-40-47.txt', '/content/drive/MyDrive/PL自動割り当て用プロトデータ/sample_IT_incident/response_2024-03-28_08-40-55.txt', '/content/drive/MyDrive/PL自動割り当て用プロトデータ/sample_IT_incident/response_2024-03-28_08-41-04.txt', '/content/drive/MyDrive/PL自動割り当て用プロトデータ/sample_IT_incident/response_2024-03-28_08-41-17.txt'], ['/content/drive/MyDrive/PL自動割り当て用プロトデータ/sample_IT_incident/response_2024-03-28_08-41-35.txt', '/content/drive/MyDrive/PL自動割り当て用プロトデータ/sample_IT_incident/response_2024-03-28_08-41-48.txt', '/content/drive/MyDrive/PL自動割り当て用プロトデータ/sample_IT_incident/response_2024-03-28_08-41-59.txt', '/content/drive/MyDrive/PL自動割り当て用プロトデータ/sample_IT_incident/response_2024-03-28_08-42-14.txt', '/content/drive/MyDrive/PL自動割り当て用プロトデータ/sample_IT_incident/response_2024-03-28_08-42-28.txt', '/content/drive/MyDrive/PL自動割り当て用プロトデータ/sample_IT_incident/response_2024-03-28_08-42-42.txt', '/content/drive/MyDrive/PL自動割り当て用プロトデータ/sample_IT_incident/response_2024-03-28_08-43-00.txt', '/content/drive/MyDrive/PL自動割り当て用プロトデータ/sample_IT_incident/response_2024-03-28_08-43-12.txt', '/content/drive/MyDrive/PL自動割り当て用プロトデータ/sample_IT_incident/response_2024-03-28_08-43-27.txt', '/content/drive/MyDrive/PL自動割り当て用プロトデータ/sample_IT_incident/response_2024-03-28_08-43-39.txt', '/content/drive/MyDrive/PL自動割り当て用プロトデータ/sample_IT_incident/response_2024-03-28_08-43-50.txt'], ['/content/drive/MyDrive/PL自動割り当て用プロトデータ/sample_IT_incident/response_2024-03-28_08-44-05.txt', '/content/drive/MyDrive/PL自動割り当て用プロトデータ/sample_IT_incident/response_2024-03-28_08-44-18.txt', '/content/drive/MyDrive/PL自動割り当て用プロトデータ/sample_IT_incident/response_2024-03-28_08-44-30.txt', '/content/drive/MyDrive/PL自動割り当て用プロトデータ/sample_IT_incident/response_2024-03-28_08-44-53.txt', '/content/drive/MyDrive/PL自動割り当て用プロトデータ/sample_IT_incident/response_2024-03-28_08-45-09.txt', '/content/drive/MyDrive/PL自動割り当て用プロトデータ/sample_IT_incident/response_2024-03-28_08-45-22.txt', '/content/drive/MyDrive/PL自動割り当て用プロトデータ/sample_IT_incident/response_2024-03-28_08-45-36.txt', '/content/drive/MyDrive/PL自動割り当て用プロトデータ/sample_IT_incident/response_2024-03-28_08-45-49.txt', '/content/drive/MyDrive/PL自動割り当て用プロトデータ/sample_IT_incident/response_2024-03-28_08-46-04.txt', '/content/drive/MyDrive/PL自動割り当て用プロトデータ/sample_IT_incident/response_2024-03-28_08-46-17.txt'], ['/content/drive/MyDrive/PL自動割り当て用プロトデータ/sample_IT_incident/response_2024-03-28_08-46-32.txt', '/content/drive/MyDrive/PL自動割り当て用プロトデータ/sample_IT_incident/response_2024-03-28_08-46-51.txt', '/content/drive/MyDrive/PL自動割り当て用プロトデータ/sample_IT_incident/response_2024-03-28_08-47-11.txt', '/content/drive/MyDrive/PL自動割り当て用プロトデータ/sample_IT_incident/response_2024-03-28_08-47-28.txt', '/content/drive/MyDrive/PL自動割り当て用プロトデータ/sample_IT_incident/response_2024-03-28_08-47-51.txt', '/content/drive/MyDrive/PL自動割り当て用プロトデータ/sample_IT_incident/response_2024-03-28_08-48-03.txt', '/content/drive/MyDrive/PL自動割り当て用プロトデータ/sample_IT_incident/response_2024-03-28_08-48-26.txt', '/content/drive/MyDrive/PL自動割り当て用プロトデータ/sample_IT_incident/response_2024-03-28_08-48-41.txt', '/content/drive/MyDrive/PL自動割り当て用プロトデータ/sample_IT_incident/response_2024-03-28_08-48-59.txt', '/content/drive/MyDrive/PL自動割り当て用プロトデータ/sample_IT_incident/response_2024-03-28_08-49-14.txt', '/content/drive/MyDrive/PL自動割り当て用プロトデータ/sample_qa/response_2024-03-28_05-30-16_qa.txt'], ['/content/drive/MyDrive/PL自動割り当て用プロトデータ/sample_qa/response_2024-03-28_05-30-20_qa.txt', '/content/drive/MyDrive/PL自動割り当て用プロトデータ/sample_qa/response_2024-03-28_05-30-30_qa.txt', '/content/drive/MyDrive/PL自動割り当て用プロトデータ/sample_qa/response_2024-03-28_05-30-39_qa.txt', '/content/drive/MyDrive/PL自動割り当て用プロトデータ/sample_qa/response_2024-03-28_05-30-49_qa.txt', '/content/drive/MyDrive/PL自動割り当て用プロトデータ/sample_qa/response_2024-03-28_05-30-57_qa.txt', '/content/drive/MyDrive/PL自動割り当て用プロトデータ/sample_qa/response_2024-03-28_05-31-07_qa.txt', '/content/drive/MyDrive/PL自動割り当て用プロトデータ/sample_qa/response_2024-03-28_05-31-14_qa.txt', '/content/drive/MyDrive/PL自動割り当て用プロトデータ/sample_qa/response_2024-03-28_05-31-25_qa.txt', '/content/drive/MyDrive/PL自動割り当て用プロトデータ/sample_qa/response_2024-03-28_05-31-34_qa.txt', '/content/drive/MyDrive/PL自動割り当て用プロトデータ/sample_qa/response_2024-03-28_05-31-42_qa.txt', '/content/drive/MyDrive/PL自動割り当て用プロトデータ/sample_qa/response_2024-03-28_05-31-49_qa.txt', '/content/drive/MyDrive/PL自動割り当て用プロトデータ/sample_qa/response_2024-03-28_05-31-56_qa.txt', '/content/drive/MyDrive/PL自動割り当て用プロトデータ/sample_qa/response_2024-03-28_05-32-03_qa.txt', '/content/drive/MyDrive/PL自動割り当て用プロトデータ/sample_qa/response_2024-03-28_05-32-08_qa.txt', '/content/drive/MyDrive/PL自動割り当て用プロトデータ/sample_qa/response_2024-03-28_05-32-18_qa.txt', '/content/drive/MyDrive/PL自動割り当て用プロトデータ/sample_qa/response_2024-03-28_05-32-31_qa.txt', '/content/drive/MyDrive/PL自動割り当て用プロトデータ/sample_qa/response_2024-03-28_05-32-42_qa.txt'], ['/content/drive/MyDrive/PL自動割り当て用プロトデータ/sample_qa/response_2024-03-28_05-32-52_qa.txt', '/content/drive/MyDrive/PL自動割り当て用プロトデータ/sample_qa/response_2024-03-28_05-33-07_qa.txt', '/content/drive/MyDrive/PL自動割り当て用プロトデータ/sample_qa/response_2024-03-28_05-33-18_qa.txt', '/content/drive/MyDrive/PL自動割り当て用プロトデータ/sample_qa/response_2024-03-28_05-33-24_qa.txt', '/content/drive/MyDrive/PL自動割り当て用プロトデータ/sample_qa/response_2024-03-28_05-33-32_qa.txt', '/content/drive/MyDrive/PL自動割り当て用プロトデータ/sample_qa/response_2024-03-28_05-33-40_qa.txt', '/content/drive/MyDrive/PL自動割り当て用プロトデータ/sample_qa/response_2024-03-28_05-33-49_qa.txt', '/content/drive/MyDrive/PL自動割り当て用プロトデータ/sample_qa/response_2024-03-28_05-34-00_qa.txt', '/content/drive/MyDrive/PL自動割り当て用プロトデータ/sample_qa/response_2024-03-28_05-34-10_qa.txt', '/content/drive/MyDrive/PL自動割り当て用プロトデータ/sample_qa/response_2024-03-28_05-34-19_qa.txt', '/content/drive/MyDrive/PL自動割り当て用プロトデータ/sample_qa/response_2024-03-28_05-34-28_qa.txt', '/content/drive/MyDrive/PL自動割り当て用プロトデータ/sample_qa/response_2024-03-28_05-34-38_qa.txt', '/content/drive/MyDrive/PL自動割り当て用プロトデータ/sample_qa/response_2024-03-28_05-34-49_qa.txt', '/content/drive/MyDrive/PL自動割り当て用プロトデータ/sample_qa/response_2024-03-28_05-35-00_qa.txt', '/content/drive/MyDrive/PL自動割り当て用プロトデータ/sample_qa/response_2024-03-28_05-35-07_qa.txt', '/content/drive/MyDrive/PL自動割り当て用プロトデータ/sample_qa/response_2024-03-28_05-35-15_qa.txt', '/content/drive/MyDrive/PL自動割り当て用プロトデータ/sample_qa/response_2024-03-28_05-35-22_qa.txt'], ['/content/drive/MyDrive/PL自動割り当て用プロトデータ/sample_qa/response_2024-03-28_05-35-31_qa.txt', '/content/drive/MyDrive/PL自動割り当て用プロトデータ/sample_qa/response_2024-03-28_05-35-41_qa.txt', '/content/drive/MyDrive/PL自動割り当て用プロトデータ/sample_qa/response_2024-03-28_05-35-51_qa.txt', '/content/drive/MyDrive/PL自動割り当て用プロトデータ/sample_qa/response_2024-03-28_05-36-01_qa.txt', '/content/drive/MyDrive/PL自動割り当て用プロトデータ/sample_qa/response_2024-03-28_05-36-08_qa.txt', '/content/drive/MyDrive/PL自動割り当て用プロトデータ/sample_qa/response_2024-03-28_05-36-14_qa.txt', '/content/drive/MyDrive/PL自動割り当て用プロトデータ/sample_qa/response_2024-03-28_05-36-23_qa.txt', '/content/drive/MyDrive/PL自動割り当て用プロトデータ/sample_qa/response_2024-03-28_05-36-29_qa.txt', '/content/drive/MyDrive/PL自動割り当て用プロトデータ/sample_qa/response_2024-03-28_05-36-36_qa.txt', '/content/drive/MyDrive/PL自動割り当て用プロトデータ/sample_qa/response_2024-03-28_05-36-44_qa.txt', '/content/drive/MyDrive/PL自動割り当て用プロトデータ/sample_qa/response_2024-03-28_05-36-55_qa.txt', '/content/drive/MyDrive/PL自動割り当て用プロトデータ/sample_qa/response_2024-03-28_05-37-04_qa.txt', '/content/drive/MyDrive/PL自動割り当て用プロトデータ/sample_qa/response_2024-03-28_05-37-14_qa.txt', '/content/drive/MyDrive/PL自動割り当て用プロトデータ/sample_qa/response_2024-03-28_05-37-22_qa.txt', '/content/drive/MyDrive/PL自動割り当て用プロトデータ/sample_qa/response_2024-03-28_05-37-31_qa.txt', '/content/drive/MyDrive/PL自動割り当て用プロトデータ/sample_qa/response_2024-03-28_05-37-39_qa.txt', '/content/drive/MyDrive/PL自動割り当て用プロトデータ/sample_qa/response_2024-03-28_05-37-44_qa.txt'], ['/content/drive/MyDrive/PL自動割り当て用プロトデータ/sample_qa/response_2024-03-28_05-37-55_qa.txt', '/content/drive/MyDrive/PL自動割り当て用プロトデータ/sample_qa/response_2024-03-28_05-38-00_qa.txt', '/content/drive/MyDrive/PL自動割り当て用プロトデータ/sample_qa/response_2024-03-28_05-38-17_qa.txt', '/content/drive/MyDrive/PL自動割り当て用プロトデータ/sample_qa/response_2024-03-28_05-38-24_qa.txt', '/content/drive/MyDrive/PL自動割り当て用プロトデータ/sample_qa/response_2024-03-28_05-38-35_qa.txt', '/content/drive/MyDrive/PL自動割り当て用プロトデータ/sample_qa/response_2024-03-28_05-38-43_qa.txt', '/content/drive/MyDrive/PL自動割り当て用プロトデータ/sample_qa/response_2024-03-28_05-38-51_qa.txt', '/content/drive/MyDrive/PL自動割り当て用プロトデータ/sample_qa/response_2024-03-28_05-39-00_qa.txt', '/content/drive/MyDrive/PL自動割り当て用プロトデータ/sample_qa/response_2024-03-28_05-39-13_qa.txt', '/content/drive/MyDrive/PL自動割り当て用プロトデータ/sample_qa/response_2024-03-28_05-39-22_qa.txt', '/content/drive/MyDrive/PL自動割り当て用プロトデータ/sample_qa/response_2024-03-28_05-39-32_qa.txt', '/content/drive/MyDrive/PL自動割り当て用プロトデータ/sample_qa/response_2024-03-28_05-39-39_qa.txt', '/content/drive/MyDrive/PL自動割り当て用プロトデータ/sample_qa/response_2024-03-28_05-39-45_qa.txt', '/content/drive/MyDrive/PL自動割り当て用プロトデータ/sample_qa/response_2024-03-28_05-39-54_qa.txt', '/content/drive/MyDrive/PL自動割り当て用プロトデータ/sample_qa/response_2024-03-28_05-40-00_qa.txt', '/content/drive/MyDrive/PL自動割り当て用プロトデータ/sample_qa/response_2024-03-28_05-40-08_qa.txt'], ['/content/drive/MyDrive/PL自動割り当て用プロトデータ/sample_qa/response_2024-03-28_05-40-15_qa.txt', '/content/drive/MyDrive/PL自動割り当て用プロトデータ/sample_qa/response_2024-03-28_05-40-28_qa.txt', '/content/drive/MyDrive/PL自動割り当て用プロトデータ/sample_qa/response_2024-03-28_05-40-35_qa.txt', '/content/drive/MyDrive/PL自動割り当て用プロトデータ/sample_qa/response_2024-03-28_05-40-41_qa.txt', '/content/drive/MyDrive/PL自動割り当て用プロトデータ/sample_qa/response_2024-03-28_05-40-49_qa.txt', '/content/drive/MyDrive/PL自動割り当て用プロトデータ/sample_qa/response_2024-03-28_05-40-57_qa.txt', '/content/drive/MyDrive/PL自動割り当て用プロトデータ/sample_qa/response_2024-03-28_05-41-12_qa.txt', '/content/drive/MyDrive/PL自動割り当て用プロトデータ/sample_qa/response_2024-03-28_05-41-21_qa.txt', '/content/drive/MyDrive/PL自動割り当て用プロトデータ/sample_qa/response_2024-03-28_05-41-29_qa.txt', '/content/drive/MyDrive/PL自動割り当て用プロトデータ/sample_qa/response_2024-03-28_05-41-38_qa.txt', '/content/drive/MyDrive/PL自動割り当て用プロトデータ/sample_qa/response_2024-03-28_05-41-47_qa.txt', '/content/drive/MyDrive/PL自動割り当て用プロトデータ/sample_qa/response_2024-03-28_05-41-56_qa.txt', '/content/drive/MyDrive/PL自動割り当て用プロトデータ/sample_qa/response_2024-03-28_05-42-08_qa.txt', '/content/drive/MyDrive/PL自動割り当て用プロトデータ/sample_qa/response_2024-03-28_05-42-20_qa.txt', '/content/drive/MyDrive/PL自動割り当て用プロトデータ/sample_qa/response_2024-03-28_05-42-32_qa.txt', '/content/drive/MyDrive/PL自動割り当て用プロトデータ/sample_qa/response_2024-03-28_05-42-41_qa.txt'], ['/content/drive/MyDrive/PL自動割り当て用プロトデータ/sample_qa/response_2024-03-28_05-42-53_qa.txt', '/content/drive/MyDrive/PL自動割り当て用プロトデータ/sample_qa/response_2024-03-28_05-43-03_qa.txt', '/content/drive/MyDrive/PL自動割り当て用プロトデータ/sample_qa/response_2024-03-28_05-43-07_qa.txt', '/content/drive/MyDrive/PL自動割り当て用プロトデータ/sample_qa/response_2024-03-28_05-43-19_qa.txt', '/content/drive/MyDrive/PL自動割り当て用プロトデータ/sample_qa/response_2024-03-28_05-43-27_qa.txt', '/content/drive/MyDrive/PL自動割り当て用プロトデータ/sample_qa/response_2024-03-28_05-43-35_qa.txt', '/content/drive/MyDrive/PL自動割り当て用プロトデータ/sample_qa/response_2024-03-28_05-43-44_qa.txt', '/content/drive/MyDrive/PL自動割り当て用プロトデータ/sample_qa/response_2024-03-28_05-43-55_qa.txt', '/content/drive/MyDrive/PL自動割り当て用プロトデータ/sample_qa/response_2024-03-28_05-44-04_qa.txt', '/content/drive/MyDrive/PL自動割り当て用プロトデータ/sample_qa/response_2024-03-28_05-44-15_qa.txt', '/content/drive/MyDrive/PL自動割り当て用プロトデータ/sample_qa/response_2024-03-28_05-44-25_qa.txt', '/content/drive/MyDrive/PL自動割り当て用プロトデータ/sample_qa/response_2024-03-28_05-44-30_qa.txt', '/content/drive/MyDrive/PL自動割り当て用プロトデータ/sample_qa/response_2024-03-28_05-44-40_qa.txt', '/content/drive/MyDrive/PL自動割り当て用プロトデータ/sample_qa/response_2024-03-28_05-44-47_qa.txt', '/content/drive/MyDrive/PL自動割り当て用プロトデータ/sample_qa/response_2024-03-28_05-44-52_qa.txt', '/content/drive/MyDrive/PL自動割り当て用プロトデータ/sample_qa/response_2024-03-28_05-45-00_qa.txt'], ['/content/drive/MyDrive/PL自動割り当て用プロトデータ/sample_qa/response_2024-03-28_05-45-09_qa.txt', '/content/drive/MyDrive/PL自動割り当て用プロトデータ/sample_qa/response_2024-03-28_05-45-25_qa.txt', '/content/drive/MyDrive/PL自動割り当て用プロトデータ/sample_qa/response_2024-03-28_05-45-29_qa.txt', '/content/drive/MyDrive/PL自動割り当て用プロトデータ/sample_qa/response_2024-03-28_05-45-39_qa.txt', '/content/drive/MyDrive/PL自動割り当て用プロトデータ/sample_qa/response_2024-03-28_05-45-50_qa.txt', '/content/drive/MyDrive/PL自動割り当て用プロトデータ/sample_qa/response_2024-03-28_05-45-55_qa.txt', '/content/drive/MyDrive/PL自動割り当て用プロトデータ/sample_qa/response_2024-03-28_05-46-10_qa.txt', '/content/drive/MyDrive/PL自動割り当て用プロトデータ/sample_qa/response_2024-03-28_05-46-18_qa.txt', '/content/drive/MyDrive/PL自動割り当て用プロトデータ/sample_qa/response_2024-03-28_05-46-24_qa.txt', '/content/drive/MyDrive/PL自動割り当て用プロトデータ/sample_qa/response_2024-03-28_05-46-32_qa.txt', '/content/drive/MyDrive/PL自動割り当て用プロトデータ/sample_qa/response_2024-03-28_05-46-41_qa.txt', '/content/drive/MyDrive/PL自動割り当て用プロトデータ/sample_qa/response_2024-03-28_05-46-50_qa.txt', '/content/drive/MyDrive/PL自動割り当て用プロトデータ/sample_qa/response_2024-03-28_05-47-01_qa.txt', '/content/drive/MyDrive/PL自動割り当て用プロトデータ/sample_qa/response_2024-03-28_05-47-11_qa.txt', '/content/drive/MyDrive/PL自動割り当て用プロトデータ/sample_qa/response_2024-03-28_05-47-24_qa.txt', '/content/drive/MyDrive/PL自動割り当て用プロトデータ/sample_qa/response_2024-03-28_05-47-30_qa.txt', '/content/drive/MyDrive/PL自動割り当て用プロトデータ/sample_qa/response_2024-03-28_05-47-34_qa.txt', '/content/drive/MyDrive/PL自動割り当て用プロトデータ/sample_qa/response_2024-03-28_05-47-41_qa.txt'], ['/content/drive/MyDrive/PL自動割り当て用プロトデータ/sample_qa/response_2024-03-28_05-47-48_qa.txt', '/content/drive/MyDrive/PL自動割り当て用プロトデータ/sample_qa/response_2024-03-28_05-47-59_qa.txt', '/content/drive/MyDrive/PL自動割り当て用プロトデータ/sample_qa/response_2024-03-28_05-48-08_qa.txt', '/content/drive/MyDrive/PL自動割り当て用プロトデータ/sample_qa/response_2024-03-28_05-48-17_qa.txt', '/content/drive/MyDrive/PL自動割り当て用プロトデータ/sample_qa/response_2024-03-28_05-48-25_qa.txt', '/content/drive/MyDrive/PL自動割り当て用プロトデータ/sample_qa/response_2024-03-28_05-48-33_qa.txt', '/content/drive/MyDrive/PL自動割り当て用プロトデータ/sample_qa/response_2024-03-28_05-48-41_qa.txt', '/content/drive/MyDrive/PL自動割り当て用プロトデータ/sample_qa/response_2024-03-28_05-48-49_qa.txt', '/content/drive/MyDrive/PL自動割り当て用プロトデータ/sample_qa/response_2024-03-28_05-48-58_qa.txt', '/content/drive/MyDrive/PL自動割り当て用プロトデータ/sample_qa/response_2024-03-28_05-49-08_qa.txt', '/content/drive/MyDrive/PL自動割り当て用プロトデータ/sample_qa/response_2024-03-28_05-49-16_qa.txt', '/content/drive/MyDrive/PL自動割り当て用プロトデータ/sample_qa/response_2024-03-28_05-51-44_qa.txt', '/content/drive/MyDrive/PL自動割り当て用プロトデータ/sample_qa/response_2024-03-28_05-51-52_qa.txt', '/content/drive/MyDrive/PL自動割り当て用プロトデータ/sample_qa/response_2024-03-28_05-51-59_qa.txt', '/content/drive/MyDrive/PL自動割り当て用プロトデータ/sample_qa/response_2024-03-28_05-52-13_qa.txt', '/content/drive/MyDrive/PL自動割り当て用プロトデータ/sample_qa/response_2024-03-28_05-52-21_qa.txt', '/content/drive/MyDrive/PL自動割り当て用プロトデータ/sample_qa/response_2024-03-28_05-52-27_qa.txt'], ['/content/drive/MyDrive/PL自動割り当て用プロトデータ/sample_qa/response_2024-03-28_05-52-33_qa.txt', '/content/drive/MyDrive/PL自動割り当て用プロトデータ/sample_qa/response_2024-03-28_05-52-42_qa.txt', '/content/drive/MyDrive/PL自動割り当て用プロトデータ/sample_qa/response_2024-03-28_05-52-59_qa.txt', '/content/drive/MyDrive/PL自動割り当て用プロトデータ/sample_qa/response_2024-03-28_05-53-05_qa.txt', '/content/drive/MyDrive/PL自動割り当て用プロトデータ/sample_qa/response_2024-03-28_05-53-13_qa.txt', '/content/drive/MyDrive/PL自動割り当て用プロトデータ/sample_qa/response_2024-03-28_05-53-18_qa.txt', '/content/drive/MyDrive/PL自動割り当て用プロトデータ/sample_qa/response_2024-03-28_05-53-30_qa.txt', '/content/drive/MyDrive/PL自動割り当て用プロトデータ/sample_qa/response_2024-03-28_05-53-38_qa.txt', '/content/drive/MyDrive/PL自動割り当て用プロトデータ/sample_qa/response_2024-03-28_05-53-55_qa.txt', '/content/drive/MyDrive/PL自動割り当て用プロトデータ/sample_qa/response_2024-03-28_05-54-09_qa.txt', '/content/drive/MyDrive/PL自動割り当て用プロトデータ/sample_qa/response_2024-03-28_05-54-16_qa.txt', '/content/drive/MyDrive/PL自動割り当て用プロトデータ/sample_qa/response_2024-03-28_05-54-23_qa.txt', '/content/drive/MyDrive/PL自動割り当て用プロトデータ/sample_qa/response_2024-03-28_05-54-35_qa.txt', '/content/drive/MyDrive/PL自動割り当て用プロトデータ/sample_qa/response_2024-03-28_05-54-45_qa.txt', '/content/drive/MyDrive/PL自動割り当て用プロトデータ/sample_qa/response_2024-03-28_05-54-53_qa.txt', '/content/drive/MyDrive/PL自動割り当て用プロトデータ/sample_qa/response_2024-03-28_05-55-07_qa.txt'], ['/content/drive/MyDrive/PL自動割り当て用プロトデータ/sample_qa/response_2024-03-28_05-55-12_qa.txt', '/content/drive/MyDrive/PL自動割り当て用プロトデータ/sample_qa/response_2024-03-28_05-55-21_qa.txt', '/content/drive/MyDrive/PL自動割り当て用プロトデータ/sample_qa/response_2024-03-28_05-55-30_qa.txt', '/content/drive/MyDrive/PL自動割り当て用プロトデータ/sample_qa/response_2024-03-28_05-55-39_qa.txt', '/content/drive/MyDrive/PL自動割り当て用プロトデータ/sample_qa/response_2024-03-28_05-55-43_qa.txt', '/content/drive/MyDrive/PL自動割り当て用プロトデータ/sample_qa/response_2024-03-28_05-55-53_qa.txt', '/content/drive/MyDrive/PL自動割り当て用プロトデータ/sample_qa/response_2024-03-28_05-56-01_qa.txt', '/content/drive/MyDrive/PL自動割り当て用プロトデータ/sample_qa/response_2024-03-28_05-56-10_qa.txt', '/content/drive/MyDrive/PL自動割り当て用プロトデータ/sample_qa/response_2024-03-28_05-56-17_qa.txt', '/content/drive/MyDrive/PL自動割り当て用プロトデータ/sample_qa/response_2024-03-28_05-56-26_qa.txt', '/content/drive/MyDrive/PL自動割り当て用プロトデータ/sample_qa/response_2024-03-28_05-56-36_qa.txt', '/content/drive/MyDrive/PL自動割り当て用プロトデータ/sample_qa/response_2024-03-28_05-56-49_qa.txt', '/content/drive/MyDrive/PL自動割り当て用プロトデータ/sample_qa/response_2024-03-28_05-57-04_qa.txt', '/content/drive/MyDrive/PL自動割り当て用プロトデータ/sample_qa/response_2024-03-28_05-57-16_qa.txt', '/content/drive/MyDrive/PL自動割り当て用プロトデータ/sample_qa/response_2024-03-28_05-57-23_qa.txt', '/content/drive/MyDrive/PL自動割り当て用プロトデータ/sample_qa/response_2024-03-28_05-57-34_qa.txt'], ['/content/drive/MyDrive/PL自動割り当て用プロトデータ/sample_qa/response_2024-03-28_05-57-44_qa.txt', '/content/drive/MyDrive/PL自動割り当て用プロトデータ/sample_qa/response_2024-03-28_05-57-52_qa.txt', '/content/drive/MyDrive/PL自動割り当て用プロトデータ/sample_qa/response_2024-03-28_05-58-09_qa.txt', '/content/drive/MyDrive/PL自動割り当て用プロトデータ/sample_qa/response_2024-03-28_05-58-20_qa.txt', '/content/drive/MyDrive/PL自動割り当て用プロトデータ/sample_qa/response_2024-03-28_05-58-30_qa.txt', '/content/drive/MyDrive/PL自動割り当て用プロトデータ/sample_qa/response_2024-03-28_05-58-48_qa.txt', '/content/drive/MyDrive/PL自動割り当て用プロトデータ/sample_qa/response_2024-03-28_05-58-53_qa.txt', '/content/drive/MyDrive/PL自動割り当て用プロトデータ/sample_qa/response_2024-03-28_05-59-02_qa.txt', '/content/drive/MyDrive/PL自動割り当て用プロトデータ/sample_qa/response_2024-03-28_05-59-06_qa.txt', '/content/drive/MyDrive/PL自動割り当て用プロトデータ/sample_qa/response_2024-03-28_05-59-19_qa.txt', '/content/drive/MyDrive/PL自動割り当て用プロトデータ/sample_qa/response_2024-03-28_05-59-30_qa.txt', '/content/drive/MyDrive/PL自動割り当て用プロトデータ/sample_qa/response_2024-03-28_05-59-39_qa.txt', '/content/drive/MyDrive/PL自動割り当て用プロトデータ/sample_qa/response_2024-03-28_05-59-54_qa.txt', '/content/drive/MyDrive/PL自動割り当て用プロトデータ/sample_qa/response_2024-03-28_06-00-05_qa.txt', '/content/drive/MyDrive/PL自動割り当て用プロトデータ/sample_qa/response_2024-03-28_06-00-18_qa.txt'], ['/content/drive/MyDrive/PL自動割り当て用プロトデータ/sample_qa/response_2024-03-28_06-00-26_qa.txt', '/content/drive/MyDrive/PL自動割り当て用プロトデータ/sample_qa/response_2024-03-28_06-00-33_qa.txt', '/content/drive/MyDrive/PL自動割り当て用プロトデータ/sample_qa/response_2024-03-28_06-00-44_qa.txt', '/content/drive/MyDrive/PL自動割り当て用プロトデータ/sample_qa/response_2024-03-28_06-00-52_qa.txt', '/content/drive/MyDrive/PL自動割り当て用プロトデータ/sample_qa/response_2024-03-28_06-00-59_qa.txt', '/content/drive/MyDrive/PL自動割り当て用プロトデータ/sample_qa/response_2024-03-28_06-01-08_qa.txt', '/content/drive/MyDrive/PL自動割り当て用プロトデータ/sample_qa/response_2024-03-28_06-01-15_qa.txt', '/content/drive/MyDrive/PL自動割り当て用プロトデータ/sample_qa/response_2024-03-28_06-01-21_qa.txt', '/content/drive/MyDrive/PL自動割り当て用プロトデータ/sample_qa/response_2024-03-28_06-01-37_qa.txt', '/content/drive/MyDrive/PL自動割り当て用プロトデータ/sample_qa/response_2024-03-28_06-01-45_qa.txt', '/content/drive/MyDrive/PL自動割り当て用プロトデータ/sample_qa/response_2024-03-28_06-01-59_qa.txt', '/content/drive/MyDrive/PL自動割り当て用プロトデータ/sample_qa/response_2024-03-28_06-02-08_qa.txt', '/content/drive/MyDrive/PL自動割り当て用プロトデータ/sample_qa/response_2024-03-28_06-02-16_qa.txt', '/content/drive/MyDrive/PL自動割り当て用プロトデータ/sample_qa/response_2024-03-28_06-02-36_qa.txt', '/content/drive/MyDrive/PL自動割り当て用プロトデータ/sample_qa/response_2024-03-28_06-02-47_qa.txt'], ['/content/drive/MyDrive/PL自動割り当て用プロトデータ/sample_qa/response_2024-03-28_06-02-58_qa.txt', '/content/drive/MyDrive/PL自動割り当て用プロトデータ/sample_qa/response_2024-03-28_06-03-08_qa.txt', '/content/drive/MyDrive/PL自動割り当て用プロトデータ/sample_qa/response_2024-03-28_06-03-20_qa.txt', '/content/drive/MyDrive/PL自動割り当て用プロトデータ/sample_qa/response_2024-03-28_06-03-30_qa.txt', '/content/drive/MyDrive/PL自動割り当て用プロトデータ/sample_qa/response_2024-03-28_06-03-35_qa.txt', '/content/drive/MyDrive/PL自動割り当て用プロトデータ/sample_qa/response_2024-03-28_06-03-43_qa.txt', '/content/drive/MyDrive/PL自動割り当て用プロトデータ/sample_qa/response_2024-03-28_06-03-53_qa.txt', '/content/drive/MyDrive/PL自動割り当て用プロトデータ/sample_qa/response_2024-03-28_06-04-02_qa.txt', '/content/drive/MyDrive/PL自動割り当て用プロトデータ/sample_qa/response_2024-03-28_06-04-14_qa.txt', '/content/drive/MyDrive/PL自動割り当て用プロトデータ/sample_qa/response_2024-03-28_06-04-21_qa.txt', '/content/drive/MyDrive/PL自動割り当て用プロトデータ/sample_qa/response_2024-03-28_06-04-32_qa.txt', '/content/drive/MyDrive/PL自動割り当て用プロトデータ/sample_qa/response_2024-03-28_06-04-39_qa.txt', '/content/drive/MyDrive/PL自動割り当て用プロトデータ/sample_quality_report/response_2024-03-28_16-27-34.txt', '/content/drive/MyDrive/PL自動割り当て用プロトデータ/sample_quality_report/response_2024-03-28_16-27-47.txt', '/content/drive/MyDrive/PL自動割り当て用プロトデータ/sample_quality_report/response_2024-03-28_16-27-56.txt'], ['/content/drive/MyDrive/PL自動割り当て用プロトデータ/sample_quality_report/response_2024-03-28_16-28-09.txt', '/content/drive/MyDrive/PL自動割り当て用プロトデータ/sample_quality_report/response_2024-03-28_16-28-25.txt', '/content/drive/MyDrive/PL自動割り当て用プロトデータ/sample_quality_report/response_2024-03-28_16-28-50.txt', '/content/drive/MyDrive/PL自動割り当て用プロトデータ/sample_quality_report/response_2024-03-28_16-28-59.txt', '/content/drive/MyDrive/PL自動割り当て用プロトデータ/sample_quality_report/response_2024-03-28_16-29-12.txt', '/content/drive/MyDrive/PL自動割り当て用プロトデータ/sample_quality_report/response_2024-03-28_16-29-25.txt', '/content/drive/MyDrive/PL自動割り当て用プロトデータ/sample_quality_report/response_2024-03-28_16-29-34.txt', '/content/drive/MyDrive/PL自動割り当て用プロトデータ/sample_quality_report/response_2024-03-28_16-29-45.txt', '/content/drive/MyDrive/PL自動割り当て用プロトデータ/sample_quality_report/response_2024-03-28_16-30-06.txt', '/content/drive/MyDrive/PL自動割り当て用プロトデータ/sample_quality_report/response_2024-03-28_16-30-27.txt', '/content/drive/MyDrive/PL自動割り当て用プロトデータ/sample_quality_report/response_2024-03-28_16-30-40.txt', '/content/drive/MyDrive/PL自動割り当て用プロトデータ/sample_quality_report/response_2024-03-28_16-30-47.txt'], ['/content/drive/MyDrive/PL自動割り当て用プロトデータ/sample_quality_report/response_2024-03-28_16-31-04.txt', '/content/drive/MyDrive/PL自動割り当て用プロトデータ/sample_quality_report/response_2024-03-28_16-31-16.txt', '/content/drive/MyDrive/PL自動割り当て用プロトデータ/sample_quality_report/response_2024-03-28_16-31-26.txt', '/content/drive/MyDrive/PL自動割り当て用プロトデータ/sample_quality_report/response_2024-03-28_16-31-37.txt', '/content/drive/MyDrive/PL自動割り当て用プロトデータ/sample_quality_report/response_2024-03-28_16-31-46.txt', '/content/drive/MyDrive/PL自動割り当て用プロトデータ/sample_quality_report/response_2024-03-28_16-32-03.txt', '/content/drive/MyDrive/PL自動割り当て用プロトデータ/sample_quality_report/response_2024-03-28_16-32-14.txt', '/content/drive/MyDrive/PL自動割り当て用プロトデータ/sample_quality_report/response_2024-03-28_16-32-25.txt', '/content/drive/MyDrive/PL自動割り当て用プロトデータ/sample_quality_report/response_2024-03-28_16-32-38.txt', '/content/drive/MyDrive/PL自動割り当て用プロトデータ/sample_quality_report/response_2024-03-28_16-32-50.txt', '/content/drive/MyDrive/PL自動割り当て用プロトデータ/sample_quality_report/response_2024-03-28_16-32-58.txt'], ['/content/drive/MyDrive/PL自動割り当て用プロトデータ/sample_quality_report/response_2024-03-28_16-33-14.txt', '/content/drive/MyDrive/PL自動割り当て用プロトデータ/sample_quality_report/response_2024-03-28_16-33-26.txt', '/content/drive/MyDrive/PL自動割り当て用プロトデータ/sample_quality_report/response_2024-03-28_16-33-38.txt', '/content/drive/MyDrive/PL自動割り当て用プロトデータ/sample_quality_report/response_2024-03-28_16-34-00.txt', '/content/drive/MyDrive/PL自動割り当て用プロトデータ/sample_quality_report/response_2024-03-28_16-34-14.txt', '/content/drive/MyDrive/PL自動割り当て用プロトデータ/sample_quality_report/response_2024-03-28_16-34-27.txt', '/content/drive/MyDrive/PL自動割り当て用プロトデータ/sample_quality_report/response_2024-03-28_16-34-38.txt', '/content/drive/MyDrive/PL自動割り当て用プロトデータ/sample_quality_report/response_2024-03-28_16-34-50.txt', '/content/drive/MyDrive/PL自動割り当て用プロトデータ/sample_quality_report/response_2024-03-28_16-35-09.txt', '/content/drive/MyDrive/PL自動割り当て用プロトデータ/sample_quality_report/response_2024-03-28_16-35-22.txt', '/content/drive/MyDrive/PL自動割り当て用プロトデータ/sample_quality_report/response_2024-03-28_16-35-32.txt'], ['/content/drive/MyDrive/PL自動割り当て用プロトデータ/sample_quality_report/response_2024-03-28_16-35-43.txt', '/content/drive/MyDrive/PL自動割り当て用プロトデータ/sample_quality_report/response_2024-03-28_16-36-02.txt', '/content/drive/MyDrive/PL自動割り当て用プロトデータ/sample_quality_report/response_2024-03-28_16-36-11.txt', '/content/drive/MyDrive/PL自動割り当て用プロトデータ/sample_quality_report/response_2024-03-28_16-36-24.txt', '/content/drive/MyDrive/PL自動割り当て用プロトデータ/sample_quality_report/response_2024-03-28_16-36-37.txt', '/content/drive/MyDrive/PL自動割り当て用プロトデータ/sample_quality_report/response_2024-03-28_16-36-47.txt', '/content/drive/MyDrive/PL自動割り当て用プロトデータ/sample_quality_report/response_2024-03-28_16-37-01.txt', '/content/drive/MyDrive/PL自動割り当て用プロトデータ/sample_quality_report/response_2024-03-28_16-37-15.txt', '/content/drive/MyDrive/PL自動割り当て用プロトデータ/sample_quality_report/response_2024-03-28_16-37-26.txt', '/content/drive/MyDrive/PL自動割り当て用プロトデータ/sample_quality_report/response_2024-03-28_16-37-36.txt', '/content/drive/MyDrive/PL自動割り当て用プロトデータ/sample_quality_report/response_2024-03-28_16-37-50.txt'], ['/content/drive/MyDrive/PL自動割り当て用プロトデータ/sample_quality_report/response_2024-03-28_16-38-08.txt', '/content/drive/MyDrive/PL自動割り当て用プロトデータ/sample_quality_report/response_2024-03-28_16-38-26.txt', '/content/drive/MyDrive/PL自動割り当て用プロトデータ/sample_quality_report/response_2024-03-28_16-38-42.txt', '/content/drive/MyDrive/PL自動割り当て用プロトデータ/sample_quality_report/response_2024-03-28_16-38-58.txt', '/content/drive/MyDrive/PL自動割り当て用プロトデータ/sample_quality_report/response_2024-03-28_16-39-10.txt', '/content/drive/MyDrive/PL自動割り当て用プロトデータ/sample_quality_report/response_2024-03-28_16-39-26.txt', '/content/drive/MyDrive/PL自動割り当て用プロトデータ/sample_quality_report/response_2024-03-28_16-39-35.txt', '/content/drive/MyDrive/PL自動割り当て用プロトデータ/sample_quality_report/response_2024-03-28_16-39-49.txt', '/content/drive/MyDrive/PL自動割り当て用プロトデータ/sample_quality_report/response_2024-03-28_16-40-06.txt', '/content/drive/MyDrive/PL自動割り当て用プロトデータ/sample_quality_report/response_2024-03-28_16-40-20.txt', '/content/drive/MyDrive/PL自動割り当て用プロトデータ/sample_quality_report/response_2024-03-28_16-40-35.txt'], ['/content/drive/MyDrive/PL自動割り当て用プロトデータ/sample_quality_report/response_2024-03-28_16-40-50.txt', '/content/drive/MyDrive/PL自動割り当て用プロトデータ/sample_quality_report/response_2024-03-28_16-41-06.txt', '/content/drive/MyDrive/PL自動割り当て用プロトデータ/sample_quality_report/response_2024-03-28_16-41-30.txt', '/content/drive/MyDrive/PL自動割り当て用プロトデータ/sample_quality_report/response_2024-03-28_16-41-44.txt', '/content/drive/MyDrive/PL自動割り当て用プロトデータ/sample_quality_report/response_2024-03-28_16-41-53.txt', '/content/drive/MyDrive/PL自動割り当て用プロトデータ/sample_quality_report/response_2024-03-28_16-42-08.txt', '/content/drive/MyDrive/PL自動割り当て用プロトデータ/sample_quality_report/response_2024-03-28_16-42-18.txt', '/content/drive/MyDrive/PL自動割り当て用プロトデータ/sample_quality_report/response_2024-03-28_16-42-32.txt', '/content/drive/MyDrive/PL自動割り当て用プロトデータ/sample_quality_report/response_2024-03-28_16-42-47.txt', '/content/drive/MyDrive/PL自動割り当て用プロトデータ/sample_quality_report/response_2024-03-28_16-42-58.txt', '/content/drive/MyDrive/PL自動割り当て用プロトデータ/sample_quality_report/response_2024-03-28_16-43-06.txt', '/content/drive/MyDrive/PL自動割り当て用プロトデータ/sample_quality_report/response_2024-03-28_16-43-20.txt'], ['/content/drive/MyDrive/PL自動割り当て用プロトデータ/sample_quality_report/response_2024-03-28_16-43-30.txt', '/content/drive/MyDrive/PL自動割り当て用プロトデータ/sample_quality_report/response_2024-03-28_16-43-50.txt', '/content/drive/MyDrive/PL自動割り当て用プロトデータ/sample_quality_report/response_2024-03-28_16-44-05.txt', '/content/drive/MyDrive/PL自動割り当て用プロトデータ/sample_quality_report/response_2024-03-28_16-44-18.txt', '/content/drive/MyDrive/PL自動割り当て用プロトデータ/sample_quality_report/response_2024-03-28_16-44-27.txt', '/content/drive/MyDrive/PL自動割り当て用プロトデータ/sample_quality_report/response_2024-03-28_16-44-41.txt', '/content/drive/MyDrive/PL自動割り当て用プロトデータ/sample_quality_report/response_2024-03-28_16-44-50.txt', '/content/drive/MyDrive/PL自動割り当て用プロトデータ/sample_quality_report/response_2024-03-28_16-45-06.txt', '/content/drive/MyDrive/PL自動割り当て用プロトデータ/sample_quality_report/response_2024-03-28_16-45-22.txt', '/content/drive/MyDrive/PL自動割り当て用プロトデータ/sample_quality_report/response_2024-03-28_16-45-32.txt', '/content/drive/MyDrive/PL自動割り当て用プロトデータ/sample_quality_report/response_2024-03-28_16-45-45.txt', '/content/drive/MyDrive/PL自動割り当て用プロトデータ/sample_quality_report/response_2024-03-28_16-45-57.txt'], ['/content/drive/MyDrive/PL自動割り当て用プロトデータ/sample_quality_report/response_2024-03-28_16-46-07.txt', '/content/drive/MyDrive/PL自動割り当て用プロトデータ/sample_quality_report/response_2024-03-28_16-46-23.txt', '/content/drive/MyDrive/PL自動割り当て用プロトデータ/sample_quality_report/response_2024-03-28_16-46-36.txt', '/content/drive/MyDrive/PL自動割り当て用プロトデータ/sample_quality_report/response_2024-03-28_16-46-51.txt', '/content/drive/MyDrive/PL自動割り当て用プロトデータ/sample_quality_report/response_2024-03-28_16-47-01.txt', '/content/drive/MyDrive/PL自動割り当て用プロトデータ/sample_quality_report/response_2024-03-28_16-47-12.txt', '/content/drive/MyDrive/PL自動割り当て用プロトデータ/sample_quality_report/response_2024-03-28_16-47-49.txt', '/content/drive/MyDrive/PL自動割り当て用プロトデータ/sample_quality_report/response_2024-03-28_16-48-02.txt', '/content/drive/MyDrive/PL自動割り当て用プロトデータ/sample_quality_report/response_2024-03-28_16-48-25.txt', '/content/drive/MyDrive/PL自動割り当て用プロトデータ/sample_quality_report/response_2024-03-28_16-48-47.txt', '/content/drive/MyDrive/PL自動割り当て用プロトデータ/sample_quality_report/response_2024-03-28_16-48-58.txt'], ['/content/drive/MyDrive/PL自動割り当て用プロトデータ/sample_quality_report/response_2024-03-28_16-49-23.txt', '/content/drive/MyDrive/PL自動割り当て用プロトデータ/sample_quality_report/response_2024-03-28_16-49-36.txt', '/content/drive/MyDrive/PL自動割り当て用プロトデータ/sample_quality_report/response_2024-03-28_16-49-54.txt', '/content/drive/MyDrive/PL自動割り当て用プロトデータ/sample_quality_report/response_2024-03-28_16-50-04.txt', '/content/drive/MyDrive/PL自動割り当て用プロトデータ/sample_quality_report/response_2024-03-28_16-50-14.txt', '/content/drive/MyDrive/PL自動割り当て用プロトデータ/sample_quality_report/response_2024-03-28_16-50-26.txt', '/content/drive/MyDrive/PL自動割り当て用プロトデータ/sample_quality_report/response_2024-03-28_16-50-40.txt', '/content/drive/MyDrive/PL自動割り当て用プロトデータ/sample_quality_report/response_2024-03-28_16-50-50.txt', '/content/drive/MyDrive/PL自動割り当て用プロトデータ/sample_quality_report/response_2024-03-28_16-51-09.txt', '/content/drive/MyDrive/PL自動割り当て用プロトデータ/sample_quality_report/response_2024-03-28_16-51-25.txt', '/content/drive/MyDrive/PL自動割り当て用プロトデータ/sample_quality_report/response_2024-03-28_16-51-34.txt'], ['/content/drive/MyDrive/PL自動割り当て用プロトデータ/sample_quality_report/response_2024-03-28_16-51-49.txt', '/content/drive/MyDrive/PL自動割り当て用プロトデータ/sample_quality_report/response_2024-03-28_16-52-00.txt', '/content/drive/MyDrive/PL自動割り当て用プロトデータ/sample_quality_report/response_2024-03-28_16-52-16.txt', '/content/drive/MyDrive/PL自動割り当て用プロトデータ/sample_r_and_d_report/response_2024-03-28_08-57-18.txt', '/content/drive/MyDrive/PL自動割り当て用プロトデータ/sample_r_and_d_report/response_2024-03-28_09-07-33.txt', '/content/drive/MyDrive/PL自動割り当て用プロトデータ/sample_r_and_d_report/response_2024-03-28_09-07-44.txt', '/content/drive/MyDrive/PL自動割り当て用プロトデータ/sample_r_and_d_report/response_2024-03-28_09-07-53.txt', '/content/drive/MyDrive/PL自動割り当て用プロトデータ/sample_r_and_d_report/response_2024-03-28_09-08-07.txt', '/content/drive/MyDrive/PL自動割り当て用プロトデータ/sample_r_and_d_report/response_2024-03-28_09-08-20.txt', '/content/drive/MyDrive/PL自動割り当て用プロトデータ/sample_r_and_d_report/response_2024-03-28_09-08-32.txt', '/content/drive/MyDrive/PL自動割り当て用プロトデータ/sample_r_and_d_report/response_2024-03-28_09-08-42.txt', '/content/drive/MyDrive/PL自動割り当て用プロトデータ/sample_r_and_d_report/response_2024-03-28_09-09-00.txt'], ['/content/drive/MyDrive/PL自動割り当て用プロトデータ/sample_r_and_d_report/response_2024-03-28_09-09-13.txt', '/content/drive/MyDrive/PL自動割り当て用プロトデータ/sample_r_and_d_report/response_2024-03-28_09-09-23.txt', '/content/drive/MyDrive/PL自動割り当て用プロトデータ/sample_r_and_d_report/response_2024-03-28_09-09-36.txt', '/content/drive/MyDrive/PL自動割り当て用プロトデータ/sample_r_and_d_report/response_2024-03-28_09-09-53.txt', '/content/drive/MyDrive/PL自動割り当て用プロトデータ/sample_r_and_d_report/response_2024-03-28_09-10-12.txt', '/content/drive/MyDrive/PL自動割り当て用プロトデータ/sample_r_and_d_report/response_2024-03-28_09-10-22.txt', '/content/drive/MyDrive/PL自動割り当て用プロトデータ/sample_r_and_d_report/response_2024-03-28_09-10-32.txt', '/content/drive/MyDrive/PL自動割り当て用プロトデータ/sample_r_and_d_report/response_2024-03-28_09-10-44.txt', '/content/drive/MyDrive/PL自動割り当て用プロトデータ/sample_r_and_d_report/response_2024-03-28_09-10-56.txt', '/content/drive/MyDrive/PL自動割り当て用プロトデータ/sample_r_and_d_report/response_2024-03-28_09-11-10.txt', '/content/drive/MyDrive/PL自動割り当て用プロトデータ/sample_r_and_d_report/response_2024-03-28_09-11-24.txt'], ['/content/drive/MyDrive/PL自動割り当て用プロトデータ/sample_r_and_d_report/response_2024-03-28_09-11-37.txt', '/content/drive/MyDrive/PL自動割り当て用プロトデータ/sample_r_and_d_report/response_2024-03-28_09-11-55.txt', '/content/drive/MyDrive/PL自動割り当て用プロトデータ/sample_r_and_d_report/response_2024-03-28_09-12-10.txt', '/content/drive/MyDrive/PL自動割り当て用プロトデータ/sample_r_and_d_report/response_2024-03-28_09-12-33.txt', '/content/drive/MyDrive/PL自動割り当て用プロトデータ/sample_r_and_d_report/response_2024-03-28_09-12-51.txt', '/content/drive/MyDrive/PL自動割り当て用プロトデータ/sample_r_and_d_report/response_2024-03-28_09-13-12.txt', '/content/drive/MyDrive/PL自動割り当て用プロトデータ/sample_r_and_d_report/response_2024-03-28_09-13-26.txt', '/content/drive/MyDrive/PL自動割り当て用プロトデータ/sample_r_and_d_report/response_2024-03-28_09-13-35.txt', '/content/drive/MyDrive/PL自動割り当て用プロトデータ/sample_r_and_d_report/response_2024-03-28_09-13-47.txt', '/content/drive/MyDrive/PL自動割り当て用プロトデータ/sample_r_and_d_report/response_2024-03-28_09-13-59.txt', '/content/drive/MyDrive/PL自動割り当て用プロトデータ/sample_r_and_d_report/response_2024-03-28_09-14-16.txt'], ['/content/drive/MyDrive/PL自動割り当て用プロトデータ/sample_r_and_d_report/response_2024-03-28_09-14-30.txt', '/content/drive/MyDrive/PL自動割り当て用プロトデータ/sample_r_and_d_report/response_2024-03-28_09-14-41.txt', '/content/drive/MyDrive/PL自動割り当て用プロトデータ/sample_r_and_d_report/response_2024-03-28_09-14-49.txt', '/content/drive/MyDrive/PL自動割り当て用プロトデータ/sample_r_and_d_report/response_2024-03-28_09-15-01.txt', '/content/drive/MyDrive/PL自動割り当て用プロトデータ/sample_r_and_d_report/response_2024-03-28_09-15-14.txt', '/content/drive/MyDrive/PL自動割り当て用プロトデータ/sample_r_and_d_report/response_2024-03-28_09-15-28.txt', '/content/drive/MyDrive/PL自動割り当て用プロトデータ/sample_r_and_d_report/response_2024-03-28_09-15-48.txt', '/content/drive/MyDrive/PL自動割り当て用プロトデータ/sample_r_and_d_report/response_2024-03-28_09-16-13.txt', '/content/drive/MyDrive/PL自動割り当て用プロトデータ/sample_r_and_d_report/response_2024-03-28_09-16-26.txt', '/content/drive/MyDrive/PL自動割り当て用プロトデータ/sample_r_and_d_report/response_2024-03-28_09-16-42.txt', '/content/drive/MyDrive/PL自動割り当て用プロトデータ/sample_r_and_d_report/response_2024-03-28_09-16-54.txt', '/content/drive/MyDrive/PL自動割り当て用プロトデータ/sample_r_and_d_report/response_2024-03-28_09-17-08.txt'], ['/content/drive/MyDrive/PL自動割り当て用プロトデータ/sample_r_and_d_report/response_2024-03-28_09-17-21.txt', '/content/drive/MyDrive/PL自動割り当て用プロトデータ/sample_r_and_d_report/response_2024-03-28_09-17-36.txt', '/content/drive/MyDrive/PL自動割り当て用プロトデータ/sample_r_and_d_report/response_2024-03-28_09-17-50.txt', '/content/drive/MyDrive/PL自動割り当て用プロトデータ/sample_r_and_d_report/response_2024-03-28_09-18-13.txt', '/content/drive/MyDrive/PL自動割り当て用プロトデータ/sample_r_and_d_report/response_2024-03-28_09-18-27.txt', '/content/drive/MyDrive/PL自動割り当て用プロトデータ/sample_r_and_d_report/response_2024-03-28_09-18-39.txt', '/content/drive/MyDrive/PL自動割り当て用プロトデータ/sample_r_and_d_report/response_2024-03-28_09-18-48.txt', '/content/drive/MyDrive/PL自動割り当て用プロトデータ/sample_r_and_d_report/response_2024-03-28_09-19-02.txt', '/content/drive/MyDrive/PL自動割り当て用プロトデータ/sample_r_and_d_report/response_2024-03-28_09-19-16.txt', '/content/drive/MyDrive/PL自動割り当て用プロトデータ/sample_r_and_d_report/response_2024-03-28_09-19-27.txt', '/content/drive/MyDrive/PL自動割り当て用プロトデータ/sample_r_and_d_report/response_2024-03-28_09-19-46.txt'], ['/content/drive/MyDrive/PL自動割り当て用プロトデータ/sample_r_and_d_report/response_2024-03-28_09-20-07.txt', '/content/drive/MyDrive/PL自動割り当て用プロトデータ/sample_r_and_d_report/response_2024-03-28_09-20-22.txt', '/content/drive/MyDrive/PL自動割り当て用プロトデータ/sample_r_and_d_report/response_2024-03-28_09-20-39.txt', '/content/drive/MyDrive/PL自動割り当て用プロトデータ/sample_r_and_d_report/response_2024-03-28_09-20-48.txt', '/content/drive/MyDrive/PL自動割り当て用プロトデータ/sample_r_and_d_report/response_2024-03-28_09-21-01.txt', '/content/drive/MyDrive/PL自動割り当て用プロトデータ/sample_r_and_d_report/response_2024-03-28_09-21-14.txt', '/content/drive/MyDrive/PL自動割り当て用プロトデータ/sample_r_and_d_report/response_2024-03-28_09-21-31.txt', '/content/drive/MyDrive/PL自動割り当て用プロトデータ/sample_r_and_d_report/response_2024-03-28_09-21-49.txt', '/content/drive/MyDrive/PL自動割り当て用プロトデータ/sample_r_and_d_report/response_2024-03-28_09-22-03.txt', '/content/drive/MyDrive/PL自動割り当て用プロトデータ/sample_r_and_d_report/response_2024-03-28_09-22-18.txt', '/content/drive/MyDrive/PL自動割り当て用プロトデータ/sample_r_and_d_report/response_2024-03-28_09-22-36.txt'], ['/content/drive/MyDrive/PL自動割り当て用プロトデータ/sample_r_and_d_report/response_2024-03-28_09-22-47.txt', '/content/drive/MyDrive/PL自動割り当て用プロトデータ/sample_r_and_d_report/response_2024-03-28_09-22-56.txt', '/content/drive/MyDrive/PL自動割り当て用プロトデータ/sample_r_and_d_report/response_2024-03-28_09-23-12.txt', '/content/drive/MyDrive/PL自動割り当て用プロトデータ/sample_r_and_d_report/response_2024-03-28_09-23-25.txt', '/content/drive/MyDrive/PL自動割り当て用プロトデータ/sample_r_and_d_report/response_2024-03-28_09-23-38.txt', '/content/drive/MyDrive/PL自動割り当て用プロトデータ/sample_r_and_d_report/response_2024-03-28_09-23-53.txt', '/content/drive/MyDrive/PL自動割り当て用プロトデータ/sample_r_and_d_report/response_2024-03-28_09-24-03.txt', '/content/drive/MyDrive/PL自動割り当て用プロトデータ/sample_r_and_d_report/response_2024-03-28_09-24-23.txt', '/content/drive/MyDrive/PL自動割り当て用プロトデータ/sample_r_and_d_report/response_2024-03-28_09-24-37.txt', '/content/drive/MyDrive/PL自動割り当て用プロトデータ/sample_r_and_d_report/response_2024-03-28_09-24-50.txt', '/content/drive/MyDrive/PL自動割り当て用プロトデータ/sample_r_and_d_report/response_2024-03-28_09-25-03.txt', '/content/drive/MyDrive/PL自動割り当て用プロトデータ/sample_r_and_d_report/response_2024-03-28_09-25-15.txt'], ['/content/drive/MyDrive/PL自動割り当て用プロトデータ/sample_r_and_d_report/response_2024-03-28_09-25-25.txt', '/content/drive/MyDrive/PL自動割り当て用プロトデータ/sample_r_and_d_report/response_2024-03-28_09-25-36.txt', '/content/drive/MyDrive/PL自動割り当て用プロトデータ/sample_r_and_d_report/response_2024-03-28_09-25-55.txt', '/content/drive/MyDrive/PL自動割り当て用プロトデータ/sample_r_and_d_report/response_2024-03-28_09-26-09.txt', '/content/drive/MyDrive/PL自動割り当て用プロトデータ/sample_r_and_d_report/response_2024-03-28_09-26-19.txt', '/content/drive/MyDrive/PL自動割り当て用プロトデータ/sample_r_and_d_report/response_2024-03-28_09-26-31.txt', '/content/drive/MyDrive/PL自動割り当て用プロトデータ/sample_r_and_d_report/response_2024-03-28_09-26-43.txt', '/content/drive/MyDrive/PL自動割り当て用プロトデータ/sample_r_and_d_report/response_2024-03-28_09-27-01.txt', '/content/drive/MyDrive/PL自動割り当て用プロトデータ/sample_r_and_d_report/response_2024-03-28_09-27-14.txt', '/content/drive/MyDrive/PL自動割り当て用プロトデータ/sample_r_and_d_report/response_2024-03-28_09-27-27.txt', '/content/drive/MyDrive/PL自動割り当て用プロトデータ/sample_r_and_d_report/response_2024-03-28_09-27-45.txt', '/content/drive/MyDrive/PL自動割り当て用プロトデータ/sample_r_and_d_report/response_2024-03-28_09-28-00.txt'], ['/content/drive/MyDrive/PL自動割り当て用プロトデータ/sample_r_and_d_report/response_2024-03-28_09-28-13.txt']]\n"
          ]
        }
      ]
    },
    {
      "cell_type": "code",
      "source": [
        "# numpy配列に変換\n",
        "target_embeds = get_all_embeddings(file_path_groups)\n",
        "target_embeds = np.array(target_embeds).astype(\"float32\")\n",
        "\n",
        "# Embeddingを保存\n",
        "save_embeddings(target_embeds,\"embeddings_all.npy\")\n"
      ],
      "metadata": {
        "colab": {
          "base_uri": "https://localhost:8080/"
        },
        "id": "et4rddCLc67y",
        "outputId": "00572c99-01c8-4c4b-b2a3-064214cfd003"
      },
      "execution_count": null,
      "outputs": [
        {
          "output_type": "stream",
          "name": "stdout",
          "text": [
            "['/content/drive/MyDrive/PL自動割り当て用プロトデータ/sample_houmu_agm/response_2024-03-28_07-28-23_1.txt', '/content/drive/MyDrive/PL自動割り当て用プロトデータ/sample_houmu_agm/response_2024-03-28_07-29-21_1.txt', '/content/drive/MyDrive/PL自動割り当て用プロトデータ/sample_houmu_agm/response_2024-03-28_07-29-35_2.txt', '/content/drive/MyDrive/PL自動割り当て用プロトデータ/sample_houmu_agm/response_2024-03-28_07-29-47_3.txt', '/content/drive/MyDrive/PL自動割り当て用プロトデータ/sample_houmu_agm/response_2024-03-28_07-30-16_4.txt', '/content/drive/MyDrive/PL自動割り当て用プロトデータ/sample_houmu_agm/response_2024-03-28_07-30-28_5.txt', '/content/drive/MyDrive/PL自動割り当て用プロトデータ/sample_houmu_agm/response_2024-03-28_07-30-44_6.txt', '/content/drive/MyDrive/PL自動割り当て用プロトデータ/sample_houmu_agm/response_2024-03-28_07-31-01_7.txt', '/content/drive/MyDrive/PL自動割り当て用プロトデータ/sample_houmu_agm/response_2024-03-28_07-31-18_8.txt', '/content/drive/MyDrive/PL自動割り当て用プロトデータ/sample_houmu_agm/response_2024-03-28_07-31-38_9.txt', '/content/drive/MyDrive/PL自動割り当て用プロトデータ/sample_houmu_agm/response_2024-03-28_07-31-48_10.txt', '/content/drive/MyDrive/PL自動割り当て用プロトデータ/sample_houmu_agm/response_2024-03-28_07-31-56_11.txt']\n",
            "['/content/drive/MyDrive/PL自動割り当て用プロトデータ/sample_houmu_agm/response_2024-03-28_07-32-15_12.txt', '/content/drive/MyDrive/PL自動割り当て用プロトデータ/sample_houmu_agm/response_2024-03-28_07-32-27_13.txt', '/content/drive/MyDrive/PL自動割り当て用プロトデータ/sample_houmu_agm/response_2024-03-28_07-32-42_14.txt', '/content/drive/MyDrive/PL自動割り当て用プロトデータ/sample_houmu_agm/response_2024-03-28_07-33-03_15.txt', '/content/drive/MyDrive/PL自動割り当て用プロトデータ/sample_houmu_agm/response_2024-03-28_07-33-15_16.txt', '/content/drive/MyDrive/PL自動割り当て用プロトデータ/sample_houmu_agm/response_2024-03-28_07-33-28_17.txt', '/content/drive/MyDrive/PL自動割り当て用プロトデータ/sample_houmu_agm/response_2024-03-28_07-33-41_18.txt', '/content/drive/MyDrive/PL自動割り当て用プロトデータ/sample_houmu_agm/response_2024-03-28_07-33-59_19.txt', '/content/drive/MyDrive/PL自動割り当て用プロトデータ/sample_houmu_agm/response_2024-03-28_07-34-14_20.txt', '/content/drive/MyDrive/PL自動割り当て用プロトデータ/sample_houmu_agm/response_2024-03-28_07-34-28_21.txt']\n",
            "['/content/drive/MyDrive/PL自動割り当て用プロトデータ/sample_houmu_agm/response_2024-03-28_07-34-43_22.txt', '/content/drive/MyDrive/PL自動割り当て用プロトデータ/sample_houmu_agm/response_2024-03-28_07-34-59_23.txt', '/content/drive/MyDrive/PL自動割り当て用プロトデータ/sample_houmu_agm/response_2024-03-28_07-35-09_24.txt', '/content/drive/MyDrive/PL自動割り当て用プロトデータ/sample_houmu_agm/response_2024-03-28_07-35-22_25.txt', '/content/drive/MyDrive/PL自動割り当て用プロトデータ/sample_houmu_agm/response_2024-03-28_07-35-48_26.txt', '/content/drive/MyDrive/PL自動割り当て用プロトデータ/sample_houmu_agm/response_2024-03-28_07-35-57_27.txt', '/content/drive/MyDrive/PL自動割り当て用プロトデータ/sample_houmu_agm/response_2024-03-28_07-36-16_28.txt', '/content/drive/MyDrive/PL自動割り当て用プロトデータ/sample_houmu_agm/response_2024-03-28_07-36-31_29.txt', '/content/drive/MyDrive/PL自動割り当て用プロトデータ/sample_houmu_agm/response_2024-03-28_07-36-41_30.txt', '/content/drive/MyDrive/PL自動割り当て用プロトデータ/sample_houmu_contract/response_2024-03-28_06-43-34_ソフトウェア開発委託契約書.txt']\n",
            "['/content/drive/MyDrive/PL自動割り当て用プロトデータ/sample_houmu_contract/response_2024-03-28_06-44-01_製造委託契約書.txt', '/content/drive/MyDrive/PL自動割り当て用プロトデータ/sample_houmu_contract/response_2024-03-28_06-44-24_販売代理店契約書.txt', '/content/drive/MyDrive/PL自動割り当て用プロトデータ/sample_houmu_contract/response_2024-03-28_06-44-37_建設工事請負契約書.txt', '/content/drive/MyDrive/PL自動割り当て用プロトデータ/sample_houmu_contract/response_2024-03-28_06-44-58_業務提携契約書.txt', '/content/drive/MyDrive/PL自動割り当て用プロトデータ/sample_houmu_contract/response_2024-03-28_06-45-27_賃貸借契約書.txt', '/content/drive/MyDrive/PL自動割り当て用プロトデータ/sample_houmu_contract/response_2024-03-28_06-45-43_秘密保持契約書.txt', '/content/drive/MyDrive/PL自動割り当て用プロトデータ/sample_houmu_contract/response_2024-03-28_06-46-03_株式譲渡契約書.txt', '/content/drive/MyDrive/PL自動割り当て用プロトデータ/sample_houmu_contract/response_2024-03-28_06-46-21_ライセンス契約書.txt']\n",
            "['/content/drive/MyDrive/PL自動割り当て用プロトデータ/sample_houmu_contract/response_2024-03-28_06-46-34_個人情報取扱委託契約書.txt', '/content/drive/MyDrive/PL自動割り当て用プロトデータ/sample_houmu_contract/response_2024-03-28_06-46-53_フランチャイズ契約書.txt', '/content/drive/MyDrive/PL自動割り当て用プロトデータ/sample_houmu_contract/response_2024-03-28_06-47-11_コンサルティング契約書.txt', '/content/drive/MyDrive/PL自動割り当て用プロトデータ/sample_houmu_contract/response_2024-03-28_06-47-33_商品売買契約書.txt', '/content/drive/MyDrive/PL自動割り当て用プロトデータ/sample_houmu_contract/response_2024-03-28_06-47-50_業務委託契約書.txt', '/content/drive/MyDrive/PL自動割り当て用プロトデータ/sample_houmu_contract/response_2024-03-28_06-48-15_共同研究開発契約書.txt', '/content/drive/MyDrive/PL自動割り当て用プロトデータ/sample_houmu_contract/response_2024-03-28_06-48-33_マーケティング業務委託契約書.txt', '/content/drive/MyDrive/PL自動割り当て用プロトデータ/sample_houmu_contract/response_2024-03-28_06-48-50_広告制作委託契約書.txt']\n",
            "['/content/drive/MyDrive/PL自動割り当て用プロトデータ/sample_houmu_contract/response_2024-03-28_06-49-08_リース契約書.txt', '/content/drive/MyDrive/PL自動割り当て用プロトデータ/sample_houmu_contract/response_2024-03-28_06-49-31_システム保守契約書.txt', '/content/drive/MyDrive/PL自動割り当て用プロトデータ/sample_houmu_contract/response_2024-03-28_06-49-42_テナント契約書.txt', '/content/drive/MyDrive/PL自動割り当て用プロトデータ/sample_houmu_contract/response_2024-03-28_06-50-10_業務提携基本契約書.txt', '/content/drive/MyDrive/PL自動割り当て用プロトデータ/sample_houmu_contract/response_2024-03-28_06-50-22_コンテンツ制作委託契約書.txt', '/content/drive/MyDrive/PL自動割り当て用プロトデータ/sample_houmu_contract/response_2024-03-28_06-50-39_スポンサー契約書.txt', '/content/drive/MyDrive/PL自動割り当て用プロトデータ/sample_houmu_contract/response_2024-03-28_06-50-51_物流業務委託契約書.txt', '/content/drive/MyDrive/PL自動割り当て用プロトデータ/sample_houmu_contract/response_2024-03-28_06-51-07_人材派遣契約書.txt']\n",
            "['/content/drive/MyDrive/PL自動割り当て用プロトデータ/sample_houmu_contract/response_2024-03-28_06-51-22_システム開発・運用委託契約書.txt', '/content/drive/MyDrive/PL自動割り当て用プロトデータ/sample_houmu_contract/response_2024-03-28_06-51-42_出版権設定契約書.txt', '/content/drive/MyDrive/PL自動割り当て用プロトデータ/sample_houmu_contract/response_2024-03-28_06-52-08_ホテル運営委託契約書.txt', '/content/drive/MyDrive/PL自動割り当て用プロトデータ/sample_houmu_contract/response_2024-03-28_06-52-27_商標ライセンス契約書.txt', '/content/drive/MyDrive/PL自動割り当て用プロトデータ/sample_houmu_contract/response_2024-03-28_06-52-46_イベント運営委託契約書.txt', '/content/drive/MyDrive/PL自動割り当て用プロトデータ/sample_houmu_syohyo_tokkyo/response_2024-03-28_07-58-03_商標の識別力.txt', '/content/drive/MyDrive/PL自動割り当て用プロトデータ/sample_houmu_syohyo_tokkyo/response_2024-03-28_07-58-12_商標の類似性.txt', '/content/drive/MyDrive/PL自動割り当て用プロトデータ/sample_houmu_syohyo_tokkyo/response_2024-03-28_07-58-19_商標の使用の事実.txt', '/content/drive/MyDrive/PL自動割り当て用プロトデータ/sample_houmu_syohyo_tokkyo/response_2024-03-28_07-58-29_商標の周知性.txt', '/content/drive/MyDrive/PL自動割り当て用プロトデータ/sample_houmu_syohyo_tokkyo/response_2024-03-28_07-58-36_商標登録の無効事由.txt', '/content/drive/MyDrive/PL自動割り当て用プロトデータ/sample_houmu_syohyo_tokkyo/response_2024-03-28_07-58-44_特許の新規性.txt']\n",
            "['/content/drive/MyDrive/PL自動割り当て用プロトデータ/sample_houmu_syohyo_tokkyo/response_2024-03-28_07-58-52_特許の進歩性.txt', '/content/drive/MyDrive/PL自動割り当て用プロトデータ/sample_houmu_syohyo_tokkyo/response_2024-03-28_07-59-00_特許の記載要件.txt', '/content/drive/MyDrive/PL自動割り当て用プロトデータ/sample_houmu_syohyo_tokkyo/response_2024-03-28_07-59-17_特許の用途限定.txt', '/content/drive/MyDrive/PL自動割り当て用プロトデータ/sample_houmu_syohyo_tokkyo/response_2024-03-28_07-59-29_特許権の効力.txt', '/content/drive/MyDrive/PL自動割り当て用プロトデータ/sample_IT_incident/response_2024-03-28_08-31-39.txt', '/content/drive/MyDrive/PL自動割り当て用プロトデータ/sample_IT_incident/response_2024-03-28_08-31-57.txt', '/content/drive/MyDrive/PL自動割り当て用プロトデータ/sample_IT_incident/response_2024-03-28_08-32-20.txt', '/content/drive/MyDrive/PL自動割り当て用プロトデータ/sample_IT_incident/response_2024-03-28_08-32-34.txt', '/content/drive/MyDrive/PL自動割り当て用プロトデータ/sample_IT_incident/response_2024-03-28_08-32-49.txt', '/content/drive/MyDrive/PL自動割り当て用プロトデータ/sample_IT_incident/response_2024-03-28_08-33-05.txt', '/content/drive/MyDrive/PL自動割り当て用プロトデータ/sample_IT_incident/response_2024-03-28_08-33-16.txt', '/content/drive/MyDrive/PL自動割り当て用プロトデータ/sample_IT_incident/response_2024-03-28_08-33-24.txt']\n",
            "['/content/drive/MyDrive/PL自動割り当て用プロトデータ/sample_IT_incident/response_2024-03-28_08-33-35.txt', '/content/drive/MyDrive/PL自動割り当て用プロトデータ/sample_IT_incident/response_2024-03-28_08-33-47.txt', '/content/drive/MyDrive/PL自動割り当て用プロトデータ/sample_IT_incident/response_2024-03-28_08-34-01.txt', '/content/drive/MyDrive/PL自動割り当て用プロトデータ/sample_IT_incident/response_2024-03-28_08-34-17.txt', '/content/drive/MyDrive/PL自動割り当て用プロトデータ/sample_IT_incident/response_2024-03-28_08-34-29.txt', '/content/drive/MyDrive/PL自動割り当て用プロトデータ/sample_IT_incident/response_2024-03-28_08-34-43.txt', '/content/drive/MyDrive/PL自動割り当て用プロトデータ/sample_IT_incident/response_2024-03-28_08-35-00.txt', '/content/drive/MyDrive/PL自動割り当て用プロトデータ/sample_IT_incident/response_2024-03-28_08-35-18.txt', '/content/drive/MyDrive/PL自動割り当て用プロトデータ/sample_IT_incident/response_2024-03-28_08-35-32.txt', '/content/drive/MyDrive/PL自動割り当て用プロトデータ/sample_IT_incident/response_2024-03-28_08-35-47.txt', '/content/drive/MyDrive/PL自動割り当て用プロトデータ/sample_IT_incident/response_2024-03-28_08-36-09.txt']\n",
            "['/content/drive/MyDrive/PL自動割り当て用プロトデータ/sample_IT_incident/response_2024-03-28_08-36-23.txt', '/content/drive/MyDrive/PL自動割り当て用プロトデータ/sample_IT_incident/response_2024-03-28_08-36-47.txt', '/content/drive/MyDrive/PL自動割り当て用プロトデータ/sample_IT_incident/response_2024-03-28_08-36-56.txt', '/content/drive/MyDrive/PL自動割り当て用プロトデータ/sample_IT_incident/response_2024-03-28_08-37-10.txt', '/content/drive/MyDrive/PL自動割り当て用プロトデータ/sample_IT_incident/response_2024-03-28_08-37-27.txt', '/content/drive/MyDrive/PL自動割り当て用プロトデータ/sample_IT_incident/response_2024-03-28_08-37-44.txt', '/content/drive/MyDrive/PL自動割り当て用プロトデータ/sample_IT_incident/response_2024-03-28_08-37-57.txt', '/content/drive/MyDrive/PL自動割り当て用プロトデータ/sample_IT_incident/response_2024-03-28_08-38-15.txt', '/content/drive/MyDrive/PL自動割り当て用プロトデータ/sample_IT_incident/response_2024-03-28_08-38-28.txt', '/content/drive/MyDrive/PL自動割り当て用プロトデータ/sample_IT_incident/response_2024-03-28_08-38-41.txt']\n",
            "['/content/drive/MyDrive/PL自動割り当て用プロトデータ/sample_IT_incident/response_2024-03-28_08-38-58.txt', '/content/drive/MyDrive/PL自動割り当て用プロトデータ/sample_IT_incident/response_2024-03-28_08-39-18.txt', '/content/drive/MyDrive/PL自動割り当て用プロトデータ/sample_IT_incident/response_2024-03-28_08-39-42.txt', '/content/drive/MyDrive/PL自動割り当て用プロトデータ/sample_IT_incident/response_2024-03-28_08-39-51.txt', '/content/drive/MyDrive/PL自動割り当て用プロトデータ/sample_IT_incident/response_2024-03-28_08-40-08.txt', '/content/drive/MyDrive/PL自動割り当て用プロトデータ/sample_IT_incident/response_2024-03-28_08-40-31.txt', '/content/drive/MyDrive/PL自動割り当て用プロトデータ/sample_IT_incident/response_2024-03-28_08-40-47.txt', '/content/drive/MyDrive/PL自動割り当て用プロトデータ/sample_IT_incident/response_2024-03-28_08-40-55.txt', '/content/drive/MyDrive/PL自動割り当て用プロトデータ/sample_IT_incident/response_2024-03-28_08-41-04.txt', '/content/drive/MyDrive/PL自動割り当て用プロトデータ/sample_IT_incident/response_2024-03-28_08-41-17.txt']\n",
            "['/content/drive/MyDrive/PL自動割り当て用プロトデータ/sample_IT_incident/response_2024-03-28_08-41-35.txt', '/content/drive/MyDrive/PL自動割り当て用プロトデータ/sample_IT_incident/response_2024-03-28_08-41-48.txt', '/content/drive/MyDrive/PL自動割り当て用プロトデータ/sample_IT_incident/response_2024-03-28_08-41-59.txt', '/content/drive/MyDrive/PL自動割り当て用プロトデータ/sample_IT_incident/response_2024-03-28_08-42-14.txt', '/content/drive/MyDrive/PL自動割り当て用プロトデータ/sample_IT_incident/response_2024-03-28_08-42-28.txt', '/content/drive/MyDrive/PL自動割り当て用プロトデータ/sample_IT_incident/response_2024-03-28_08-42-42.txt', '/content/drive/MyDrive/PL自動割り当て用プロトデータ/sample_IT_incident/response_2024-03-28_08-43-00.txt', '/content/drive/MyDrive/PL自動割り当て用プロトデータ/sample_IT_incident/response_2024-03-28_08-43-12.txt', '/content/drive/MyDrive/PL自動割り当て用プロトデータ/sample_IT_incident/response_2024-03-28_08-43-27.txt', '/content/drive/MyDrive/PL自動割り当て用プロトデータ/sample_IT_incident/response_2024-03-28_08-43-39.txt', '/content/drive/MyDrive/PL自動割り当て用プロトデータ/sample_IT_incident/response_2024-03-28_08-43-50.txt']\n",
            "['/content/drive/MyDrive/PL自動割り当て用プロトデータ/sample_IT_incident/response_2024-03-28_08-44-05.txt', '/content/drive/MyDrive/PL自動割り当て用プロトデータ/sample_IT_incident/response_2024-03-28_08-44-18.txt', '/content/drive/MyDrive/PL自動割り当て用プロトデータ/sample_IT_incident/response_2024-03-28_08-44-30.txt', '/content/drive/MyDrive/PL自動割り当て用プロトデータ/sample_IT_incident/response_2024-03-28_08-44-53.txt', '/content/drive/MyDrive/PL自動割り当て用プロトデータ/sample_IT_incident/response_2024-03-28_08-45-09.txt', '/content/drive/MyDrive/PL自動割り当て用プロトデータ/sample_IT_incident/response_2024-03-28_08-45-22.txt', '/content/drive/MyDrive/PL自動割り当て用プロトデータ/sample_IT_incident/response_2024-03-28_08-45-36.txt', '/content/drive/MyDrive/PL自動割り当て用プロトデータ/sample_IT_incident/response_2024-03-28_08-45-49.txt', '/content/drive/MyDrive/PL自動割り当て用プロトデータ/sample_IT_incident/response_2024-03-28_08-46-04.txt', '/content/drive/MyDrive/PL自動割り当て用プロトデータ/sample_IT_incident/response_2024-03-28_08-46-17.txt']\n",
            "['/content/drive/MyDrive/PL自動割り当て用プロトデータ/sample_IT_incident/response_2024-03-28_08-46-32.txt', '/content/drive/MyDrive/PL自動割り当て用プロトデータ/sample_IT_incident/response_2024-03-28_08-46-51.txt', '/content/drive/MyDrive/PL自動割り当て用プロトデータ/sample_IT_incident/response_2024-03-28_08-47-11.txt', '/content/drive/MyDrive/PL自動割り当て用プロトデータ/sample_IT_incident/response_2024-03-28_08-47-28.txt', '/content/drive/MyDrive/PL自動割り当て用プロトデータ/sample_IT_incident/response_2024-03-28_08-47-51.txt', '/content/drive/MyDrive/PL自動割り当て用プロトデータ/sample_IT_incident/response_2024-03-28_08-48-03.txt', '/content/drive/MyDrive/PL自動割り当て用プロトデータ/sample_IT_incident/response_2024-03-28_08-48-26.txt', '/content/drive/MyDrive/PL自動割り当て用プロトデータ/sample_IT_incident/response_2024-03-28_08-48-41.txt', '/content/drive/MyDrive/PL自動割り当て用プロトデータ/sample_IT_incident/response_2024-03-28_08-48-59.txt', '/content/drive/MyDrive/PL自動割り当て用プロトデータ/sample_IT_incident/response_2024-03-28_08-49-14.txt', '/content/drive/MyDrive/PL自動割り当て用プロトデータ/sample_qa/response_2024-03-28_05-30-16_qa.txt']\n",
            "['/content/drive/MyDrive/PL自動割り当て用プロトデータ/sample_qa/response_2024-03-28_05-30-20_qa.txt', '/content/drive/MyDrive/PL自動割り当て用プロトデータ/sample_qa/response_2024-03-28_05-30-30_qa.txt', '/content/drive/MyDrive/PL自動割り当て用プロトデータ/sample_qa/response_2024-03-28_05-30-39_qa.txt', '/content/drive/MyDrive/PL自動割り当て用プロトデータ/sample_qa/response_2024-03-28_05-30-49_qa.txt', '/content/drive/MyDrive/PL自動割り当て用プロトデータ/sample_qa/response_2024-03-28_05-30-57_qa.txt', '/content/drive/MyDrive/PL自動割り当て用プロトデータ/sample_qa/response_2024-03-28_05-31-07_qa.txt', '/content/drive/MyDrive/PL自動割り当て用プロトデータ/sample_qa/response_2024-03-28_05-31-14_qa.txt', '/content/drive/MyDrive/PL自動割り当て用プロトデータ/sample_qa/response_2024-03-28_05-31-25_qa.txt', '/content/drive/MyDrive/PL自動割り当て用プロトデータ/sample_qa/response_2024-03-28_05-31-34_qa.txt', '/content/drive/MyDrive/PL自動割り当て用プロトデータ/sample_qa/response_2024-03-28_05-31-42_qa.txt', '/content/drive/MyDrive/PL自動割り当て用プロトデータ/sample_qa/response_2024-03-28_05-31-49_qa.txt', '/content/drive/MyDrive/PL自動割り当て用プロトデータ/sample_qa/response_2024-03-28_05-31-56_qa.txt', '/content/drive/MyDrive/PL自動割り当て用プロトデータ/sample_qa/response_2024-03-28_05-32-03_qa.txt', '/content/drive/MyDrive/PL自動割り当て用プロトデータ/sample_qa/response_2024-03-28_05-32-08_qa.txt', '/content/drive/MyDrive/PL自動割り当て用プロトデータ/sample_qa/response_2024-03-28_05-32-18_qa.txt', '/content/drive/MyDrive/PL自動割り当て用プロトデータ/sample_qa/response_2024-03-28_05-32-31_qa.txt', '/content/drive/MyDrive/PL自動割り当て用プロトデータ/sample_qa/response_2024-03-28_05-32-42_qa.txt']\n",
            "['/content/drive/MyDrive/PL自動割り当て用プロトデータ/sample_qa/response_2024-03-28_05-32-52_qa.txt', '/content/drive/MyDrive/PL自動割り当て用プロトデータ/sample_qa/response_2024-03-28_05-33-07_qa.txt', '/content/drive/MyDrive/PL自動割り当て用プロトデータ/sample_qa/response_2024-03-28_05-33-18_qa.txt', '/content/drive/MyDrive/PL自動割り当て用プロトデータ/sample_qa/response_2024-03-28_05-33-24_qa.txt', '/content/drive/MyDrive/PL自動割り当て用プロトデータ/sample_qa/response_2024-03-28_05-33-32_qa.txt', '/content/drive/MyDrive/PL自動割り当て用プロトデータ/sample_qa/response_2024-03-28_05-33-40_qa.txt', '/content/drive/MyDrive/PL自動割り当て用プロトデータ/sample_qa/response_2024-03-28_05-33-49_qa.txt', '/content/drive/MyDrive/PL自動割り当て用プロトデータ/sample_qa/response_2024-03-28_05-34-00_qa.txt', '/content/drive/MyDrive/PL自動割り当て用プロトデータ/sample_qa/response_2024-03-28_05-34-10_qa.txt', '/content/drive/MyDrive/PL自動割り当て用プロトデータ/sample_qa/response_2024-03-28_05-34-19_qa.txt', '/content/drive/MyDrive/PL自動割り当て用プロトデータ/sample_qa/response_2024-03-28_05-34-28_qa.txt', '/content/drive/MyDrive/PL自動割り当て用プロトデータ/sample_qa/response_2024-03-28_05-34-38_qa.txt', '/content/drive/MyDrive/PL自動割り当て用プロトデータ/sample_qa/response_2024-03-28_05-34-49_qa.txt', '/content/drive/MyDrive/PL自動割り当て用プロトデータ/sample_qa/response_2024-03-28_05-35-00_qa.txt', '/content/drive/MyDrive/PL自動割り当て用プロトデータ/sample_qa/response_2024-03-28_05-35-07_qa.txt', '/content/drive/MyDrive/PL自動割り当て用プロトデータ/sample_qa/response_2024-03-28_05-35-15_qa.txt', '/content/drive/MyDrive/PL自動割り当て用プロトデータ/sample_qa/response_2024-03-28_05-35-22_qa.txt']\n",
            "['/content/drive/MyDrive/PL自動割り当て用プロトデータ/sample_qa/response_2024-03-28_05-35-31_qa.txt', '/content/drive/MyDrive/PL自動割り当て用プロトデータ/sample_qa/response_2024-03-28_05-35-41_qa.txt', '/content/drive/MyDrive/PL自動割り当て用プロトデータ/sample_qa/response_2024-03-28_05-35-51_qa.txt', '/content/drive/MyDrive/PL自動割り当て用プロトデータ/sample_qa/response_2024-03-28_05-36-01_qa.txt', '/content/drive/MyDrive/PL自動割り当て用プロトデータ/sample_qa/response_2024-03-28_05-36-08_qa.txt', '/content/drive/MyDrive/PL自動割り当て用プロトデータ/sample_qa/response_2024-03-28_05-36-14_qa.txt', '/content/drive/MyDrive/PL自動割り当て用プロトデータ/sample_qa/response_2024-03-28_05-36-23_qa.txt', '/content/drive/MyDrive/PL自動割り当て用プロトデータ/sample_qa/response_2024-03-28_05-36-29_qa.txt', '/content/drive/MyDrive/PL自動割り当て用プロトデータ/sample_qa/response_2024-03-28_05-36-36_qa.txt', '/content/drive/MyDrive/PL自動割り当て用プロトデータ/sample_qa/response_2024-03-28_05-36-44_qa.txt', '/content/drive/MyDrive/PL自動割り当て用プロトデータ/sample_qa/response_2024-03-28_05-36-55_qa.txt', '/content/drive/MyDrive/PL自動割り当て用プロトデータ/sample_qa/response_2024-03-28_05-37-04_qa.txt', '/content/drive/MyDrive/PL自動割り当て用プロトデータ/sample_qa/response_2024-03-28_05-37-14_qa.txt', '/content/drive/MyDrive/PL自動割り当て用プロトデータ/sample_qa/response_2024-03-28_05-37-22_qa.txt', '/content/drive/MyDrive/PL自動割り当て用プロトデータ/sample_qa/response_2024-03-28_05-37-31_qa.txt', '/content/drive/MyDrive/PL自動割り当て用プロトデータ/sample_qa/response_2024-03-28_05-37-39_qa.txt', '/content/drive/MyDrive/PL自動割り当て用プロトデータ/sample_qa/response_2024-03-28_05-37-44_qa.txt']\n",
            "['/content/drive/MyDrive/PL自動割り当て用プロトデータ/sample_qa/response_2024-03-28_05-37-55_qa.txt', '/content/drive/MyDrive/PL自動割り当て用プロトデータ/sample_qa/response_2024-03-28_05-38-00_qa.txt', '/content/drive/MyDrive/PL自動割り当て用プロトデータ/sample_qa/response_2024-03-28_05-38-17_qa.txt', '/content/drive/MyDrive/PL自動割り当て用プロトデータ/sample_qa/response_2024-03-28_05-38-24_qa.txt', '/content/drive/MyDrive/PL自動割り当て用プロトデータ/sample_qa/response_2024-03-28_05-38-35_qa.txt', '/content/drive/MyDrive/PL自動割り当て用プロトデータ/sample_qa/response_2024-03-28_05-38-43_qa.txt', '/content/drive/MyDrive/PL自動割り当て用プロトデータ/sample_qa/response_2024-03-28_05-38-51_qa.txt', '/content/drive/MyDrive/PL自動割り当て用プロトデータ/sample_qa/response_2024-03-28_05-39-00_qa.txt', '/content/drive/MyDrive/PL自動割り当て用プロトデータ/sample_qa/response_2024-03-28_05-39-13_qa.txt', '/content/drive/MyDrive/PL自動割り当て用プロトデータ/sample_qa/response_2024-03-28_05-39-22_qa.txt', '/content/drive/MyDrive/PL自動割り当て用プロトデータ/sample_qa/response_2024-03-28_05-39-32_qa.txt', '/content/drive/MyDrive/PL自動割り当て用プロトデータ/sample_qa/response_2024-03-28_05-39-39_qa.txt', '/content/drive/MyDrive/PL自動割り当て用プロトデータ/sample_qa/response_2024-03-28_05-39-45_qa.txt', '/content/drive/MyDrive/PL自動割り当て用プロトデータ/sample_qa/response_2024-03-28_05-39-54_qa.txt', '/content/drive/MyDrive/PL自動割り当て用プロトデータ/sample_qa/response_2024-03-28_05-40-00_qa.txt', '/content/drive/MyDrive/PL自動割り当て用プロトデータ/sample_qa/response_2024-03-28_05-40-08_qa.txt']\n",
            "['/content/drive/MyDrive/PL自動割り当て用プロトデータ/sample_qa/response_2024-03-28_05-40-15_qa.txt', '/content/drive/MyDrive/PL自動割り当て用プロトデータ/sample_qa/response_2024-03-28_05-40-28_qa.txt', '/content/drive/MyDrive/PL自動割り当て用プロトデータ/sample_qa/response_2024-03-28_05-40-35_qa.txt', '/content/drive/MyDrive/PL自動割り当て用プロトデータ/sample_qa/response_2024-03-28_05-40-41_qa.txt', '/content/drive/MyDrive/PL自動割り当て用プロトデータ/sample_qa/response_2024-03-28_05-40-49_qa.txt', '/content/drive/MyDrive/PL自動割り当て用プロトデータ/sample_qa/response_2024-03-28_05-40-57_qa.txt', '/content/drive/MyDrive/PL自動割り当て用プロトデータ/sample_qa/response_2024-03-28_05-41-12_qa.txt', '/content/drive/MyDrive/PL自動割り当て用プロトデータ/sample_qa/response_2024-03-28_05-41-21_qa.txt', '/content/drive/MyDrive/PL自動割り当て用プロトデータ/sample_qa/response_2024-03-28_05-41-29_qa.txt', '/content/drive/MyDrive/PL自動割り当て用プロトデータ/sample_qa/response_2024-03-28_05-41-38_qa.txt', '/content/drive/MyDrive/PL自動割り当て用プロトデータ/sample_qa/response_2024-03-28_05-41-47_qa.txt', '/content/drive/MyDrive/PL自動割り当て用プロトデータ/sample_qa/response_2024-03-28_05-41-56_qa.txt', '/content/drive/MyDrive/PL自動割り当て用プロトデータ/sample_qa/response_2024-03-28_05-42-08_qa.txt', '/content/drive/MyDrive/PL自動割り当て用プロトデータ/sample_qa/response_2024-03-28_05-42-20_qa.txt', '/content/drive/MyDrive/PL自動割り当て用プロトデータ/sample_qa/response_2024-03-28_05-42-32_qa.txt', '/content/drive/MyDrive/PL自動割り当て用プロトデータ/sample_qa/response_2024-03-28_05-42-41_qa.txt']\n",
            "['/content/drive/MyDrive/PL自動割り当て用プロトデータ/sample_qa/response_2024-03-28_05-42-53_qa.txt', '/content/drive/MyDrive/PL自動割り当て用プロトデータ/sample_qa/response_2024-03-28_05-43-03_qa.txt', '/content/drive/MyDrive/PL自動割り当て用プロトデータ/sample_qa/response_2024-03-28_05-43-07_qa.txt', '/content/drive/MyDrive/PL自動割り当て用プロトデータ/sample_qa/response_2024-03-28_05-43-19_qa.txt', '/content/drive/MyDrive/PL自動割り当て用プロトデータ/sample_qa/response_2024-03-28_05-43-27_qa.txt', '/content/drive/MyDrive/PL自動割り当て用プロトデータ/sample_qa/response_2024-03-28_05-43-35_qa.txt', '/content/drive/MyDrive/PL自動割り当て用プロトデータ/sample_qa/response_2024-03-28_05-43-44_qa.txt', '/content/drive/MyDrive/PL自動割り当て用プロトデータ/sample_qa/response_2024-03-28_05-43-55_qa.txt', '/content/drive/MyDrive/PL自動割り当て用プロトデータ/sample_qa/response_2024-03-28_05-44-04_qa.txt', '/content/drive/MyDrive/PL自動割り当て用プロトデータ/sample_qa/response_2024-03-28_05-44-15_qa.txt', '/content/drive/MyDrive/PL自動割り当て用プロトデータ/sample_qa/response_2024-03-28_05-44-25_qa.txt', '/content/drive/MyDrive/PL自動割り当て用プロトデータ/sample_qa/response_2024-03-28_05-44-30_qa.txt', '/content/drive/MyDrive/PL自動割り当て用プロトデータ/sample_qa/response_2024-03-28_05-44-40_qa.txt', '/content/drive/MyDrive/PL自動割り当て用プロトデータ/sample_qa/response_2024-03-28_05-44-47_qa.txt', '/content/drive/MyDrive/PL自動割り当て用プロトデータ/sample_qa/response_2024-03-28_05-44-52_qa.txt', '/content/drive/MyDrive/PL自動割り当て用プロトデータ/sample_qa/response_2024-03-28_05-45-00_qa.txt']\n",
            "['/content/drive/MyDrive/PL自動割り当て用プロトデータ/sample_qa/response_2024-03-28_05-45-09_qa.txt', '/content/drive/MyDrive/PL自動割り当て用プロトデータ/sample_qa/response_2024-03-28_05-45-25_qa.txt', '/content/drive/MyDrive/PL自動割り当て用プロトデータ/sample_qa/response_2024-03-28_05-45-29_qa.txt', '/content/drive/MyDrive/PL自動割り当て用プロトデータ/sample_qa/response_2024-03-28_05-45-39_qa.txt', '/content/drive/MyDrive/PL自動割り当て用プロトデータ/sample_qa/response_2024-03-28_05-45-50_qa.txt', '/content/drive/MyDrive/PL自動割り当て用プロトデータ/sample_qa/response_2024-03-28_05-45-55_qa.txt', '/content/drive/MyDrive/PL自動割り当て用プロトデータ/sample_qa/response_2024-03-28_05-46-10_qa.txt', '/content/drive/MyDrive/PL自動割り当て用プロトデータ/sample_qa/response_2024-03-28_05-46-18_qa.txt', '/content/drive/MyDrive/PL自動割り当て用プロトデータ/sample_qa/response_2024-03-28_05-46-24_qa.txt', '/content/drive/MyDrive/PL自動割り当て用プロトデータ/sample_qa/response_2024-03-28_05-46-32_qa.txt', '/content/drive/MyDrive/PL自動割り当て用プロトデータ/sample_qa/response_2024-03-28_05-46-41_qa.txt', '/content/drive/MyDrive/PL自動割り当て用プロトデータ/sample_qa/response_2024-03-28_05-46-50_qa.txt', '/content/drive/MyDrive/PL自動割り当て用プロトデータ/sample_qa/response_2024-03-28_05-47-01_qa.txt', '/content/drive/MyDrive/PL自動割り当て用プロトデータ/sample_qa/response_2024-03-28_05-47-11_qa.txt', '/content/drive/MyDrive/PL自動割り当て用プロトデータ/sample_qa/response_2024-03-28_05-47-24_qa.txt', '/content/drive/MyDrive/PL自動割り当て用プロトデータ/sample_qa/response_2024-03-28_05-47-30_qa.txt', '/content/drive/MyDrive/PL自動割り当て用プロトデータ/sample_qa/response_2024-03-28_05-47-34_qa.txt', '/content/drive/MyDrive/PL自動割り当て用プロトデータ/sample_qa/response_2024-03-28_05-47-41_qa.txt']\n",
            "['/content/drive/MyDrive/PL自動割り当て用プロトデータ/sample_qa/response_2024-03-28_05-47-48_qa.txt', '/content/drive/MyDrive/PL自動割り当て用プロトデータ/sample_qa/response_2024-03-28_05-47-59_qa.txt', '/content/drive/MyDrive/PL自動割り当て用プロトデータ/sample_qa/response_2024-03-28_05-48-08_qa.txt', '/content/drive/MyDrive/PL自動割り当て用プロトデータ/sample_qa/response_2024-03-28_05-48-17_qa.txt', '/content/drive/MyDrive/PL自動割り当て用プロトデータ/sample_qa/response_2024-03-28_05-48-25_qa.txt', '/content/drive/MyDrive/PL自動割り当て用プロトデータ/sample_qa/response_2024-03-28_05-48-33_qa.txt', '/content/drive/MyDrive/PL自動割り当て用プロトデータ/sample_qa/response_2024-03-28_05-48-41_qa.txt', '/content/drive/MyDrive/PL自動割り当て用プロトデータ/sample_qa/response_2024-03-28_05-48-49_qa.txt', '/content/drive/MyDrive/PL自動割り当て用プロトデータ/sample_qa/response_2024-03-28_05-48-58_qa.txt', '/content/drive/MyDrive/PL自動割り当て用プロトデータ/sample_qa/response_2024-03-28_05-49-08_qa.txt', '/content/drive/MyDrive/PL自動割り当て用プロトデータ/sample_qa/response_2024-03-28_05-49-16_qa.txt', '/content/drive/MyDrive/PL自動割り当て用プロトデータ/sample_qa/response_2024-03-28_05-51-44_qa.txt', '/content/drive/MyDrive/PL自動割り当て用プロトデータ/sample_qa/response_2024-03-28_05-51-52_qa.txt', '/content/drive/MyDrive/PL自動割り当て用プロトデータ/sample_qa/response_2024-03-28_05-51-59_qa.txt', '/content/drive/MyDrive/PL自動割り当て用プロトデータ/sample_qa/response_2024-03-28_05-52-13_qa.txt', '/content/drive/MyDrive/PL自動割り当て用プロトデータ/sample_qa/response_2024-03-28_05-52-21_qa.txt', '/content/drive/MyDrive/PL自動割り当て用プロトデータ/sample_qa/response_2024-03-28_05-52-27_qa.txt']\n",
            "['/content/drive/MyDrive/PL自動割り当て用プロトデータ/sample_qa/response_2024-03-28_05-52-33_qa.txt', '/content/drive/MyDrive/PL自動割り当て用プロトデータ/sample_qa/response_2024-03-28_05-52-42_qa.txt', '/content/drive/MyDrive/PL自動割り当て用プロトデータ/sample_qa/response_2024-03-28_05-52-59_qa.txt', '/content/drive/MyDrive/PL自動割り当て用プロトデータ/sample_qa/response_2024-03-28_05-53-05_qa.txt', '/content/drive/MyDrive/PL自動割り当て用プロトデータ/sample_qa/response_2024-03-28_05-53-13_qa.txt', '/content/drive/MyDrive/PL自動割り当て用プロトデータ/sample_qa/response_2024-03-28_05-53-18_qa.txt', '/content/drive/MyDrive/PL自動割り当て用プロトデータ/sample_qa/response_2024-03-28_05-53-30_qa.txt', '/content/drive/MyDrive/PL自動割り当て用プロトデータ/sample_qa/response_2024-03-28_05-53-38_qa.txt', '/content/drive/MyDrive/PL自動割り当て用プロトデータ/sample_qa/response_2024-03-28_05-53-55_qa.txt', '/content/drive/MyDrive/PL自動割り当て用プロトデータ/sample_qa/response_2024-03-28_05-54-09_qa.txt', '/content/drive/MyDrive/PL自動割り当て用プロトデータ/sample_qa/response_2024-03-28_05-54-16_qa.txt', '/content/drive/MyDrive/PL自動割り当て用プロトデータ/sample_qa/response_2024-03-28_05-54-23_qa.txt', '/content/drive/MyDrive/PL自動割り当て用プロトデータ/sample_qa/response_2024-03-28_05-54-35_qa.txt', '/content/drive/MyDrive/PL自動割り当て用プロトデータ/sample_qa/response_2024-03-28_05-54-45_qa.txt', '/content/drive/MyDrive/PL自動割り当て用プロトデータ/sample_qa/response_2024-03-28_05-54-53_qa.txt', '/content/drive/MyDrive/PL自動割り当て用プロトデータ/sample_qa/response_2024-03-28_05-55-07_qa.txt']\n",
            "['/content/drive/MyDrive/PL自動割り当て用プロトデータ/sample_qa/response_2024-03-28_05-55-12_qa.txt', '/content/drive/MyDrive/PL自動割り当て用プロトデータ/sample_qa/response_2024-03-28_05-55-21_qa.txt', '/content/drive/MyDrive/PL自動割り当て用プロトデータ/sample_qa/response_2024-03-28_05-55-30_qa.txt', '/content/drive/MyDrive/PL自動割り当て用プロトデータ/sample_qa/response_2024-03-28_05-55-39_qa.txt', '/content/drive/MyDrive/PL自動割り当て用プロトデータ/sample_qa/response_2024-03-28_05-55-43_qa.txt', '/content/drive/MyDrive/PL自動割り当て用プロトデータ/sample_qa/response_2024-03-28_05-55-53_qa.txt', '/content/drive/MyDrive/PL自動割り当て用プロトデータ/sample_qa/response_2024-03-28_05-56-01_qa.txt', '/content/drive/MyDrive/PL自動割り当て用プロトデータ/sample_qa/response_2024-03-28_05-56-10_qa.txt', '/content/drive/MyDrive/PL自動割り当て用プロトデータ/sample_qa/response_2024-03-28_05-56-17_qa.txt', '/content/drive/MyDrive/PL自動割り当て用プロトデータ/sample_qa/response_2024-03-28_05-56-26_qa.txt', '/content/drive/MyDrive/PL自動割り当て用プロトデータ/sample_qa/response_2024-03-28_05-56-36_qa.txt', '/content/drive/MyDrive/PL自動割り当て用プロトデータ/sample_qa/response_2024-03-28_05-56-49_qa.txt', '/content/drive/MyDrive/PL自動割り当て用プロトデータ/sample_qa/response_2024-03-28_05-57-04_qa.txt', '/content/drive/MyDrive/PL自動割り当て用プロトデータ/sample_qa/response_2024-03-28_05-57-16_qa.txt', '/content/drive/MyDrive/PL自動割り当て用プロトデータ/sample_qa/response_2024-03-28_05-57-23_qa.txt', '/content/drive/MyDrive/PL自動割り当て用プロトデータ/sample_qa/response_2024-03-28_05-57-34_qa.txt']\n",
            "['/content/drive/MyDrive/PL自動割り当て用プロトデータ/sample_qa/response_2024-03-28_05-57-44_qa.txt', '/content/drive/MyDrive/PL自動割り当て用プロトデータ/sample_qa/response_2024-03-28_05-57-52_qa.txt', '/content/drive/MyDrive/PL自動割り当て用プロトデータ/sample_qa/response_2024-03-28_05-58-09_qa.txt', '/content/drive/MyDrive/PL自動割り当て用プロトデータ/sample_qa/response_2024-03-28_05-58-20_qa.txt', '/content/drive/MyDrive/PL自動割り当て用プロトデータ/sample_qa/response_2024-03-28_05-58-30_qa.txt', '/content/drive/MyDrive/PL自動割り当て用プロトデータ/sample_qa/response_2024-03-28_05-58-48_qa.txt', '/content/drive/MyDrive/PL自動割り当て用プロトデータ/sample_qa/response_2024-03-28_05-58-53_qa.txt', '/content/drive/MyDrive/PL自動割り当て用プロトデータ/sample_qa/response_2024-03-28_05-59-02_qa.txt', '/content/drive/MyDrive/PL自動割り当て用プロトデータ/sample_qa/response_2024-03-28_05-59-06_qa.txt', '/content/drive/MyDrive/PL自動割り当て用プロトデータ/sample_qa/response_2024-03-28_05-59-19_qa.txt', '/content/drive/MyDrive/PL自動割り当て用プロトデータ/sample_qa/response_2024-03-28_05-59-30_qa.txt', '/content/drive/MyDrive/PL自動割り当て用プロトデータ/sample_qa/response_2024-03-28_05-59-39_qa.txt', '/content/drive/MyDrive/PL自動割り当て用プロトデータ/sample_qa/response_2024-03-28_05-59-54_qa.txt', '/content/drive/MyDrive/PL自動割り当て用プロトデータ/sample_qa/response_2024-03-28_06-00-05_qa.txt', '/content/drive/MyDrive/PL自動割り当て用プロトデータ/sample_qa/response_2024-03-28_06-00-18_qa.txt']\n",
            "['/content/drive/MyDrive/PL自動割り当て用プロトデータ/sample_qa/response_2024-03-28_06-00-26_qa.txt', '/content/drive/MyDrive/PL自動割り当て用プロトデータ/sample_qa/response_2024-03-28_06-00-33_qa.txt', '/content/drive/MyDrive/PL自動割り当て用プロトデータ/sample_qa/response_2024-03-28_06-00-44_qa.txt', '/content/drive/MyDrive/PL自動割り当て用プロトデータ/sample_qa/response_2024-03-28_06-00-52_qa.txt', '/content/drive/MyDrive/PL自動割り当て用プロトデータ/sample_qa/response_2024-03-28_06-00-59_qa.txt', '/content/drive/MyDrive/PL自動割り当て用プロトデータ/sample_qa/response_2024-03-28_06-01-08_qa.txt', '/content/drive/MyDrive/PL自動割り当て用プロトデータ/sample_qa/response_2024-03-28_06-01-15_qa.txt', '/content/drive/MyDrive/PL自動割り当て用プロトデータ/sample_qa/response_2024-03-28_06-01-21_qa.txt', '/content/drive/MyDrive/PL自動割り当て用プロトデータ/sample_qa/response_2024-03-28_06-01-37_qa.txt', '/content/drive/MyDrive/PL自動割り当て用プロトデータ/sample_qa/response_2024-03-28_06-01-45_qa.txt', '/content/drive/MyDrive/PL自動割り当て用プロトデータ/sample_qa/response_2024-03-28_06-01-59_qa.txt', '/content/drive/MyDrive/PL自動割り当て用プロトデータ/sample_qa/response_2024-03-28_06-02-08_qa.txt', '/content/drive/MyDrive/PL自動割り当て用プロトデータ/sample_qa/response_2024-03-28_06-02-16_qa.txt', '/content/drive/MyDrive/PL自動割り当て用プロトデータ/sample_qa/response_2024-03-28_06-02-36_qa.txt', '/content/drive/MyDrive/PL自動割り当て用プロトデータ/sample_qa/response_2024-03-28_06-02-47_qa.txt']\n",
            "['/content/drive/MyDrive/PL自動割り当て用プロトデータ/sample_qa/response_2024-03-28_06-02-58_qa.txt', '/content/drive/MyDrive/PL自動割り当て用プロトデータ/sample_qa/response_2024-03-28_06-03-08_qa.txt', '/content/drive/MyDrive/PL自動割り当て用プロトデータ/sample_qa/response_2024-03-28_06-03-20_qa.txt', '/content/drive/MyDrive/PL自動割り当て用プロトデータ/sample_qa/response_2024-03-28_06-03-30_qa.txt', '/content/drive/MyDrive/PL自動割り当て用プロトデータ/sample_qa/response_2024-03-28_06-03-35_qa.txt', '/content/drive/MyDrive/PL自動割り当て用プロトデータ/sample_qa/response_2024-03-28_06-03-43_qa.txt', '/content/drive/MyDrive/PL自動割り当て用プロトデータ/sample_qa/response_2024-03-28_06-03-53_qa.txt', '/content/drive/MyDrive/PL自動割り当て用プロトデータ/sample_qa/response_2024-03-28_06-04-02_qa.txt', '/content/drive/MyDrive/PL自動割り当て用プロトデータ/sample_qa/response_2024-03-28_06-04-14_qa.txt', '/content/drive/MyDrive/PL自動割り当て用プロトデータ/sample_qa/response_2024-03-28_06-04-21_qa.txt', '/content/drive/MyDrive/PL自動割り当て用プロトデータ/sample_qa/response_2024-03-28_06-04-32_qa.txt', '/content/drive/MyDrive/PL自動割り当て用プロトデータ/sample_qa/response_2024-03-28_06-04-39_qa.txt', '/content/drive/MyDrive/PL自動割り当て用プロトデータ/sample_quality_report/response_2024-03-28_16-27-34.txt', '/content/drive/MyDrive/PL自動割り当て用プロトデータ/sample_quality_report/response_2024-03-28_16-27-47.txt', '/content/drive/MyDrive/PL自動割り当て用プロトデータ/sample_quality_report/response_2024-03-28_16-27-56.txt']\n",
            "['/content/drive/MyDrive/PL自動割り当て用プロトデータ/sample_quality_report/response_2024-03-28_16-28-09.txt', '/content/drive/MyDrive/PL自動割り当て用プロトデータ/sample_quality_report/response_2024-03-28_16-28-25.txt', '/content/drive/MyDrive/PL自動割り当て用プロトデータ/sample_quality_report/response_2024-03-28_16-28-50.txt', '/content/drive/MyDrive/PL自動割り当て用プロトデータ/sample_quality_report/response_2024-03-28_16-28-59.txt', '/content/drive/MyDrive/PL自動割り当て用プロトデータ/sample_quality_report/response_2024-03-28_16-29-12.txt', '/content/drive/MyDrive/PL自動割り当て用プロトデータ/sample_quality_report/response_2024-03-28_16-29-25.txt', '/content/drive/MyDrive/PL自動割り当て用プロトデータ/sample_quality_report/response_2024-03-28_16-29-34.txt', '/content/drive/MyDrive/PL自動割り当て用プロトデータ/sample_quality_report/response_2024-03-28_16-29-45.txt', '/content/drive/MyDrive/PL自動割り当て用プロトデータ/sample_quality_report/response_2024-03-28_16-30-06.txt', '/content/drive/MyDrive/PL自動割り当て用プロトデータ/sample_quality_report/response_2024-03-28_16-30-27.txt', '/content/drive/MyDrive/PL自動割り当て用プロトデータ/sample_quality_report/response_2024-03-28_16-30-40.txt', '/content/drive/MyDrive/PL自動割り当て用プロトデータ/sample_quality_report/response_2024-03-28_16-30-47.txt']\n",
            "['/content/drive/MyDrive/PL自動割り当て用プロトデータ/sample_quality_report/response_2024-03-28_16-31-04.txt', '/content/drive/MyDrive/PL自動割り当て用プロトデータ/sample_quality_report/response_2024-03-28_16-31-16.txt', '/content/drive/MyDrive/PL自動割り当て用プロトデータ/sample_quality_report/response_2024-03-28_16-31-26.txt', '/content/drive/MyDrive/PL自動割り当て用プロトデータ/sample_quality_report/response_2024-03-28_16-31-37.txt', '/content/drive/MyDrive/PL自動割り当て用プロトデータ/sample_quality_report/response_2024-03-28_16-31-46.txt', '/content/drive/MyDrive/PL自動割り当て用プロトデータ/sample_quality_report/response_2024-03-28_16-32-03.txt', '/content/drive/MyDrive/PL自動割り当て用プロトデータ/sample_quality_report/response_2024-03-28_16-32-14.txt', '/content/drive/MyDrive/PL自動割り当て用プロトデータ/sample_quality_report/response_2024-03-28_16-32-25.txt', '/content/drive/MyDrive/PL自動割り当て用プロトデータ/sample_quality_report/response_2024-03-28_16-32-38.txt', '/content/drive/MyDrive/PL自動割り当て用プロトデータ/sample_quality_report/response_2024-03-28_16-32-50.txt', '/content/drive/MyDrive/PL自動割り当て用プロトデータ/sample_quality_report/response_2024-03-28_16-32-58.txt']\n",
            "['/content/drive/MyDrive/PL自動割り当て用プロトデータ/sample_quality_report/response_2024-03-28_16-33-14.txt', '/content/drive/MyDrive/PL自動割り当て用プロトデータ/sample_quality_report/response_2024-03-28_16-33-26.txt', '/content/drive/MyDrive/PL自動割り当て用プロトデータ/sample_quality_report/response_2024-03-28_16-33-38.txt', '/content/drive/MyDrive/PL自動割り当て用プロトデータ/sample_quality_report/response_2024-03-28_16-34-00.txt', '/content/drive/MyDrive/PL自動割り当て用プロトデータ/sample_quality_report/response_2024-03-28_16-34-14.txt', '/content/drive/MyDrive/PL自動割り当て用プロトデータ/sample_quality_report/response_2024-03-28_16-34-27.txt', '/content/drive/MyDrive/PL自動割り当て用プロトデータ/sample_quality_report/response_2024-03-28_16-34-38.txt', '/content/drive/MyDrive/PL自動割り当て用プロトデータ/sample_quality_report/response_2024-03-28_16-34-50.txt', '/content/drive/MyDrive/PL自動割り当て用プロトデータ/sample_quality_report/response_2024-03-28_16-35-09.txt', '/content/drive/MyDrive/PL自動割り当て用プロトデータ/sample_quality_report/response_2024-03-28_16-35-22.txt', '/content/drive/MyDrive/PL自動割り当て用プロトデータ/sample_quality_report/response_2024-03-28_16-35-32.txt']\n",
            "['/content/drive/MyDrive/PL自動割り当て用プロトデータ/sample_quality_report/response_2024-03-28_16-35-43.txt', '/content/drive/MyDrive/PL自動割り当て用プロトデータ/sample_quality_report/response_2024-03-28_16-36-02.txt', '/content/drive/MyDrive/PL自動割り当て用プロトデータ/sample_quality_report/response_2024-03-28_16-36-11.txt', '/content/drive/MyDrive/PL自動割り当て用プロトデータ/sample_quality_report/response_2024-03-28_16-36-24.txt', '/content/drive/MyDrive/PL自動割り当て用プロトデータ/sample_quality_report/response_2024-03-28_16-36-37.txt', '/content/drive/MyDrive/PL自動割り当て用プロトデータ/sample_quality_report/response_2024-03-28_16-36-47.txt', '/content/drive/MyDrive/PL自動割り当て用プロトデータ/sample_quality_report/response_2024-03-28_16-37-01.txt', '/content/drive/MyDrive/PL自動割り当て用プロトデータ/sample_quality_report/response_2024-03-28_16-37-15.txt', '/content/drive/MyDrive/PL自動割り当て用プロトデータ/sample_quality_report/response_2024-03-28_16-37-26.txt', '/content/drive/MyDrive/PL自動割り当て用プロトデータ/sample_quality_report/response_2024-03-28_16-37-36.txt', '/content/drive/MyDrive/PL自動割り当て用プロトデータ/sample_quality_report/response_2024-03-28_16-37-50.txt']\n",
            "['/content/drive/MyDrive/PL自動割り当て用プロトデータ/sample_quality_report/response_2024-03-28_16-38-08.txt', '/content/drive/MyDrive/PL自動割り当て用プロトデータ/sample_quality_report/response_2024-03-28_16-38-26.txt', '/content/drive/MyDrive/PL自動割り当て用プロトデータ/sample_quality_report/response_2024-03-28_16-38-42.txt', '/content/drive/MyDrive/PL自動割り当て用プロトデータ/sample_quality_report/response_2024-03-28_16-38-58.txt', '/content/drive/MyDrive/PL自動割り当て用プロトデータ/sample_quality_report/response_2024-03-28_16-39-10.txt', '/content/drive/MyDrive/PL自動割り当て用プロトデータ/sample_quality_report/response_2024-03-28_16-39-26.txt', '/content/drive/MyDrive/PL自動割り当て用プロトデータ/sample_quality_report/response_2024-03-28_16-39-35.txt', '/content/drive/MyDrive/PL自動割り当て用プロトデータ/sample_quality_report/response_2024-03-28_16-39-49.txt', '/content/drive/MyDrive/PL自動割り当て用プロトデータ/sample_quality_report/response_2024-03-28_16-40-06.txt', '/content/drive/MyDrive/PL自動割り当て用プロトデータ/sample_quality_report/response_2024-03-28_16-40-20.txt', '/content/drive/MyDrive/PL自動割り当て用プロトデータ/sample_quality_report/response_2024-03-28_16-40-35.txt']\n",
            "['/content/drive/MyDrive/PL自動割り当て用プロトデータ/sample_quality_report/response_2024-03-28_16-40-50.txt', '/content/drive/MyDrive/PL自動割り当て用プロトデータ/sample_quality_report/response_2024-03-28_16-41-06.txt', '/content/drive/MyDrive/PL自動割り当て用プロトデータ/sample_quality_report/response_2024-03-28_16-41-30.txt', '/content/drive/MyDrive/PL自動割り当て用プロトデータ/sample_quality_report/response_2024-03-28_16-41-44.txt', '/content/drive/MyDrive/PL自動割り当て用プロトデータ/sample_quality_report/response_2024-03-28_16-41-53.txt', '/content/drive/MyDrive/PL自動割り当て用プロトデータ/sample_quality_report/response_2024-03-28_16-42-08.txt', '/content/drive/MyDrive/PL自動割り当て用プロトデータ/sample_quality_report/response_2024-03-28_16-42-18.txt', '/content/drive/MyDrive/PL自動割り当て用プロトデータ/sample_quality_report/response_2024-03-28_16-42-32.txt', '/content/drive/MyDrive/PL自動割り当て用プロトデータ/sample_quality_report/response_2024-03-28_16-42-47.txt', '/content/drive/MyDrive/PL自動割り当て用プロトデータ/sample_quality_report/response_2024-03-28_16-42-58.txt', '/content/drive/MyDrive/PL自動割り当て用プロトデータ/sample_quality_report/response_2024-03-28_16-43-06.txt', '/content/drive/MyDrive/PL自動割り当て用プロトデータ/sample_quality_report/response_2024-03-28_16-43-20.txt']\n",
            "['/content/drive/MyDrive/PL自動割り当て用プロトデータ/sample_quality_report/response_2024-03-28_16-43-30.txt', '/content/drive/MyDrive/PL自動割り当て用プロトデータ/sample_quality_report/response_2024-03-28_16-43-50.txt', '/content/drive/MyDrive/PL自動割り当て用プロトデータ/sample_quality_report/response_2024-03-28_16-44-05.txt', '/content/drive/MyDrive/PL自動割り当て用プロトデータ/sample_quality_report/response_2024-03-28_16-44-18.txt', '/content/drive/MyDrive/PL自動割り当て用プロトデータ/sample_quality_report/response_2024-03-28_16-44-27.txt', '/content/drive/MyDrive/PL自動割り当て用プロトデータ/sample_quality_report/response_2024-03-28_16-44-41.txt', '/content/drive/MyDrive/PL自動割り当て用プロトデータ/sample_quality_report/response_2024-03-28_16-44-50.txt', '/content/drive/MyDrive/PL自動割り当て用プロトデータ/sample_quality_report/response_2024-03-28_16-45-06.txt', '/content/drive/MyDrive/PL自動割り当て用プロトデータ/sample_quality_report/response_2024-03-28_16-45-22.txt', '/content/drive/MyDrive/PL自動割り当て用プロトデータ/sample_quality_report/response_2024-03-28_16-45-32.txt', '/content/drive/MyDrive/PL自動割り当て用プロトデータ/sample_quality_report/response_2024-03-28_16-45-45.txt', '/content/drive/MyDrive/PL自動割り当て用プロトデータ/sample_quality_report/response_2024-03-28_16-45-57.txt']\n",
            "['/content/drive/MyDrive/PL自動割り当て用プロトデータ/sample_quality_report/response_2024-03-28_16-46-07.txt', '/content/drive/MyDrive/PL自動割り当て用プロトデータ/sample_quality_report/response_2024-03-28_16-46-23.txt', '/content/drive/MyDrive/PL自動割り当て用プロトデータ/sample_quality_report/response_2024-03-28_16-46-36.txt', '/content/drive/MyDrive/PL自動割り当て用プロトデータ/sample_quality_report/response_2024-03-28_16-46-51.txt', '/content/drive/MyDrive/PL自動割り当て用プロトデータ/sample_quality_report/response_2024-03-28_16-47-01.txt', '/content/drive/MyDrive/PL自動割り当て用プロトデータ/sample_quality_report/response_2024-03-28_16-47-12.txt', '/content/drive/MyDrive/PL自動割り当て用プロトデータ/sample_quality_report/response_2024-03-28_16-47-49.txt', '/content/drive/MyDrive/PL自動割り当て用プロトデータ/sample_quality_report/response_2024-03-28_16-48-02.txt', '/content/drive/MyDrive/PL自動割り当て用プロトデータ/sample_quality_report/response_2024-03-28_16-48-25.txt', '/content/drive/MyDrive/PL自動割り当て用プロトデータ/sample_quality_report/response_2024-03-28_16-48-47.txt', '/content/drive/MyDrive/PL自動割り当て用プロトデータ/sample_quality_report/response_2024-03-28_16-48-58.txt']\n",
            "['/content/drive/MyDrive/PL自動割り当て用プロトデータ/sample_quality_report/response_2024-03-28_16-49-23.txt', '/content/drive/MyDrive/PL自動割り当て用プロトデータ/sample_quality_report/response_2024-03-28_16-49-36.txt', '/content/drive/MyDrive/PL自動割り当て用プロトデータ/sample_quality_report/response_2024-03-28_16-49-54.txt', '/content/drive/MyDrive/PL自動割り当て用プロトデータ/sample_quality_report/response_2024-03-28_16-50-04.txt', '/content/drive/MyDrive/PL自動割り当て用プロトデータ/sample_quality_report/response_2024-03-28_16-50-14.txt', '/content/drive/MyDrive/PL自動割り当て用プロトデータ/sample_quality_report/response_2024-03-28_16-50-26.txt', '/content/drive/MyDrive/PL自動割り当て用プロトデータ/sample_quality_report/response_2024-03-28_16-50-40.txt', '/content/drive/MyDrive/PL自動割り当て用プロトデータ/sample_quality_report/response_2024-03-28_16-50-50.txt', '/content/drive/MyDrive/PL自動割り当て用プロトデータ/sample_quality_report/response_2024-03-28_16-51-09.txt', '/content/drive/MyDrive/PL自動割り当て用プロトデータ/sample_quality_report/response_2024-03-28_16-51-25.txt', '/content/drive/MyDrive/PL自動割り当て用プロトデータ/sample_quality_report/response_2024-03-28_16-51-34.txt']\n",
            "['/content/drive/MyDrive/PL自動割り当て用プロトデータ/sample_quality_report/response_2024-03-28_16-51-49.txt', '/content/drive/MyDrive/PL自動割り当て用プロトデータ/sample_quality_report/response_2024-03-28_16-52-00.txt', '/content/drive/MyDrive/PL自動割り当て用プロトデータ/sample_quality_report/response_2024-03-28_16-52-16.txt', '/content/drive/MyDrive/PL自動割り当て用プロトデータ/sample_r_and_d_report/response_2024-03-28_08-57-18.txt', '/content/drive/MyDrive/PL自動割り当て用プロトデータ/sample_r_and_d_report/response_2024-03-28_09-07-33.txt', '/content/drive/MyDrive/PL自動割り当て用プロトデータ/sample_r_and_d_report/response_2024-03-28_09-07-44.txt', '/content/drive/MyDrive/PL自動割り当て用プロトデータ/sample_r_and_d_report/response_2024-03-28_09-07-53.txt', '/content/drive/MyDrive/PL自動割り当て用プロトデータ/sample_r_and_d_report/response_2024-03-28_09-08-07.txt', '/content/drive/MyDrive/PL自動割り当て用プロトデータ/sample_r_and_d_report/response_2024-03-28_09-08-20.txt', '/content/drive/MyDrive/PL自動割り当て用プロトデータ/sample_r_and_d_report/response_2024-03-28_09-08-32.txt', '/content/drive/MyDrive/PL自動割り当て用プロトデータ/sample_r_and_d_report/response_2024-03-28_09-08-42.txt', '/content/drive/MyDrive/PL自動割り当て用プロトデータ/sample_r_and_d_report/response_2024-03-28_09-09-00.txt']\n",
            "['/content/drive/MyDrive/PL自動割り当て用プロトデータ/sample_r_and_d_report/response_2024-03-28_09-09-13.txt', '/content/drive/MyDrive/PL自動割り当て用プロトデータ/sample_r_and_d_report/response_2024-03-28_09-09-23.txt', '/content/drive/MyDrive/PL自動割り当て用プロトデータ/sample_r_and_d_report/response_2024-03-28_09-09-36.txt', '/content/drive/MyDrive/PL自動割り当て用プロトデータ/sample_r_and_d_report/response_2024-03-28_09-09-53.txt', '/content/drive/MyDrive/PL自動割り当て用プロトデータ/sample_r_and_d_report/response_2024-03-28_09-10-12.txt', '/content/drive/MyDrive/PL自動割り当て用プロトデータ/sample_r_and_d_report/response_2024-03-28_09-10-22.txt', '/content/drive/MyDrive/PL自動割り当て用プロトデータ/sample_r_and_d_report/response_2024-03-28_09-10-32.txt', '/content/drive/MyDrive/PL自動割り当て用プロトデータ/sample_r_and_d_report/response_2024-03-28_09-10-44.txt', '/content/drive/MyDrive/PL自動割り当て用プロトデータ/sample_r_and_d_report/response_2024-03-28_09-10-56.txt', '/content/drive/MyDrive/PL自動割り当て用プロトデータ/sample_r_and_d_report/response_2024-03-28_09-11-10.txt', '/content/drive/MyDrive/PL自動割り当て用プロトデータ/sample_r_and_d_report/response_2024-03-28_09-11-24.txt']\n",
            "['/content/drive/MyDrive/PL自動割り当て用プロトデータ/sample_r_and_d_report/response_2024-03-28_09-11-37.txt', '/content/drive/MyDrive/PL自動割り当て用プロトデータ/sample_r_and_d_report/response_2024-03-28_09-11-55.txt', '/content/drive/MyDrive/PL自動割り当て用プロトデータ/sample_r_and_d_report/response_2024-03-28_09-12-10.txt', '/content/drive/MyDrive/PL自動割り当て用プロトデータ/sample_r_and_d_report/response_2024-03-28_09-12-33.txt', '/content/drive/MyDrive/PL自動割り当て用プロトデータ/sample_r_and_d_report/response_2024-03-28_09-12-51.txt', '/content/drive/MyDrive/PL自動割り当て用プロトデータ/sample_r_and_d_report/response_2024-03-28_09-13-12.txt', '/content/drive/MyDrive/PL自動割り当て用プロトデータ/sample_r_and_d_report/response_2024-03-28_09-13-26.txt', '/content/drive/MyDrive/PL自動割り当て用プロトデータ/sample_r_and_d_report/response_2024-03-28_09-13-35.txt', '/content/drive/MyDrive/PL自動割り当て用プロトデータ/sample_r_and_d_report/response_2024-03-28_09-13-47.txt', '/content/drive/MyDrive/PL自動割り当て用プロトデータ/sample_r_and_d_report/response_2024-03-28_09-13-59.txt', '/content/drive/MyDrive/PL自動割り当て用プロトデータ/sample_r_and_d_report/response_2024-03-28_09-14-16.txt']\n",
            "['/content/drive/MyDrive/PL自動割り当て用プロトデータ/sample_r_and_d_report/response_2024-03-28_09-14-30.txt', '/content/drive/MyDrive/PL自動割り当て用プロトデータ/sample_r_and_d_report/response_2024-03-28_09-14-41.txt', '/content/drive/MyDrive/PL自動割り当て用プロトデータ/sample_r_and_d_report/response_2024-03-28_09-14-49.txt', '/content/drive/MyDrive/PL自動割り当て用プロトデータ/sample_r_and_d_report/response_2024-03-28_09-15-01.txt', '/content/drive/MyDrive/PL自動割り当て用プロトデータ/sample_r_and_d_report/response_2024-03-28_09-15-14.txt', '/content/drive/MyDrive/PL自動割り当て用プロトデータ/sample_r_and_d_report/response_2024-03-28_09-15-28.txt', '/content/drive/MyDrive/PL自動割り当て用プロトデータ/sample_r_and_d_report/response_2024-03-28_09-15-48.txt', '/content/drive/MyDrive/PL自動割り当て用プロトデータ/sample_r_and_d_report/response_2024-03-28_09-16-13.txt', '/content/drive/MyDrive/PL自動割り当て用プロトデータ/sample_r_and_d_report/response_2024-03-28_09-16-26.txt', '/content/drive/MyDrive/PL自動割り当て用プロトデータ/sample_r_and_d_report/response_2024-03-28_09-16-42.txt', '/content/drive/MyDrive/PL自動割り当て用プロトデータ/sample_r_and_d_report/response_2024-03-28_09-16-54.txt', '/content/drive/MyDrive/PL自動割り当て用プロトデータ/sample_r_and_d_report/response_2024-03-28_09-17-08.txt']\n",
            "['/content/drive/MyDrive/PL自動割り当て用プロトデータ/sample_r_and_d_report/response_2024-03-28_09-17-21.txt', '/content/drive/MyDrive/PL自動割り当て用プロトデータ/sample_r_and_d_report/response_2024-03-28_09-17-36.txt', '/content/drive/MyDrive/PL自動割り当て用プロトデータ/sample_r_and_d_report/response_2024-03-28_09-17-50.txt', '/content/drive/MyDrive/PL自動割り当て用プロトデータ/sample_r_and_d_report/response_2024-03-28_09-18-13.txt', '/content/drive/MyDrive/PL自動割り当て用プロトデータ/sample_r_and_d_report/response_2024-03-28_09-18-27.txt', '/content/drive/MyDrive/PL自動割り当て用プロトデータ/sample_r_and_d_report/response_2024-03-28_09-18-39.txt', '/content/drive/MyDrive/PL自動割り当て用プロトデータ/sample_r_and_d_report/response_2024-03-28_09-18-48.txt', '/content/drive/MyDrive/PL自動割り当て用プロトデータ/sample_r_and_d_report/response_2024-03-28_09-19-02.txt', '/content/drive/MyDrive/PL自動割り当て用プロトデータ/sample_r_and_d_report/response_2024-03-28_09-19-16.txt', '/content/drive/MyDrive/PL自動割り当て用プロトデータ/sample_r_and_d_report/response_2024-03-28_09-19-27.txt', '/content/drive/MyDrive/PL自動割り当て用プロトデータ/sample_r_and_d_report/response_2024-03-28_09-19-46.txt']\n",
            "['/content/drive/MyDrive/PL自動割り当て用プロトデータ/sample_r_and_d_report/response_2024-03-28_09-20-07.txt', '/content/drive/MyDrive/PL自動割り当て用プロトデータ/sample_r_and_d_report/response_2024-03-28_09-20-22.txt', '/content/drive/MyDrive/PL自動割り当て用プロトデータ/sample_r_and_d_report/response_2024-03-28_09-20-39.txt', '/content/drive/MyDrive/PL自動割り当て用プロトデータ/sample_r_and_d_report/response_2024-03-28_09-20-48.txt', '/content/drive/MyDrive/PL自動割り当て用プロトデータ/sample_r_and_d_report/response_2024-03-28_09-21-01.txt', '/content/drive/MyDrive/PL自動割り当て用プロトデータ/sample_r_and_d_report/response_2024-03-28_09-21-14.txt', '/content/drive/MyDrive/PL自動割り当て用プロトデータ/sample_r_and_d_report/response_2024-03-28_09-21-31.txt', '/content/drive/MyDrive/PL自動割り当て用プロトデータ/sample_r_and_d_report/response_2024-03-28_09-21-49.txt', '/content/drive/MyDrive/PL自動割り当て用プロトデータ/sample_r_and_d_report/response_2024-03-28_09-22-03.txt', '/content/drive/MyDrive/PL自動割り当て用プロトデータ/sample_r_and_d_report/response_2024-03-28_09-22-18.txt', '/content/drive/MyDrive/PL自動割り当て用プロトデータ/sample_r_and_d_report/response_2024-03-28_09-22-36.txt']\n",
            "['/content/drive/MyDrive/PL自動割り当て用プロトデータ/sample_r_and_d_report/response_2024-03-28_09-22-47.txt', '/content/drive/MyDrive/PL自動割り当て用プロトデータ/sample_r_and_d_report/response_2024-03-28_09-22-56.txt', '/content/drive/MyDrive/PL自動割り当て用プロトデータ/sample_r_and_d_report/response_2024-03-28_09-23-12.txt', '/content/drive/MyDrive/PL自動割り当て用プロトデータ/sample_r_and_d_report/response_2024-03-28_09-23-25.txt', '/content/drive/MyDrive/PL自動割り当て用プロトデータ/sample_r_and_d_report/response_2024-03-28_09-23-38.txt', '/content/drive/MyDrive/PL自動割り当て用プロトデータ/sample_r_and_d_report/response_2024-03-28_09-23-53.txt', '/content/drive/MyDrive/PL自動割り当て用プロトデータ/sample_r_and_d_report/response_2024-03-28_09-24-03.txt', '/content/drive/MyDrive/PL自動割り当て用プロトデータ/sample_r_and_d_report/response_2024-03-28_09-24-23.txt', '/content/drive/MyDrive/PL自動割り当て用プロトデータ/sample_r_and_d_report/response_2024-03-28_09-24-37.txt', '/content/drive/MyDrive/PL自動割り当て用プロトデータ/sample_r_and_d_report/response_2024-03-28_09-24-50.txt', '/content/drive/MyDrive/PL自動割り当て用プロトデータ/sample_r_and_d_report/response_2024-03-28_09-25-03.txt', '/content/drive/MyDrive/PL自動割り当て用プロトデータ/sample_r_and_d_report/response_2024-03-28_09-25-15.txt']\n",
            "['/content/drive/MyDrive/PL自動割り当て用プロトデータ/sample_r_and_d_report/response_2024-03-28_09-25-25.txt', '/content/drive/MyDrive/PL自動割り当て用プロトデータ/sample_r_and_d_report/response_2024-03-28_09-25-36.txt', '/content/drive/MyDrive/PL自動割り当て用プロトデータ/sample_r_and_d_report/response_2024-03-28_09-25-55.txt', '/content/drive/MyDrive/PL自動割り当て用プロトデータ/sample_r_and_d_report/response_2024-03-28_09-26-09.txt', '/content/drive/MyDrive/PL自動割り当て用プロトデータ/sample_r_and_d_report/response_2024-03-28_09-26-19.txt', '/content/drive/MyDrive/PL自動割り当て用プロトデータ/sample_r_and_d_report/response_2024-03-28_09-26-31.txt', '/content/drive/MyDrive/PL自動割り当て用プロトデータ/sample_r_and_d_report/response_2024-03-28_09-26-43.txt', '/content/drive/MyDrive/PL自動割り当て用プロトデータ/sample_r_and_d_report/response_2024-03-28_09-27-01.txt', '/content/drive/MyDrive/PL自動割り当て用プロトデータ/sample_r_and_d_report/response_2024-03-28_09-27-14.txt', '/content/drive/MyDrive/PL自動割り当て用プロトデータ/sample_r_and_d_report/response_2024-03-28_09-27-27.txt', '/content/drive/MyDrive/PL自動割り当て用プロトデータ/sample_r_and_d_report/response_2024-03-28_09-27-45.txt', '/content/drive/MyDrive/PL自動割り当て用プロトデータ/sample_r_and_d_report/response_2024-03-28_09-28-00.txt']\n",
            "['/content/drive/MyDrive/PL自動割り当て用プロトデータ/sample_r_and_d_report/response_2024-03-28_09-28-13.txt']\n"
          ]
        }
      ]
    },
    {
      "cell_type": "markdown",
      "source": [
        "# ベクトルデータベースに追加"
      ],
      "metadata": {
        "id": "Erx6Cbpfj37P"
      }
    },
    {
      "cell_type": "code",
      "source": [],
      "metadata": {
        "id": "cq3laRrekOJ7"
      },
      "execution_count": null,
      "outputs": []
    }
  ]
}