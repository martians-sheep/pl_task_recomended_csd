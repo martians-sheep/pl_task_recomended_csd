{
  "nbformat": 4,
  "nbformat_minor": 0,
  "metadata": {
    "colab": {
      "provenance": [],
      "mount_file_id": "17Gqj1SWCwEqMKfbZfmM_z_aI3_vDAS8j",
      "authorship_tag": "ABX9TyPy5rxov77TzHgL3vI3uGY4",
      "include_colab_link": true
    },
    "kernelspec": {
      "name": "python3",
      "display_name": "Python 3"
    },
    "language_info": {
      "name": "python"
    }
  },
  "cells": [
    {
      "cell_type": "markdown",
      "metadata": {
        "id": "view-in-github",
        "colab_type": "text"
      },
      "source": [
        "<a href=\"https://colab.research.google.com/github/martians-sheep/pl_task_recomended_csd/blob/main/Untitled12.ipynb\" target=\"_parent\"><img src=\"https://colab.research.google.com/assets/colab-badge.svg\" alt=\"Open In Colab\"/></a>"
      ]
    },
    {
      "cell_type": "code",
      "execution_count": null,
      "metadata": {
        "id": "8gojYd0Q-Ax7"
      },
      "outputs": [],
      "source": []
    },
    {
      "cell_type": "markdown",
      "source": [
        "# サンプルデータの作成用"
      ],
      "metadata": {
        "id": "T5nVeLli-Uws"
      }
    },
    {
      "cell_type": "code",
      "source": [
        "!pip install openai"
      ],
      "metadata": {
        "colab": {
          "base_uri": "https://localhost:8080/"
        },
        "id": "OgskDd0D-Xfv",
        "outputId": "b12e4185-ceb2-4dee-c1a8-ee35b02fa4ef"
      },
      "execution_count": 2,
      "outputs": [
        {
          "output_type": "stream",
          "name": "stdout",
          "text": [
            "Collecting openai\n",
            "  Downloading openai-1.14.3-py3-none-any.whl (262 kB)\n",
            "\u001b[2K     \u001b[90m━━━━━━━━━━━━━━━━━━━━━━━━━━━━━━━━━━━━━━━━\u001b[0m \u001b[32m262.9/262.9 kB\u001b[0m \u001b[31m5.0 MB/s\u001b[0m eta \u001b[36m0:00:00\u001b[0m\n",
            "\u001b[?25hRequirement already satisfied: anyio<5,>=3.5.0 in /usr/local/lib/python3.10/dist-packages (from openai) (3.7.1)\n",
            "Requirement already satisfied: distro<2,>=1.7.0 in /usr/lib/python3/dist-packages (from openai) (1.7.0)\n",
            "Collecting httpx<1,>=0.23.0 (from openai)\n",
            "  Downloading httpx-0.27.0-py3-none-any.whl (75 kB)\n",
            "\u001b[2K     \u001b[90m━━━━━━━━━━━━━━━━━━━━━━━━━━━━━━━━━━━━━━━━\u001b[0m \u001b[32m75.6/75.6 kB\u001b[0m \u001b[31m8.7 MB/s\u001b[0m eta \u001b[36m0:00:00\u001b[0m\n",
            "\u001b[?25hRequirement already satisfied: pydantic<3,>=1.9.0 in /usr/local/lib/python3.10/dist-packages (from openai) (2.6.4)\n",
            "Requirement already satisfied: sniffio in /usr/local/lib/python3.10/dist-packages (from openai) (1.3.1)\n",
            "Requirement already satisfied: tqdm>4 in /usr/local/lib/python3.10/dist-packages (from openai) (4.66.2)\n",
            "Requirement already satisfied: typing-extensions<5,>=4.7 in /usr/local/lib/python3.10/dist-packages (from openai) (4.10.0)\n",
            "Requirement already satisfied: idna>=2.8 in /usr/local/lib/python3.10/dist-packages (from anyio<5,>=3.5.0->openai) (3.6)\n",
            "Requirement already satisfied: exceptiongroup in /usr/local/lib/python3.10/dist-packages (from anyio<5,>=3.5.0->openai) (1.2.0)\n",
            "Requirement already satisfied: certifi in /usr/local/lib/python3.10/dist-packages (from httpx<1,>=0.23.0->openai) (2024.2.2)\n",
            "Collecting httpcore==1.* (from httpx<1,>=0.23.0->openai)\n",
            "  Downloading httpcore-1.0.4-py3-none-any.whl (77 kB)\n",
            "\u001b[2K     \u001b[90m━━━━━━━━━━━━━━━━━━━━━━━━━━━━━━━━━━━━━━━━\u001b[0m \u001b[32m77.8/77.8 kB\u001b[0m \u001b[31m6.4 MB/s\u001b[0m eta \u001b[36m0:00:00\u001b[0m\n",
            "\u001b[?25hCollecting h11<0.15,>=0.13 (from httpcore==1.*->httpx<1,>=0.23.0->openai)\n",
            "  Downloading h11-0.14.0-py3-none-any.whl (58 kB)\n",
            "\u001b[2K     \u001b[90m━━━━━━━━━━━━━━━━━━━━━━━━━━━━━━━━━━━━━━━━\u001b[0m \u001b[32m58.3/58.3 kB\u001b[0m \u001b[31m6.0 MB/s\u001b[0m eta \u001b[36m0:00:00\u001b[0m\n",
            "\u001b[?25hRequirement already satisfied: annotated-types>=0.4.0 in /usr/local/lib/python3.10/dist-packages (from pydantic<3,>=1.9.0->openai) (0.6.0)\n",
            "Requirement already satisfied: pydantic-core==2.16.3 in /usr/local/lib/python3.10/dist-packages (from pydantic<3,>=1.9.0->openai) (2.16.3)\n",
            "Installing collected packages: h11, httpcore, httpx, openai\n",
            "Successfully installed h11-0.14.0 httpcore-1.0.4 httpx-0.27.0 openai-1.14.3\n"
          ]
        }
      ]
    },
    {
      "cell_type": "code",
      "source": [
        "# 環境変数の準備 (左端の鍵アイコンでOPENAI_API_KEYを設定)\n",
        "import os\n",
        "from google.colab import userdata\n",
        "os.environ[\"OPENAI_API_KEY\"] = userdata.get(\"OPENAI_API_KEY\")"
      ],
      "metadata": {
        "id": "SSIXgJTs-zaC"
      },
      "execution_count": 3,
      "outputs": []
    },
    {
      "cell_type": "code",
      "source": [
        "from openai import OpenAI\n",
        "\n",
        "# クライアントの準備\n",
        "client = OpenAI()"
      ],
      "metadata": {
        "id": "2f_NBHJt_ac6"
      },
      "execution_count": 4,
      "outputs": []
    },
    {
      "cell_type": "code",
      "source": [
        "import json\n",
        "\n",
        "# JSON出力ヘルパーの準備\n",
        "def show_json(obj):\n",
        "    display(json.loads(obj.model_dump_json()))"
      ],
      "metadata": {
        "id": "J7c3EOA3_dDw"
      },
      "execution_count": 5,
      "outputs": []
    },
    {
      "cell_type": "code",
      "source": [
        "# 生成する文書のタイプに応じたプロンプトを設定します\n",
        "prompt = \"\"\"\n",
        "新商品開発プロジェクトの提案書を作成してください。\n",
        "\n",
        "1. プロジェクトの目的\n",
        "2. 背景と現状分析\n",
        "   - 市場動向、競合分析、顧客ニーズ\n",
        "3. 提案する新商品の概要\n",
        "   - 商品カテゴリー、ターゲット顧客、商品コンセプト、差別化ポイント\n",
        "4. 実施計画\n",
        "   - 段階ごとのタスク、スケジュール、必要なリソース\n",
        "5. 期待される成果と影響\n",
        "   - 売上目標、市場シェア、ブランドイメージへの影響\n",
        "\n",
        "商品カテゴリー: [主食/お菓子/飲み物]\n",
        "ターゲット顧客: [年齢/性別/職業/ライフスタイル]\n",
        "商品コンセプト: [味/パッケージ/ブランドイメージ]\n",
        "\"\"\""
      ],
      "metadata": {
        "id": "03VblHFO_fa9"
      },
      "execution_count": 33,
      "outputs": []
    },
    {
      "cell_type": "code",
      "source": [
        "messages = [\n",
        "    {\n",
        "        \"role\" : \"user\",\n",
        "        \"content\" : prompt,\n",
        "    }\n",
        "]"
      ],
      "metadata": {
        "id": "fFOBkZV-_tQt"
      },
      "execution_count": 35,
      "outputs": []
    },
    {
      "cell_type": "code",
      "source": [
        "response = client.chat.completions.create(\n",
        "    model=\"gpt-3.5-turbo\",\n",
        "    messages=messages,\n",
        "    temperature=1,\n",
        "    max_tokens=700\n",
        ")\n",
        "show_json(response)"
      ],
      "metadata": {
        "colab": {
          "base_uri": "https://localhost:8080/",
          "height": 364
        },
        "id": "7KnCF36r_y7O",
        "outputId": "ed8f62e5-95cc-40bb-8dee-c5759ba5a0de"
      },
      "execution_count": 36,
      "outputs": [
        {
          "output_type": "display_data",
          "data": {
            "text/plain": [
              "{'id': 'chatcmpl-97JItFulwuwtt5SBeS6OnbsG6A5Ko',\n",
              " 'choices': [{'finish_reason': 'stop',\n",
              "   'index': 0,\n",
              "   'logprobs': None,\n",
              "   'message': {'content': '提案書\\n\\n1. プロジェクトの目的\\n新商品開発プロジェクトの目的は、市場において競合他社と差別化された魅力的な商品を開発し、売上増加とブランド価値向上を実現することです。\\n\\n2. 背景と現状分析\\n市場動向では、健康志向が高まりつつあり、特に若年層の間でヘルシーな食品や飲料が注目されています。競合他社は既存の商品ラインナップを拡充し、新商品開発に力を入れています。顧客ニーズとしては、手軽に健康的な食事やスナックを楽しみたいという声が多く聞かれます。\\n\\n3. 提案する新商品の概要\\n- 商品カテゴリー: 主食\\n- ターゲット顧客: 20代〜30代の働く女性\\n- 商品コンセプト: 忙しい現代女性のためのヘルシーで手軽なランチアイテム\\n- 差別化ポイント: 高タンパク質・低カロリー・栄養バランスの整ったメニュー、使い捨て容器のデザイン性\\n\\n4. 実施計画\\n- 第1段階: 市場調査と競合分析（1ヶ月）\\n- 第2段階: 商品開発とパッケージデザイン（2ヶ月）\\n- 第3段階: 製造・販売準備（1ヶ月）\\n- 必要なリソース: 商品開発チーム、デザイナー、製造工場、販売チャネル\\n\\n5. 期待される成果と影響\\n- 売上目標: 新商品の売上を年間1億円以上とする\\n- 市場シェア: 主要競合他社との差別化により市場シェアを10%以上獲得\\n- ブランドイメージへの影響: 健康志向の高いブランドイメージを確立し、顧客からの信頼を得る\\n\\n以上が新商品開発プロジェクトの提案書となります。ご検討よろしくお願いいたします。',\n",
              "    'role': 'assistant',\n",
              "    'function_call': None,\n",
              "    'tool_calls': None}}],\n",
              " 'created': 1711529527,\n",
              " 'model': 'gpt-3.5-turbo-0125',\n",
              " 'object': 'chat.completion',\n",
              " 'system_fingerprint': 'fp_3bc1b5746c',\n",
              " 'usage': {'completion_tokens': 687,\n",
              "  'prompt_tokens': 287,\n",
              "  'total_tokens': 974}}"
            ]
          },
          "metadata": {}
        }
      ]
    },
    {
      "cell_type": "code",
      "source": [
        "print(response.choices[0].message.content)"
      ],
      "metadata": {
        "colab": {
          "base_uri": "https://localhost:8080/"
        },
        "id": "xGSniv-rCYy5",
        "outputId": "5d39ad49-cec5-4cf7-c732-048ed08504da"
      },
      "execution_count": 37,
      "outputs": [
        {
          "output_type": "stream",
          "name": "stdout",
          "text": [
            "提案書\n",
            "\n",
            "1. プロジェクトの目的\n",
            "新商品開発プロジェクトの目的は、市場において競合他社と差別化された魅力的な商品を開発し、売上増加とブランド価値向上を実現することです。\n",
            "\n",
            "2. 背景と現状分析\n",
            "市場動向では、健康志向が高まりつつあり、特に若年層の間でヘルシーな食品や飲料が注目されています。競合他社は既存の商品ラインナップを拡充し、新商品開発に力を入れています。顧客ニーズとしては、手軽に健康的な食事やスナックを楽しみたいという声が多く聞かれます。\n",
            "\n",
            "3. 提案する新商品の概要\n",
            "- 商品カテゴリー: 主食\n",
            "- ターゲット顧客: 20代〜30代の働く女性\n",
            "- 商品コンセプト: 忙しい現代女性のためのヘルシーで手軽なランチアイテム\n",
            "- 差別化ポイント: 高タンパク質・低カロリー・栄養バランスの整ったメニュー、使い捨て容器のデザイン性\n",
            "\n",
            "4. 実施計画\n",
            "- 第1段階: 市場調査と競合分析（1ヶ月）\n",
            "- 第2段階: 商品開発とパッケージデザイン（2ヶ月）\n",
            "- 第3段階: 製造・販売準備（1ヶ月）\n",
            "- 必要なリソース: 商品開発チーム、デザイナー、製造工場、販売チャネル\n",
            "\n",
            "5. 期待される成果と影響\n",
            "- 売上目標: 新商品の売上を年間1億円以上とする\n",
            "- 市場シェア: 主要競合他社との差別化により市場シェアを10%以上獲得\n",
            "- ブランドイメージへの影響: 健康志向の高いブランドイメージを確立し、顧客からの信頼を得る\n",
            "\n",
            "以上が新商品開発プロジェクトの提案書となります。ご検討よろしくお願いいたします。\n"
          ]
        }
      ]
    },
    {
      "cell_type": "code",
      "source": [
        "import datetime\n",
        "\n",
        "# 現在の日時を取得\n",
        "now = datetime.datetime.now()\n",
        "\n",
        "# 日時を文字列に変換し、ファイル名に使用する形式にします（例: '2023-03-27_15-30-00'）\n",
        "formatted_time = now.strftime('%Y-%m-%d_%H-%M-%S')\n",
        "\n",
        "# ファイル名に日時を含める\n",
        "filename = f'./generate/response_{formatted_time}.txt'\n",
        "\n",
        "# テキストファイルに結果を書き込む\n",
        "with open(filename, 'w') as file:\n",
        "    file.write(response.choices[0].message.content)"
      ],
      "metadata": {
        "id": "hyu5sosoCdUU"
      },
      "execution_count": 38,
      "outputs": []
    }
  ]
}