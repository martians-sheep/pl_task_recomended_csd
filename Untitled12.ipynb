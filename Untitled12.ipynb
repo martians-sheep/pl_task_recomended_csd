{
  "nbformat": 4,
  "nbformat_minor": 0,
  "metadata": {
    "colab": {
      "provenance": [],
      "mount_file_id": "17Gqj1SWCwEqMKfbZfmM_z_aI3_vDAS8j",
      "authorship_tag": "ABX9TyNNx5ib/JHPvlSi/GGfBBnH",
      "include_colab_link": true
    },
    "kernelspec": {
      "name": "python3",
      "display_name": "Python 3"
    },
    "language_info": {
      "name": "python"
    }
  },
  "cells": [
    {
      "cell_type": "markdown",
      "metadata": {
        "id": "view-in-github",
        "colab_type": "text"
      },
      "source": [
        "<a href=\"https://colab.research.google.com/github/martians-sheep/pl_task_recomended_csd/blob/main/Untitled12.ipynb\" target=\"_parent\"><img src=\"https://colab.research.google.com/assets/colab-badge.svg\" alt=\"Open In Colab\"/></a>"
      ]
    },
    {
      "cell_type": "code",
      "execution_count": null,
      "metadata": {
        "id": "8gojYd0Q-Ax7"
      },
      "outputs": [],
      "source": []
    },
    {
      "cell_type": "markdown",
      "source": [
        "# サンプルデータの作成用"
      ],
      "metadata": {
        "id": "T5nVeLli-Uws"
      }
    },
    {
      "cell_type": "code",
      "source": [
        "!pip install openai"
      ],
      "metadata": {
        "colab": {
          "base_uri": "https://localhost:8080/"
        },
        "id": "OgskDd0D-Xfv",
        "outputId": "b12e4185-ceb2-4dee-c1a8-ee35b02fa4ef"
      },
      "execution_count": 2,
      "outputs": [
        {
          "output_type": "stream",
          "name": "stdout",
          "text": [
            "Collecting openai\n",
            "  Downloading openai-1.14.3-py3-none-any.whl (262 kB)\n",
            "\u001b[2K     \u001b[90m━━━━━━━━━━━━━━━━━━━━━━━━━━━━━━━━━━━━━━━━\u001b[0m \u001b[32m262.9/262.9 kB\u001b[0m \u001b[31m5.0 MB/s\u001b[0m eta \u001b[36m0:00:00\u001b[0m\n",
            "\u001b[?25hRequirement already satisfied: anyio<5,>=3.5.0 in /usr/local/lib/python3.10/dist-packages (from openai) (3.7.1)\n",
            "Requirement already satisfied: distro<2,>=1.7.0 in /usr/lib/python3/dist-packages (from openai) (1.7.0)\n",
            "Collecting httpx<1,>=0.23.0 (from openai)\n",
            "  Downloading httpx-0.27.0-py3-none-any.whl (75 kB)\n",
            "\u001b[2K     \u001b[90m━━━━━━━━━━━━━━━━━━━━━━━━━━━━━━━━━━━━━━━━\u001b[0m \u001b[32m75.6/75.6 kB\u001b[0m \u001b[31m8.7 MB/s\u001b[0m eta \u001b[36m0:00:00\u001b[0m\n",
            "\u001b[?25hRequirement already satisfied: pydantic<3,>=1.9.0 in /usr/local/lib/python3.10/dist-packages (from openai) (2.6.4)\n",
            "Requirement already satisfied: sniffio in /usr/local/lib/python3.10/dist-packages (from openai) (1.3.1)\n",
            "Requirement already satisfied: tqdm>4 in /usr/local/lib/python3.10/dist-packages (from openai) (4.66.2)\n",
            "Requirement already satisfied: typing-extensions<5,>=4.7 in /usr/local/lib/python3.10/dist-packages (from openai) (4.10.0)\n",
            "Requirement already satisfied: idna>=2.8 in /usr/local/lib/python3.10/dist-packages (from anyio<5,>=3.5.0->openai) (3.6)\n",
            "Requirement already satisfied: exceptiongroup in /usr/local/lib/python3.10/dist-packages (from anyio<5,>=3.5.0->openai) (1.2.0)\n",
            "Requirement already satisfied: certifi in /usr/local/lib/python3.10/dist-packages (from httpx<1,>=0.23.0->openai) (2024.2.2)\n",
            "Collecting httpcore==1.* (from httpx<1,>=0.23.0->openai)\n",
            "  Downloading httpcore-1.0.4-py3-none-any.whl (77 kB)\n",
            "\u001b[2K     \u001b[90m━━━━━━━━━━━━━━━━━━━━━━━━━━━━━━━━━━━━━━━━\u001b[0m \u001b[32m77.8/77.8 kB\u001b[0m \u001b[31m6.4 MB/s\u001b[0m eta \u001b[36m0:00:00\u001b[0m\n",
            "\u001b[?25hCollecting h11<0.15,>=0.13 (from httpcore==1.*->httpx<1,>=0.23.0->openai)\n",
            "  Downloading h11-0.14.0-py3-none-any.whl (58 kB)\n",
            "\u001b[2K     \u001b[90m━━━━━━━━━━━━━━━━━━━━━━━━━━━━━━━━━━━━━━━━\u001b[0m \u001b[32m58.3/58.3 kB\u001b[0m \u001b[31m6.0 MB/s\u001b[0m eta \u001b[36m0:00:00\u001b[0m\n",
            "\u001b[?25hRequirement already satisfied: annotated-types>=0.4.0 in /usr/local/lib/python3.10/dist-packages (from pydantic<3,>=1.9.0->openai) (0.6.0)\n",
            "Requirement already satisfied: pydantic-core==2.16.3 in /usr/local/lib/python3.10/dist-packages (from pydantic<3,>=1.9.0->openai) (2.16.3)\n",
            "Installing collected packages: h11, httpcore, httpx, openai\n",
            "Successfully installed h11-0.14.0 httpcore-1.0.4 httpx-0.27.0 openai-1.14.3\n"
          ]
        }
      ]
    },
    {
      "cell_type": "code",
      "source": [
        "# 環境変数の準備 (左端の鍵アイコンでOPENAI_API_KEYを設定)\n",
        "import os\n",
        "from google.colab import userdata\n",
        "os.environ[\"OPENAI_API_KEY\"] = userdata.get(\"OPENAI_API_KEY\")"
      ],
      "metadata": {
        "id": "SSIXgJTs-zaC"
      },
      "execution_count": 3,
      "outputs": []
    },
    {
      "cell_type": "code",
      "source": [
        "from openai import OpenAI\n",
        "\n",
        "# クライアントの準備\n",
        "client = OpenAI()"
      ],
      "metadata": {
        "id": "2f_NBHJt_ac6"
      },
      "execution_count": 4,
      "outputs": []
    },
    {
      "cell_type": "code",
      "source": [
        "import json\n",
        "\n",
        "# JSON出力ヘルパーの準備\n",
        "def show_json(obj):\n",
        "    display(json.loads(obj.model_dump_json()))"
      ],
      "metadata": {
        "id": "J7c3EOA3_dDw"
      },
      "execution_count": 5,
      "outputs": []
    },
    {
      "cell_type": "code",
      "source": [
        "# 生成する文書のタイプに応じたプロンプトを設定します\n",
        "## 以下のセルを全て実行する際は cmd+F10\n",
        "prompt = \"\"\"\n",
        "新商品開発プロジェクトの提案書を作成してください。\n",
        "\n",
        "1. プロジェクトの目的\n",
        "2. 背景と現状分析\n",
        "   - 市場動向、競合分析、顧客ニーズ\n",
        "3. 提案する新商品の概要\n",
        "   - 商品カテゴリー: {商品カテゴリー}\n",
        "   - ターゲット顧客: {ターゲット顧客}\n",
        "   - 商品コンセプト: {商品コンセプト}\n",
        "   - 差別化ポイント\n",
        "4. 実施計画\n",
        "   - 段階ごとのタスク、スケジュール、必要なリソース\n",
        "5. 期待される成果と影響\n",
        "   - 売上目標、市場シェア、ブランドイメージへの影響\n",
        "\"\"\""
      ],
      "metadata": {
        "id": "03VblHFO_fa9"
      },
      "execution_count": 48,
      "outputs": []
    },
    {
      "cell_type": "code",
      "source": [],
      "metadata": {
        "id": "Z474isauNmwT"
      },
      "execution_count": null,
      "outputs": []
    },
    {
      "cell_type": "code",
      "source": [
        "prompt2 = \"\"\"\n",
        "開発したプロジェクトの結果報告書を作成してください。\n",
        "\n",
        "プロジェクト名: {プロジェクト名}\n",
        "\n",
        "1. プロジェクトの概要\n",
        "   - プロジェクトの目的と背景\n",
        "   - 開発した商品の概要\n",
        "     - 商品カテゴリー: {商品カテゴリー}\n",
        "     - ターゲット顧客: {ターゲット顧客}\n",
        "     - 商品コンセプト: {商品コンセプト}\n",
        "     - 主な特徴と差別化ポイント\n",
        "2. プロジェクトの実施内容\n",
        "   - 実施した主な開発タスクとスケジュール\n",
        "   - 直面した課題とその解決策\n",
        "3. 開発成果\n",
        "   - 商品の仕様と性能\n",
        "   - 品質管理とテスト結果\n",
        "   - 生産体制と販売準備状況\n",
        "4. 市場投入計画\n",
        "   - 販売チャネルと販促戦略\n",
        "   - 価格設定と収益予測\n",
        "   - 市場シェアと競合対策\n",
        "5. 今後の展望\n",
        "   - 商品のさらなる改善と発展可能性\n",
        "   - 次なる新商品開発への展望\n",
        "   - 組織体制とリソース配分の最適化\n",
        "\n",
        "プロジェクトリーダー: {プロジェクトリーダー}\n",
        "プロジェクト期間: {プロジェクト開始日} - {プロジェクト終了日}\n",
        "\"\"\""
      ],
      "metadata": {
        "id": "zXC0Yx1AKF8C"
      },
      "execution_count": 49,
      "outputs": []
    },
    {
      "cell_type": "code",
      "source": [
        "prompts_and_params = [\n",
        "    {\n",
        "        \"prompt\": prompt,\n",
        "        \"params\": {\n",
        "            \"商品カテゴリー\": \"お菓子\",\n",
        "            \"ターゲット顧客\": \"子供\",\n",
        "            \"商品コンセプト\": \"健康的で美味しいおやつ\"\n",
        "        }\n",
        "    },\n",
        "    {\n",
        "        \"prompt\": prompt,\n",
        "        \"params\": {\n",
        "            \"商品カテゴリー\": \"飲み物\",\n",
        "            \"ターゲット顧客\": \"高齢者\",\n",
        "            \"商品コンセプト\": \"体に優しい健康飲料\"\n",
        "        }\n",
        "    },\n",
        "    {\n",
        "        \"prompt\": prompt,\n",
        "        \"params\": {\n",
        "            \"商品カテゴリー\": \"美容製品\",\n",
        "            \"ターゲット顧客\": \"若い女性\",\n",
        "            \"商品コンセプト\": \"自然由来のスキンケア\"\n",
        "        }\n",
        "    },\n",
        "    {\n",
        "        \"prompt\":prompt,\n",
        "        \"params\": {\n",
        "            \"商品カテゴリー\": \"家電製品\",\n",
        "            \"ターゲット顧客\": \"一人暮らしの大学生\",\n",
        "            \"商品コンセプト\": \"コンパクトで使いやすいキッチン家電\"\n",
        "        }\n",
        "    },\n",
        "    {\n",
        "        \"prompt\":prompt,\n",
        "        \"params\": {\n",
        "            \"商品カテゴリー\": \"ファッション\",\n",
        "            \"ターゲット顧客\": \"ビジネスマン\",\n",
        "            \"商品コンセプト\": \"快適でスタイリッシュなオフィスウェア\"\n",
        "        }\n",
        "    },\n",
        "    {\n",
        "        \"prompt\": prompt,\n",
        "        \"params\": {\n",
        "            \"商品カテゴリー\": \"スポーツ用品\",\n",
        "            \"ターゲット顧客\": \"アウトドア愛好家\",\n",
        "            \"商品コンセプト\": \"耐久性と機能性を備えたハイキングギア\"\n",
        "        }\n",
        "    },\n",
        "        {\n",
        "        \"prompt\": prompt,\n",
        "        \"params\": {\n",
        "            \"商品カテゴリー\": \"お菓子\",\n",
        "            \"ターゲット顧客\": \"ベビー\",\n",
        "            \"商品コンセプト\": \"健康的で美味しいおやつ\"\n",
        "        }\n",
        "    },\n",
        "    {\n",
        "        \"prompt\": prompt,\n",
        "        \"params\": {\n",
        "            \"商品カテゴリー\": \"飲み物\",\n",
        "            \"ターゲット顧客\": \"中高年男性\",\n",
        "            \"商品コンセプト\": \"体に優しい健康飲料\"\n",
        "        }\n",
        "    },\n",
        "    {\n",
        "        \"prompt\": prompt,\n",
        "        \"params\": {\n",
        "            \"商品カテゴリー\": \"美容製品\",\n",
        "            \"ターゲット顧客\": \"若い女性で独身\",\n",
        "            \"商品コンセプト\": \"自然由来のスキンケア\"\n",
        "        }\n",
        "    },\n",
        "    {\n",
        "        \"prompt\":prompt,\n",
        "        \"params\": {\n",
        "            \"商品カテゴリー\": \"家電製品\",\n",
        "            \"ターゲット顧客\": \"一人暮らしの大学生\",\n",
        "            \"商品コンセプト\": \"コンパクトで使いやすいキッチン家電\"\n",
        "        }\n",
        "    },\n",
        "    {\n",
        "        \"prompt\":prompt,\n",
        "        \"params\": {\n",
        "            \"商品カテゴリー\": \"ファッション\",\n",
        "            \"ターゲット顧客\": \"ビジネスマンでフルリモート\",\n",
        "            \"商品コンセプト\": \"快適でスタイリッシュなオフィスウェア\"\n",
        "        }\n",
        "    },\n",
        "    {\n",
        "        \"prompt\": prompt,\n",
        "        \"params\": {\n",
        "            \"商品カテゴリー\": \"スポーツ用品\",\n",
        "            \"ターゲット顧客\": \"アウトドアのビギナー\",\n",
        "            \"商品コンセプト\": \"耐久性と機能性を備えたハイキングギア\"\n",
        "        }\n",
        "    }\n",
        "]"
      ],
      "metadata": {
        "id": "Ke4GIbRiJWAG"
      },
      "execution_count": 50,
      "outputs": []
    },
    {
      "cell_type": "code",
      "source": [
        "for item in prompts_and_params:\n",
        "    prompt = item[\"prompt\"]\n",
        "    params = item[\"params\"]\n",
        "\n",
        "    # プロンプトにパラメータを挿入\n",
        "    formatted_prompt = prompt.format(**params)\n",
        "\n",
        "    messages = [\n",
        "        {\n",
        "            \"role\" : \"user\",\n",
        "            \"content\" : formatted_prompt,\n",
        "        }\n",
        "    ]\n",
        "\n",
        "    response = client.chat.completions.create(\n",
        "        model=\"gpt-3.5-turbo\",\n",
        "        messages=messages,\n",
        "        temperature=1,\n",
        "        max_tokens=700\n",
        "    )\n",
        "\n",
        "    # 現在の日時を取得\n",
        "    now = datetime.datetime.now()\n",
        "\n",
        "    # 日時を文字列に変換し、ファイル名に使用する形式にします（例: '2023-03-27_15-30-00'）\n",
        "    formatted_time = now.strftime('%Y-%m-%d_%H-%M-%S')\n",
        "\n",
        "    # ファイル名に日時とパラメータを含める\n",
        "    filename = f'./generate/response_{formatted_time}_{params[\"商品カテゴリー\"]}_{params[\"ターゲット顧客\"]}.txt'\n",
        "\n",
        "    # テキストファイルに結果を書き込む\n",
        "    with open(filename, 'w') as file:\n",
        "        file.write(response.choices[0].message.content)"
      ],
      "metadata": {
        "id": "fFOBkZV-_tQt"
      },
      "execution_count": 51,
      "outputs": []
    },
    {
      "cell_type": "code",
      "source": [
        "import os\n",
        "import zipfile\n",
        "\n",
        "def zip_directory(directory_path, output_path):\n",
        "    with zipfile.ZipFile(output_path, 'w', zipfile.ZIP_DEFLATED) as zipf:\n",
        "        for root, _, files in os.walk(directory_path):\n",
        "            for file in files:\n",
        "                file_path = os.path.join(root, file)\n",
        "                zipf.write(file_path, os.path.relpath(file_path, directory_path))\n",
        "\n",
        "    print(f\"ディレクトリ {directory_path} が {output_path} にzipファイルとして保存されました。\")\n",
        "\n",
        "# 使用例\n",
        "directory_to_zip = \"./generate\"  # zipファイルにするディレクトリのパス\n",
        "output_zip_file = \"./generate.zip\"  # 出力するzipファイルのパス\n",
        "\n",
        "zip_directory(directory_to_zip, output_zip_file)"
      ],
      "metadata": {
        "colab": {
          "base_uri": "https://localhost:8080/"
        },
        "id": "3nwEsZ6LNn07",
        "outputId": "803f2dbc-a1c1-4e08-c8d0-a5642a6cf6f4"
      },
      "execution_count": 52,
      "outputs": [
        {
          "output_type": "stream",
          "name": "stdout",
          "text": [
            "ディレクトリ ./generate が ./generate.zip にzipファイルとして保存されました。\n"
          ]
        }
      ]
    }
  ]
}