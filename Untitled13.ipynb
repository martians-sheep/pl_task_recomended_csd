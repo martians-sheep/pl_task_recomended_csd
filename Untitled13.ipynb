{
  "nbformat": 4,
  "nbformat_minor": 0,
  "metadata": {
    "colab": {
      "provenance": [],
      "authorship_tag": "ABX9TyOe1daDmrSSskE+oeKh2CxN",
      "include_colab_link": true
    },
    "kernelspec": {
      "name": "python3",
      "display_name": "Python 3"
    },
    "language_info": {
      "name": "python"
    }
  },
  "cells": [
    {
      "cell_type": "markdown",
      "metadata": {
        "id": "view-in-github",
        "colab_type": "text"
      },
      "source": [
        "<a href=\"https://colab.research.google.com/github/martians-sheep/pl_task_recomended_csd/blob/main/Untitled13.ipynb\" target=\"_parent\"><img src=\"https://colab.research.google.com/assets/colab-badge.svg\" alt=\"Open In Colab\"/></a>"
      ]
    },
    {
      "cell_type": "code",
      "execution_count": null,
      "metadata": {
        "id": "LwKJdqJk4z-M"
      },
      "outputs": [],
      "source": [
        "# 必要なライブラリをインストール\n",
        "!pip install langchain openai langchain-community tiktoken"
      ]
    },
    {
      "cell_type": "code",
      "source": [
        "# 必要なライブラリをインポート\n",
        "from langchain.document_loaders import WebBaseLoader\n",
        "from langchain.indexes import VectorstoreIndexCreator\n",
        "from langchain.embeddings.openai import OpenAIEmbeddings\n",
        "from langchain.chains import RetrievalQA\n",
        "from langchain.llms import OpenAI\n",
        "import os"
      ],
      "metadata": {
        "id": "s9XphLMl48B_"
      },
      "execution_count": 43,
      "outputs": []
    },
    {
      "cell_type": "code",
      "source": [
        "from google.colab import userdata\n",
        "os.environ[\"OPENAI_API_KEY\"] = userdata.get('OPENAI_API_KEY')"
      ],
      "metadata": {
        "id": "t2FPCkfQ5BZr"
      },
      "execution_count": 44,
      "outputs": []
    },
    {
      "cell_type": "code",
      "source": [
        "# WebBaseLoaderを使用してウェブページの内容を読み込む\n",
        "loader = WebBaseLoader(\"https://zenn.dev/skanehira/books/writing-wasm-runtime-in-rust/viewer/06_decode_function_1\")\n",
        "documents = loader.load()"
      ],
      "metadata": {
        "id": "DD2Zxs2c5EI7"
      },
      "execution_count": 64,
      "outputs": []
    },
    {
      "cell_type": "code",
      "source": [
        "# 埋め込みモデルを初期化\n",
        "embeddings = OpenAIEmbeddings()"
      ],
      "metadata": {
        "id": "1XeDJKT96hke"
      },
      "execution_count": 65,
      "outputs": []
    },
    {
      "cell_type": "code",
      "source": [
        "# VectorstoreIndexCreatorを使用してインデックスを作成\n",
        "index = VectorstoreIndexCreator(embedding=embeddings).from_loaders([loader])"
      ],
      "metadata": {
        "id": "2z8H2-q-5J_J"
      },
      "execution_count": null,
      "outputs": []
    },
    {
      "cell_type": "code",
      "source": [
        "# OpenAI APIを使用するためのLLMを初期化\n",
        "llm = OpenAI(temperature=0, max_tokens=500)"
      ],
      "metadata": {
        "id": "aE-oKNKh5PFX"
      },
      "execution_count": 67,
      "outputs": []
    },
    {
      "cell_type": "code",
      "source": [
        "# RetrievalQAチェーンを作成\n",
        "qa = RetrievalQA.from_chain_type(llm=llm, chain_type=\"stuff\", retriever=index.vectorstore.as_retriever())"
      ],
      "metadata": {
        "id": "njjeXNNt5P9p"
      },
      "execution_count": 68,
      "outputs": []
    },
    {
      "cell_type": "code",
      "source": [
        "# 質問を投げかけて回答を得る\n",
        "query = \"\"\"\n",
        "あなたは優秀なウェブコンテンツアナライザーです。以下のURLのページを分析し、その内容を簡潔に要約してください。\n",
        "\n",
        "要約する際は、以下の点に注意してください：\n",
        "1. ウェブサイトの主な目的や対象を明確にしてください。\n",
        "2. ページの構造や主要なセクションについて触れてください。\n",
        "3. 特筆すべき特徴や独自の要素があれば言及してください。\n",
        "4. 全体の要約を1-2文程度で簡潔にまとめてください。\n",
        "5. ページが日本語以外の言語の場合は日本語に翻訳してください。\n",
        "\n",
        "上記の内容を踏まえて、ページの要約を提供してください。\n",
        "\"\"\"\n",
        "response = qa.run(query)"
      ],
      "metadata": {
        "id": "85Ic6Jg95TWB"
      },
      "execution_count": 69,
      "outputs": []
    },
    {
      "cell_type": "code",
      "source": [
        "print(response)"
      ],
      "metadata": {
        "id": "yYP5QjbM5XDM"
      },
      "execution_count": null,
      "outputs": []
    }
  ]
}