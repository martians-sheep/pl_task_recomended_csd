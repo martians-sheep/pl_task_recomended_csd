{
  "nbformat": 4,
  "nbformat_minor": 0,
  "metadata": {
    "colab": {
      "provenance": [],
      "gpuType": "T4",
      "mount_file_id": "1S-SjfwHeKL65oJRQiiSVa4_O-r_AZXHa",
      "authorship_tag": "ABX9TyO1Q325HgNEFEhtVv37/5/1",
      "include_colab_link": true
    },
    "kernelspec": {
      "name": "python3",
      "display_name": "Python 3"
    },
    "language_info": {
      "name": "python"
    },
    "accelerator": "GPU"
  },
  "cells": [
    {
      "cell_type": "markdown",
      "metadata": {
        "id": "view-in-github",
        "colab_type": "text"
      },
      "source": [
        "<a href=\"https://colab.research.google.com/github/martians-sheep/pl_task_recomended_csd/blob/main/neary_search.ipynb\" target=\"_parent\"><img src=\"https://colab.research.google.com/assets/colab-badge.svg\" alt=\"Open In Colab\"/></a>"
      ]
    },
    {
      "cell_type": "code",
      "source": [
        "# Faissパッケージのインストール\n",
        "!pip install faiss-gpu"
      ],
      "metadata": {
        "colab": {
          "base_uri": "https://localhost:8080/"
        },
        "id": "k2fVubAMkt_V",
        "outputId": "58fa9e8d-feed-4201-a9d6-99aeb7d5a356"
      },
      "execution_count": 1,
      "outputs": [
        {
          "output_type": "stream",
          "name": "stdout",
          "text": [
            "Collecting faiss-gpu\n",
            "  Downloading faiss_gpu-1.7.2-cp310-cp310-manylinux_2_17_x86_64.manylinux2014_x86_64.whl (85.5 MB)\n",
            "\u001b[2K     \u001b[90m━━━━━━━━━━━━━━━━━━━━━━━━━━━━━━━━━━━━━━━━\u001b[0m \u001b[32m85.5/85.5 MB\u001b[0m \u001b[31m8.8 MB/s\u001b[0m eta \u001b[36m0:00:00\u001b[0m\n",
            "\u001b[?25hInstalling collected packages: faiss-gpu\n",
            "Successfully installed faiss-gpu-1.7.2\n"
          ]
        }
      ]
    },
    {
      "cell_type": "code",
      "execution_count": 2,
      "metadata": {
        "id": "aoShyfAqkVDE"
      },
      "outputs": [],
      "source": [
        "# ベクトルDBを利用する\n",
        "import faiss"
      ]
    },
    {
      "cell_type": "code",
      "source": [
        "# Embeddingファイルを読み込み Google Driveから\n",
        "# Google Driveをマウントする\n",
        "from google.colab import drive\n",
        "drive.mount('/content/drive')\n",
        "\n",
        "# ファイル\n",
        "embedding_file =  '/content/drive/MyDrive/PL自動割り当てEmbeddingファイル/embeddings_all.npy'"
      ],
      "metadata": {
        "colab": {
          "base_uri": "https://localhost:8080/"
        },
        "id": "51r7Sh9dkpvK",
        "outputId": "4c9c06f2-f68c-4d98-c8bc-91edf9ae455b"
      },
      "execution_count": 3,
      "outputs": [
        {
          "output_type": "stream",
          "name": "stdout",
          "text": [
            "Drive already mounted at /content/drive; to attempt to forcibly remount, call drive.mount(\"/content/drive\", force_remount=True).\n"
          ]
        }
      ]
    },
    {
      "cell_type": "code",
      "source": [
        "import numpy as np\n",
        "\n",
        "# ファイルからEmbeddingを読み込む\n",
        "target_embeds = np.load(embedding_file)\n"
      ],
      "metadata": {
        "id": "IMGE25jJlCZK"
      },
      "execution_count": 4,
      "outputs": []
    },
    {
      "cell_type": "code",
      "source": [
        "# インデックス数\n",
        "d = target_embeds.shape[1]\n",
        "print(d)\n",
        "\n",
        "# Faissのインデックス生成\n",
        "index = faiss.IndexFlatL2(d)\n",
        "\n",
        "# 対象テキストをインデックスに追加\n",
        "index.add(target_embeds)"
      ],
      "metadata": {
        "colab": {
          "base_uri": "https://localhost:8080/"
        },
        "id": "zynvGAazmB2h",
        "outputId": "4e070dea-ca24-468a-bbb8-4e3e89ce3944"
      },
      "execution_count": 5,
      "outputs": [
        {
          "output_type": "stream",
          "name": "stdout",
          "text": [
            "1536\n"
          ]
        }
      ]
    },
    {
      "cell_type": "code",
      "source": [
        "!pip install openai"
      ],
      "metadata": {
        "colab": {
          "base_uri": "https://localhost:8080/"
        },
        "id": "IHBHGJ1VmCyn",
        "outputId": "f60721e8-44c0-4f33-94d3-eb898a0f216f"
      },
      "execution_count": 6,
      "outputs": [
        {
          "output_type": "stream",
          "name": "stdout",
          "text": [
            "Collecting openai\n",
            "  Downloading openai-1.14.3-py3-none-any.whl (262 kB)\n",
            "\u001b[?25l     \u001b[90m━━━━━━━━━━━━━━━━━━━━━━━━━━━━━━━━━━━━━━━━\u001b[0m \u001b[32m0.0/262.9 kB\u001b[0m \u001b[31m?\u001b[0m eta \u001b[36m-:--:--\u001b[0m\r\u001b[2K     \u001b[91m━━━━━━━━━━━━━━━━━━━━━━━━━━━━━━━━━━━━━━\u001b[0m\u001b[91m╸\u001b[0m\u001b[90m━\u001b[0m \u001b[32m256.0/262.9 kB\u001b[0m \u001b[31m8.0 MB/s\u001b[0m eta \u001b[36m0:00:01\u001b[0m\r\u001b[2K     \u001b[90m━━━━━━━━━━━━━━━━━━━━━━━━━━━━━━━━━━━━━━━━\u001b[0m \u001b[32m262.9/262.9 kB\u001b[0m \u001b[31m6.9 MB/s\u001b[0m eta \u001b[36m0:00:00\u001b[0m\n",
            "\u001b[?25hRequirement already satisfied: anyio<5,>=3.5.0 in /usr/local/lib/python3.10/dist-packages (from openai) (3.7.1)\n",
            "Requirement already satisfied: distro<2,>=1.7.0 in /usr/lib/python3/dist-packages (from openai) (1.7.0)\n",
            "Collecting httpx<1,>=0.23.0 (from openai)\n",
            "  Downloading httpx-0.27.0-py3-none-any.whl (75 kB)\n",
            "\u001b[?25l     \u001b[90m━━━━━━━━━━━━━━━━━━━━━━━━━━━━━━━━━━━━━━━━\u001b[0m \u001b[32m0.0/75.6 kB\u001b[0m \u001b[31m?\u001b[0m eta \u001b[36m-:--:--\u001b[0m\r\u001b[2K     \u001b[90m━━━━━━━━━━━━━━━━━━━━━━━━━━━━━━━━━━━━━━━━\u001b[0m \u001b[32m75.6/75.6 kB\u001b[0m \u001b[31m13.2 MB/s\u001b[0m eta \u001b[36m0:00:00\u001b[0m\n",
            "\u001b[?25hRequirement already satisfied: pydantic<3,>=1.9.0 in /usr/local/lib/python3.10/dist-packages (from openai) (2.6.4)\n",
            "Requirement already satisfied: sniffio in /usr/local/lib/python3.10/dist-packages (from openai) (1.3.1)\n",
            "Requirement already satisfied: tqdm>4 in /usr/local/lib/python3.10/dist-packages (from openai) (4.66.2)\n",
            "Requirement already satisfied: typing-extensions<5,>=4.7 in /usr/local/lib/python3.10/dist-packages (from openai) (4.10.0)\n",
            "Requirement already satisfied: idna>=2.8 in /usr/local/lib/python3.10/dist-packages (from anyio<5,>=3.5.0->openai) (3.6)\n",
            "Requirement already satisfied: exceptiongroup in /usr/local/lib/python3.10/dist-packages (from anyio<5,>=3.5.0->openai) (1.2.0)\n",
            "Requirement already satisfied: certifi in /usr/local/lib/python3.10/dist-packages (from httpx<1,>=0.23.0->openai) (2024.2.2)\n",
            "Collecting httpcore==1.* (from httpx<1,>=0.23.0->openai)\n",
            "  Downloading httpcore-1.0.5-py3-none-any.whl (77 kB)\n",
            "\u001b[2K     \u001b[90m━━━━━━━━━━━━━━━━━━━━━━━━━━━━━━━━━━━━━━━━\u001b[0m \u001b[32m77.9/77.9 kB\u001b[0m \u001b[31m13.2 MB/s\u001b[0m eta \u001b[36m0:00:00\u001b[0m\n",
            "\u001b[?25hCollecting h11<0.15,>=0.13 (from httpcore==1.*->httpx<1,>=0.23.0->openai)\n",
            "  Downloading h11-0.14.0-py3-none-any.whl (58 kB)\n",
            "\u001b[2K     \u001b[90m━━━━━━━━━━━━━━━━━━━━━━━━━━━━━━━━━━━━━━━━\u001b[0m \u001b[32m58.3/58.3 kB\u001b[0m \u001b[31m11.0 MB/s\u001b[0m eta \u001b[36m0:00:00\u001b[0m\n",
            "\u001b[?25hRequirement already satisfied: annotated-types>=0.4.0 in /usr/local/lib/python3.10/dist-packages (from pydantic<3,>=1.9.0->openai) (0.6.0)\n",
            "Requirement already satisfied: pydantic-core==2.16.3 in /usr/local/lib/python3.10/dist-packages (from pydantic<3,>=1.9.0->openai) (2.16.3)\n",
            "Installing collected packages: h11, httpcore, httpx, openai\n",
            "Successfully installed h11-0.14.0 httpcore-1.0.5 httpx-0.27.0 openai-1.14.3\n"
          ]
        }
      ]
    },
    {
      "cell_type": "code",
      "source": [
        "# 環境変数の準備 (左端の鍵アイコンでOPENAI_API_KEYを設定)\n",
        "import os\n",
        "from google.colab import userdata\n",
        "os.environ[\"OPENAI_API_KEY\"] = userdata.get(\"OPENAI_API_KEY\")"
      ],
      "metadata": {
        "id": "jadoT3TKpuI6"
      },
      "execution_count": 7,
      "outputs": []
    },
    {
      "cell_type": "code",
      "source": [
        "from openai import OpenAI\n",
        "\n",
        "# クライアントの準備\n",
        "client = OpenAI()"
      ],
      "metadata": {
        "id": "hbpQBTIIpySd"
      },
      "execution_count": 8,
      "outputs": []
    },
    {
      "cell_type": "code",
      "source": [
        "# テキストを読み込む\n",
        "txt_file_path = \"./法律AI研究報告書.txt\"\n",
        "\n",
        "with open(txt_file_path, \"r\", encoding=\"utf-8\") as file:\n",
        "    in_text = file.read()"
      ],
      "metadata": {
        "id": "UIRSYTgwp62q"
      },
      "execution_count": 17,
      "outputs": []
    },
    {
      "cell_type": "code",
      "source": [
        "response =client.embeddings.create(\n",
        "    input=in_text,\n",
        "    model=\"text-embedding-ada-002\"\n",
        ")\n",
        "\n",
        "# numpy配列に変換\n",
        "in_embeds = [record.embedding for record in response.data]\n",
        "in_embeds = np.array(in_embeds).astype(\"float32\")"
      ],
      "metadata": {
        "id": "Zd1SvTulpguM"
      },
      "execution_count": 18,
      "outputs": []
    },
    {
      "cell_type": "code",
      "source": [
        "import csv\n",
        "# 作業推薦者を出す\n",
        "def recommend_workers(query_embedding, csv_file, index, k=10):\n",
        "    # 近傍探索の実行\n",
        "    D, I = index.search(query_embedding, k)\n",
        "    print(D)\n",
        "    print(I)\n",
        "\n",
        "    # 類似ファイルのインデックス値を取得\n",
        "    similar_indices = I[0].tolist()\n",
        "\n",
        "    # CSVファイルから既存のファイルパスと担当者IDを読み込む\n",
        "    file_paths = []\n",
        "    worker_ids = []\n",
        "    with open(csv_file, mode='r') as file:\n",
        "        reader = csv.reader(file)\n",
        "        next(reader)  # ヘッダーをスキップ\n",
        "        for row in reader:\n",
        "            file_paths.append(row[1])\n",
        "            worker_ids.append(int(row[2]))\n",
        "\n",
        "    # 類似ファイルの担当者IDを取得\n",
        "    similar_worker_ids = [worker_ids[i] for i in similar_indices]\n",
        "\n",
        "    # 担当者IDの出現回数をカウント\n",
        "    worker_id_counts = {}\n",
        "    for worker_id in similar_worker_ids:\n",
        "        worker_id_counts[worker_id] = worker_id_counts.get(worker_id, 0) + 1\n",
        "\n",
        "    # 出現回数の多い順に担当者IDを取得\n",
        "    sorted_worker_ids = sorted(worker_id_counts, key=worker_id_counts.get, reverse=True)\n",
        "\n",
        "    # 推薦する作業担当者のIDを取得\n",
        "    recommended_worker_ids = sorted_worker_ids[:3]  # 上位3人を推薦\n",
        "\n",
        "    return recommended_worker_ids"
      ],
      "metadata": {
        "id": "mAaxQRXXqabf"
      },
      "execution_count": 19,
      "outputs": []
    },
    {
      "cell_type": "code",
      "source": [
        "# 確認\n",
        "csv_file = \"./worked_files.csv\"\n",
        "\n",
        "recommended_worker_ids = recommend_workers(in_embeds, csv_file, index)\n",
        "print(\"Recommended worker IDs:\", recommended_worker_ids)"
      ],
      "metadata": {
        "colab": {
          "base_uri": "https://localhost:8080/"
        },
        "id": "6Tdy4sPQqcT0",
        "outputId": "da2cd3bf-8fd9-4d36-80b0-e9634c7f772f"
      },
      "execution_count": 20,
      "outputs": [
        {
          "output_type": "stream",
          "name": "stdout",
          "text": [
            "[[0.03189817 0.04887741 0.08837742 0.11160477 0.13243756 0.1446165\n",
            "  0.18959308 0.22103558 0.24178305 0.25575137]]\n",
            "[[458 459 475 492 487 483 484 497 462 469]]\n",
            "Recommended worker IDs: [5, 3, 4]\n"
          ]
        }
      ]
    },
    {
      "cell_type": "markdown",
      "source": [],
      "metadata": {
        "id": "CMKnB1nJzCnd"
      }
    },
    {
      "cell_type": "code",
      "source": [],
      "metadata": {
        "id": "cYNwTydhy_S5"
      },
      "execution_count": null,
      "outputs": []
    }
  ]
}