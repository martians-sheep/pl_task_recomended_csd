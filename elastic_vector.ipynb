{
  "nbformat": 4,
  "nbformat_minor": 0,
  "metadata": {
    "colab": {
      "provenance": [],
      "authorship_tag": "ABX9TyOjCYhEL3k7lp5sCjq9n92O",
      "include_colab_link": true
    },
    "kernelspec": {
      "name": "python3",
      "display_name": "Python 3"
    },
    "language_info": {
      "name": "python"
    }
  },
  "cells": [
    {
      "cell_type": "markdown",
      "metadata": {
        "id": "view-in-github",
        "colab_type": "text"
      },
      "source": [
        "<a href=\"https://colab.research.google.com/github/martians-sheep/pl_task_recomended_csd/blob/main/elastic_vector.ipynb\" target=\"_parent\"><img src=\"https://colab.research.google.com/assets/colab-badge.svg\" alt=\"Open In Colab\"/></a>"
      ]
    },
    {
      "cell_type": "markdown",
      "source": [
        "# Elasticsearch で類似検索を実行するサンプル\n",
        "## 前提条件\n",
        "このサンプルコードではElasticsearchはv8.13.0を使用します。\n",
        "またElasticsearchを外部に作成し、そこへアクセスする形となります。"
      ],
      "metadata": {
        "id": "NTwgilUs_0eG"
      }
    },
    {
      "cell_type": "code",
      "execution_count": null,
      "metadata": {
        "id": "2HR9qPtLf1Og"
      },
      "outputs": [],
      "source": [
        "# Elasticsearch ライブラリのインストール\n",
        "!pip install elasticsearch\n",
        "from elasticsearch import Elasticsearch"
      ]
    },
    {
      "cell_type": "code",
      "source": [
        "# Elasticsearchのエンドポイントとポート番号を指定\n",
        "es_endpoint = \"{Elasticsearchのエンドポイント}\"\n",
        "username = \"{username} ex. elasticなど\"\n",
        "password = \"{password}\""
      ],
      "metadata": {
        "id": "O4I3J_Rof2GZ"
      },
      "execution_count": 12,
      "outputs": []
    },
    {
      "cell_type": "code",
      "source": [
        "# Elasticsearchクライアントの作成\n",
        "try:\n",
        "\n",
        "    # Elasticsearchクライアントの作成\n",
        "    es = Elasticsearch(\n",
        "        hosts=[es_endpoint],\n",
        "        http_auth=(username,password)\n",
        "    )\n",
        "\n",
        "    # Elasticsearchへの接続を確認\n",
        "    if es.ping():\n",
        "        print(\"Elastic Searchへの接続が確認されました。\")\n",
        "    else:\n",
        "        print(\"Elastic Searchへの接続に失敗しました。\")\n",
        "\n",
        "except Exception as e:\n",
        "    print(f\"Elastic Searchへの接続中にエラーが発生しました: {e}\")"
      ],
      "metadata": {
        "id": "pLm2AyN1gAsn"
      },
      "execution_count": null,
      "outputs": []
    },
    {
      "cell_type": "code",
      "source": [
        "# Elasticsearchの情報表示\n",
        "print(es.info())"
      ],
      "metadata": {
        "id": "rD04eRX0gsRI"
      },
      "execution_count": null,
      "outputs": []
    },
    {
      "cell_type": "code",
      "source": [
        "# Numpyのインストール\n",
        "!pip install numpy"
      ],
      "metadata": {
        "id": "r7xPmsf7p5GX"
      },
      "execution_count": null,
      "outputs": []
    },
    {
      "cell_type": "code",
      "source": [
        "# 大量のドキュメントをバイナリ化したNumPyバイナリファイルからデータを読み込む\n",
        "import numpy as np\n",
        "vectors = np.load(\"./embeddings_all.npy\")"
      ],
      "metadata": {
        "id": "b8-JzH13p1So"
      },
      "execution_count": 21,
      "outputs": []
    },
    {
      "cell_type": "markdown",
      "source": [
        "# インデックス登録"
      ],
      "metadata": {
        "id": "mffFPtqlqhVu"
      }
    },
    {
      "cell_type": "code",
      "source": [
        "index_name = \"my_vector_index\"\n",
        "mapping = {\n",
        "    \"mappings\": {\n",
        "        \"properties\": {\n",
        "            \"my_vector\": {\n",
        "                \"type\": \"dense_vector\",\n",
        "                \"dims\": vectors.shape[1]\n",
        "            }\n",
        "        }\n",
        "    }\n",
        "}"
      ],
      "metadata": {
        "id": "ba1ePZSWqaD_"
      },
      "execution_count": 26,
      "outputs": []
    },
    {
      "cell_type": "code",
      "source": [
        "# インデックス作成\n",
        "es.indices.create(index=index_name, body=mapping)"
      ],
      "metadata": {
        "id": "fSMCKeLnnkrT"
      },
      "execution_count": null,
      "outputs": []
    },
    {
      "cell_type": "code",
      "source": [
        "# ベクトルデータをElasticsearchにインデックス化\n",
        "for i, vector in enumerate(vectors):\n",
        "    doc = {\n",
        "        \"my_vector\": vector.tolist()\n",
        "    }\n",
        "    es.index(index=index_name, body=doc)"
      ],
      "metadata": {
        "id": "PwGCPtlvp3Oz"
      },
      "execution_count": 28,
      "outputs": []
    },
    {
      "cell_type": "code",
      "source": [
        "# インデックスの削除関数\n",
        "def delete_index(es, index_name):\n",
        "    \"\"\"\n",
        "    Elasticsearchのインデックスを削除する関数\n",
        "\n",
        "    :param es: Elasticsearchクライアントオブジェクト\n",
        "    :param index_name: 削除するインデックスの名前\n",
        "    \"\"\"\n",
        "    if es.indices.exists(index=index_name):\n",
        "        es.indices.delete(index=index_name)\n",
        "        print(f\"Index '{index_name}' deleted.\")\n",
        "    else:\n",
        "        print(f\"Index '{index_name}' does not exist.\")"
      ],
      "metadata": {
        "id": "z6k8-48xq9Xw"
      },
      "execution_count": 24,
      "outputs": []
    },
    {
      "cell_type": "code",
      "source": [
        "# インデックスの削除\n",
        "# delete_index(es, index_name)"
      ],
      "metadata": {
        "id": "biN25zzIrDrp"
      },
      "execution_count": null,
      "outputs": []
    },
    {
      "cell_type": "code",
      "source": [
        "# 検索対象のテキストのベクトル化(OpenAI の Embeddingを利用)\n",
        "!pip install openai"
      ],
      "metadata": {
        "id": "_294c8ONrj4v"
      },
      "execution_count": null,
      "outputs": []
    },
    {
      "cell_type": "code",
      "source": [
        "from openai import OpenAI\n",
        "from google.colab import userdata\n",
        "import os\n",
        "os.environ[\"OPENAI_API_KEY\"] = userdata.get(\"OPENAI_API_KEY\")\n",
        "# クライアントの準備\n",
        "client = OpenAI()"
      ],
      "metadata": {
        "id": "xg2azqikrmTh"
      },
      "execution_count": 34,
      "outputs": []
    },
    {
      "cell_type": "code",
      "source": [
        "# テキストを読み込む\n",
        "txt_file_path = \"./法律AIの活用に関する研究報告書.txt\"\n",
        "\n",
        "with open(txt_file_path, \"r\", encoding=\"utf-8\") as file:\n",
        "    in_text = file.read()"
      ],
      "metadata": {
        "id": "A3U_D4qCr4q7"
      },
      "execution_count": 39,
      "outputs": []
    },
    {
      "cell_type": "code",
      "source": [
        "# 作業対象のファイルをベクトル化する\n",
        "response =client.embeddings.create(\n",
        "    input=in_text,\n",
        "    model=\"text-embedding-ada-002\"\n",
        ")\n",
        "\n",
        "# ベクトル化したデータをnumpy配列に変換\n",
        "in_embeds = [record.embedding for record in response.data]\n",
        "in_embeds = np.array(in_embeds).astype(\"float32\")"
      ],
      "metadata": {
        "id": "ssT3Tf-xsW_G"
      },
      "execution_count": 40,
      "outputs": []
    },
    {
      "cell_type": "code",
      "source": [
        "# コサイン類似度のクエリ(上手く実行できていない)\n",
        "query = {\n",
        "    \"query\": {\n",
        "        \"function_score\": {\n",
        "            \"query\": {\"match_all\": {}},\n",
        "            \"script_score\": {\n",
        "                \"script\": {\n",
        "                    \"source\": \"cosineSimilarity(params.query_vector, doc['my_vector'].vectorValue())\",\n",
        "                    \"params\": {\"query_vector\": in_embeds.tolist()}\n",
        "                }\n",
        "            }\n",
        "        }\n",
        "    }\n",
        "}"
      ],
      "metadata": {
        "id": "Y1ndo8prtR5D"
      },
      "execution_count": 49,
      "outputs": []
    },
    {
      "cell_type": "code",
      "source": [
        "# knn(k近傍)アルゴリズムでクエリの構築\n",
        "query = {\n",
        "    \"query\": {\n",
        "        \"knn\": {\n",
        "            \"field\": \"my_vector\",\n",
        "            \"query_vector\": in_embeds.flatten().tolist(),\n",
        "            \"num_candidates\": 100\n",
        "        }\n",
        "    },\n",
        "      \"size\": 5\n",
        "}"
      ],
      "metadata": {
        "id": "oyWK_lYDwOVm"
      },
      "execution_count": 68,
      "outputs": []
    },
    {
      "cell_type": "code",
      "source": [
        "!# 検索結果を取得\n",
        "search_result = es.search(index=index_name, body=query)\n",
        "# 検索結果を表示\n",
        "print(\"Search results:\")\n",
        "for hit in search_result[\"hits\"][\"hits\"]:\n",
        "    print(\"doc Id\",hit[\"_id\"])\n",
        "    print(\"Score:\", hit[\"_score\"])\n",
        "    print(\"Vector:\", hit[\"_source\"][\"my_vector\"])\n",
        "    print(\"---\")"
      ],
      "metadata": {
        "id": "78cHVqtvtShj"
      },
      "execution_count": null,
      "outputs": []
    }
  ]
}