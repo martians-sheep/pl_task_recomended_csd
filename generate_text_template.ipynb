{
  "nbformat": 4,
  "nbformat_minor": 0,
  "metadata": {
    "colab": {
      "provenance": [],
      "authorship_tag": "ABX9TyO25KaCRSBpuiTQwoMNMRnQ",
      "include_colab_link": true
    },
    "kernelspec": {
      "name": "python3",
      "display_name": "Python 3"
    },
    "language_info": {
      "name": "python"
    }
  },
  "cells": [
    {
      "cell_type": "markdown",
      "metadata": {
        "id": "view-in-github",
        "colab_type": "text"
      },
      "source": [
        "<a href=\"https://colab.research.google.com/github/martians-sheep/pl_task_recomended_csd/blob/main/generate_text_template.ipynb\" target=\"_parent\"><img src=\"https://colab.research.google.com/assets/colab-badge.svg\" alt=\"Open In Colab\"/></a>"
      ]
    },
    {
      "cell_type": "code",
      "execution_count": null,
      "metadata": {
        "id": "w7Jcz4u26rSt"
      },
      "outputs": [],
      "source": [
        "!pip install openai"
      ]
    },
    {
      "cell_type": "code",
      "source": [
        "# 環境変数の準備 (左端の鍵アイコンでOPENAI_API_KEYを設定)\n",
        "import os\n",
        "from google.colab import userdata\n",
        "os.environ[\"OPENAI_API_KEY\"] = userdata.get(\"OPENAI_API_KEY\")"
      ],
      "metadata": {
        "id": "arIm9Mga6xNV"
      },
      "execution_count": null,
      "outputs": []
    },
    {
      "cell_type": "code",
      "source": [
        "from openai import OpenAI\n",
        "\n",
        "# クライアントの準備\n",
        "client = OpenAI()"
      ],
      "metadata": {
        "id": "LNDwSSfg6zsv"
      },
      "execution_count": null,
      "outputs": []
    },
    {
      "cell_type": "code",
      "source": [
        "import json\n",
        "\n",
        "# JSON出力ヘルパーの準備\n",
        "def show_json(obj):\n",
        "    display(json.loads(obj.model_dump_json()))"
      ],
      "metadata": {
        "id": "lRKDNHF561Ru"
      },
      "execution_count": null,
      "outputs": []
    },
    {
      "cell_type": "code",
      "source": [
        "prompt=\"\"\"\n",
        "\"\"\""
      ],
      "metadata": {
        "id": "Pt9Kn13163ar"
      },
      "execution_count": null,
      "outputs": []
    },
    {
      "cell_type": "code",
      "source": [
        "prompts_and_params = []"
      ],
      "metadata": {
        "id": "uEmkvcK5663Y"
      },
      "execution_count": null,
      "outputs": []
    },
    {
      "cell_type": "code",
      "source": [
        "import datetime\n",
        "import os"
      ],
      "metadata": {
        "id": "YRn_Zhoj7Cg0"
      },
      "execution_count": null,
      "outputs": []
    },
    {
      "cell_type": "code",
      "source": [
        "folder_name = \"sample\""
      ],
      "metadata": {
        "id": "FhFxVDzL7GQ_"
      },
      "execution_count": null,
      "outputs": []
    },
    {
      "cell_type": "code",
      "source": [
        "# フォルダの作成\n",
        "folder_path = f\"./{folder_name}\"\n",
        "if not os.path.exists(folder_path):\n",
        "    os.makedirs(folder_path)\n",
        "    print(f\"Folder created at: {folder_path}\")\n",
        "else:\n",
        "    print(f\"Folder already exists at: {folder_path}\")"
      ],
      "metadata": {
        "id": "zbwbu0uU7JBe"
      },
      "execution_count": null,
      "outputs": []
    },
    {
      "cell_type": "code",
      "source": [
        "for item in prompts_and_params:\n",
        "    prompt = item[\"prompt\"]\n",
        "    params = item[\"params\"]\n",
        "\n",
        "    # プロンプトにパラメータを挿入\n",
        "    formatted_prompt = prompt.format(**params)\n",
        "\n",
        "    messages = [\n",
        "        {\n",
        "            \"role\" : \"user\",\n",
        "            \"content\" : formatted_prompt,\n",
        "        }\n",
        "    ]\n",
        "\n",
        "    response = client.chat.completions.create(\n",
        "        model=\"gpt-3.5-turbo\",\n",
        "        messages=messages,\n",
        "        temperature=1,\n",
        "        max_tokens=700\n",
        "    )\n",
        "\n",
        "    # 現在の日時を取得\n",
        "    now = datetime.datetime.now()\n",
        "\n",
        "    # 日時を文字列に変換し、ファイル名に使用する形式にします（例: '2023-03-27_15-30-00'）\n",
        "    formatted_time = now.strftime('%Y-%m-%d_%H-%M-%S')\n",
        "\n",
        "    # ファイル名に日時とパラメータを含める\n",
        "    filename = f'./{folder_name}/response_{formatted_time}_{params[\"システムの目的\"]}_3.txt'\n",
        "\n",
        "    # テキストファイルに結果を書き込む\n",
        "    with open(filename, 'w') as file:\n",
        "        file.write(response.choices[0].message.content)"
      ],
      "metadata": {
        "id": "pkIPDGMV7hqY"
      },
      "execution_count": null,
      "outputs": []
    },
    {
      "cell_type": "code",
      "source": [
        "import os\n",
        "import zipfile\n",
        "\n",
        "def zip_directory(directory_path, output_path):\n",
        "    with zipfile.ZipFile(output_path, 'w', zipfile.ZIP_DEFLATED) as zipf:\n",
        "        for root, _, files in os.walk(directory_path):\n",
        "            for file in files:\n",
        "                file_path = os.path.join(root, file)\n",
        "                zipf.write(file_path, os.path.relpath(file_path, directory_path))\n",
        "\n",
        "    print(f\"ディレクトリ {directory_path} が {output_path} にzipファイルとして保存されました。\")\n",
        "\n",
        "# 使用例\n",
        "directory_to_zip = f\".{folder_name}\"  # zipファイルにするディレクトリのパス\n",
        "output_zip_file = f\"./{folder_name}.zip\"  # 出力するzipファイルのパス\n",
        "\n",
        "zip_directory(directory_to_zip, output_zip_file)"
      ],
      "metadata": {
        "id": "-HAatlo37mxZ"
      },
      "execution_count": null,
      "outputs": []
    }
  ]
}