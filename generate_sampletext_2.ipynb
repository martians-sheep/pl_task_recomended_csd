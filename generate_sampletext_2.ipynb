{
  "nbformat": 4,
  "nbformat_minor": 0,
  "metadata": {
    "colab": {
      "provenance": [],
      "authorship_tag": "ABX9TyNE5lEOtkS0nHHIXW4befya",
      "include_colab_link": true
    },
    "kernelspec": {
      "name": "python3",
      "display_name": "Python 3"
    },
    "language_info": {
      "name": "python"
    }
  },
  "cells": [
    {
      "cell_type": "markdown",
      "metadata": {
        "id": "view-in-github",
        "colab_type": "text"
      },
      "source": [
        "<a href=\"https://colab.research.google.com/github/martians-sheep/pl_task_recomended_csd/blob/main/generate_sampletext_2.ipynb\" target=\"_parent\"><img src=\"https://colab.research.google.com/assets/colab-badge.svg\" alt=\"Open In Colab\"/></a>"
      ]
    },
    {
      "cell_type": "code",
      "execution_count": 1,
      "metadata": {
        "colab": {
          "base_uri": "https://localhost:8080/"
        },
        "id": "fsUZZTCkg8Vz",
        "outputId": "52c1cae9-6a0c-45be-ef8d-2078f4b1b32f"
      },
      "outputs": [
        {
          "output_type": "stream",
          "name": "stdout",
          "text": [
            "Collecting openai\n",
            "  Downloading openai-1.14.3-py3-none-any.whl (262 kB)\n",
            "\u001b[2K     \u001b[90m━━━━━━━━━━━━━━━━━━━━━━━━━━━━━━━━━━━━━━━━\u001b[0m \u001b[32m262.9/262.9 kB\u001b[0m \u001b[31m4.1 MB/s\u001b[0m eta \u001b[36m0:00:00\u001b[0m\n",
            "\u001b[?25hRequirement already satisfied: anyio<5,>=3.5.0 in /usr/local/lib/python3.10/dist-packages (from openai) (3.7.1)\n",
            "Requirement already satisfied: distro<2,>=1.7.0 in /usr/lib/python3/dist-packages (from openai) (1.7.0)\n",
            "Collecting httpx<1,>=0.23.0 (from openai)\n",
            "  Downloading httpx-0.27.0-py3-none-any.whl (75 kB)\n",
            "\u001b[2K     \u001b[90m━━━━━━━━━━━━━━━━━━━━━━━━━━━━━━━━━━━━━━━━\u001b[0m \u001b[32m75.6/75.6 kB\u001b[0m \u001b[31m7.0 MB/s\u001b[0m eta \u001b[36m0:00:00\u001b[0m\n",
            "\u001b[?25hRequirement already satisfied: pydantic<3,>=1.9.0 in /usr/local/lib/python3.10/dist-packages (from openai) (2.6.4)\n",
            "Requirement already satisfied: sniffio in /usr/local/lib/python3.10/dist-packages (from openai) (1.3.1)\n",
            "Requirement already satisfied: tqdm>4 in /usr/local/lib/python3.10/dist-packages (from openai) (4.66.2)\n",
            "Requirement already satisfied: typing-extensions<5,>=4.7 in /usr/local/lib/python3.10/dist-packages (from openai) (4.10.0)\n",
            "Requirement already satisfied: idna>=2.8 in /usr/local/lib/python3.10/dist-packages (from anyio<5,>=3.5.0->openai) (3.6)\n",
            "Requirement already satisfied: exceptiongroup in /usr/local/lib/python3.10/dist-packages (from anyio<5,>=3.5.0->openai) (1.2.0)\n",
            "Requirement already satisfied: certifi in /usr/local/lib/python3.10/dist-packages (from httpx<1,>=0.23.0->openai) (2024.2.2)\n",
            "Collecting httpcore==1.* (from httpx<1,>=0.23.0->openai)\n",
            "  Downloading httpcore-1.0.5-py3-none-any.whl (77 kB)\n",
            "\u001b[2K     \u001b[90m━━━━━━━━━━━━━━━━━━━━━━━━━━━━━━━━━━━━━━━━\u001b[0m \u001b[32m77.9/77.9 kB\u001b[0m \u001b[31m9.0 MB/s\u001b[0m eta \u001b[36m0:00:00\u001b[0m\n",
            "\u001b[?25hCollecting h11<0.15,>=0.13 (from httpcore==1.*->httpx<1,>=0.23.0->openai)\n",
            "  Downloading h11-0.14.0-py3-none-any.whl (58 kB)\n",
            "\u001b[2K     \u001b[90m━━━━━━━━━━━━━━━━━━━━━━━━━━━━━━━━━━━━━━━━\u001b[0m \u001b[32m58.3/58.3 kB\u001b[0m \u001b[31m5.6 MB/s\u001b[0m eta \u001b[36m0:00:00\u001b[0m\n",
            "\u001b[?25hRequirement already satisfied: annotated-types>=0.4.0 in /usr/local/lib/python3.10/dist-packages (from pydantic<3,>=1.9.0->openai) (0.6.0)\n",
            "Requirement already satisfied: pydantic-core==2.16.3 in /usr/local/lib/python3.10/dist-packages (from pydantic<3,>=1.9.0->openai) (2.16.3)\n",
            "Installing collected packages: h11, httpcore, httpx, openai\n",
            "Successfully installed h11-0.14.0 httpcore-1.0.5 httpx-0.27.0 openai-1.14.3\n"
          ]
        }
      ],
      "source": [
        "!pip install openai"
      ]
    },
    {
      "cell_type": "code",
      "source": [
        "# 環境変数の準備 (左端の鍵アイコンでOPENAI_API_KEYを設定)\n",
        "import os\n",
        "from google.colab import userdata\n",
        "os.environ[\"OPENAI_API_KEY\"] = userdata.get(\"OPENAI_API_KEY\")"
      ],
      "metadata": {
        "id": "JM4opq-MhE-S"
      },
      "execution_count": 2,
      "outputs": []
    },
    {
      "cell_type": "code",
      "source": [
        "from openai import OpenAI\n",
        "\n",
        "# クライアントの準備\n",
        "client = OpenAI()"
      ],
      "metadata": {
        "id": "pV6PYNeihGeJ"
      },
      "execution_count": 3,
      "outputs": []
    },
    {
      "cell_type": "code",
      "source": [
        "import json\n",
        "\n",
        "# JSON出力ヘルパーの準備\n",
        "def show_json(obj):\n",
        "    display(json.loads(obj.model_dump_json()))"
      ],
      "metadata": {
        "id": "L3D1gPbMhJJv"
      },
      "execution_count": 4,
      "outputs": []
    },
    {
      "cell_type": "code",
      "source": [
        "prompt = \"\"\" 新商品開発プロジェクトの提案書を作成してください。\n",
        "1. はじめに\n",
        "- プロジェクトの目的と背景\n",
        "2. 市場分析\n",
        "- 市場動向\n",
        "- 競合分析\n",
        "- 顧客ニーズ\n",
        "3. 新商品提案\n",
        "- 商品概要\n",
        " - 商品カテゴリー: {商品カテゴリー}\n",
        " - ターゲット顧客: {ターゲット顧客}\n",
        " - 商品コンセプト: {商品コンセプト}\n",
        "- 製品の特徴と利点\n",
        "- 差別化ポイント\n",
        "4. マーケティング戦略\n",
        "- ポジショニング\n",
        "- 価格設定\n",
        "- プロモーション施策\n",
        "5. 実施計画\n",
        "- 開発スケジュール\n",
        "- 必要なリソース\n",
        "- 予算\n",
        "6. 期待される成果\n",
        "- 売上目標\n",
        "- 市場シェア\n",
        "- ブランドイメージへの影響\n",
        "7. 結論\n",
        "- プロジェクトの重要性と実現可能性\n",
        "添付資料:\n",
        "- 市場調査データ\n",
        "- 製品コンセプトイメージ\n",
        "- 開発スケジュール詳細\n",
        "\"\"\""
      ],
      "metadata": {
        "id": "h4qbmIi1hK44"
      },
      "execution_count": 5,
      "outputs": []
    },
    {
      "cell_type": "code",
      "source": [
        "prompts_and_params =[\n",
        "{ \"prompt\": prompt, \"params\": { \"商品カテゴリー\": \"DIY工具\", \"ターゲット顧客\": \"趣味で工作を楽しむ男性\", \"商品コンセプト\": \"初心者でも扱いやすい工具セット\" } },\n",
        "{ \"prompt\": prompt, \"params\": { \"商品カテゴリー\": \"ヨガ用品\", \"ターゲット顧客\": \"健康志向の女性\", \"商品コンセプト\": \"自宅でリラックスできるヨガグッズ\" } },\n",
        "{ \"prompt\": prompt, \"params\": { \"商品カテゴリー\": \"スマートウォッチ\", \"ターゲット顧客\": \"スポーツ愛好家\", \"商品コンセプト\": \"フィットネス管理に特化したウェアラブルデバイス\" } },\n",
        "{ \"prompt\":prompt, \"params\": { \"商品カテゴリー\": \"オーガニック食品\", \"ターゲット顧客\": \"健康に気を遣う主婦\", \"商品コンセプト\": \"安心・安全な有機食材\" } },\n",
        "{ \"prompt\":prompt, \"params\": { \"商品カテゴリー\": \"子供用教材\", \"ターゲット顧客\": \"教育熱心な親\", \"商品コンセプト\": \"楽しみながら学べる知育玩具\" } },\n",
        "{ \"prompt\": prompt, \"params\": { \"商品カテゴリー\": \"ギフト用品\", \"ターゲット顧客\": \"プレゼントを探している人\", \"商品コンセプト\": \"感謝の気持ちを伝えるギフトセット\" } },\n",
        "{ \"prompt\": prompt, \"params\": { \"商品カテゴリー\": \"ホームセキュリティ\", \"ターゲット顧客\": \"防犯意識の高い世帯\", \"商品コンセプト\": \"簡単設置で安心の防犯システム\" } },\n",
        "{ \"prompt\": prompt, \"params\": { \"商品カテゴリー\": \"ワイン用アクセサリー\", \"ターゲット顧客\": \"ワイン愛好家\", \"商品コンセプト\": \"ワインの味わいを引き立てるアクセサリー\" } },\n",
        "{ \"prompt\": prompt, \"params\": { \"商品カテゴリー\": \"キャンプ用品\", \"ターゲット顧客\": \"アウトドア好きな家族\", \"商品コンセプト\": \"自然を満喫できるキャンプギア\" } },\n",
        "{ \"prompt\":prompt, \"params\": { \"商品カテゴリー\": \"オフィス文具\", \"ターゲット顧客\": \"効率を重視するビジネスパーソン\", \"商品コンセプト\": \"仕事の生産性を上げる文具類\" } },\n",
        "{ \"prompt\":prompt, \"params\": { \"商品カテゴリー\": \"スマートホーム家電\", \"ターゲット顧客\": \"利便性を求めるテクノロジー愛好家\", \"商品コンセプト\": \"音声操作で制御できるスマート家電\" } },\n",
        "{ \"prompt\": prompt, \"params\": { \"商品カテゴリー\": \"エコ洗剤\", \"ターゲット顧客\": \"環境に配慮する消費者\", \"商品コンセプト\": \"地球に優しい洗浄力の高い洗剤\" } }\n",
        "]"
      ],
      "metadata": {
        "id": "m5eQqAgqhR-r"
      },
      "execution_count": 6,
      "outputs": []
    },
    {
      "cell_type": "code",
      "source": [
        "import datetime"
      ],
      "metadata": {
        "id": "rPn6TwuMhc4e"
      },
      "execution_count": 7,
      "outputs": []
    },
    {
      "cell_type": "code",
      "source": [
        "for item in prompts_and_params:\n",
        "    prompt = item[\"prompt\"]\n",
        "    params = item[\"params\"]\n",
        "\n",
        "    # プロンプトにパラメータを挿入\n",
        "    formatted_prompt = prompt.format(**params)\n",
        "\n",
        "    messages = [\n",
        "        {\n",
        "            \"role\" : \"user\",\n",
        "            \"content\" : formatted_prompt,\n",
        "        }\n",
        "    ]\n",
        "\n",
        "    response = client.chat.completions.create(\n",
        "        model=\"gpt-3.5-turbo\",\n",
        "        messages=messages,\n",
        "        temperature=1,\n",
        "        max_tokens=700\n",
        "    )\n",
        "\n",
        "    # 現在の日時を取得\n",
        "    now = datetime.datetime.now()\n",
        "\n",
        "    # 日時を文字列に変換し、ファイル名に使用する形式にします（例: '2023-03-27_15-30-00'）\n",
        "    formatted_time = now.strftime('%Y-%m-%d_%H-%M-%S')\n",
        "\n",
        "    # ファイル名に日時とパラメータを含める\n",
        "    filename = f'./generate/response_{formatted_time}_{params[\"商品カテゴリー\"]}_{params[\"ターゲット顧客\"]}.txt'\n",
        "\n",
        "    # テキストファイルに結果を書き込む\n",
        "    with open(filename, 'w') as file:\n",
        "        file.write(response.choices[0].message.content)"
      ],
      "metadata": {
        "id": "4k7KwIS4hfPl"
      },
      "execution_count": 8,
      "outputs": []
    },
    {
      "cell_type": "code",
      "source": [
        "import os\n",
        "import zipfile\n",
        "\n",
        "def zip_directory(directory_path, output_path):\n",
        "    with zipfile.ZipFile(output_path, 'w', zipfile.ZIP_DEFLATED) as zipf:\n",
        "        for root, _, files in os.walk(directory_path):\n",
        "            for file in files:\n",
        "                file_path = os.path.join(root, file)\n",
        "                zipf.write(file_path, os.path.relpath(file_path, directory_path))\n",
        "\n",
        "    print(f\"ディレクトリ {directory_path} が {output_path} にzipファイルとして保存されました。\")\n",
        "\n",
        "# 使用例\n",
        "directory_to_zip = \"./generate\"  # zipファイルにするディレクトリのパス\n",
        "output_zip_file = \"./generate.zip\"  # 出力するzipファイルのパス\n",
        "\n",
        "zip_directory(directory_to_zip, output_zip_file)"
      ],
      "metadata": {
        "colab": {
          "base_uri": "https://localhost:8080/"
        },
        "id": "ybWj38DShlwN",
        "outputId": "fc43b39c-b0c3-4458-d14f-a64c164de576"
      },
      "execution_count": 9,
      "outputs": [
        {
          "output_type": "stream",
          "name": "stdout",
          "text": [
            "ディレクトリ ./generate が ./generate.zip にzipファイルとして保存されました。\n"
          ]
        }
      ]
    },
    {
      "cell_type": "code",
      "source": [],
      "metadata": {
        "id": "1v2MpmxChm2M"
      },
      "execution_count": null,
      "outputs": []
    }
  ]
}